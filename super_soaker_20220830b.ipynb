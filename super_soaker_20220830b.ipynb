{
  "cells": [
    {
      "cell_type": "markdown",
      "metadata": {
        "id": "view-in-github",
        "colab_type": "text"
      },
      "source": [
        "<a href=\"https://colab.research.google.com/github/rodrigoviannini/Hackathons/blob/main/super_soaker_20220830b.ipynb\" target=\"_parent\"><img src=\"https://colab.research.google.com/assets/colab-badge.svg\" alt=\"Open In Colab\"/></a>"
      ]
    },
    {
      "cell_type": "markdown",
      "metadata": {
        "id": "fCcdMwGqmIWO"
      },
      "source": [
        "##IMPORTS\n"
      ]
    },
    {
      "cell_type": "code",
      "source": [
        "from google.colab import drive\n",
        "drive.mount('/content/drive')"
      ],
      "metadata": {
        "colab": {
          "base_uri": "https://localhost:8080/"
        },
        "id": "S7dB76f14FE1",
        "outputId": "e0cd27a6-2b58-491b-9484-c5cd091aece0"
      },
      "execution_count": null,
      "outputs": [
        {
          "output_type": "stream",
          "name": "stdout",
          "text": [
            "Drive already mounted at /content/drive; to attempt to forcibly remount, call drive.mount(\"/content/drive\", force_remount=True).\n"
          ]
        }
      ]
    },
    {
      "cell_type": "code",
      "source": [
        "5650+5650"
      ],
      "metadata": {
        "colab": {
          "base_uri": "https://localhost:8080/"
        },
        "id": "ocIMxh9HymW5",
        "outputId": "f4b1488e-1029-4275-d7f0-6d9805902a2d"
      },
      "execution_count": null,
      "outputs": [
        {
          "output_type": "execute_result",
          "data": {
            "text/plain": [
              "11300"
            ]
          },
          "metadata": {},
          "execution_count": 2
        }
      ]
    },
    {
      "cell_type": "code",
      "execution_count": null,
      "metadata": {
        "id": "xJSlLaj7l1hK"
      },
      "outputs": [],
      "source": [
        "import pandas as pd\n",
        "import matplotlib.pyplot as plt\n",
        "import seaborn as sns\n",
        "import numpy as np\n",
        "import joblib\n",
        "\n",
        "from sklearn.impute import SimpleImputer"
      ]
    },
    {
      "cell_type": "markdown",
      "metadata": {
        "id": "SZ8ho2pjmKpP"
      },
      "source": [
        "##DATA VIEW\n"
      ]
    },
    {
      "cell_type": "markdown",
      "metadata": {
        "id": "SNVTti6-nNj3"
      },
      "source": [
        "TABELA 1 | TRAIN"
      ]
    },
    {
      "cell_type": "markdown",
      "source": [
        "IREMOS SEPARAR OS DADOS DE TREINO EM TRAIN E TEST "
      ],
      "metadata": {
        "id": "ch4b3ASjcaoN"
      }
    },
    {
      "cell_type": "code",
      "source": [
        "df = pd.read_excel('/content/drive/MyDrive/UFRJ/machine_learning/dataset_treino_tratado_final.xlsx')\n",
        "df"
      ],
      "metadata": {
        "colab": {
          "base_uri": "https://localhost:8080/",
          "height": 488
        },
        "id": "urx8wYEZwqta",
        "outputId": "7928457f-a668-496b-a75c-4ab4d91657c5"
      },
      "execution_count": null,
      "outputs": [
        {
          "output_type": "execute_result",
          "data": {
            "text/plain": [
              "          id product_code  loading attribute_0 attribute_1  attribute_2  \\\n",
              "0          0            A    80.10  material_7  material_8            9   \n",
              "1          1            A    84.89  material_7  material_8            9   \n",
              "2          2            A    82.43  material_7  material_8            9   \n",
              "3          3            A   101.07  material_7  material_8            9   \n",
              "4          4            A   188.06  material_7  material_8            9   \n",
              "...      ...          ...      ...         ...         ...          ...   \n",
              "11293  26545            E   100.26  material_7  material_6            6   \n",
              "11294  26546            E   103.60  material_7  material_6            6   \n",
              "11295  26553            E   121.42  material_7  material_6            6   \n",
              "11296  26554            E   159.43  material_7  material_6            6   \n",
              "11297  26559            E   120.73  material_7  material_6            6   \n",
              "\n",
              "       attribute_3  measurement_0  measurement_1  measurement_2  ...  \\\n",
              "0                5              7              8              4  ...   \n",
              "1                5             14              3              3  ...   \n",
              "2                5             12              1              5  ...   \n",
              "3                5             13              2              6  ...   \n",
              "4                5              9              2              8  ...   \n",
              "...            ...            ...            ...            ...  ...   \n",
              "11293            9              4             19              0  ...   \n",
              "11294            9              1             15              3  ...   \n",
              "11295            9              1              9              6  ...   \n",
              "11296            9              3             13              7  ...   \n",
              "11297            9              2              9              9  ...   \n",
              "\n",
              "       measurement_9  measurement_10  measurement_11  measurement_12  \\\n",
              "0            10672.0         15859.0         17594.0        15193.00   \n",
              "1            12448.0         17947.0         17915.0        11755.00   \n",
              "2            12715.0         15607.0             NaN        13798.00   \n",
              "3            12471.0         16346.0         18377.0           10.02   \n",
              "4            10337.0         17082.0         19932.0        12428.00   \n",
              "...              ...             ...             ...             ...   \n",
              "11293        10476.0         14399.0         18824.0        12666.00   \n",
              "11294        12265.0         14193.0         19618.0           12.31   \n",
              "11295        11199.0         14626.0         19368.0        10795.00   \n",
              "11296        10795.0            17.6         20324.0           12.35   \n",
              "11297        12751.0             NaN         19339.0        10699.00   \n",
              "\n",
              "       measurement_13  measurement_14  measurement_15  measurement_16  \\\n",
              "0            15029.00             NaN         13034.0        14684.00   \n",
              "1            14732.00        15425.00         14395.0        15631.00   \n",
              "2            16711.00        18631.00         14094.0        17946.00   \n",
              "3               15.25        15562.00         16154.0        17172.00   \n",
              "4            16182.00           12.76         13153.0        16412.00   \n",
              "...               ...             ...             ...             ...   \n",
              "11293             NaN        14601.00         14995.0           17.42   \n",
              "11294           16.16           15.49         14522.0        17863.00   \n",
              "11295        14981.00           13.14         14845.0        15577.00   \n",
              "11296        14607.00        15494.00         15472.0        14185.00   \n",
              "11297        15836.00        16181.00         15864.0        18522.00   \n",
              "\n",
              "       measurement_17  failure  \n",
              "0              764.10        0  \n",
              "1           682057.00        0  \n",
              "2           663376.00        0  \n",
              "3           826282.00        0  \n",
              "4           579885.00        0  \n",
              "...               ...      ...  \n",
              "11293       808354.00        1  \n",
              "11294       731105.00        1  \n",
              "11295          795.59        1  \n",
              "11296             NaN        1  \n",
              "11297      1073039.00        1  \n",
              "\n",
              "[11298 rows x 26 columns]"
            ],
            "text/html": [
              "\n",
              "  <div id=\"df-f2769087-ab38-421f-8b0d-52701fa5976b\">\n",
              "    <div class=\"colab-df-container\">\n",
              "      <div>\n",
              "<style scoped>\n",
              "    .dataframe tbody tr th:only-of-type {\n",
              "        vertical-align: middle;\n",
              "    }\n",
              "\n",
              "    .dataframe tbody tr th {\n",
              "        vertical-align: top;\n",
              "    }\n",
              "\n",
              "    .dataframe thead th {\n",
              "        text-align: right;\n",
              "    }\n",
              "</style>\n",
              "<table border=\"1\" class=\"dataframe\">\n",
              "  <thead>\n",
              "    <tr style=\"text-align: right;\">\n",
              "      <th></th>\n",
              "      <th>id</th>\n",
              "      <th>product_code</th>\n",
              "      <th>loading</th>\n",
              "      <th>attribute_0</th>\n",
              "      <th>attribute_1</th>\n",
              "      <th>attribute_2</th>\n",
              "      <th>attribute_3</th>\n",
              "      <th>measurement_0</th>\n",
              "      <th>measurement_1</th>\n",
              "      <th>measurement_2</th>\n",
              "      <th>...</th>\n",
              "      <th>measurement_9</th>\n",
              "      <th>measurement_10</th>\n",
              "      <th>measurement_11</th>\n",
              "      <th>measurement_12</th>\n",
              "      <th>measurement_13</th>\n",
              "      <th>measurement_14</th>\n",
              "      <th>measurement_15</th>\n",
              "      <th>measurement_16</th>\n",
              "      <th>measurement_17</th>\n",
              "      <th>failure</th>\n",
              "    </tr>\n",
              "  </thead>\n",
              "  <tbody>\n",
              "    <tr>\n",
              "      <th>0</th>\n",
              "      <td>0</td>\n",
              "      <td>A</td>\n",
              "      <td>80.10</td>\n",
              "      <td>material_7</td>\n",
              "      <td>material_8</td>\n",
              "      <td>9</td>\n",
              "      <td>5</td>\n",
              "      <td>7</td>\n",
              "      <td>8</td>\n",
              "      <td>4</td>\n",
              "      <td>...</td>\n",
              "      <td>10672.0</td>\n",
              "      <td>15859.0</td>\n",
              "      <td>17594.0</td>\n",
              "      <td>15193.00</td>\n",
              "      <td>15029.00</td>\n",
              "      <td>NaN</td>\n",
              "      <td>13034.0</td>\n",
              "      <td>14684.00</td>\n",
              "      <td>764.10</td>\n",
              "      <td>0</td>\n",
              "    </tr>\n",
              "    <tr>\n",
              "      <th>1</th>\n",
              "      <td>1</td>\n",
              "      <td>A</td>\n",
              "      <td>84.89</td>\n",
              "      <td>material_7</td>\n",
              "      <td>material_8</td>\n",
              "      <td>9</td>\n",
              "      <td>5</td>\n",
              "      <td>14</td>\n",
              "      <td>3</td>\n",
              "      <td>3</td>\n",
              "      <td>...</td>\n",
              "      <td>12448.0</td>\n",
              "      <td>17947.0</td>\n",
              "      <td>17915.0</td>\n",
              "      <td>11755.00</td>\n",
              "      <td>14732.00</td>\n",
              "      <td>15425.00</td>\n",
              "      <td>14395.0</td>\n",
              "      <td>15631.00</td>\n",
              "      <td>682057.00</td>\n",
              "      <td>0</td>\n",
              "    </tr>\n",
              "    <tr>\n",
              "      <th>2</th>\n",
              "      <td>2</td>\n",
              "      <td>A</td>\n",
              "      <td>82.43</td>\n",
              "      <td>material_7</td>\n",
              "      <td>material_8</td>\n",
              "      <td>9</td>\n",
              "      <td>5</td>\n",
              "      <td>12</td>\n",
              "      <td>1</td>\n",
              "      <td>5</td>\n",
              "      <td>...</td>\n",
              "      <td>12715.0</td>\n",
              "      <td>15607.0</td>\n",
              "      <td>NaN</td>\n",
              "      <td>13798.00</td>\n",
              "      <td>16711.00</td>\n",
              "      <td>18631.00</td>\n",
              "      <td>14094.0</td>\n",
              "      <td>17946.00</td>\n",
              "      <td>663376.00</td>\n",
              "      <td>0</td>\n",
              "    </tr>\n",
              "    <tr>\n",
              "      <th>3</th>\n",
              "      <td>3</td>\n",
              "      <td>A</td>\n",
              "      <td>101.07</td>\n",
              "      <td>material_7</td>\n",
              "      <td>material_8</td>\n",
              "      <td>9</td>\n",
              "      <td>5</td>\n",
              "      <td>13</td>\n",
              "      <td>2</td>\n",
              "      <td>6</td>\n",
              "      <td>...</td>\n",
              "      <td>12471.0</td>\n",
              "      <td>16346.0</td>\n",
              "      <td>18377.0</td>\n",
              "      <td>10.02</td>\n",
              "      <td>15.25</td>\n",
              "      <td>15562.00</td>\n",
              "      <td>16154.0</td>\n",
              "      <td>17172.00</td>\n",
              "      <td>826282.00</td>\n",
              "      <td>0</td>\n",
              "    </tr>\n",
              "    <tr>\n",
              "      <th>4</th>\n",
              "      <td>4</td>\n",
              "      <td>A</td>\n",
              "      <td>188.06</td>\n",
              "      <td>material_7</td>\n",
              "      <td>material_8</td>\n",
              "      <td>9</td>\n",
              "      <td>5</td>\n",
              "      <td>9</td>\n",
              "      <td>2</td>\n",
              "      <td>8</td>\n",
              "      <td>...</td>\n",
              "      <td>10337.0</td>\n",
              "      <td>17082.0</td>\n",
              "      <td>19932.0</td>\n",
              "      <td>12428.00</td>\n",
              "      <td>16182.00</td>\n",
              "      <td>12.76</td>\n",
              "      <td>13153.0</td>\n",
              "      <td>16412.00</td>\n",
              "      <td>579885.00</td>\n",
              "      <td>0</td>\n",
              "    </tr>\n",
              "    <tr>\n",
              "      <th>...</th>\n",
              "      <td>...</td>\n",
              "      <td>...</td>\n",
              "      <td>...</td>\n",
              "      <td>...</td>\n",
              "      <td>...</td>\n",
              "      <td>...</td>\n",
              "      <td>...</td>\n",
              "      <td>...</td>\n",
              "      <td>...</td>\n",
              "      <td>...</td>\n",
              "      <td>...</td>\n",
              "      <td>...</td>\n",
              "      <td>...</td>\n",
              "      <td>...</td>\n",
              "      <td>...</td>\n",
              "      <td>...</td>\n",
              "      <td>...</td>\n",
              "      <td>...</td>\n",
              "      <td>...</td>\n",
              "      <td>...</td>\n",
              "      <td>...</td>\n",
              "    </tr>\n",
              "    <tr>\n",
              "      <th>11293</th>\n",
              "      <td>26545</td>\n",
              "      <td>E</td>\n",
              "      <td>100.26</td>\n",
              "      <td>material_7</td>\n",
              "      <td>material_6</td>\n",
              "      <td>6</td>\n",
              "      <td>9</td>\n",
              "      <td>4</td>\n",
              "      <td>19</td>\n",
              "      <td>0</td>\n",
              "      <td>...</td>\n",
              "      <td>10476.0</td>\n",
              "      <td>14399.0</td>\n",
              "      <td>18824.0</td>\n",
              "      <td>12666.00</td>\n",
              "      <td>NaN</td>\n",
              "      <td>14601.00</td>\n",
              "      <td>14995.0</td>\n",
              "      <td>17.42</td>\n",
              "      <td>808354.00</td>\n",
              "      <td>1</td>\n",
              "    </tr>\n",
              "    <tr>\n",
              "      <th>11294</th>\n",
              "      <td>26546</td>\n",
              "      <td>E</td>\n",
              "      <td>103.60</td>\n",
              "      <td>material_7</td>\n",
              "      <td>material_6</td>\n",
              "      <td>6</td>\n",
              "      <td>9</td>\n",
              "      <td>1</td>\n",
              "      <td>15</td>\n",
              "      <td>3</td>\n",
              "      <td>...</td>\n",
              "      <td>12265.0</td>\n",
              "      <td>14193.0</td>\n",
              "      <td>19618.0</td>\n",
              "      <td>12.31</td>\n",
              "      <td>16.16</td>\n",
              "      <td>15.49</td>\n",
              "      <td>14522.0</td>\n",
              "      <td>17863.00</td>\n",
              "      <td>731105.00</td>\n",
              "      <td>1</td>\n",
              "    </tr>\n",
              "    <tr>\n",
              "      <th>11295</th>\n",
              "      <td>26553</td>\n",
              "      <td>E</td>\n",
              "      <td>121.42</td>\n",
              "      <td>material_7</td>\n",
              "      <td>material_6</td>\n",
              "      <td>6</td>\n",
              "      <td>9</td>\n",
              "      <td>1</td>\n",
              "      <td>9</td>\n",
              "      <td>6</td>\n",
              "      <td>...</td>\n",
              "      <td>11199.0</td>\n",
              "      <td>14626.0</td>\n",
              "      <td>19368.0</td>\n",
              "      <td>10795.00</td>\n",
              "      <td>14981.00</td>\n",
              "      <td>13.14</td>\n",
              "      <td>14845.0</td>\n",
              "      <td>15577.00</td>\n",
              "      <td>795.59</td>\n",
              "      <td>1</td>\n",
              "    </tr>\n",
              "    <tr>\n",
              "      <th>11296</th>\n",
              "      <td>26554</td>\n",
              "      <td>E</td>\n",
              "      <td>159.43</td>\n",
              "      <td>material_7</td>\n",
              "      <td>material_6</td>\n",
              "      <td>6</td>\n",
              "      <td>9</td>\n",
              "      <td>3</td>\n",
              "      <td>13</td>\n",
              "      <td>7</td>\n",
              "      <td>...</td>\n",
              "      <td>10795.0</td>\n",
              "      <td>17.6</td>\n",
              "      <td>20324.0</td>\n",
              "      <td>12.35</td>\n",
              "      <td>14607.00</td>\n",
              "      <td>15494.00</td>\n",
              "      <td>15472.0</td>\n",
              "      <td>14185.00</td>\n",
              "      <td>NaN</td>\n",
              "      <td>1</td>\n",
              "    </tr>\n",
              "    <tr>\n",
              "      <th>11297</th>\n",
              "      <td>26559</td>\n",
              "      <td>E</td>\n",
              "      <td>120.73</td>\n",
              "      <td>material_7</td>\n",
              "      <td>material_6</td>\n",
              "      <td>6</td>\n",
              "      <td>9</td>\n",
              "      <td>2</td>\n",
              "      <td>9</td>\n",
              "      <td>9</td>\n",
              "      <td>...</td>\n",
              "      <td>12751.0</td>\n",
              "      <td>NaN</td>\n",
              "      <td>19339.0</td>\n",
              "      <td>10699.00</td>\n",
              "      <td>15836.00</td>\n",
              "      <td>16181.00</td>\n",
              "      <td>15864.0</td>\n",
              "      <td>18522.00</td>\n",
              "      <td>1073039.00</td>\n",
              "      <td>1</td>\n",
              "    </tr>\n",
              "  </tbody>\n",
              "</table>\n",
              "<p>11298 rows × 26 columns</p>\n",
              "</div>\n",
              "      <button class=\"colab-df-convert\" onclick=\"convertToInteractive('df-f2769087-ab38-421f-8b0d-52701fa5976b')\"\n",
              "              title=\"Convert this dataframe to an interactive table.\"\n",
              "              style=\"display:none;\">\n",
              "        \n",
              "  <svg xmlns=\"http://www.w3.org/2000/svg\" height=\"24px\"viewBox=\"0 0 24 24\"\n",
              "       width=\"24px\">\n",
              "    <path d=\"M0 0h24v24H0V0z\" fill=\"none\"/>\n",
              "    <path d=\"M18.56 5.44l.94 2.06.94-2.06 2.06-.94-2.06-.94-.94-2.06-.94 2.06-2.06.94zm-11 1L8.5 8.5l.94-2.06 2.06-.94-2.06-.94L8.5 2.5l-.94 2.06-2.06.94zm10 10l.94 2.06.94-2.06 2.06-.94-2.06-.94-.94-2.06-.94 2.06-2.06.94z\"/><path d=\"M17.41 7.96l-1.37-1.37c-.4-.4-.92-.59-1.43-.59-.52 0-1.04.2-1.43.59L10.3 9.45l-7.72 7.72c-.78.78-.78 2.05 0 2.83L4 21.41c.39.39.9.59 1.41.59.51 0 1.02-.2 1.41-.59l7.78-7.78 2.81-2.81c.8-.78.8-2.07 0-2.86zM5.41 20L4 18.59l7.72-7.72 1.47 1.35L5.41 20z\"/>\n",
              "  </svg>\n",
              "      </button>\n",
              "      \n",
              "  <style>\n",
              "    .colab-df-container {\n",
              "      display:flex;\n",
              "      flex-wrap:wrap;\n",
              "      gap: 12px;\n",
              "    }\n",
              "\n",
              "    .colab-df-convert {\n",
              "      background-color: #E8F0FE;\n",
              "      border: none;\n",
              "      border-radius: 50%;\n",
              "      cursor: pointer;\n",
              "      display: none;\n",
              "      fill: #1967D2;\n",
              "      height: 32px;\n",
              "      padding: 0 0 0 0;\n",
              "      width: 32px;\n",
              "    }\n",
              "\n",
              "    .colab-df-convert:hover {\n",
              "      background-color: #E2EBFA;\n",
              "      box-shadow: 0px 1px 2px rgba(60, 64, 67, 0.3), 0px 1px 3px 1px rgba(60, 64, 67, 0.15);\n",
              "      fill: #174EA6;\n",
              "    }\n",
              "\n",
              "    [theme=dark] .colab-df-convert {\n",
              "      background-color: #3B4455;\n",
              "      fill: #D2E3FC;\n",
              "    }\n",
              "\n",
              "    [theme=dark] .colab-df-convert:hover {\n",
              "      background-color: #434B5C;\n",
              "      box-shadow: 0px 1px 3px 1px rgba(0, 0, 0, 0.15);\n",
              "      filter: drop-shadow(0px 1px 2px rgba(0, 0, 0, 0.3));\n",
              "      fill: #FFFFFF;\n",
              "    }\n",
              "  </style>\n",
              "\n",
              "      <script>\n",
              "        const buttonEl =\n",
              "          document.querySelector('#df-f2769087-ab38-421f-8b0d-52701fa5976b button.colab-df-convert');\n",
              "        buttonEl.style.display =\n",
              "          google.colab.kernel.accessAllowed ? 'block' : 'none';\n",
              "\n",
              "        async function convertToInteractive(key) {\n",
              "          const element = document.querySelector('#df-f2769087-ab38-421f-8b0d-52701fa5976b');\n",
              "          const dataTable =\n",
              "            await google.colab.kernel.invokeFunction('convertToInteractive',\n",
              "                                                     [key], {});\n",
              "          if (!dataTable) return;\n",
              "\n",
              "          const docLinkHtml = 'Like what you see? Visit the ' +\n",
              "            '<a target=\"_blank\" href=https://colab.research.google.com/notebooks/data_table.ipynb>data table notebook</a>'\n",
              "            + ' to learn more about interactive tables.';\n",
              "          element.innerHTML = '';\n",
              "          dataTable['output_type'] = 'display_data';\n",
              "          await google.colab.output.renderOutput(dataTable, element);\n",
              "          const docLink = document.createElement('div');\n",
              "          docLink.innerHTML = docLinkHtml;\n",
              "          element.appendChild(docLink);\n",
              "        }\n",
              "      </script>\n",
              "    </div>\n",
              "  </div>\n",
              "  "
            ]
          },
          "metadata": {},
          "execution_count": 4
        }
      ]
    },
    {
      "cell_type": "code",
      "execution_count": null,
      "metadata": {
        "id": "wmenzk0Mm08E"
      },
      "outputs": [],
      "source": [
        "# df = pd.read_csv('/content/drive/MyDrive/UFRJ/machine_learning/train.csv')\n",
        "# df"
      ]
    },
    {
      "cell_type": "code",
      "source": [
        "df"
      ],
      "metadata": {
        "colab": {
          "base_uri": "https://localhost:8080/",
          "height": 488
        },
        "id": "wyfxMRL0jFNz",
        "outputId": "27783a34-fcd2-45e3-f003-976eca055692"
      },
      "execution_count": null,
      "outputs": [
        {
          "output_type": "execute_result",
          "data": {
            "text/plain": [
              "          id product_code  loading attribute_0 attribute_1  attribute_2  \\\n",
              "0          0            A    80.10  material_7  material_8            9   \n",
              "1          1            A    84.89  material_7  material_8            9   \n",
              "2          2            A    82.43  material_7  material_8            9   \n",
              "3          3            A   101.07  material_7  material_8            9   \n",
              "4          4            A   188.06  material_7  material_8            9   \n",
              "...      ...          ...      ...         ...         ...          ...   \n",
              "11293  26545            E   100.26  material_7  material_6            6   \n",
              "11294  26546            E   103.60  material_7  material_6            6   \n",
              "11295  26553            E   121.42  material_7  material_6            6   \n",
              "11296  26554            E   159.43  material_7  material_6            6   \n",
              "11297  26559            E   120.73  material_7  material_6            6   \n",
              "\n",
              "       attribute_3  measurement_0  measurement_1  measurement_2  ...  \\\n",
              "0                5              7              8              4  ...   \n",
              "1                5             14              3              3  ...   \n",
              "2                5             12              1              5  ...   \n",
              "3                5             13              2              6  ...   \n",
              "4                5              9              2              8  ...   \n",
              "...            ...            ...            ...            ...  ...   \n",
              "11293            9              4             19              0  ...   \n",
              "11294            9              1             15              3  ...   \n",
              "11295            9              1              9              6  ...   \n",
              "11296            9              3             13              7  ...   \n",
              "11297            9              2              9              9  ...   \n",
              "\n",
              "       measurement_9  measurement_10  measurement_11  measurement_12  \\\n",
              "0            10672.0         15859.0         17594.0        15193.00   \n",
              "1            12448.0         17947.0         17915.0        11755.00   \n",
              "2            12715.0         15607.0             NaN        13798.00   \n",
              "3            12471.0         16346.0         18377.0           10.02   \n",
              "4            10337.0         17082.0         19932.0        12428.00   \n",
              "...              ...             ...             ...             ...   \n",
              "11293        10476.0         14399.0         18824.0        12666.00   \n",
              "11294        12265.0         14193.0         19618.0           12.31   \n",
              "11295        11199.0         14626.0         19368.0        10795.00   \n",
              "11296        10795.0            17.6         20324.0           12.35   \n",
              "11297        12751.0             NaN         19339.0        10699.00   \n",
              "\n",
              "       measurement_13  measurement_14  measurement_15  measurement_16  \\\n",
              "0            15029.00             NaN         13034.0        14684.00   \n",
              "1            14732.00        15425.00         14395.0        15631.00   \n",
              "2            16711.00        18631.00         14094.0        17946.00   \n",
              "3               15.25        15562.00         16154.0        17172.00   \n",
              "4            16182.00           12.76         13153.0        16412.00   \n",
              "...               ...             ...             ...             ...   \n",
              "11293             NaN        14601.00         14995.0           17.42   \n",
              "11294           16.16           15.49         14522.0        17863.00   \n",
              "11295        14981.00           13.14         14845.0        15577.00   \n",
              "11296        14607.00        15494.00         15472.0        14185.00   \n",
              "11297        15836.00        16181.00         15864.0        18522.00   \n",
              "\n",
              "       measurement_17  failure  \n",
              "0              764.10        0  \n",
              "1           682057.00        0  \n",
              "2           663376.00        0  \n",
              "3           826282.00        0  \n",
              "4           579885.00        0  \n",
              "...               ...      ...  \n",
              "11293       808354.00        1  \n",
              "11294       731105.00        1  \n",
              "11295          795.59        1  \n",
              "11296             NaN        1  \n",
              "11297      1073039.00        1  \n",
              "\n",
              "[11298 rows x 26 columns]"
            ],
            "text/html": [
              "\n",
              "  <div id=\"df-da084ba8-f58a-4759-80d2-c68b38d0e88f\">\n",
              "    <div class=\"colab-df-container\">\n",
              "      <div>\n",
              "<style scoped>\n",
              "    .dataframe tbody tr th:only-of-type {\n",
              "        vertical-align: middle;\n",
              "    }\n",
              "\n",
              "    .dataframe tbody tr th {\n",
              "        vertical-align: top;\n",
              "    }\n",
              "\n",
              "    .dataframe thead th {\n",
              "        text-align: right;\n",
              "    }\n",
              "</style>\n",
              "<table border=\"1\" class=\"dataframe\">\n",
              "  <thead>\n",
              "    <tr style=\"text-align: right;\">\n",
              "      <th></th>\n",
              "      <th>id</th>\n",
              "      <th>product_code</th>\n",
              "      <th>loading</th>\n",
              "      <th>attribute_0</th>\n",
              "      <th>attribute_1</th>\n",
              "      <th>attribute_2</th>\n",
              "      <th>attribute_3</th>\n",
              "      <th>measurement_0</th>\n",
              "      <th>measurement_1</th>\n",
              "      <th>measurement_2</th>\n",
              "      <th>...</th>\n",
              "      <th>measurement_9</th>\n",
              "      <th>measurement_10</th>\n",
              "      <th>measurement_11</th>\n",
              "      <th>measurement_12</th>\n",
              "      <th>measurement_13</th>\n",
              "      <th>measurement_14</th>\n",
              "      <th>measurement_15</th>\n",
              "      <th>measurement_16</th>\n",
              "      <th>measurement_17</th>\n",
              "      <th>failure</th>\n",
              "    </tr>\n",
              "  </thead>\n",
              "  <tbody>\n",
              "    <tr>\n",
              "      <th>0</th>\n",
              "      <td>0</td>\n",
              "      <td>A</td>\n",
              "      <td>80.10</td>\n",
              "      <td>material_7</td>\n",
              "      <td>material_8</td>\n",
              "      <td>9</td>\n",
              "      <td>5</td>\n",
              "      <td>7</td>\n",
              "      <td>8</td>\n",
              "      <td>4</td>\n",
              "      <td>...</td>\n",
              "      <td>10672.0</td>\n",
              "      <td>15859.0</td>\n",
              "      <td>17594.0</td>\n",
              "      <td>15193.00</td>\n",
              "      <td>15029.00</td>\n",
              "      <td>NaN</td>\n",
              "      <td>13034.0</td>\n",
              "      <td>14684.00</td>\n",
              "      <td>764.10</td>\n",
              "      <td>0</td>\n",
              "    </tr>\n",
              "    <tr>\n",
              "      <th>1</th>\n",
              "      <td>1</td>\n",
              "      <td>A</td>\n",
              "      <td>84.89</td>\n",
              "      <td>material_7</td>\n",
              "      <td>material_8</td>\n",
              "      <td>9</td>\n",
              "      <td>5</td>\n",
              "      <td>14</td>\n",
              "      <td>3</td>\n",
              "      <td>3</td>\n",
              "      <td>...</td>\n",
              "      <td>12448.0</td>\n",
              "      <td>17947.0</td>\n",
              "      <td>17915.0</td>\n",
              "      <td>11755.00</td>\n",
              "      <td>14732.00</td>\n",
              "      <td>15425.00</td>\n",
              "      <td>14395.0</td>\n",
              "      <td>15631.00</td>\n",
              "      <td>682057.00</td>\n",
              "      <td>0</td>\n",
              "    </tr>\n",
              "    <tr>\n",
              "      <th>2</th>\n",
              "      <td>2</td>\n",
              "      <td>A</td>\n",
              "      <td>82.43</td>\n",
              "      <td>material_7</td>\n",
              "      <td>material_8</td>\n",
              "      <td>9</td>\n",
              "      <td>5</td>\n",
              "      <td>12</td>\n",
              "      <td>1</td>\n",
              "      <td>5</td>\n",
              "      <td>...</td>\n",
              "      <td>12715.0</td>\n",
              "      <td>15607.0</td>\n",
              "      <td>NaN</td>\n",
              "      <td>13798.00</td>\n",
              "      <td>16711.00</td>\n",
              "      <td>18631.00</td>\n",
              "      <td>14094.0</td>\n",
              "      <td>17946.00</td>\n",
              "      <td>663376.00</td>\n",
              "      <td>0</td>\n",
              "    </tr>\n",
              "    <tr>\n",
              "      <th>3</th>\n",
              "      <td>3</td>\n",
              "      <td>A</td>\n",
              "      <td>101.07</td>\n",
              "      <td>material_7</td>\n",
              "      <td>material_8</td>\n",
              "      <td>9</td>\n",
              "      <td>5</td>\n",
              "      <td>13</td>\n",
              "      <td>2</td>\n",
              "      <td>6</td>\n",
              "      <td>...</td>\n",
              "      <td>12471.0</td>\n",
              "      <td>16346.0</td>\n",
              "      <td>18377.0</td>\n",
              "      <td>10.02</td>\n",
              "      <td>15.25</td>\n",
              "      <td>15562.00</td>\n",
              "      <td>16154.0</td>\n",
              "      <td>17172.00</td>\n",
              "      <td>826282.00</td>\n",
              "      <td>0</td>\n",
              "    </tr>\n",
              "    <tr>\n",
              "      <th>4</th>\n",
              "      <td>4</td>\n",
              "      <td>A</td>\n",
              "      <td>188.06</td>\n",
              "      <td>material_7</td>\n",
              "      <td>material_8</td>\n",
              "      <td>9</td>\n",
              "      <td>5</td>\n",
              "      <td>9</td>\n",
              "      <td>2</td>\n",
              "      <td>8</td>\n",
              "      <td>...</td>\n",
              "      <td>10337.0</td>\n",
              "      <td>17082.0</td>\n",
              "      <td>19932.0</td>\n",
              "      <td>12428.00</td>\n",
              "      <td>16182.00</td>\n",
              "      <td>12.76</td>\n",
              "      <td>13153.0</td>\n",
              "      <td>16412.00</td>\n",
              "      <td>579885.00</td>\n",
              "      <td>0</td>\n",
              "    </tr>\n",
              "    <tr>\n",
              "      <th>...</th>\n",
              "      <td>...</td>\n",
              "      <td>...</td>\n",
              "      <td>...</td>\n",
              "      <td>...</td>\n",
              "      <td>...</td>\n",
              "      <td>...</td>\n",
              "      <td>...</td>\n",
              "      <td>...</td>\n",
              "      <td>...</td>\n",
              "      <td>...</td>\n",
              "      <td>...</td>\n",
              "      <td>...</td>\n",
              "      <td>...</td>\n",
              "      <td>...</td>\n",
              "      <td>...</td>\n",
              "      <td>...</td>\n",
              "      <td>...</td>\n",
              "      <td>...</td>\n",
              "      <td>...</td>\n",
              "      <td>...</td>\n",
              "      <td>...</td>\n",
              "    </tr>\n",
              "    <tr>\n",
              "      <th>11293</th>\n",
              "      <td>26545</td>\n",
              "      <td>E</td>\n",
              "      <td>100.26</td>\n",
              "      <td>material_7</td>\n",
              "      <td>material_6</td>\n",
              "      <td>6</td>\n",
              "      <td>9</td>\n",
              "      <td>4</td>\n",
              "      <td>19</td>\n",
              "      <td>0</td>\n",
              "      <td>...</td>\n",
              "      <td>10476.0</td>\n",
              "      <td>14399.0</td>\n",
              "      <td>18824.0</td>\n",
              "      <td>12666.00</td>\n",
              "      <td>NaN</td>\n",
              "      <td>14601.00</td>\n",
              "      <td>14995.0</td>\n",
              "      <td>17.42</td>\n",
              "      <td>808354.00</td>\n",
              "      <td>1</td>\n",
              "    </tr>\n",
              "    <tr>\n",
              "      <th>11294</th>\n",
              "      <td>26546</td>\n",
              "      <td>E</td>\n",
              "      <td>103.60</td>\n",
              "      <td>material_7</td>\n",
              "      <td>material_6</td>\n",
              "      <td>6</td>\n",
              "      <td>9</td>\n",
              "      <td>1</td>\n",
              "      <td>15</td>\n",
              "      <td>3</td>\n",
              "      <td>...</td>\n",
              "      <td>12265.0</td>\n",
              "      <td>14193.0</td>\n",
              "      <td>19618.0</td>\n",
              "      <td>12.31</td>\n",
              "      <td>16.16</td>\n",
              "      <td>15.49</td>\n",
              "      <td>14522.0</td>\n",
              "      <td>17863.00</td>\n",
              "      <td>731105.00</td>\n",
              "      <td>1</td>\n",
              "    </tr>\n",
              "    <tr>\n",
              "      <th>11295</th>\n",
              "      <td>26553</td>\n",
              "      <td>E</td>\n",
              "      <td>121.42</td>\n",
              "      <td>material_7</td>\n",
              "      <td>material_6</td>\n",
              "      <td>6</td>\n",
              "      <td>9</td>\n",
              "      <td>1</td>\n",
              "      <td>9</td>\n",
              "      <td>6</td>\n",
              "      <td>...</td>\n",
              "      <td>11199.0</td>\n",
              "      <td>14626.0</td>\n",
              "      <td>19368.0</td>\n",
              "      <td>10795.00</td>\n",
              "      <td>14981.00</td>\n",
              "      <td>13.14</td>\n",
              "      <td>14845.0</td>\n",
              "      <td>15577.00</td>\n",
              "      <td>795.59</td>\n",
              "      <td>1</td>\n",
              "    </tr>\n",
              "    <tr>\n",
              "      <th>11296</th>\n",
              "      <td>26554</td>\n",
              "      <td>E</td>\n",
              "      <td>159.43</td>\n",
              "      <td>material_7</td>\n",
              "      <td>material_6</td>\n",
              "      <td>6</td>\n",
              "      <td>9</td>\n",
              "      <td>3</td>\n",
              "      <td>13</td>\n",
              "      <td>7</td>\n",
              "      <td>...</td>\n",
              "      <td>10795.0</td>\n",
              "      <td>17.6</td>\n",
              "      <td>20324.0</td>\n",
              "      <td>12.35</td>\n",
              "      <td>14607.00</td>\n",
              "      <td>15494.00</td>\n",
              "      <td>15472.0</td>\n",
              "      <td>14185.00</td>\n",
              "      <td>NaN</td>\n",
              "      <td>1</td>\n",
              "    </tr>\n",
              "    <tr>\n",
              "      <th>11297</th>\n",
              "      <td>26559</td>\n",
              "      <td>E</td>\n",
              "      <td>120.73</td>\n",
              "      <td>material_7</td>\n",
              "      <td>material_6</td>\n",
              "      <td>6</td>\n",
              "      <td>9</td>\n",
              "      <td>2</td>\n",
              "      <td>9</td>\n",
              "      <td>9</td>\n",
              "      <td>...</td>\n",
              "      <td>12751.0</td>\n",
              "      <td>NaN</td>\n",
              "      <td>19339.0</td>\n",
              "      <td>10699.00</td>\n",
              "      <td>15836.00</td>\n",
              "      <td>16181.00</td>\n",
              "      <td>15864.0</td>\n",
              "      <td>18522.00</td>\n",
              "      <td>1073039.00</td>\n",
              "      <td>1</td>\n",
              "    </tr>\n",
              "  </tbody>\n",
              "</table>\n",
              "<p>11298 rows × 26 columns</p>\n",
              "</div>\n",
              "      <button class=\"colab-df-convert\" onclick=\"convertToInteractive('df-da084ba8-f58a-4759-80d2-c68b38d0e88f')\"\n",
              "              title=\"Convert this dataframe to an interactive table.\"\n",
              "              style=\"display:none;\">\n",
              "        \n",
              "  <svg xmlns=\"http://www.w3.org/2000/svg\" height=\"24px\"viewBox=\"0 0 24 24\"\n",
              "       width=\"24px\">\n",
              "    <path d=\"M0 0h24v24H0V0z\" fill=\"none\"/>\n",
              "    <path d=\"M18.56 5.44l.94 2.06.94-2.06 2.06-.94-2.06-.94-.94-2.06-.94 2.06-2.06.94zm-11 1L8.5 8.5l.94-2.06 2.06-.94-2.06-.94L8.5 2.5l-.94 2.06-2.06.94zm10 10l.94 2.06.94-2.06 2.06-.94-2.06-.94-.94-2.06-.94 2.06-2.06.94z\"/><path d=\"M17.41 7.96l-1.37-1.37c-.4-.4-.92-.59-1.43-.59-.52 0-1.04.2-1.43.59L10.3 9.45l-7.72 7.72c-.78.78-.78 2.05 0 2.83L4 21.41c.39.39.9.59 1.41.59.51 0 1.02-.2 1.41-.59l7.78-7.78 2.81-2.81c.8-.78.8-2.07 0-2.86zM5.41 20L4 18.59l7.72-7.72 1.47 1.35L5.41 20z\"/>\n",
              "  </svg>\n",
              "      </button>\n",
              "      \n",
              "  <style>\n",
              "    .colab-df-container {\n",
              "      display:flex;\n",
              "      flex-wrap:wrap;\n",
              "      gap: 12px;\n",
              "    }\n",
              "\n",
              "    .colab-df-convert {\n",
              "      background-color: #E8F0FE;\n",
              "      border: none;\n",
              "      border-radius: 50%;\n",
              "      cursor: pointer;\n",
              "      display: none;\n",
              "      fill: #1967D2;\n",
              "      height: 32px;\n",
              "      padding: 0 0 0 0;\n",
              "      width: 32px;\n",
              "    }\n",
              "\n",
              "    .colab-df-convert:hover {\n",
              "      background-color: #E2EBFA;\n",
              "      box-shadow: 0px 1px 2px rgba(60, 64, 67, 0.3), 0px 1px 3px 1px rgba(60, 64, 67, 0.15);\n",
              "      fill: #174EA6;\n",
              "    }\n",
              "\n",
              "    [theme=dark] .colab-df-convert {\n",
              "      background-color: #3B4455;\n",
              "      fill: #D2E3FC;\n",
              "    }\n",
              "\n",
              "    [theme=dark] .colab-df-convert:hover {\n",
              "      background-color: #434B5C;\n",
              "      box-shadow: 0px 1px 3px 1px rgba(0, 0, 0, 0.15);\n",
              "      filter: drop-shadow(0px 1px 2px rgba(0, 0, 0, 0.3));\n",
              "      fill: #FFFFFF;\n",
              "    }\n",
              "  </style>\n",
              "\n",
              "      <script>\n",
              "        const buttonEl =\n",
              "          document.querySelector('#df-da084ba8-f58a-4759-80d2-c68b38d0e88f button.colab-df-convert');\n",
              "        buttonEl.style.display =\n",
              "          google.colab.kernel.accessAllowed ? 'block' : 'none';\n",
              "\n",
              "        async function convertToInteractive(key) {\n",
              "          const element = document.querySelector('#df-da084ba8-f58a-4759-80d2-c68b38d0e88f');\n",
              "          const dataTable =\n",
              "            await google.colab.kernel.invokeFunction('convertToInteractive',\n",
              "                                                     [key], {});\n",
              "          if (!dataTable) return;\n",
              "\n",
              "          const docLinkHtml = 'Like what you see? Visit the ' +\n",
              "            '<a target=\"_blank\" href=https://colab.research.google.com/notebooks/data_table.ipynb>data table notebook</a>'\n",
              "            + ' to learn more about interactive tables.';\n",
              "          element.innerHTML = '';\n",
              "          dataTable['output_type'] = 'display_data';\n",
              "          await google.colab.output.renderOutput(dataTable, element);\n",
              "          const docLink = document.createElement('div');\n",
              "          docLink.innerHTML = docLinkHtml;\n",
              "          element.appendChild(docLink);\n",
              "        }\n",
              "      </script>\n",
              "    </div>\n",
              "  </div>\n",
              "  "
            ]
          },
          "metadata": {},
          "execution_count": 6
        }
      ]
    },
    {
      "cell_type": "markdown",
      "metadata": {
        "id": "sHqlXcoEnyqo"
      },
      "source": [
        "VERIFICANDO A PRESENÇA DAS FEATURES EM AMBOS OS DATASETS"
      ]
    },
    {
      "cell_type": "code",
      "execution_count": null,
      "metadata": {
        "colab": {
          "base_uri": "https://localhost:8080/"
        },
        "id": "sQEuJininnaz",
        "outputId": "1916fa2f-47bd-4d48-b2af-868fbf140ca8"
      },
      "outputs": [
        {
          "output_type": "execute_result",
          "data": {
            "text/plain": [
              "Index(['id', 'product_code', 'loading', 'attribute_0', 'attribute_1',\n",
              "       'attribute_2', 'attribute_3', 'measurement_0', 'measurement_1',\n",
              "       'measurement_2', 'measurement_3', 'measurement_4', 'measurement_5',\n",
              "       'measurement_6', 'measurement_7', 'measurement_8', 'measurement_9',\n",
              "       'measurement_10', 'measurement_11', 'measurement_12', 'measurement_13',\n",
              "       'measurement_14', 'measurement_15', 'measurement_16', 'measurement_17',\n",
              "       'failure'],\n",
              "      dtype='object')"
            ]
          },
          "metadata": {},
          "execution_count": 7
        }
      ],
      "source": [
        "df.columns"
      ]
    },
    {
      "cell_type": "markdown",
      "metadata": {
        "id": "vp4DG4IKn_yA"
      },
      "source": [
        "FEATURE PRESENTE APENAS NO DATASET DE TREINO"
      ]
    },
    {
      "cell_type": "markdown",
      "metadata": {
        "id": "h9co4gW6oPLr"
      },
      "source": [
        "**0:**  FALHA\n",
        "\n",
        "\n",
        "**1:**  NÃO FALHA"
      ]
    },
    {
      "cell_type": "code",
      "execution_count": null,
      "metadata": {
        "colab": {
          "base_uri": "https://localhost:8080/"
        },
        "id": "TimFljp3n8gE",
        "outputId": "af8fe4cd-186b-44d9-f3f9-1751328f7acf"
      },
      "outputs": [
        {
          "output_type": "execute_result",
          "data": {
            "text/plain": [
              "0    5649\n",
              "1    5649\n",
              "Name: failure, dtype: int64"
            ]
          },
          "metadata": {},
          "execution_count": 8
        }
      ],
      "source": [
        "df['failure'].value_counts()"
      ]
    },
    {
      "cell_type": "markdown",
      "metadata": {
        "id": "vUDFLzkL_5qM"
      },
      "source": [
        "DIVISÃO DOS DADOS DE TRAIN | 70% "
      ]
    },
    {
      "cell_type": "code",
      "execution_count": null,
      "metadata": {
        "colab": {
          "base_uri": "https://localhost:8080/"
        },
        "id": "TVQn4_TaoIvv",
        "outputId": "4efc72e7-ac5a-439e-bb4d-81c42b1dc5f9"
      },
      "outputs": [
        {
          "output_type": "execute_result",
          "data": {
            "text/plain": [
              "11298"
            ]
          },
          "metadata": {},
          "execution_count": 9
        }
      ],
      "source": [
        "len(df)"
      ]
    },
    {
      "cell_type": "markdown",
      "metadata": {
        "id": "jbhGWCxrrWp9"
      },
      "source": [
        "## O PROBLEMA..."
      ]
    },
    {
      "cell_type": "markdown",
      "metadata": {
        "id": "0Dgf1xzPrZyj"
      },
      "source": [
        "Esses dados representam os resultados de um grande estudo de teste de produtos. Para cada um product_code, você recebe um número de produto attributes(fixado para o código), bem como um número de measurement valores para cada produto individual, representando vários métodos de teste de laboratório."
      ]
    },
    {
      "cell_type": "markdown",
      "metadata": {
        "id": "KHaruIDFrhJX"
      },
      "source": [
        "Cada produto é usado em um experimento simulado de ambiente do mundo real e absorve uma certa quantidade de fluido (loading) para ver se falha ou não."
      ]
    },
    {
      "cell_type": "markdown",
      "metadata": {
        "id": "2WMJ9WNariyB"
      },
      "source": [
        "Sua tarefa é usar os dados para prever falhas de novos códigos de produtos individuais com seus resultados de testes de laboratório individuais."
      ]
    },
    {
      "cell_type": "markdown",
      "metadata": {
        "id": "ATG8jr9Url6Z"
      },
      "source": [
        "##CARACTERISTICAS DAS FEATURES"
      ]
    },
    {
      "cell_type": "markdown",
      "metadata": {
        "id": "AZvg-5LUrpI-"
      },
      "source": [
        "**product_code:**\n",
        "PRODUTO\n",
        "\n",
        "\n",
        "**attribute:**\n",
        "NÚMERO DE PRODUTOS\n",
        "\n",
        "\n",
        "**measurement:**\n",
        "VALOR PARA CADA PRODUTO\n",
        "\n",
        "\n",
        "**loading:**\n",
        "PRODUTO TESTADO PARA ABSORVER UMA QTDE DE FLÚIDO PARA AVALIAR SE FALHA OU NÃO\n",
        "\n",
        "\n",
        "**failure:**\n",
        "FALHA [ 0 ] OU NÃO FALHA [ 1 ]"
      ]
    },
    {
      "cell_type": "markdown",
      "metadata": {
        "id": "KeoZR-m5ssgP"
      },
      "source": [
        "##PREPARAÇÃO DO DATASET DE TREINO"
      ]
    },
    {
      "cell_type": "code",
      "execution_count": null,
      "metadata": {
        "colab": {
          "base_uri": "https://localhost:8080/",
          "height": 488
        },
        "id": "ZAIELDgVqoGp",
        "outputId": "2eb54147-41d3-40d4-fcbc-cba6c577e874"
      },
      "outputs": [
        {
          "output_type": "execute_result",
          "data": {
            "text/plain": [
              "          id product_code  loading attribute_0 attribute_1  attribute_2  \\\n",
              "0          0            A    80.10  material_7  material_8            9   \n",
              "1          1            A    84.89  material_7  material_8            9   \n",
              "2          2            A    82.43  material_7  material_8            9   \n",
              "3          3            A   101.07  material_7  material_8            9   \n",
              "4          4            A   188.06  material_7  material_8            9   \n",
              "...      ...          ...      ...         ...         ...          ...   \n",
              "11293  26545            E   100.26  material_7  material_6            6   \n",
              "11294  26546            E   103.60  material_7  material_6            6   \n",
              "11295  26553            E   121.42  material_7  material_6            6   \n",
              "11296  26554            E   159.43  material_7  material_6            6   \n",
              "11297  26559            E   120.73  material_7  material_6            6   \n",
              "\n",
              "       attribute_3  measurement_0  measurement_1  measurement_2  ...  \\\n",
              "0                5              7              8              4  ...   \n",
              "1                5             14              3              3  ...   \n",
              "2                5             12              1              5  ...   \n",
              "3                5             13              2              6  ...   \n",
              "4                5              9              2              8  ...   \n",
              "...            ...            ...            ...            ...  ...   \n",
              "11293            9              4             19              0  ...   \n",
              "11294            9              1             15              3  ...   \n",
              "11295            9              1              9              6  ...   \n",
              "11296            9              3             13              7  ...   \n",
              "11297            9              2              9              9  ...   \n",
              "\n",
              "       measurement_9  measurement_10  measurement_11  measurement_12  \\\n",
              "0            10672.0         15859.0         17594.0        15193.00   \n",
              "1            12448.0         17947.0         17915.0        11755.00   \n",
              "2            12715.0         15607.0             NaN        13798.00   \n",
              "3            12471.0         16346.0         18377.0           10.02   \n",
              "4            10337.0         17082.0         19932.0        12428.00   \n",
              "...              ...             ...             ...             ...   \n",
              "11293        10476.0         14399.0         18824.0        12666.00   \n",
              "11294        12265.0         14193.0         19618.0           12.31   \n",
              "11295        11199.0         14626.0         19368.0        10795.00   \n",
              "11296        10795.0            17.6         20324.0           12.35   \n",
              "11297        12751.0             NaN         19339.0        10699.00   \n",
              "\n",
              "       measurement_13  measurement_14  measurement_15  measurement_16  \\\n",
              "0            15029.00             NaN         13034.0        14684.00   \n",
              "1            14732.00        15425.00         14395.0        15631.00   \n",
              "2            16711.00        18631.00         14094.0        17946.00   \n",
              "3               15.25        15562.00         16154.0        17172.00   \n",
              "4            16182.00           12.76         13153.0        16412.00   \n",
              "...               ...             ...             ...             ...   \n",
              "11293             NaN        14601.00         14995.0           17.42   \n",
              "11294           16.16           15.49         14522.0        17863.00   \n",
              "11295        14981.00           13.14         14845.0        15577.00   \n",
              "11296        14607.00        15494.00         15472.0        14185.00   \n",
              "11297        15836.00        16181.00         15864.0        18522.00   \n",
              "\n",
              "       measurement_17  failure  \n",
              "0              764.10        0  \n",
              "1           682057.00        0  \n",
              "2           663376.00        0  \n",
              "3           826282.00        0  \n",
              "4           579885.00        0  \n",
              "...               ...      ...  \n",
              "11293       808354.00        1  \n",
              "11294       731105.00        1  \n",
              "11295          795.59        1  \n",
              "11296             NaN        1  \n",
              "11297      1073039.00        1  \n",
              "\n",
              "[11298 rows x 26 columns]"
            ],
            "text/html": [
              "\n",
              "  <div id=\"df-007765be-0c11-46da-869c-cd2965faadde\">\n",
              "    <div class=\"colab-df-container\">\n",
              "      <div>\n",
              "<style scoped>\n",
              "    .dataframe tbody tr th:only-of-type {\n",
              "        vertical-align: middle;\n",
              "    }\n",
              "\n",
              "    .dataframe tbody tr th {\n",
              "        vertical-align: top;\n",
              "    }\n",
              "\n",
              "    .dataframe thead th {\n",
              "        text-align: right;\n",
              "    }\n",
              "</style>\n",
              "<table border=\"1\" class=\"dataframe\">\n",
              "  <thead>\n",
              "    <tr style=\"text-align: right;\">\n",
              "      <th></th>\n",
              "      <th>id</th>\n",
              "      <th>product_code</th>\n",
              "      <th>loading</th>\n",
              "      <th>attribute_0</th>\n",
              "      <th>attribute_1</th>\n",
              "      <th>attribute_2</th>\n",
              "      <th>attribute_3</th>\n",
              "      <th>measurement_0</th>\n",
              "      <th>measurement_1</th>\n",
              "      <th>measurement_2</th>\n",
              "      <th>...</th>\n",
              "      <th>measurement_9</th>\n",
              "      <th>measurement_10</th>\n",
              "      <th>measurement_11</th>\n",
              "      <th>measurement_12</th>\n",
              "      <th>measurement_13</th>\n",
              "      <th>measurement_14</th>\n",
              "      <th>measurement_15</th>\n",
              "      <th>measurement_16</th>\n",
              "      <th>measurement_17</th>\n",
              "      <th>failure</th>\n",
              "    </tr>\n",
              "  </thead>\n",
              "  <tbody>\n",
              "    <tr>\n",
              "      <th>0</th>\n",
              "      <td>0</td>\n",
              "      <td>A</td>\n",
              "      <td>80.10</td>\n",
              "      <td>material_7</td>\n",
              "      <td>material_8</td>\n",
              "      <td>9</td>\n",
              "      <td>5</td>\n",
              "      <td>7</td>\n",
              "      <td>8</td>\n",
              "      <td>4</td>\n",
              "      <td>...</td>\n",
              "      <td>10672.0</td>\n",
              "      <td>15859.0</td>\n",
              "      <td>17594.0</td>\n",
              "      <td>15193.00</td>\n",
              "      <td>15029.00</td>\n",
              "      <td>NaN</td>\n",
              "      <td>13034.0</td>\n",
              "      <td>14684.00</td>\n",
              "      <td>764.10</td>\n",
              "      <td>0</td>\n",
              "    </tr>\n",
              "    <tr>\n",
              "      <th>1</th>\n",
              "      <td>1</td>\n",
              "      <td>A</td>\n",
              "      <td>84.89</td>\n",
              "      <td>material_7</td>\n",
              "      <td>material_8</td>\n",
              "      <td>9</td>\n",
              "      <td>5</td>\n",
              "      <td>14</td>\n",
              "      <td>3</td>\n",
              "      <td>3</td>\n",
              "      <td>...</td>\n",
              "      <td>12448.0</td>\n",
              "      <td>17947.0</td>\n",
              "      <td>17915.0</td>\n",
              "      <td>11755.00</td>\n",
              "      <td>14732.00</td>\n",
              "      <td>15425.00</td>\n",
              "      <td>14395.0</td>\n",
              "      <td>15631.00</td>\n",
              "      <td>682057.00</td>\n",
              "      <td>0</td>\n",
              "    </tr>\n",
              "    <tr>\n",
              "      <th>2</th>\n",
              "      <td>2</td>\n",
              "      <td>A</td>\n",
              "      <td>82.43</td>\n",
              "      <td>material_7</td>\n",
              "      <td>material_8</td>\n",
              "      <td>9</td>\n",
              "      <td>5</td>\n",
              "      <td>12</td>\n",
              "      <td>1</td>\n",
              "      <td>5</td>\n",
              "      <td>...</td>\n",
              "      <td>12715.0</td>\n",
              "      <td>15607.0</td>\n",
              "      <td>NaN</td>\n",
              "      <td>13798.00</td>\n",
              "      <td>16711.00</td>\n",
              "      <td>18631.00</td>\n",
              "      <td>14094.0</td>\n",
              "      <td>17946.00</td>\n",
              "      <td>663376.00</td>\n",
              "      <td>0</td>\n",
              "    </tr>\n",
              "    <tr>\n",
              "      <th>3</th>\n",
              "      <td>3</td>\n",
              "      <td>A</td>\n",
              "      <td>101.07</td>\n",
              "      <td>material_7</td>\n",
              "      <td>material_8</td>\n",
              "      <td>9</td>\n",
              "      <td>5</td>\n",
              "      <td>13</td>\n",
              "      <td>2</td>\n",
              "      <td>6</td>\n",
              "      <td>...</td>\n",
              "      <td>12471.0</td>\n",
              "      <td>16346.0</td>\n",
              "      <td>18377.0</td>\n",
              "      <td>10.02</td>\n",
              "      <td>15.25</td>\n",
              "      <td>15562.00</td>\n",
              "      <td>16154.0</td>\n",
              "      <td>17172.00</td>\n",
              "      <td>826282.00</td>\n",
              "      <td>0</td>\n",
              "    </tr>\n",
              "    <tr>\n",
              "      <th>4</th>\n",
              "      <td>4</td>\n",
              "      <td>A</td>\n",
              "      <td>188.06</td>\n",
              "      <td>material_7</td>\n",
              "      <td>material_8</td>\n",
              "      <td>9</td>\n",
              "      <td>5</td>\n",
              "      <td>9</td>\n",
              "      <td>2</td>\n",
              "      <td>8</td>\n",
              "      <td>...</td>\n",
              "      <td>10337.0</td>\n",
              "      <td>17082.0</td>\n",
              "      <td>19932.0</td>\n",
              "      <td>12428.00</td>\n",
              "      <td>16182.00</td>\n",
              "      <td>12.76</td>\n",
              "      <td>13153.0</td>\n",
              "      <td>16412.00</td>\n",
              "      <td>579885.00</td>\n",
              "      <td>0</td>\n",
              "    </tr>\n",
              "    <tr>\n",
              "      <th>...</th>\n",
              "      <td>...</td>\n",
              "      <td>...</td>\n",
              "      <td>...</td>\n",
              "      <td>...</td>\n",
              "      <td>...</td>\n",
              "      <td>...</td>\n",
              "      <td>...</td>\n",
              "      <td>...</td>\n",
              "      <td>...</td>\n",
              "      <td>...</td>\n",
              "      <td>...</td>\n",
              "      <td>...</td>\n",
              "      <td>...</td>\n",
              "      <td>...</td>\n",
              "      <td>...</td>\n",
              "      <td>...</td>\n",
              "      <td>...</td>\n",
              "      <td>...</td>\n",
              "      <td>...</td>\n",
              "      <td>...</td>\n",
              "      <td>...</td>\n",
              "    </tr>\n",
              "    <tr>\n",
              "      <th>11293</th>\n",
              "      <td>26545</td>\n",
              "      <td>E</td>\n",
              "      <td>100.26</td>\n",
              "      <td>material_7</td>\n",
              "      <td>material_6</td>\n",
              "      <td>6</td>\n",
              "      <td>9</td>\n",
              "      <td>4</td>\n",
              "      <td>19</td>\n",
              "      <td>0</td>\n",
              "      <td>...</td>\n",
              "      <td>10476.0</td>\n",
              "      <td>14399.0</td>\n",
              "      <td>18824.0</td>\n",
              "      <td>12666.00</td>\n",
              "      <td>NaN</td>\n",
              "      <td>14601.00</td>\n",
              "      <td>14995.0</td>\n",
              "      <td>17.42</td>\n",
              "      <td>808354.00</td>\n",
              "      <td>1</td>\n",
              "    </tr>\n",
              "    <tr>\n",
              "      <th>11294</th>\n",
              "      <td>26546</td>\n",
              "      <td>E</td>\n",
              "      <td>103.60</td>\n",
              "      <td>material_7</td>\n",
              "      <td>material_6</td>\n",
              "      <td>6</td>\n",
              "      <td>9</td>\n",
              "      <td>1</td>\n",
              "      <td>15</td>\n",
              "      <td>3</td>\n",
              "      <td>...</td>\n",
              "      <td>12265.0</td>\n",
              "      <td>14193.0</td>\n",
              "      <td>19618.0</td>\n",
              "      <td>12.31</td>\n",
              "      <td>16.16</td>\n",
              "      <td>15.49</td>\n",
              "      <td>14522.0</td>\n",
              "      <td>17863.00</td>\n",
              "      <td>731105.00</td>\n",
              "      <td>1</td>\n",
              "    </tr>\n",
              "    <tr>\n",
              "      <th>11295</th>\n",
              "      <td>26553</td>\n",
              "      <td>E</td>\n",
              "      <td>121.42</td>\n",
              "      <td>material_7</td>\n",
              "      <td>material_6</td>\n",
              "      <td>6</td>\n",
              "      <td>9</td>\n",
              "      <td>1</td>\n",
              "      <td>9</td>\n",
              "      <td>6</td>\n",
              "      <td>...</td>\n",
              "      <td>11199.0</td>\n",
              "      <td>14626.0</td>\n",
              "      <td>19368.0</td>\n",
              "      <td>10795.00</td>\n",
              "      <td>14981.00</td>\n",
              "      <td>13.14</td>\n",
              "      <td>14845.0</td>\n",
              "      <td>15577.00</td>\n",
              "      <td>795.59</td>\n",
              "      <td>1</td>\n",
              "    </tr>\n",
              "    <tr>\n",
              "      <th>11296</th>\n",
              "      <td>26554</td>\n",
              "      <td>E</td>\n",
              "      <td>159.43</td>\n",
              "      <td>material_7</td>\n",
              "      <td>material_6</td>\n",
              "      <td>6</td>\n",
              "      <td>9</td>\n",
              "      <td>3</td>\n",
              "      <td>13</td>\n",
              "      <td>7</td>\n",
              "      <td>...</td>\n",
              "      <td>10795.0</td>\n",
              "      <td>17.6</td>\n",
              "      <td>20324.0</td>\n",
              "      <td>12.35</td>\n",
              "      <td>14607.00</td>\n",
              "      <td>15494.00</td>\n",
              "      <td>15472.0</td>\n",
              "      <td>14185.00</td>\n",
              "      <td>NaN</td>\n",
              "      <td>1</td>\n",
              "    </tr>\n",
              "    <tr>\n",
              "      <th>11297</th>\n",
              "      <td>26559</td>\n",
              "      <td>E</td>\n",
              "      <td>120.73</td>\n",
              "      <td>material_7</td>\n",
              "      <td>material_6</td>\n",
              "      <td>6</td>\n",
              "      <td>9</td>\n",
              "      <td>2</td>\n",
              "      <td>9</td>\n",
              "      <td>9</td>\n",
              "      <td>...</td>\n",
              "      <td>12751.0</td>\n",
              "      <td>NaN</td>\n",
              "      <td>19339.0</td>\n",
              "      <td>10699.00</td>\n",
              "      <td>15836.00</td>\n",
              "      <td>16181.00</td>\n",
              "      <td>15864.0</td>\n",
              "      <td>18522.00</td>\n",
              "      <td>1073039.00</td>\n",
              "      <td>1</td>\n",
              "    </tr>\n",
              "  </tbody>\n",
              "</table>\n",
              "<p>11298 rows × 26 columns</p>\n",
              "</div>\n",
              "      <button class=\"colab-df-convert\" onclick=\"convertToInteractive('df-007765be-0c11-46da-869c-cd2965faadde')\"\n",
              "              title=\"Convert this dataframe to an interactive table.\"\n",
              "              style=\"display:none;\">\n",
              "        \n",
              "  <svg xmlns=\"http://www.w3.org/2000/svg\" height=\"24px\"viewBox=\"0 0 24 24\"\n",
              "       width=\"24px\">\n",
              "    <path d=\"M0 0h24v24H0V0z\" fill=\"none\"/>\n",
              "    <path d=\"M18.56 5.44l.94 2.06.94-2.06 2.06-.94-2.06-.94-.94-2.06-.94 2.06-2.06.94zm-11 1L8.5 8.5l.94-2.06 2.06-.94-2.06-.94L8.5 2.5l-.94 2.06-2.06.94zm10 10l.94 2.06.94-2.06 2.06-.94-2.06-.94-.94-2.06-.94 2.06-2.06.94z\"/><path d=\"M17.41 7.96l-1.37-1.37c-.4-.4-.92-.59-1.43-.59-.52 0-1.04.2-1.43.59L10.3 9.45l-7.72 7.72c-.78.78-.78 2.05 0 2.83L4 21.41c.39.39.9.59 1.41.59.51 0 1.02-.2 1.41-.59l7.78-7.78 2.81-2.81c.8-.78.8-2.07 0-2.86zM5.41 20L4 18.59l7.72-7.72 1.47 1.35L5.41 20z\"/>\n",
              "  </svg>\n",
              "      </button>\n",
              "      \n",
              "  <style>\n",
              "    .colab-df-container {\n",
              "      display:flex;\n",
              "      flex-wrap:wrap;\n",
              "      gap: 12px;\n",
              "    }\n",
              "\n",
              "    .colab-df-convert {\n",
              "      background-color: #E8F0FE;\n",
              "      border: none;\n",
              "      border-radius: 50%;\n",
              "      cursor: pointer;\n",
              "      display: none;\n",
              "      fill: #1967D2;\n",
              "      height: 32px;\n",
              "      padding: 0 0 0 0;\n",
              "      width: 32px;\n",
              "    }\n",
              "\n",
              "    .colab-df-convert:hover {\n",
              "      background-color: #E2EBFA;\n",
              "      box-shadow: 0px 1px 2px rgba(60, 64, 67, 0.3), 0px 1px 3px 1px rgba(60, 64, 67, 0.15);\n",
              "      fill: #174EA6;\n",
              "    }\n",
              "\n",
              "    [theme=dark] .colab-df-convert {\n",
              "      background-color: #3B4455;\n",
              "      fill: #D2E3FC;\n",
              "    }\n",
              "\n",
              "    [theme=dark] .colab-df-convert:hover {\n",
              "      background-color: #434B5C;\n",
              "      box-shadow: 0px 1px 3px 1px rgba(0, 0, 0, 0.15);\n",
              "      filter: drop-shadow(0px 1px 2px rgba(0, 0, 0, 0.3));\n",
              "      fill: #FFFFFF;\n",
              "    }\n",
              "  </style>\n",
              "\n",
              "      <script>\n",
              "        const buttonEl =\n",
              "          document.querySelector('#df-007765be-0c11-46da-869c-cd2965faadde button.colab-df-convert');\n",
              "        buttonEl.style.display =\n",
              "          google.colab.kernel.accessAllowed ? 'block' : 'none';\n",
              "\n",
              "        async function convertToInteractive(key) {\n",
              "          const element = document.querySelector('#df-007765be-0c11-46da-869c-cd2965faadde');\n",
              "          const dataTable =\n",
              "            await google.colab.kernel.invokeFunction('convertToInteractive',\n",
              "                                                     [key], {});\n",
              "          if (!dataTable) return;\n",
              "\n",
              "          const docLinkHtml = 'Like what you see? Visit the ' +\n",
              "            '<a target=\"_blank\" href=https://colab.research.google.com/notebooks/data_table.ipynb>data table notebook</a>'\n",
              "            + ' to learn more about interactive tables.';\n",
              "          element.innerHTML = '';\n",
              "          dataTable['output_type'] = 'display_data';\n",
              "          await google.colab.output.renderOutput(dataTable, element);\n",
              "          const docLink = document.createElement('div');\n",
              "          docLink.innerHTML = docLinkHtml;\n",
              "          element.appendChild(docLink);\n",
              "        }\n",
              "      </script>\n",
              "    </div>\n",
              "  </div>\n",
              "  "
            ]
          },
          "metadata": {},
          "execution_count": 10
        }
      ],
      "source": [
        "df"
      ]
    },
    {
      "cell_type": "markdown",
      "source": [
        "##ESTUDAR A CORRELAÇÃO DAS FEATURES PARA DETERMINAR AS QUE SERÃO UTILIZADAS NO MODELO"
      ],
      "metadata": {
        "id": "bDxNXvA7fvMq"
      }
    },
    {
      "cell_type": "code",
      "source": [
        "df['attribute_0'].value_counts()"
      ],
      "metadata": {
        "colab": {
          "base_uri": "https://localhost:8080/"
        },
        "id": "bRNjNuuxfzUH",
        "outputId": "72f5d165-fe8e-43d9-8a90-82e72923bd2d"
      },
      "execution_count": null,
      "outputs": [
        {
          "output_type": "execute_result",
          "data": {
            "text/plain": [
              "material_7    8538\n",
              "material_5    2760\n",
              "Name: attribute_0, dtype: int64"
            ]
          },
          "metadata": {},
          "execution_count": 11
        }
      ]
    },
    {
      "cell_type": "code",
      "source": [
        "df['attribute_1'].value_counts()"
      ],
      "metadata": {
        "colab": {
          "base_uri": "https://localhost:8080/"
        },
        "id": "-1zJPduufzW5",
        "outputId": "12072a39-31a7-405a-f6ab-557a5b447396"
      },
      "execution_count": null,
      "outputs": [
        {
          "output_type": "execute_result",
          "data": {
            "text/plain": [
              "material_8    6320\n",
              "material_5    3872\n",
              "material_6    1106\n",
              "Name: attribute_1, dtype: int64"
            ]
          },
          "metadata": {},
          "execution_count": 12
        }
      ]
    },
    {
      "cell_type": "code",
      "source": [
        "df['attribute_2'].value_counts()"
      ],
      "metadata": {
        "colab": {
          "base_uri": "https://localhost:8080/"
        },
        "id": "HG6-dQQ3fzZY",
        "outputId": "c16656e0-560f-4f74-daa4-dd6301bb9da8"
      },
      "execution_count": null,
      "outputs": [
        {
          "output_type": "execute_result",
          "data": {
            "text/plain": [
              "9    5100\n",
              "8    2760\n",
              "6    2218\n",
              "5    1220\n",
              "Name: attribute_2, dtype: int64"
            ]
          },
          "metadata": {},
          "execution_count": 13
        }
      ]
    },
    {
      "cell_type": "code",
      "source": [
        "df['attribute_3'].value_counts()"
      ],
      "metadata": {
        "colab": {
          "base_uri": "https://localhost:8080/"
        },
        "id": "660yHqmafzbn",
        "outputId": "02176ec9-c0fb-4f11-e175-095d0dbaf573"
      },
      "execution_count": null,
      "outputs": [
        {
          "output_type": "execute_result",
          "data": {
            "text/plain": [
              "5    5100\n",
              "8    3980\n",
              "6    1112\n",
              "9    1106\n",
              "Name: attribute_3, dtype: int64"
            ]
          },
          "metadata": {},
          "execution_count": 14
        }
      ]
    },
    {
      "cell_type": "code",
      "source": [
        "df['measurement_0'].value_counts()"
      ],
      "metadata": {
        "colab": {
          "base_uri": "https://localhost:8080/"
        },
        "id": "7TV1qX0_fzdy",
        "outputId": "ab686242-ad01-4597-b4b3-1942807cc108"
      },
      "execution_count": null,
      "outputs": [
        {
          "output_type": "execute_result",
          "data": {
            "text/plain": [
              "6     1084\n",
              "7     1045\n",
              "8     1011\n",
              "5      969\n",
              "9      893\n",
              "4      819\n",
              "10     808\n",
              "11     732\n",
              "3      623\n",
              "12     594\n",
              "13     454\n",
              "2      446\n",
              "14     389\n",
              "15     286\n",
              "1      268\n",
              "16     237\n",
              "17     152\n",
              "18     137\n",
              "0      130\n",
              "19      83\n",
              "20      52\n",
              "21      36\n",
              "22      18\n",
              "24      18\n",
              "23       7\n",
              "25       5\n",
              "26       2\n",
              "Name: measurement_0, dtype: int64"
            ]
          },
          "metadata": {},
          "execution_count": 15
        }
      ]
    },
    {
      "cell_type": "code",
      "source": [
        "df['measurement_1'].value_counts()"
      ],
      "metadata": {
        "colab": {
          "base_uri": "https://localhost:8080/"
        },
        "id": "NXZ-y5vafzf1",
        "outputId": "183b6d2b-d1e3-413d-f938-7f7a421a7042"
      },
      "execution_count": null,
      "outputs": [
        {
          "output_type": "execute_result",
          "data": {
            "text/plain": [
              "5     1072\n",
              "4     1029\n",
              "6     1025\n",
              "3      983\n",
              "7      972\n",
              "8      899\n",
              "2      847\n",
              "9      785\n",
              "10     668\n",
              "1      606\n",
              "11     539\n",
              "12     436\n",
              "13     309\n",
              "0      291\n",
              "14     249\n",
              "15     168\n",
              "16     126\n",
              "17      98\n",
              "18      59\n",
              "19      54\n",
              "20      29\n",
              "21      28\n",
              "22      11\n",
              "24       6\n",
              "23       6\n",
              "27       1\n",
              "25       1\n",
              "29       1\n",
              "Name: measurement_1, dtype: int64"
            ]
          },
          "metadata": {},
          "execution_count": 16
        }
      ]
    },
    {
      "cell_type": "code",
      "source": [
        "df['measurement_2'].value_counts()"
      ],
      "metadata": {
        "colab": {
          "base_uri": "https://localhost:8080/"
        },
        "id": "qyVWsjTpf2q-",
        "outputId": "a449ceb8-bb46-4844-ff01-dc7097d9c0b7"
      },
      "execution_count": null,
      "outputs": [
        {
          "output_type": "execute_result",
          "data": {
            "text/plain": [
              "5     1400\n",
              "6     1337\n",
              "4     1327\n",
              "7     1217\n",
              "3     1072\n",
              "8     1071\n",
              "2      764\n",
              "9      750\n",
              "10     599\n",
              "1      482\n",
              "11     383\n",
              "12     298\n",
              "13     192\n",
              "0      156\n",
              "14      97\n",
              "15      56\n",
              "16      35\n",
              "17      31\n",
              "18      12\n",
              "19       7\n",
              "20       7\n",
              "21       3\n",
              "24       1\n",
              "22       1\n",
              "Name: measurement_2, dtype: int64"
            ]
          },
          "metadata": {},
          "execution_count": 17
        }
      ]
    },
    {
      "cell_type": "code",
      "source": [
        "df['measurement_3'].value_counts()"
      ],
      "metadata": {
        "colab": {
          "base_uri": "https://localhost:8080/"
        },
        "id": "I5sXY5j6f2zl",
        "outputId": "debaf925-5359-4556-c5ba-87f878e286f7"
      },
      "execution_count": null,
      "outputs": [
        {
          "output_type": "execute_result",
          "data": {
            "text/plain": [
              "17638.0    11\n",
              "17914.0    11\n",
              "17435.0    11\n",
              "17384.0    10\n",
              "17472.0    10\n",
              "           ..\n",
              "17019.0     1\n",
              "18813.0     1\n",
              "19796.0     1\n",
              "19057.0     1\n",
              "15835.0     1\n",
              "Name: measurement_3, Length: 3866, dtype: int64"
            ]
          },
          "metadata": {},
          "execution_count": 18
        }
      ]
    },
    {
      "cell_type": "code",
      "source": [],
      "metadata": {
        "id": "zz5spaFcg9pD"
      },
      "execution_count": null,
      "outputs": []
    },
    {
      "cell_type": "markdown",
      "source": [
        "## CONTINUANDO A CONSTRUÇÃO DO MODELO"
      ],
      "metadata": {
        "id": "ABg7CZUCg-KH"
      }
    },
    {
      "cell_type": "markdown",
      "metadata": {
        "id": "DFzw3QySs0Iz"
      },
      "source": [
        "VERIFICANDO A PRESENÇA DE DADOS NULOS"
      ]
    },
    {
      "cell_type": "code",
      "execution_count": null,
      "metadata": {
        "colab": {
          "base_uri": "https://localhost:8080/"
        },
        "id": "fiJ1rLydqoI7",
        "outputId": "86f49564-a09b-4038-e360-f23c631b7814"
      },
      "outputs": [
        {
          "output_type": "execute_result",
          "data": {
            "text/plain": [
              "id                  0\n",
              "product_code        0\n",
              "loading            88\n",
              "attribute_0         0\n",
              "attribute_1         0\n",
              "attribute_2         0\n",
              "attribute_3         0\n",
              "measurement_0       0\n",
              "measurement_1       0\n",
              "measurement_2       0\n",
              "measurement_3     139\n",
              "measurement_4     231\n",
              "measurement_5     318\n",
              "measurement_6     357\n",
              "measurement_7     389\n",
              "measurement_8     447\n",
              "measurement_9     536\n",
              "measurement_10    556\n",
              "measurement_11    632\n",
              "measurement_12    694\n",
              "measurement_13    737\n",
              "measurement_14    771\n",
              "measurement_15    839\n",
              "measurement_16    882\n",
              "measurement_17    943\n",
              "failure             0\n",
              "dtype: int64"
            ]
          },
          "metadata": {},
          "execution_count": 19
        }
      ],
      "source": [
        "df.isnull().sum()"
      ]
    },
    {
      "cell_type": "markdown",
      "metadata": {
        "id": "gH7P6AEdtSfd"
      },
      "source": [
        "VERIFICANDO A DIFERENÇA ENTRE MÉDIA E MEDIANA"
      ]
    },
    {
      "cell_type": "code",
      "execution_count": null,
      "metadata": {
        "colab": {
          "base_uri": "https://localhost:8080/",
          "height": 394
        },
        "id": "DmUHAoROqoNf",
        "outputId": "6104569e-b235-420f-ebd8-7a24bf3b3fd0"
      },
      "outputs": [
        {
          "output_type": "execute_result",
          "data": {
            "text/plain": [
              "                 id       loading   attribute_2   attribute_3  measurement_0  \\\n",
              "count  11298.000000  11210.000000  11298.000000  11298.000000   11298.000000   \n",
              "mean    8411.909187    131.027084      7.734820      6.546822       8.264560   \n",
              "std     7401.146239     40.354675      1.462327      1.562929       4.369438   \n",
              "min        0.000000     33.160000      5.000000      5.000000       0.000000   \n",
              "25%     2824.250000    102.382500      6.000000      5.000000       5.000000   \n",
              "50%     5648.500000    125.530000      8.000000      6.000000       8.000000   \n",
              "75%    13181.750000    153.347500      9.000000      8.000000      11.000000   \n",
              "max    26559.000000    385.860000      9.000000      9.000000      26.000000   \n",
              "\n",
              "       measurement_1  measurement_2  measurement_3  measurement_4  \\\n",
              "count   11298.000000   11298.000000   11159.000000   11067.000000   \n",
              "mean        6.845725       6.156045   15952.722019   10509.764185   \n",
              "std         4.241097       3.273412    5511.637407    3685.110655   \n",
              "min         0.000000       0.000000      14.690000       8.300000   \n",
              "25%         4.000000       4.000000   16824.500000   10719.000000   \n",
              "50%         6.000000       6.000000   17641.000000   11578.000000   \n",
              "75%         9.000000       8.000000   18387.000000   12318.500000   \n",
              "max        29.000000      24.000000   21267.000000   16484.000000   \n",
              "\n",
              "       measurement_5  ...  measurement_9  measurement_10  measurement_11  \\\n",
              "count   10980.000000  ...   10762.000000    10742.000000    10666.000000   \n",
              "mean    15480.074847  ...   10311.193247    14450.399466    17319.707647   \n",
              "std      5155.856827  ...    3514.216814     5067.161901     5964.294784   \n",
              "min        13.810000  ...       8.370000       11.080000       12.620000   \n",
              "25%     16186.000000  ...   10468.250000    14915.000000    17705.250000   \n",
              "50%     16998.000000  ...   11288.000000    15964.000000    19061.000000   \n",
              "75%     17719.000000  ...   12016.000000    16822.000000    20201.250000   \n",
              "max     21425.000000  ...   15412.000000    22479.000000    25429.000000   \n",
              "\n",
              "       measurement_12  measurement_13  measurement_14  measurement_15  \\\n",
              "count    10604.000000    10561.000000    10527.000000    10459.000000   \n",
              "mean     10759.103675    14002.822060    14439.110154    13328.731634   \n",
              "std       3811.741906     4961.000601     5065.503612     4701.254357   \n",
              "min          7.400000       12.030000        9.140000        9.900000   \n",
              "25%      10569.000000    14532.000000    14719.000000    13296.000000   \n",
              "50%      11777.000000    15482.000000    15833.000000    14556.000000   \n",
              "75%      12796.250000    16296.000000    16960.000000    15714.500000   \n",
              "max      17594.000000    22713.000000    21847.000000    21515.000000   \n",
              "\n",
              "       measurement_16  measurement_17       failure  \n",
              "count    10416.000000    1.035500e+04  11298.000000  \n",
              "mean     14899.019578    6.372894e+05      0.500000  \n",
              "std       5117.727180    2.341021e+05      0.500022  \n",
              "min         12.030000    3.191800e+02      0.000000  \n",
              "25%      14846.000000    5.940125e+05      0.000000  \n",
              "50%      16182.000000    6.883430e+05      0.500000  \n",
              "75%      17514.250000    7.733460e+05      1.000000  \n",
              "max      24094.000000    1.181998e+06      1.000000  \n",
              "\n",
              "[8 rows x 23 columns]"
            ],
            "text/html": [
              "\n",
              "  <div id=\"df-0d500fc7-01ae-4993-a322-6da12f30e374\">\n",
              "    <div class=\"colab-df-container\">\n",
              "      <div>\n",
              "<style scoped>\n",
              "    .dataframe tbody tr th:only-of-type {\n",
              "        vertical-align: middle;\n",
              "    }\n",
              "\n",
              "    .dataframe tbody tr th {\n",
              "        vertical-align: top;\n",
              "    }\n",
              "\n",
              "    .dataframe thead th {\n",
              "        text-align: right;\n",
              "    }\n",
              "</style>\n",
              "<table border=\"1\" class=\"dataframe\">\n",
              "  <thead>\n",
              "    <tr style=\"text-align: right;\">\n",
              "      <th></th>\n",
              "      <th>id</th>\n",
              "      <th>loading</th>\n",
              "      <th>attribute_2</th>\n",
              "      <th>attribute_3</th>\n",
              "      <th>measurement_0</th>\n",
              "      <th>measurement_1</th>\n",
              "      <th>measurement_2</th>\n",
              "      <th>measurement_3</th>\n",
              "      <th>measurement_4</th>\n",
              "      <th>measurement_5</th>\n",
              "      <th>...</th>\n",
              "      <th>measurement_9</th>\n",
              "      <th>measurement_10</th>\n",
              "      <th>measurement_11</th>\n",
              "      <th>measurement_12</th>\n",
              "      <th>measurement_13</th>\n",
              "      <th>measurement_14</th>\n",
              "      <th>measurement_15</th>\n",
              "      <th>measurement_16</th>\n",
              "      <th>measurement_17</th>\n",
              "      <th>failure</th>\n",
              "    </tr>\n",
              "  </thead>\n",
              "  <tbody>\n",
              "    <tr>\n",
              "      <th>count</th>\n",
              "      <td>11298.000000</td>\n",
              "      <td>11210.000000</td>\n",
              "      <td>11298.000000</td>\n",
              "      <td>11298.000000</td>\n",
              "      <td>11298.000000</td>\n",
              "      <td>11298.000000</td>\n",
              "      <td>11298.000000</td>\n",
              "      <td>11159.000000</td>\n",
              "      <td>11067.000000</td>\n",
              "      <td>10980.000000</td>\n",
              "      <td>...</td>\n",
              "      <td>10762.000000</td>\n",
              "      <td>10742.000000</td>\n",
              "      <td>10666.000000</td>\n",
              "      <td>10604.000000</td>\n",
              "      <td>10561.000000</td>\n",
              "      <td>10527.000000</td>\n",
              "      <td>10459.000000</td>\n",
              "      <td>10416.000000</td>\n",
              "      <td>1.035500e+04</td>\n",
              "      <td>11298.000000</td>\n",
              "    </tr>\n",
              "    <tr>\n",
              "      <th>mean</th>\n",
              "      <td>8411.909187</td>\n",
              "      <td>131.027084</td>\n",
              "      <td>7.734820</td>\n",
              "      <td>6.546822</td>\n",
              "      <td>8.264560</td>\n",
              "      <td>6.845725</td>\n",
              "      <td>6.156045</td>\n",
              "      <td>15952.722019</td>\n",
              "      <td>10509.764185</td>\n",
              "      <td>15480.074847</td>\n",
              "      <td>...</td>\n",
              "      <td>10311.193247</td>\n",
              "      <td>14450.399466</td>\n",
              "      <td>17319.707647</td>\n",
              "      <td>10759.103675</td>\n",
              "      <td>14002.822060</td>\n",
              "      <td>14439.110154</td>\n",
              "      <td>13328.731634</td>\n",
              "      <td>14899.019578</td>\n",
              "      <td>6.372894e+05</td>\n",
              "      <td>0.500000</td>\n",
              "    </tr>\n",
              "    <tr>\n",
              "      <th>std</th>\n",
              "      <td>7401.146239</td>\n",
              "      <td>40.354675</td>\n",
              "      <td>1.462327</td>\n",
              "      <td>1.562929</td>\n",
              "      <td>4.369438</td>\n",
              "      <td>4.241097</td>\n",
              "      <td>3.273412</td>\n",
              "      <td>5511.637407</td>\n",
              "      <td>3685.110655</td>\n",
              "      <td>5155.856827</td>\n",
              "      <td>...</td>\n",
              "      <td>3514.216814</td>\n",
              "      <td>5067.161901</td>\n",
              "      <td>5964.294784</td>\n",
              "      <td>3811.741906</td>\n",
              "      <td>4961.000601</td>\n",
              "      <td>5065.503612</td>\n",
              "      <td>4701.254357</td>\n",
              "      <td>5117.727180</td>\n",
              "      <td>2.341021e+05</td>\n",
              "      <td>0.500022</td>\n",
              "    </tr>\n",
              "    <tr>\n",
              "      <th>min</th>\n",
              "      <td>0.000000</td>\n",
              "      <td>33.160000</td>\n",
              "      <td>5.000000</td>\n",
              "      <td>5.000000</td>\n",
              "      <td>0.000000</td>\n",
              "      <td>0.000000</td>\n",
              "      <td>0.000000</td>\n",
              "      <td>14.690000</td>\n",
              "      <td>8.300000</td>\n",
              "      <td>13.810000</td>\n",
              "      <td>...</td>\n",
              "      <td>8.370000</td>\n",
              "      <td>11.080000</td>\n",
              "      <td>12.620000</td>\n",
              "      <td>7.400000</td>\n",
              "      <td>12.030000</td>\n",
              "      <td>9.140000</td>\n",
              "      <td>9.900000</td>\n",
              "      <td>12.030000</td>\n",
              "      <td>3.191800e+02</td>\n",
              "      <td>0.000000</td>\n",
              "    </tr>\n",
              "    <tr>\n",
              "      <th>25%</th>\n",
              "      <td>2824.250000</td>\n",
              "      <td>102.382500</td>\n",
              "      <td>6.000000</td>\n",
              "      <td>5.000000</td>\n",
              "      <td>5.000000</td>\n",
              "      <td>4.000000</td>\n",
              "      <td>4.000000</td>\n",
              "      <td>16824.500000</td>\n",
              "      <td>10719.000000</td>\n",
              "      <td>16186.000000</td>\n",
              "      <td>...</td>\n",
              "      <td>10468.250000</td>\n",
              "      <td>14915.000000</td>\n",
              "      <td>17705.250000</td>\n",
              "      <td>10569.000000</td>\n",
              "      <td>14532.000000</td>\n",
              "      <td>14719.000000</td>\n",
              "      <td>13296.000000</td>\n",
              "      <td>14846.000000</td>\n",
              "      <td>5.940125e+05</td>\n",
              "      <td>0.000000</td>\n",
              "    </tr>\n",
              "    <tr>\n",
              "      <th>50%</th>\n",
              "      <td>5648.500000</td>\n",
              "      <td>125.530000</td>\n",
              "      <td>8.000000</td>\n",
              "      <td>6.000000</td>\n",
              "      <td>8.000000</td>\n",
              "      <td>6.000000</td>\n",
              "      <td>6.000000</td>\n",
              "      <td>17641.000000</td>\n",
              "      <td>11578.000000</td>\n",
              "      <td>16998.000000</td>\n",
              "      <td>...</td>\n",
              "      <td>11288.000000</td>\n",
              "      <td>15964.000000</td>\n",
              "      <td>19061.000000</td>\n",
              "      <td>11777.000000</td>\n",
              "      <td>15482.000000</td>\n",
              "      <td>15833.000000</td>\n",
              "      <td>14556.000000</td>\n",
              "      <td>16182.000000</td>\n",
              "      <td>6.883430e+05</td>\n",
              "      <td>0.500000</td>\n",
              "    </tr>\n",
              "    <tr>\n",
              "      <th>75%</th>\n",
              "      <td>13181.750000</td>\n",
              "      <td>153.347500</td>\n",
              "      <td>9.000000</td>\n",
              "      <td>8.000000</td>\n",
              "      <td>11.000000</td>\n",
              "      <td>9.000000</td>\n",
              "      <td>8.000000</td>\n",
              "      <td>18387.000000</td>\n",
              "      <td>12318.500000</td>\n",
              "      <td>17719.000000</td>\n",
              "      <td>...</td>\n",
              "      <td>12016.000000</td>\n",
              "      <td>16822.000000</td>\n",
              "      <td>20201.250000</td>\n",
              "      <td>12796.250000</td>\n",
              "      <td>16296.000000</td>\n",
              "      <td>16960.000000</td>\n",
              "      <td>15714.500000</td>\n",
              "      <td>17514.250000</td>\n",
              "      <td>7.733460e+05</td>\n",
              "      <td>1.000000</td>\n",
              "    </tr>\n",
              "    <tr>\n",
              "      <th>max</th>\n",
              "      <td>26559.000000</td>\n",
              "      <td>385.860000</td>\n",
              "      <td>9.000000</td>\n",
              "      <td>9.000000</td>\n",
              "      <td>26.000000</td>\n",
              "      <td>29.000000</td>\n",
              "      <td>24.000000</td>\n",
              "      <td>21267.000000</td>\n",
              "      <td>16484.000000</td>\n",
              "      <td>21425.000000</td>\n",
              "      <td>...</td>\n",
              "      <td>15412.000000</td>\n",
              "      <td>22479.000000</td>\n",
              "      <td>25429.000000</td>\n",
              "      <td>17594.000000</td>\n",
              "      <td>22713.000000</td>\n",
              "      <td>21847.000000</td>\n",
              "      <td>21515.000000</td>\n",
              "      <td>24094.000000</td>\n",
              "      <td>1.181998e+06</td>\n",
              "      <td>1.000000</td>\n",
              "    </tr>\n",
              "  </tbody>\n",
              "</table>\n",
              "<p>8 rows × 23 columns</p>\n",
              "</div>\n",
              "      <button class=\"colab-df-convert\" onclick=\"convertToInteractive('df-0d500fc7-01ae-4993-a322-6da12f30e374')\"\n",
              "              title=\"Convert this dataframe to an interactive table.\"\n",
              "              style=\"display:none;\">\n",
              "        \n",
              "  <svg xmlns=\"http://www.w3.org/2000/svg\" height=\"24px\"viewBox=\"0 0 24 24\"\n",
              "       width=\"24px\">\n",
              "    <path d=\"M0 0h24v24H0V0z\" fill=\"none\"/>\n",
              "    <path d=\"M18.56 5.44l.94 2.06.94-2.06 2.06-.94-2.06-.94-.94-2.06-.94 2.06-2.06.94zm-11 1L8.5 8.5l.94-2.06 2.06-.94-2.06-.94L8.5 2.5l-.94 2.06-2.06.94zm10 10l.94 2.06.94-2.06 2.06-.94-2.06-.94-.94-2.06-.94 2.06-2.06.94z\"/><path d=\"M17.41 7.96l-1.37-1.37c-.4-.4-.92-.59-1.43-.59-.52 0-1.04.2-1.43.59L10.3 9.45l-7.72 7.72c-.78.78-.78 2.05 0 2.83L4 21.41c.39.39.9.59 1.41.59.51 0 1.02-.2 1.41-.59l7.78-7.78 2.81-2.81c.8-.78.8-2.07 0-2.86zM5.41 20L4 18.59l7.72-7.72 1.47 1.35L5.41 20z\"/>\n",
              "  </svg>\n",
              "      </button>\n",
              "      \n",
              "  <style>\n",
              "    .colab-df-container {\n",
              "      display:flex;\n",
              "      flex-wrap:wrap;\n",
              "      gap: 12px;\n",
              "    }\n",
              "\n",
              "    .colab-df-convert {\n",
              "      background-color: #E8F0FE;\n",
              "      border: none;\n",
              "      border-radius: 50%;\n",
              "      cursor: pointer;\n",
              "      display: none;\n",
              "      fill: #1967D2;\n",
              "      height: 32px;\n",
              "      padding: 0 0 0 0;\n",
              "      width: 32px;\n",
              "    }\n",
              "\n",
              "    .colab-df-convert:hover {\n",
              "      background-color: #E2EBFA;\n",
              "      box-shadow: 0px 1px 2px rgba(60, 64, 67, 0.3), 0px 1px 3px 1px rgba(60, 64, 67, 0.15);\n",
              "      fill: #174EA6;\n",
              "    }\n",
              "\n",
              "    [theme=dark] .colab-df-convert {\n",
              "      background-color: #3B4455;\n",
              "      fill: #D2E3FC;\n",
              "    }\n",
              "\n",
              "    [theme=dark] .colab-df-convert:hover {\n",
              "      background-color: #434B5C;\n",
              "      box-shadow: 0px 1px 3px 1px rgba(0, 0, 0, 0.15);\n",
              "      filter: drop-shadow(0px 1px 2px rgba(0, 0, 0, 0.3));\n",
              "      fill: #FFFFFF;\n",
              "    }\n",
              "  </style>\n",
              "\n",
              "      <script>\n",
              "        const buttonEl =\n",
              "          document.querySelector('#df-0d500fc7-01ae-4993-a322-6da12f30e374 button.colab-df-convert');\n",
              "        buttonEl.style.display =\n",
              "          google.colab.kernel.accessAllowed ? 'block' : 'none';\n",
              "\n",
              "        async function convertToInteractive(key) {\n",
              "          const element = document.querySelector('#df-0d500fc7-01ae-4993-a322-6da12f30e374');\n",
              "          const dataTable =\n",
              "            await google.colab.kernel.invokeFunction('convertToInteractive',\n",
              "                                                     [key], {});\n",
              "          if (!dataTable) return;\n",
              "\n",
              "          const docLinkHtml = 'Like what you see? Visit the ' +\n",
              "            '<a target=\"_blank\" href=https://colab.research.google.com/notebooks/data_table.ipynb>data table notebook</a>'\n",
              "            + ' to learn more about interactive tables.';\n",
              "          element.innerHTML = '';\n",
              "          dataTable['output_type'] = 'display_data';\n",
              "          await google.colab.output.renderOutput(dataTable, element);\n",
              "          const docLink = document.createElement('div');\n",
              "          docLink.innerHTML = docLinkHtml;\n",
              "          element.appendChild(docLink);\n",
              "        }\n",
              "      </script>\n",
              "    </div>\n",
              "  </div>\n",
              "  "
            ]
          },
          "metadata": {},
          "execution_count": 20
        }
      ],
      "source": [
        "df.describe()"
      ]
    },
    {
      "cell_type": "markdown",
      "metadata": {
        "id": "Y4Ow6iaYtWJW"
      },
      "source": [
        "PREENCHENDO OS VALORS NANs USANDO \"SAMPLEIMPUTER\" DO SKLEARN"
      ]
    },
    {
      "cell_type": "code",
      "execution_count": null,
      "metadata": {
        "colab": {
          "base_uri": "https://localhost:8080/"
        },
        "id": "OhESQlXWqoQN",
        "outputId": "9eed1494-0279-4814-e915-7dca5c5523f5"
      },
      "outputs": [
        {
          "output_type": "execute_result",
          "data": {
            "text/plain": [
              "SimpleImputer(strategy='median')"
            ]
          },
          "metadata": {},
          "execution_count": 21
        }
      ],
      "source": [
        "most_imputer = SimpleImputer(missing_values=np.nan, strategy='median')\n",
        "most_imputer"
      ]
    },
    {
      "cell_type": "markdown",
      "metadata": {
        "id": "r2j3XjRkty93"
      },
      "source": [
        "PREENCHENDO AS COLUNAS COM A MEDIANA"
      ]
    },
    {
      "cell_type": "code",
      "execution_count": null,
      "metadata": {
        "id": "Plczlwbetrwy"
      },
      "outputs": [],
      "source": [
        "df.loading = most_imputer.fit_transform(df[['loading']])\n",
        "df.measurement_3 = most_imputer.fit_transform(df[['measurement_3']])\n",
        "df.measurement_4 = most_imputer.fit_transform(df[['measurement_4']])\n",
        "df.measurement_5 = most_imputer.fit_transform(df[['measurement_5']])\n",
        "df.measurement_6 = most_imputer.fit_transform(df[['measurement_6']])\n",
        "df.measurement_7 = most_imputer.fit_transform(df[['measurement_7']])\n",
        "df.measurement_8 = most_imputer.fit_transform(df[['measurement_8']])\n",
        "df.measurement_9 = most_imputer.fit_transform(df[['measurement_9']])\n",
        "df.measurement_10 = most_imputer.fit_transform(df[['measurement_10']])\n",
        "df.measurement_11 = most_imputer.fit_transform(df[['measurement_11']])\n",
        "df.measurement_12 = most_imputer.fit_transform(df[['measurement_12']])\n",
        "df.measurement_13 = most_imputer.fit_transform(df[['measurement_13']])\n",
        "df.measurement_14 = most_imputer.fit_transform(df[['measurement_14']])\n",
        "df.measurement_15 = most_imputer.fit_transform(df[['measurement_15']])\n",
        "df.measurement_16 = most_imputer.fit_transform(df[['measurement_16']])\n",
        "df.measurement_17 = most_imputer.fit_transform(df[['measurement_17']])"
      ]
    },
    {
      "cell_type": "code",
      "execution_count": null,
      "metadata": {
        "id": "hpQKRg_0I7os"
      },
      "outputs": [],
      "source": [
        "# df.loading = most_imputer.fit_transform(df[['loading']])\n",
        "# df.measurement_3 = most_imputer.fit_transform(df[['measurement_3']])\n",
        "# df.measurement_4 = most_imputer.fit_transform(df[['measurement_4']])\n",
        "# df.measurement_5 = most_imputer.fit_transform(df[['measurement_5']])\n",
        "# df.measurement_6 = most_imputer.fit_transform(df[['measurement_6']])\n",
        "# df.measurement_7 = most_imputer.fit_transform(df[['measurement_7']])\n",
        "# df.measurement_8 = most_imputer.fit_transform(df[['measurement_8']])\n",
        "# df.measurement_9 = most_imputer.fit_transform(df[['measurement_9']])\n",
        "# df.measurement_10 = most_imputer.fit_transform(df[['measurement_10']])\n",
        "# df.measurement_11 = most_imputer.fit_transform(df[['measurement_11']])\n",
        "# df.measurement_12 = most_imputer.fit_transform(df[['measurement_12']])\n",
        "# df.measurement_13 = most_imputer.fit_transform(df[['measurement_13']])\n",
        "# df.measurement_14 = most_imputer.fit_transform(df[['measurement_14']])\n",
        "# df.measurement_15 = most_imputer.fit_transform(df[['measurement_15']])\n",
        "# df.measurement_16 = most_imputer.fit_transform(df[['measurement_16']])\n",
        "# df.measurement_17 = most_imputer.fit_transform(df[['measurement_17']])"
      ]
    },
    {
      "cell_type": "markdown",
      "metadata": {
        "id": "AoN9cuzQvPw3"
      },
      "source": [
        "VERIFICANDO SE TODAS AS FEATURES COM DADOS NANs FORAM PREENCHIDAS COM A MEDIANA"
      ]
    },
    {
      "cell_type": "code",
      "execution_count": null,
      "metadata": {
        "colab": {
          "base_uri": "https://localhost:8080/"
        },
        "id": "-vZdcwewuGVD",
        "outputId": "53934c41-3b96-4d18-a2c7-c0d0b6652aab"
      },
      "outputs": [
        {
          "output_type": "execute_result",
          "data": {
            "text/plain": [
              "id                0\n",
              "product_code      0\n",
              "loading           0\n",
              "attribute_0       0\n",
              "attribute_1       0\n",
              "attribute_2       0\n",
              "attribute_3       0\n",
              "measurement_0     0\n",
              "measurement_1     0\n",
              "measurement_2     0\n",
              "measurement_3     0\n",
              "measurement_4     0\n",
              "measurement_5     0\n",
              "measurement_6     0\n",
              "measurement_7     0\n",
              "measurement_8     0\n",
              "measurement_9     0\n",
              "measurement_10    0\n",
              "measurement_11    0\n",
              "measurement_12    0\n",
              "measurement_13    0\n",
              "measurement_14    0\n",
              "measurement_15    0\n",
              "measurement_16    0\n",
              "measurement_17    0\n",
              "failure           0\n",
              "dtype: int64"
            ]
          },
          "metadata": {},
          "execution_count": 24
        }
      ],
      "source": [
        "df.isnull().sum()"
      ]
    },
    {
      "cell_type": "markdown",
      "metadata": {
        "id": "pT1iAhPC6kp_"
      },
      "source": [
        "AVALIANDO OS PRODUTOS"
      ]
    },
    {
      "cell_type": "markdown",
      "metadata": {
        "id": "GAvChXrb6o6i"
      },
      "source": [
        "QTDE DE VALORES POR PRODUTOS"
      ]
    },
    {
      "cell_type": "code",
      "execution_count": null,
      "metadata": {
        "colab": {
          "base_uri": "https://localhost:8080/"
        },
        "id": "5VDw0MQS6aSA",
        "outputId": "d10d1c20-b058-47d5-d2c5-b65e2f6b2d8d"
      },
      "outputs": [
        {
          "output_type": "execute_result",
          "data": {
            "text/plain": [
              "A    5100\n",
              "B    2760\n",
              "C    1220\n",
              "D    1112\n",
              "E    1106\n",
              "Name: product_code, dtype: int64"
            ]
          },
          "metadata": {},
          "execution_count": 25
        }
      ],
      "source": [
        "df['product_code'].value_counts()"
      ]
    },
    {
      "cell_type": "markdown",
      "metadata": {
        "id": "bzOhgNuG6tYz"
      },
      "source": [
        "QTDE DE VALORES ÚNICOS"
      ]
    },
    {
      "cell_type": "code",
      "execution_count": null,
      "metadata": {
        "colab": {
          "base_uri": "https://localhost:8080/"
        },
        "id": "rpEXgNJj6RUv",
        "outputId": "1474febf-e6e1-4f56-cb56-0925d98b8e8b"
      },
      "outputs": [
        {
          "output_type": "execute_result",
          "data": {
            "text/plain": [
              "array(['A', 'B', 'C', 'D', 'E'], dtype=object)"
            ]
          },
          "metadata": {},
          "execution_count": 26
        }
      ],
      "source": [
        "df['product_code'].unique()"
      ]
    },
    {
      "cell_type": "markdown",
      "metadata": {
        "id": "F-k2kCntvYYI"
      },
      "source": [
        "VERIFICANDO A PRESENÇA DE OUTLIERS"
      ]
    },
    {
      "cell_type": "code",
      "source": [
        "df.columns"
      ],
      "metadata": {
        "colab": {
          "base_uri": "https://localhost:8080/"
        },
        "id": "wFAl1avQkMP0",
        "outputId": "6a65bb60-20a8-4859-f4a6-19c0a8cb9848"
      },
      "execution_count": null,
      "outputs": [
        {
          "output_type": "execute_result",
          "data": {
            "text/plain": [
              "Index(['id', 'product_code', 'loading', 'attribute_0', 'attribute_1',\n",
              "       'attribute_2', 'attribute_3', 'measurement_0', 'measurement_1',\n",
              "       'measurement_2', 'measurement_3', 'measurement_4', 'measurement_5',\n",
              "       'measurement_6', 'measurement_7', 'measurement_8', 'measurement_9',\n",
              "       'measurement_10', 'measurement_11', 'measurement_12', 'measurement_13',\n",
              "       'measurement_14', 'measurement_15', 'measurement_16', 'measurement_17',\n",
              "       'failure'],\n",
              "      dtype='object')"
            ]
          },
          "metadata": {},
          "execution_count": 27
        }
      ]
    },
    {
      "cell_type": "code",
      "execution_count": null,
      "metadata": {
        "colab": {
          "base_uri": "https://localhost:8080/",
          "height": 586
        },
        "id": "P4HiCAsxvf_r",
        "outputId": "7b3590ca-7bbc-4532-c3f7-37b6e0acfa72"
      },
      "outputs": [
        {
          "output_type": "stream",
          "name": "stderr",
          "text": [
            "/usr/local/lib/python3.7/dist-packages/seaborn/_decorators.py:43: FutureWarning: Pass the following variable as a keyword arg: x. From version 0.12, the only valid positional argument will be `data`, and passing other arguments without an explicit keyword will result in an error or misinterpretation.\n",
            "  FutureWarning\n"
          ]
        },
        {
          "output_type": "display_data",
          "data": {
            "text/plain": [
              "<Figure size 1840x640 with 1 Axes>"
            ],
            "image/png": "[encoded data removed]"
          },
          "metadata": {
            "needs_background": "light"
          }
        }
      ],
      "source": [
        "plt.figure(figsize=(23, 8), dpi=80)\n",
        "sns.boxplot(df['measurement_17'])\n",
        "plt.show();"
      ]
    },
    {
      "cell_type": "code",
      "source": [
        "# Position of the Outlier\n",
        "print(np.where((df['measurement_0']))) #& (df['measurement_1']>600)))\n"
      ],
      "metadata": {
        "colab": {
          "base_uri": "https://localhost:8080/"
        },
        "id": "gluqbxzE_Okc",
        "outputId": "109cbdb3-2c1e-40b2-cd5c-6a0e227309d9"
      },
      "execution_count": null,
      "outputs": [
        {
          "output_type": "stream",
          "name": "stdout",
          "text": [
            "(array([    0,     1,     2, ..., 11295, 11296, 11297]),)\n"
          ]
        }
      ]
    },
    {
      "cell_type": "code",
      "source": [
        "# # Scatter plot\n",
        "# fig, ax = plt.subplots(figsize = (18,10))\n",
        "# ax.scatter(df['measurement_3'], df['measurement_5'])\n",
        "\n",
        "# # x-axis label\n",
        "# ax.set_xlabel('(PROPORCAO')\n",
        "\n",
        "# # y-axis label\n",
        "# ax.set_ylabel('TAXA')\n",
        "# plt.show()\n"
      ],
      "metadata": {
        "id": "CbZAdEHR-kWF"
      },
      "execution_count": null,
      "outputs": []
    },
    {
      "cell_type": "code",
      "source": [
        "#loading\n",
        "#measurement_0\n",
        "#measurement_1\n",
        "#measurement_2\n",
        "\n",
        "#TALVEZ: measurement_4 measurement_8 measurement_13"
      ],
      "metadata": {
        "id": "yT9UM6v-kQMt"
      },
      "execution_count": null,
      "outputs": []
    },
    {
      "cell_type": "code",
      "source": [
        "df = df.drop(columns='measurement_0')\n",
        "df = df.drop(columns='measurement_1')\n",
        "df = df.drop(columns='measurement_2')\n",
        "\n",
        "\n",
        "# df = df.drop(columns='measurement_4')\n",
        "# df = df.drop(columns='measurement_5')\n",
        "# df = df.drop(columns='measurement_6')\n",
        "# df = df.drop(columns='measurement_8')\n",
        "# df = df.drop(columns='measurement_9')\n",
        "# df = df.drop(columns='measurement_10')\n",
        "# df = df.drop(columns='measurement_12')\n",
        "# df = df.drop(columns='measurement_13')\n",
        "# df = df.drop(columns='measurement_14')\n",
        "# df = df.drop(columns='measurement_15')\n",
        "# df = df.drop(columns='measurement_16')\n",
        "# df = df.drop(columns='measurement_17')"
      ],
      "metadata": {
        "id": "82CfM07blanI"
      },
      "execution_count": null,
      "outputs": []
    },
    {
      "cell_type": "code",
      "source": [
        "df = df.drop(columns='measurement_3')\n",
        "df = df.drop(columns='measurement_7')\n",
        "df = df.drop(columns='measurement_11')"
      ],
      "metadata": {
        "id": "qlJygLHGq6je"
      },
      "execution_count": null,
      "outputs": []
    },
    {
      "cell_type": "code",
      "source": [
        "df.columns"
      ],
      "metadata": {
        "colab": {
          "base_uri": "https://localhost:8080/"
        },
        "id": "2xQc5cbylnPQ",
        "outputId": "ec1b5a37-7a11-4aff-8238-ad5d4f9d1bf4"
      },
      "execution_count": null,
      "outputs": [
        {
          "output_type": "execute_result",
          "data": {
            "text/plain": [
              "Index(['id', 'product_code', 'loading', 'attribute_0', 'attribute_1',\n",
              "       'attribute_2', 'attribute_3', 'measurement_4', 'measurement_5',\n",
              "       'measurement_6', 'measurement_8', 'measurement_9', 'measurement_10',\n",
              "       'measurement_12', 'measurement_13', 'measurement_14', 'measurement_15',\n",
              "       'measurement_16', 'measurement_17', 'failure'],\n",
              "      dtype='object')"
            ]
          },
          "metadata": {},
          "execution_count": 34
        }
      ]
    },
    {
      "cell_type": "code",
      "source": [
        "# plt.figure(figsize=(23, 8), dpi=80)\n",
        "# sns.boxplot(df['measurement_17'])\n",
        "# plt.show();"
      ],
      "metadata": {
        "id": "9e31TicPqJ92"
      },
      "execution_count": null,
      "outputs": []
    },
    {
      "cell_type": "markdown",
      "metadata": {
        "id": "Mv2GwslIxwl1"
      },
      "source": [
        "MÉTODO DO DESVIO PADRÃO"
      ]
    },
    {
      "cell_type": "code",
      "execution_count": null,
      "metadata": {
        "colab": {
          "base_uri": "https://localhost:8080/"
        },
        "id": "Evttlbsryuvb",
        "outputId": "e926e631-e9d5-4f8e-b5b5-e0cdd3e583ab"
      },
      "outputs": [
        {
          "output_type": "stream",
          "name": "stdout",
          "text": [
            "<class 'pandas.core.frame.DataFrame'>\n",
            "RangeIndex: 11298 entries, 0 to 11297\n",
            "Data columns (total 20 columns):\n",
            " #   Column          Non-Null Count  Dtype  \n",
            "---  ------          --------------  -----  \n",
            " 0   id              11298 non-null  int64  \n",
            " 1   product_code    11298 non-null  object \n",
            " 2   loading         11298 non-null  float64\n",
            " 3   attribute_0     11298 non-null  object \n",
            " 4   attribute_1     11298 non-null  object \n",
            " 5   attribute_2     11298 non-null  int64  \n",
            " 6   attribute_3     11298 non-null  int64  \n",
            " 7   measurement_4   11298 non-null  float64\n",
            " 8   measurement_5   11298 non-null  float64\n",
            " 9   measurement_6   11298 non-null  float64\n",
            " 10  measurement_8   11298 non-null  float64\n",
            " 11  measurement_9   11298 non-null  float64\n",
            " 12  measurement_10  11298 non-null  float64\n",
            " 13  measurement_12  11298 non-null  float64\n",
            " 14  measurement_13  11298 non-null  float64\n",
            " 15  measurement_14  11298 non-null  float64\n",
            " 16  measurement_15  11298 non-null  float64\n",
            " 17  measurement_16  11298 non-null  float64\n",
            " 18  measurement_17  11298 non-null  float64\n",
            " 19  failure         11298 non-null  int64  \n",
            "dtypes: float64(13), int64(4), object(3)\n",
            "memory usage: 1.7+ MB\n"
          ]
        }
      ],
      "source": [
        "df.info()"
      ]
    },
    {
      "cell_type": "code",
      "execution_count": null,
      "metadata": {
        "colab": {
          "base_uri": "https://localhost:8080/",
          "height": 1000
        },
        "id": "4_r1evFf3b3Q",
        "outputId": "3fed49a7-7153-4a60-e1a3-12701fcf7f41"
      },
      "outputs": [
        {
          "output_type": "execute_result",
          "data": {
            "text/plain": [
              "<matplotlib.axes._subplots.AxesSubplot at 0x7fb923139090>"
            ]
          },
          "metadata": {},
          "execution_count": 37
        },
        {
          "output_type": "display_data",
          "data": {
            "text/plain": [
              "<Figure size 2160x2160 with 2 Axes>"
            ],
            "image/png": "[encoded data removed]"
          },
          "metadata": {
            "needs_background": "light"
          }
        }
      ],
      "source": [
        "plt.figure(figsize=(27, 27), dpi=80)\n",
        "sns.heatmap(df.corr(), annot=True, vmin=-1, vmax=1)"
      ]
    },
    {
      "cell_type": "markdown",
      "source": [
        "## PREPARAÇÃO PARA O MODELO DE MACHINE LEARNING"
      ],
      "metadata": {
        "id": "G_ijDcXqiJ0o"
      }
    },
    {
      "cell_type": "markdown",
      "source": [
        "DROPANDO A COLUNA 'ID'"
      ],
      "metadata": {
        "id": "t9XRcVXUHKW_"
      }
    },
    {
      "cell_type": "code",
      "source": [
        "# df = df.drop(columns='id')"
      ],
      "metadata": {
        "id": "przx-EXijZDu"
      },
      "execution_count": null,
      "outputs": []
    },
    {
      "cell_type": "code",
      "source": [
        "df = df.drop(columns='product_code')\n",
        "df = df.drop(columns='attribute_0')\n",
        "df = df.drop(columns='attribute_1')"
      ],
      "metadata": {
        "id": "O6V6unQCpqsF"
      },
      "execution_count": null,
      "outputs": []
    },
    {
      "cell_type": "markdown",
      "source": [
        "TRANSFORMANDO VALORES STRINGS DA COLUINA ['PRODUCT_CODE'] EM VALORES NUMÉRICOS"
      ],
      "metadata": {
        "id": "KbRHzh-wofMf"
      }
    },
    {
      "cell_type": "code",
      "source": [
        "# df['product_code'].value_counts()"
      ],
      "metadata": {
        "id": "-s0amN67o0Qd"
      },
      "execution_count": null,
      "outputs": []
    },
    {
      "cell_type": "code",
      "source": [
        "df = df.replace(to_replace = 'A', value = 0)\n",
        "df = df.replace(to_replace = 'B', value = 1)\n",
        "df = df.replace(to_replace = 'C', value = 2)\n",
        "df = df.replace(to_replace = 'D', value = 3)\n",
        "df = df.replace(to_replace = 'E', value = 4)\n"
      ],
      "metadata": {
        "id": "qwxrPKD0mAGn"
      },
      "execution_count": null,
      "outputs": []
    },
    {
      "cell_type": "markdown",
      "source": [
        "TRANSFORMANDO VALORES STRINGS DA COLUINA ['attribute_0'] EM VALORES NUMÉRICOS"
      ],
      "metadata": {
        "id": "uuA10xovotDx"
      }
    },
    {
      "cell_type": "code",
      "source": [
        "# df['attribute_0'].value_counts()"
      ],
      "metadata": {
        "id": "PxlT8hZElaAH"
      },
      "execution_count": null,
      "outputs": []
    },
    {
      "cell_type": "code",
      "source": [
        "df = df.replace(to_replace = 'material_5', value = 5)\n",
        "df = df.replace(to_replace = 'material_7', value = 7)"
      ],
      "metadata": {
        "id": "7qsLFxcroG6y"
      },
      "execution_count": null,
      "outputs": []
    },
    {
      "cell_type": "markdown",
      "source": [
        "TRANSFORMANDO VALORES STRINGS DA COLUINA ['attribute_1'] EM VALORES NUMÉRICOS"
      ],
      "metadata": {
        "id": "fL_hS65zpIYZ"
      }
    },
    {
      "cell_type": "code",
      "source": [
        "# :df['attribute_1'].value_counts()"
      ],
      "metadata": {
        "id": "-_1QvrfSpPWS"
      },
      "execution_count": null,
      "outputs": []
    },
    {
      "cell_type": "code",
      "source": [
        "df = df.replace(to_replace = 'material_6', value = 6)\n",
        "df = df.replace(to_replace = 'material_8', value = 8)"
      ],
      "metadata": {
        "id": "zaPzqo7TpLX8"
      },
      "execution_count": null,
      "outputs": []
    },
    {
      "cell_type": "code",
      "source": [
        "# df.head()"
      ],
      "metadata": {
        "id": "qSMSTopXnPGo"
      },
      "execution_count": null,
      "outputs": []
    },
    {
      "cell_type": "markdown",
      "source": [
        "##TESTES"
      ],
      "metadata": {
        "id": "M65bCbaZIHNw"
      }
    },
    {
      "cell_type": "markdown",
      "source": [
        "SELECT TYPES"
      ],
      "metadata": {
        "id": "7XKsevV5Ilfl"
      }
    },
    {
      "cell_type": "code",
      "source": [
        "df.select_dtypes(include=np.number).columns[:-1]"
      ],
      "metadata": {
        "colab": {
          "base_uri": "https://localhost:8080/"
        },
        "id": "wWKFjx5bIYaT",
        "outputId": "c7ae96bb-4395-4745-e2eb-246aa0fda629"
      },
      "execution_count": null,
      "outputs": [
        {
          "output_type": "execute_result",
          "data": {
            "text/plain": [
              "Index(['id', 'loading', 'attribute_2', 'attribute_3', 'measurement_4',\n",
              "       'measurement_5', 'measurement_6', 'measurement_8', 'measurement_9',\n",
              "       'measurement_10', 'measurement_12', 'measurement_13', 'measurement_14',\n",
              "       'measurement_15', 'measurement_16', 'measurement_17'],\n",
              "      dtype='object')"
            ]
          },
          "metadata": {},
          "execution_count": 47
        }
      ]
    },
    {
      "cell_type": "code",
      "source": [
        "for col in df.select_dtypes(include=np.number).columns[:-1]:\n",
        "    \n",
        "    sns.histplot(data=df, x=col)\n",
        "    \n",
        "    plt.show()"
      ],
      "metadata": {
        "colab": {
          "base_uri": "https://localhost:8080/"
        },
        "id": "QnxVupr5IK1R",
        "outputId": "51ee04d6-9e01-433a-dc7f-6b97917a0bbd"
      },
      "execution_count": null,
      "outputs": [
        {
          "output_type": "display_data",
          "data": {
            "text/plain": [
              "<Figure size 432x288 with 1 Axes>"
            ],
            "image/png": "[encoded data removed]"
          },
          "metadata": {
            "needs_background": "light"
          }
        },
        {
          "output_type": "display_data",
          "data": {
            "text/plain": [
              "<Figure size 432x288 with 1 Axes>"
            ],
            "image/png": "[encoded data removed]"
          },
          "metadata": {
            "needs_background": "light"
          }
        },
        {
          "output_type": "display_data",
          "data": {
            "text/plain": [
              "<Figure size 432x288 with 1 Axes>"
            ],
            "image/png": "[encoded data removed]"
          },
          "metadata": {
            "needs_background": "light"
          }
        },
        {
          "output_type": "display_data",
          "data": {
            "text/plain": [
              "<Figure size 432x288 with 1 Axes>"
            ],
            "image/png": "[encoded data removed]"
          },
          "metadata": {
            "needs_background": "light"
          }
        },
        {
          "output_type": "display_data",
          "data": {
            "text/plain": [
              "<Figure size 432x288 with 1 Axes>"
            ],
            "image/png": "[encoded data removed]"
          },
          "metadata": {
            "needs_background": "light"
          }
        },
        {
          "output_type": "display_data",
          "data": {
            "text/plain": [
              "<Figure size 432x288 with 1 Axes>"
            ],
            "image/png": "[encoded data removed]"
          },
          "metadata": {
            "needs_background": "light"
          }
        },
        {
          "output_type": "display_data",
          "data": {
            "text/plain": [
              "<Figure size 432x288 with 1 Axes>"
            ],
            "image/png": "[encoded data removed]"
          },
          "metadata": {
            "needs_background": "light"
          }
        },
        {
          "output_type": "display_data",
          "data": {
            "text/plain": [
              "<Figure size 432x288 with 1 Axes>"
            ],
            "image/png": "[encoded data removed]"
          },
          "metadata": {
            "needs_background": "light"
          }
        },
        {
          "output_type": "display_data",
          "data": {
            "text/plain": [
              "<Figure size 432x288 with 1 Axes>"
            ],
            "image/png": "[encoded data removed]"
          },
          "metadata": {
            "needs_background": "light"
          }
        },
        {
          "output_type": "display_data",
          "data": {
            "text/plain": [
              "<Figure size 432x288 with 1 Axes>"
            ],
            "image/png": "[encoded data removed]"
          },
          "metadata": {
            "needs_background": "light"
          }
        },
        {
          "output_type": "display_data",
          "data": {
            "text/plain": [
              "<Figure size 432x288 with 1 Axes>"
            ],
            "image/png": "[encoded data removed]"
          },
          "metadata": {
            "needs_background": "light"
          }
        },
        {
          "output_type": "display_data",
          "data": {
            "text/plain": [
              "<Figure size 432x288 with 1 Axes>"
            ],
            "image/png": "[encoded data removed]"
          },
          "metadata": {
            "needs_background": "light"
          }
        },
        {
          "output_type": "display_data",
          "data": {
            "text/plain": [
              "<Figure size 432x288 with 1 Axes>"
            ],
            "image/png": "[encoded data removed]"
          },
          "metadata": {
            "needs_background": "light"
          }
        },
        {
          "output_type": "display_data",
          "data": {
            "text/plain": [
              "<Figure size 432x288 with 1 Axes>"
            ],
            "image/png": "[encoded data removed]"
          },
          "metadata": {
            "needs_background": "light"
          }
        },
        {
          "output_type": "display_data",
          "data": {
            "text/plain": [
              "<Figure size 432x288 with 1 Axes>"
            ],
            "image/png": "[encoded data removed]"
          },
          "metadata": {
            "needs_background": "light"
          }
        },
        {
          "output_type": "display_data",
          "data": {
            "text/plain": [
              "<Figure size 432x288 with 1 Axes>"
            ],
            "image/png": "[encoded data removed]"
          },
          "metadata": {
            "needs_background": "light"
          }
        }
      ]
    },
    {
      "cell_type": "markdown",
      "source": [
        "FAILURE"
      ],
      "metadata": {
        "id": "aVSqWKppIe4E"
      }
    },
    {
      "cell_type": "code",
      "source": [
        "df[\"failure\"].value_counts()"
      ],
      "metadata": {
        "colab": {
          "base_uri": "https://localhost:8080/"
        },
        "id": "o80SFbRCI03X",
        "outputId": "c9dd096b-d47d-4e73-9019-a97158f6f627"
      },
      "execution_count": null,
      "outputs": [
        {
          "output_type": "execute_result",
          "data": {
            "text/plain": [
              "0    5649\n",
              "1    5649\n",
              "Name: failure, dtype: int64"
            ]
          },
          "metadata": {},
          "execution_count": 49
        }
      ]
    },
    {
      "cell_type": "code",
      "source": [
        "df[\"failure\"].value_counts(normalize=True)"
      ],
      "metadata": {
        "colab": {
          "base_uri": "https://localhost:8080/"
        },
        "id": "C_MDtGroJER8",
        "outputId": "60f2e883-b2cb-4963-be9a-7f692d15e19f"
      },
      "execution_count": null,
      "outputs": [
        {
          "output_type": "execute_result",
          "data": {
            "text/plain": [
              "0    0.5\n",
              "1    0.5\n",
              "Name: failure, dtype: float64"
            ]
          },
          "metadata": {},
          "execution_count": 50
        }
      ]
    },
    {
      "cell_type": "code",
      "source": [
        "for col in df.select_dtypes(include=np.number).columns[:-1]:\n",
        "    \n",
        "    sns.histplot(data=df, x=col, hue=\"failure\")\n",
        "    \n",
        "    plt.show()"
      ],
      "metadata": {
        "colab": {
          "base_uri": "https://localhost:8080/"
        },
        "id": "ZuasFi39IS06",
        "outputId": "cbe60f0e-2220-4916-a149-8b50666ce3e8"
      },
      "execution_count": null,
      "outputs": [
        {
          "output_type": "display_data",
          "data": {
            "text/plain": [
              "<Figure size 432x288 with 1 Axes>"
            ],
            "image/png": "[encoded data removed]"
          },
          "metadata": {
            "needs_background": "light"
          }
        },
        {
          "output_type": "display_data",
          "data": {
            "text/plain": [
              "<Figure size 432x288 with 1 Axes>"
            ],
            "image/png": "[encoded data removed]"
          },
          "metadata": {
            "needs_background": "light"
          }
        },
        {
          "output_type": "display_data",
          "data": {
            "text/plain": [
              "<Figure size 432x288 with 1 Axes>"
            ],
            "image/png": "[encoded data removed]"
          },
          "metadata": {
            "needs_background": "light"
          }
        },
        {
          "output_type": "display_data",
          "data": {
            "text/plain": [
              "<Figure size 432x288 with 1 Axes>"
            ],
            "image/png": "[encoded data removed]"
          },
          "metadata": {
            "needs_background": "light"
          }
        },
        {
          "output_type": "display_data",
          "data": {
            "text/plain": [
              "<Figure size 432x288 with 1 Axes>"
            ],
            "image/png": "[encoded data removed]"
          },
          "metadata": {
            "needs_background": "light"
          }
        },
        {
          "output_type": "display_data",
          "data": {
            "text/plain": [
              "<Figure size 432x288 with 1 Axes>"
            ],
            "image/png": "[encoded data removed]"
          },
          "metadata": {
            "needs_background": "light"
          }
        },
        {
          "output_type": "display_data",
          "data": {
            "text/plain": [
              "<Figure size 432x288 with 1 Axes>"
            ],
            "image/png": "[encoded data removed]"
          },
          "metadata": {
            "needs_background": "light"
          }
        },
        {
          "output_type": "display_data",
          "data": {
            "text/plain": [
              "<Figure size 432x288 with 1 Axes>"
            ],
            "image/png": "[encoded data removed]"
          },
          "metadata": {
            "needs_background": "light"
          }
        },
        {
          "output_type": "display_data",
          "data": {
            "text/plain": [
              "<Figure size 432x288 with 1 Axes>"
            ],
            "image/png": "[encoded data removed]"
          },
          "metadata": {
            "needs_background": "light"
          }
        },
        {
          "output_type": "display_data",
          "data": {
            "text/plain": [
              "<Figure size 432x288 with 1 Axes>"
            ],
            "image/png": "[encoded data removed]"
          },
          "metadata": {
            "needs_background": "light"
          }
        },
        {
          "output_type": "display_data",
          "data": {
            "text/plain": [
              "<Figure size 432x288 with 1 Axes>"
            ],
            "image/png": "[encoded data removed]"
          },
          "metadata": {
            "needs_background": "light"
          }
        },
        {
          "output_type": "display_data",
          "data": {
            "text/plain": [
              "<Figure size 432x288 with 1 Axes>"
            ],
            "image/png": "[encoded data removed]"
          },
          "metadata": {
            "needs_background": "light"
          }
        },
        {
          "output_type": "display_data",
          "data": {
            "text/plain": [
              "<Figure size 432x288 with 1 Axes>"
            ],
            "image/png": "[encoded data removed]"
          },
          "metadata": {
            "needs_background": "light"
          }
        },
        {
          "output_type": "display_data",
          "data": {
            "text/plain": [
              "<Figure size 432x288 with 1 Axes>"
            ],
            "image/png": "[encoded data removed]"
          },
          "metadata": {
            "needs_background": "light"
          }
        },
        {
          "output_type": "display_data",
          "data": {
            "text/plain": [
              "<Figure size 432x288 with 1 Axes>"
            ],
            "image/png": "[encoded data removed]"
          },
          "metadata": {
            "needs_background": "light"
          }
        },
        {
          "output_type": "display_data",
          "data": {
            "text/plain": [
              "<Figure size 432x288 with 1 Axes>"
            ],
            "image/png": "[encoded data removed]"
          },
          "metadata": {
            "needs_background": "light"
          }
        }
      ]
    },
    {
      "cell_type": "markdown",
      "source": [
        "##CONSTRUINDO O MODELO"
      ],
      "metadata": {
        "id": "CA0BKBjJJfiS"
      }
    },
    {
      "cell_type": "code",
      "source": [
        "df_model = df.select_dtypes(include=np.number)"
      ],
      "metadata": {
        "id": "LnTvEMVAJjkw"
      },
      "execution_count": null,
      "outputs": []
    },
    {
      "cell_type": "code",
      "source": [
        "df_model.isnull().sum()"
      ],
      "metadata": {
        "colab": {
          "base_uri": "https://localhost:8080/"
        },
        "id": "My1j6EE4JnCU",
        "outputId": "c53491e2-5ab1-4c3f-abf6-6f622d187ef1"
      },
      "execution_count": null,
      "outputs": [
        {
          "output_type": "execute_result",
          "data": {
            "text/plain": [
              "id                0\n",
              "loading           0\n",
              "attribute_2       0\n",
              "attribute_3       0\n",
              "measurement_4     0\n",
              "measurement_5     0\n",
              "measurement_6     0\n",
              "measurement_8     0\n",
              "measurement_9     0\n",
              "measurement_10    0\n",
              "measurement_12    0\n",
              "measurement_13    0\n",
              "measurement_14    0\n",
              "measurement_15    0\n",
              "measurement_16    0\n",
              "measurement_17    0\n",
              "failure           0\n",
              "dtype: int64"
            ]
          },
          "metadata": {},
          "execution_count": 53
        }
      ]
    },
    {
      "cell_type": "code",
      "source": [
        "df_model"
      ],
      "metadata": {
        "colab": {
          "base_uri": "https://localhost:8080/",
          "height": 488
        },
        "id": "qfzHVhVBJnF7",
        "outputId": "4f206e04-ff11-4e36-9d20-5b37a85e4ed9"
      },
      "execution_count": null,
      "outputs": [
        {
          "output_type": "execute_result",
          "data": {
            "text/plain": [
              "          id  loading  attribute_2  attribute_3  measurement_4  measurement_5  \\\n",
              "0          0    80.10            9            5       12518.00       15748.00   \n",
              "1          1    84.89            9            5          11.54       17717.00   \n",
              "2          2    82.43            9            5       11652.00       16738.00   \n",
              "3          3   101.07            9            5       11188.00       18576.00   \n",
              "4          4   188.06            9            5          12.95          16.99   \n",
              "...      ...      ...          ...          ...            ...            ...   \n",
              "11293  26545   100.26            6            9       10381.00       17773.00   \n",
              "11294  26546   103.60            6            9       12629.00          16.46   \n",
              "11295  26553   121.42            6            9       10698.00       17157.00   \n",
              "11296  26554   159.43            6            9          12.33       17263.00   \n",
              "11297  26559   120.73            6            9       12548.00       18185.00   \n",
              "\n",
              "       measurement_6  measurement_8  measurement_9  measurement_10  \\\n",
              "0           19292.00       20155.00        10672.0         15859.0   \n",
              "1           17893.00       17889.00        12448.0         17947.0   \n",
              "2              18.24       18288.00        12715.0         15607.0   \n",
              "3           18339.00          19.06        12471.0         16346.0   \n",
              "4           15746.00       18093.00        10337.0         17082.0   \n",
              "...              ...            ...            ...             ...   \n",
              "11293       18459.00       18889.00        10476.0         14399.0   \n",
              "11294       17414.00       19199.00        12265.0         14193.0   \n",
              "11295       19184.00       19405.00        11199.0         14626.0   \n",
              "11296       17379.00       18075.00        10795.0            17.6   \n",
              "11297       17379.00       19301.00        12751.0         15964.0   \n",
              "\n",
              "       measurement_12  measurement_13  measurement_14  measurement_15  \\\n",
              "0            15193.00        15029.00        15833.00         13034.0   \n",
              "1            11755.00        14732.00        15425.00         14395.0   \n",
              "2            13798.00        16711.00        18631.00         14094.0   \n",
              "3               10.02           15.25        15562.00         16154.0   \n",
              "4            12428.00        16182.00           12.76         13153.0   \n",
              "...               ...             ...             ...             ...   \n",
              "11293        12666.00        15482.00        14601.00         14995.0   \n",
              "11294           12.31           16.16           15.49         14522.0   \n",
              "11295        10795.00        14981.00           13.14         14845.0   \n",
              "11296           12.35        14607.00        15494.00         15472.0   \n",
              "11297        10699.00        15836.00        16181.00         15864.0   \n",
              "\n",
              "       measurement_16  measurement_17  failure  \n",
              "0            14684.00          764.10        0  \n",
              "1            15631.00       682057.00        0  \n",
              "2            17946.00       663376.00        0  \n",
              "3            17172.00       826282.00        0  \n",
              "4            16412.00       579885.00        0  \n",
              "...               ...             ...      ...  \n",
              "11293           17.42       808354.00        1  \n",
              "11294        17863.00       731105.00        1  \n",
              "11295        15577.00          795.59        1  \n",
              "11296        14185.00       688343.00        1  \n",
              "11297        18522.00      1073039.00        1  \n",
              "\n",
              "[11298 rows x 17 columns]"
            ],
            "text/html": [
              "\n",
              "  <div id=\"df-6e9fd8de-1fbd-4051-9145-9180cb38c8df\">\n",
              "    <div class=\"colab-df-container\">\n",
              "      <div>\n",
              "<style scoped>\n",
              "    .dataframe tbody tr th:only-of-type {\n",
              "        vertical-align: middle;\n",
              "    }\n",
              "\n",
              "    .dataframe tbody tr th {\n",
              "        vertical-align: top;\n",
              "    }\n",
              "\n",
              "    .dataframe thead th {\n",
              "        text-align: right;\n",
              "    }\n",
              "</style>\n",
              "<table border=\"1\" class=\"dataframe\">\n",
              "  <thead>\n",
              "    <tr style=\"text-align: right;\">\n",
              "      <th></th>\n",
              "      <th>id</th>\n",
              "      <th>loading</th>\n",
              "      <th>attribute_2</th>\n",
              "      <th>attribute_3</th>\n",
              "      <th>measurement_4</th>\n",
              "      <th>measurement_5</th>\n",
              "      <th>measurement_6</th>\n",
              "      <th>measurement_8</th>\n",
              "      <th>measurement_9</th>\n",
              "      <th>measurement_10</th>\n",
              "      <th>measurement_12</th>\n",
              "      <th>measurement_13</th>\n",
              "      <th>measurement_14</th>\n",
              "      <th>measurement_15</th>\n",
              "      <th>measurement_16</th>\n",
              "      <th>measurement_17</th>\n",
              "      <th>failure</th>\n",
              "    </tr>\n",
              "  </thead>\n",
              "  <tbody>\n",
              "    <tr>\n",
              "      <th>0</th>\n",
              "      <td>0</td>\n",
              "      <td>80.10</td>\n",
              "      <td>9</td>\n",
              "      <td>5</td>\n",
              "      <td>12518.00</td>\n",
              "      <td>15748.00</td>\n",
              "      <td>19292.00</td>\n",
              "      <td>20155.00</td>\n",
              "      <td>10672.0</td>\n",
              "      <td>15859.0</td>\n",
              "      <td>15193.00</td>\n",
              "      <td>15029.00</td>\n",
              "      <td>15833.00</td>\n",
              "      <td>13034.0</td>\n",
              "      <td>14684.00</td>\n",
              "      <td>764.10</td>\n",
              "      <td>0</td>\n",
              "    </tr>\n",
              "    <tr>\n",
              "      <th>1</th>\n",
              "      <td>1</td>\n",
              "      <td>84.89</td>\n",
              "      <td>9</td>\n",
              "      <td>5</td>\n",
              "      <td>11.54</td>\n",
              "      <td>17717.00</td>\n",
              "      <td>17893.00</td>\n",
              "      <td>17889.00</td>\n",
              "      <td>12448.0</td>\n",
              "      <td>17947.0</td>\n",
              "      <td>11755.00</td>\n",
              "      <td>14732.00</td>\n",
              "      <td>15425.00</td>\n",
              "      <td>14395.0</td>\n",
              "      <td>15631.00</td>\n",
              "      <td>682057.00</td>\n",
              "      <td>0</td>\n",
              "    </tr>\n",
              "    <tr>\n",
              "      <th>2</th>\n",
              "      <td>2</td>\n",
              "      <td>82.43</td>\n",
              "      <td>9</td>\n",
              "      <td>5</td>\n",
              "      <td>11652.00</td>\n",
              "      <td>16738.00</td>\n",
              "      <td>18.24</td>\n",
              "      <td>18288.00</td>\n",
              "      <td>12715.0</td>\n",
              "      <td>15607.0</td>\n",
              "      <td>13798.00</td>\n",
              "      <td>16711.00</td>\n",
              "      <td>18631.00</td>\n",
              "      <td>14094.0</td>\n",
              "      <td>17946.00</td>\n",
              "      <td>663376.00</td>\n",
              "      <td>0</td>\n",
              "    </tr>\n",
              "    <tr>\n",
              "      <th>3</th>\n",
              "      <td>3</td>\n",
              "      <td>101.07</td>\n",
              "      <td>9</td>\n",
              "      <td>5</td>\n",
              "      <td>11188.00</td>\n",
              "      <td>18576.00</td>\n",
              "      <td>18339.00</td>\n",
              "      <td>19.06</td>\n",
              "      <td>12471.0</td>\n",
              "      <td>16346.0</td>\n",
              "      <td>10.02</td>\n",
              "      <td>15.25</td>\n",
              "      <td>15562.00</td>\n",
              "      <td>16154.0</td>\n",
              "      <td>17172.00</td>\n",
              "      <td>826282.00</td>\n",
              "      <td>0</td>\n",
              "    </tr>\n",
              "    <tr>\n",
              "      <th>4</th>\n",
              "      <td>4</td>\n",
              "      <td>188.06</td>\n",
              "      <td>9</td>\n",
              "      <td>5</td>\n",
              "      <td>12.95</td>\n",
              "      <td>16.99</td>\n",
              "      <td>15746.00</td>\n",
              "      <td>18093.00</td>\n",
              "      <td>10337.0</td>\n",
              "      <td>17082.0</td>\n",
              "      <td>12428.00</td>\n",
              "      <td>16182.00</td>\n",
              "      <td>12.76</td>\n",
              "      <td>13153.0</td>\n",
              "      <td>16412.00</td>\n",
              "      <td>579885.00</td>\n",
              "      <td>0</td>\n",
              "    </tr>\n",
              "    <tr>\n",
              "      <th>...</th>\n",
              "      <td>...</td>\n",
              "      <td>...</td>\n",
              "      <td>...</td>\n",
              "      <td>...</td>\n",
              "      <td>...</td>\n",
              "      <td>...</td>\n",
              "      <td>...</td>\n",
              "      <td>...</td>\n",
              "      <td>...</td>\n",
              "      <td>...</td>\n",
              "      <td>...</td>\n",
              "      <td>...</td>\n",
              "      <td>...</td>\n",
              "      <td>...</td>\n",
              "      <td>...</td>\n",
              "      <td>...</td>\n",
              "      <td>...</td>\n",
              "    </tr>\n",
              "    <tr>\n",
              "      <th>11293</th>\n",
              "      <td>26545</td>\n",
              "      <td>100.26</td>\n",
              "      <td>6</td>\n",
              "      <td>9</td>\n",
              "      <td>10381.00</td>\n",
              "      <td>17773.00</td>\n",
              "      <td>18459.00</td>\n",
              "      <td>18889.00</td>\n",
              "      <td>10476.0</td>\n",
              "      <td>14399.0</td>\n",
              "      <td>12666.00</td>\n",
              "      <td>15482.00</td>\n",
              "      <td>14601.00</td>\n",
              "      <td>14995.0</td>\n",
              "      <td>17.42</td>\n",
              "      <td>808354.00</td>\n",
              "      <td>1</td>\n",
              "    </tr>\n",
              "    <tr>\n",
              "      <th>11294</th>\n",
              "      <td>26546</td>\n",
              "      <td>103.60</td>\n",
              "      <td>6</td>\n",
              "      <td>9</td>\n",
              "      <td>12629.00</td>\n",
              "      <td>16.46</td>\n",
              "      <td>17414.00</td>\n",
              "      <td>19199.00</td>\n",
              "      <td>12265.0</td>\n",
              "      <td>14193.0</td>\n",
              "      <td>12.31</td>\n",
              "      <td>16.16</td>\n",
              "      <td>15.49</td>\n",
              "      <td>14522.0</td>\n",
              "      <td>17863.00</td>\n",
              "      <td>731105.00</td>\n",
              "      <td>1</td>\n",
              "    </tr>\n",
              "    <tr>\n",
              "      <th>11295</th>\n",
              "      <td>26553</td>\n",
              "      <td>121.42</td>\n",
              "      <td>6</td>\n",
              "      <td>9</td>\n",
              "      <td>10698.00</td>\n",
              "      <td>17157.00</td>\n",
              "      <td>19184.00</td>\n",
              "      <td>19405.00</td>\n",
              "      <td>11199.0</td>\n",
              "      <td>14626.0</td>\n",
              "      <td>10795.00</td>\n",
              "      <td>14981.00</td>\n",
              "      <td>13.14</td>\n",
              "      <td>14845.0</td>\n",
              "      <td>15577.00</td>\n",
              "      <td>795.59</td>\n",
              "      <td>1</td>\n",
              "    </tr>\n",
              "    <tr>\n",
              "      <th>11296</th>\n",
              "      <td>26554</td>\n",
              "      <td>159.43</td>\n",
              "      <td>6</td>\n",
              "      <td>9</td>\n",
              "      <td>12.33</td>\n",
              "      <td>17263.00</td>\n",
              "      <td>17379.00</td>\n",
              "      <td>18075.00</td>\n",
              "      <td>10795.0</td>\n",
              "      <td>17.6</td>\n",
              "      <td>12.35</td>\n",
              "      <td>14607.00</td>\n",
              "      <td>15494.00</td>\n",
              "      <td>15472.0</td>\n",
              "      <td>14185.00</td>\n",
              "      <td>688343.00</td>\n",
              "      <td>1</td>\n",
              "    </tr>\n",
              "    <tr>\n",
              "      <th>11297</th>\n",
              "      <td>26559</td>\n",
              "      <td>120.73</td>\n",
              "      <td>6</td>\n",
              "      <td>9</td>\n",
              "      <td>12548.00</td>\n",
              "      <td>18185.00</td>\n",
              "      <td>17379.00</td>\n",
              "      <td>19301.00</td>\n",
              "      <td>12751.0</td>\n",
              "      <td>15964.0</td>\n",
              "      <td>10699.00</td>\n",
              "      <td>15836.00</td>\n",
              "      <td>16181.00</td>\n",
              "      <td>15864.0</td>\n",
              "      <td>18522.00</td>\n",
              "      <td>1073039.00</td>\n",
              "      <td>1</td>\n",
              "    </tr>\n",
              "  </tbody>\n",
              "</table>\n",
              "<p>11298 rows × 17 columns</p>\n",
              "</div>\n",
              "      <button class=\"colab-df-convert\" onclick=\"convertToInteractive('df-6e9fd8de-1fbd-4051-9145-9180cb38c8df')\"\n",
              "              title=\"Convert this dataframe to an interactive table.\"\n",
              "              style=\"display:none;\">\n",
              "        \n",
              "  <svg xmlns=\"http://www.w3.org/2000/svg\" height=\"24px\"viewBox=\"0 0 24 24\"\n",
              "       width=\"24px\">\n",
              "    <path d=\"M0 0h24v24H0V0z\" fill=\"none\"/>\n",
              "    <path d=\"M18.56 5.44l.94 2.06.94-2.06 2.06-.94-2.06-.94-.94-2.06-.94 2.06-2.06.94zm-11 1L8.5 8.5l.94-2.06 2.06-.94-2.06-.94L8.5 2.5l-.94 2.06-2.06.94zm10 10l.94 2.06.94-2.06 2.06-.94-2.06-.94-.94-2.06-.94 2.06-2.06.94z\"/><path d=\"M17.41 7.96l-1.37-1.37c-.4-.4-.92-.59-1.43-.59-.52 0-1.04.2-1.43.59L10.3 9.45l-7.72 7.72c-.78.78-.78 2.05 0 2.83L4 21.41c.39.39.9.59 1.41.59.51 0 1.02-.2 1.41-.59l7.78-7.78 2.81-2.81c.8-.78.8-2.07 0-2.86zM5.41 20L4 18.59l7.72-7.72 1.47 1.35L5.41 20z\"/>\n",
              "  </svg>\n",
              "      </button>\n",
              "      \n",
              "  <style>\n",
              "    .colab-df-container {\n",
              "      display:flex;\n",
              "      flex-wrap:wrap;\n",
              "      gap: 12px;\n",
              "    }\n",
              "\n",
              "    .colab-df-convert {\n",
              "      background-color: #E8F0FE;\n",
              "      border: none;\n",
              "      border-radius: 50%;\n",
              "      cursor: pointer;\n",
              "      display: none;\n",
              "      fill: #1967D2;\n",
              "      height: 32px;\n",
              "      padding: 0 0 0 0;\n",
              "      width: 32px;\n",
              "    }\n",
              "\n",
              "    .colab-df-convert:hover {\n",
              "      background-color: #E2EBFA;\n",
              "      box-shadow: 0px 1px 2px rgba(60, 64, 67, 0.3), 0px 1px 3px 1px rgba(60, 64, 67, 0.15);\n",
              "      fill: #174EA6;\n",
              "    }\n",
              "\n",
              "    [theme=dark] .colab-df-convert {\n",
              "      background-color: #3B4455;\n",
              "      fill: #D2E3FC;\n",
              "    }\n",
              "\n",
              "    [theme=dark] .colab-df-convert:hover {\n",
              "      background-color: #434B5C;\n",
              "      box-shadow: 0px 1px 3px 1px rgba(0, 0, 0, 0.15);\n",
              "      filter: drop-shadow(0px 1px 2px rgba(0, 0, 0, 0.3));\n",
              "      fill: #FFFFFF;\n",
              "    }\n",
              "  </style>\n",
              "\n",
              "      <script>\n",
              "        const buttonEl =\n",
              "          document.querySelector('#df-6e9fd8de-1fbd-4051-9145-9180cb38c8df button.colab-df-convert');\n",
              "        buttonEl.style.display =\n",
              "          google.colab.kernel.accessAllowed ? 'block' : 'none';\n",
              "\n",
              "        async function convertToInteractive(key) {\n",
              "          const element = document.querySelector('#df-6e9fd8de-1fbd-4051-9145-9180cb38c8df');\n",
              "          const dataTable =\n",
              "            await google.colab.kernel.invokeFunction('convertToInteractive',\n",
              "                                                     [key], {});\n",
              "          if (!dataTable) return;\n",
              "\n",
              "          const docLinkHtml = 'Like what you see? Visit the ' +\n",
              "            '<a target=\"_blank\" href=https://colab.research.google.com/notebooks/data_table.ipynb>data table notebook</a>'\n",
              "            + ' to learn more about interactive tables.';\n",
              "          element.innerHTML = '';\n",
              "          dataTable['output_type'] = 'display_data';\n",
              "          await google.colab.output.renderOutput(dataTable, element);\n",
              "          const docLink = document.createElement('div');\n",
              "          docLink.innerHTML = docLinkHtml;\n",
              "          element.appendChild(docLink);\n",
              "        }\n",
              "      </script>\n",
              "    </div>\n",
              "  </div>\n",
              "  "
            ]
          },
          "metadata": {},
          "execution_count": 54
        }
      ]
    },
    {
      "cell_type": "markdown",
      "source": [
        "##IMPORTANDO AS BIBLIOTECAS DE MACHINE LEARNING"
      ],
      "metadata": {
        "id": "NxoymVBJkVJu"
      }
    },
    {
      "cell_type": "code",
      "source": [
        "import sklearn\n",
        "from sklearn.ensemble import RandomForestClassifier\n",
        "from sklearn.linear_model import LogisticRegression\n",
        "\n",
        "\n",
        "\n",
        "\n",
        "from sklearn.feature_extraction.text import CountVectorizer, TfidfTransformer\n",
        "from sklearn.pipeline import Pipeline\n",
        "from sklearn.model_selection import train_test_split\n",
        "from sklearn.metrics import accuracy_score, confusion_matrix, classification_report, ConfusionMatrixDisplay\n",
        "\n",
        "from sklearn.preprocessing import StandardScaler\n",
        "from sklearn.decomposition import PCA"
      ],
      "metadata": {
        "id": "IPXmamzIiLCN"
      },
      "execution_count": null,
      "outputs": []
    },
    {
      "cell_type": "markdown",
      "source": [
        "SEPARANDO OS DADOS EM TRAIN E TEST"
      ],
      "metadata": {
        "id": "QqO1y07RkZTR"
      }
    },
    {
      "cell_type": "code",
      "source": [
        "X = df.drop(columns='failure')\n",
        "y = df['failure']"
      ],
      "metadata": {
        "id": "zCmf911CiePV"
      },
      "execution_count": null,
      "outputs": []
    },
    {
      "cell_type": "code",
      "source": [
        "X_train, X_test, y_train, y_test = train_test_split(X, y, test_size=0.2, random_state=101, stratify=y)"
      ],
      "metadata": {
        "id": "2IeMFlIjieTv"
      },
      "execution_count": null,
      "outputs": []
    },
    {
      "cell_type": "markdown",
      "source": [
        "PADRONIZE RECURSOS REMOVENDO A MÉDIA E DIMENSIONANDO PARA A VARIAÇÃO DA UNIDADE."
      ],
      "metadata": {
        "id": "mcDOI1_EkdlB"
      }
    },
    {
      "cell_type": "code",
      "source": [
        "ss = StandardScaler().fit(X_train)\n",
        "X_train_ss = pd.DataFrame(ss.transform(X_train), columns=X_train.columns)\n",
        "X_train_ss"
      ],
      "metadata": {
        "colab": {
          "base_uri": "https://localhost:8080/",
          "height": 488
        },
        "id": "1pgTRyPKieZf",
        "outputId": "6c7d8614-daeb-4d4c-d5d6-1e27e7b840bd"
      },
      "execution_count": null,
      "outputs": [
        {
          "output_type": "execute_result",
          "data": {
            "text/plain": [
              "            id   loading  attribute_2  attribute_3  measurement_4  \\\n",
              "0     0.149985  0.177675     0.182812     0.925477       0.603560   \n",
              "1    -0.799627  1.344993     0.866410    -0.991219       0.048832   \n",
              "2     0.006602 -0.199824     0.182812     0.925477       0.284371   \n",
              "3     2.285403  2.204199    -1.184384     1.564375       0.735363   \n",
              "4    -0.506269 -0.122671     0.866410    -0.991219       0.100837   \n",
              "...        ...       ...          ...          ...            ...   \n",
              "9033  2.059298 -1.049261    -1.184384     1.564375      -2.898191   \n",
              "9034  1.219712  0.507580    -1.184384    -0.352320       0.204849   \n",
              "9035 -0.662296 -0.108142     0.866410    -0.991219       0.430482   \n",
              "9036 -0.950677 -0.697062     0.866410    -0.991219       0.309411   \n",
              "9037 -0.802586 -0.361145     0.866410    -0.991219       0.153669   \n",
              "\n",
              "      measurement_5  measurement_6  measurement_8  measurement_9  \\\n",
              "0          0.252992       0.000671       0.179197       0.146137   \n",
              "1          0.463846       0.196864       0.489791       0.049912   \n",
              "2          0.359901       0.524289       0.482568       0.308553   \n",
              "3          0.479457       0.384796       0.651342      -3.019215   \n",
              "4          0.006962       0.443747       0.192762      -3.019358   \n",
              "...             ...            ...            ...            ...   \n",
              "9033       0.253980       0.255815       0.671602      -3.018737   \n",
              "9034       0.102212       0.731183       0.404347       0.433645   \n",
              "9035       0.415628       0.129464       0.294590       0.459596   \n",
              "9036      -3.068850       0.062627       0.440462       0.773347   \n",
              "9037       0.382824       0.302000       0.008132       0.408568   \n",
              "\n",
              "      measurement_10  measurement_12  measurement_13  measurement_14  \\\n",
              "0           0.039088       -0.001574        0.475013        0.550636   \n",
              "1           0.145154        0.796112        0.617783        0.505629   \n",
              "2           0.435588       -0.045471       -0.073622        0.633757   \n",
              "3           0.679480        0.262885        0.504107        0.319317   \n",
              "4           0.324928       -2.909419        0.037144        0.225856   \n",
              "...              ...             ...             ...             ...   \n",
              "9033       -0.010649        0.314592        0.581623        0.606590   \n",
              "9034       -0.233768       -0.108219        0.305435        0.310396   \n",
              "9035        0.243031       -2.909839        0.253273        0.832436   \n",
              "9036        0.196290        1.532396        0.245584        0.231938   \n",
              "9037        0.384652        0.845126        0.287978        0.244508   \n",
              "\n",
              "      measurement_15  measurement_16  measurement_17  \n",
              "0           0.135853        0.354875        0.616752  \n",
              "1          -0.280498        0.488921        0.494158  \n",
              "2           0.349732       -0.040209        0.908533  \n",
              "3           0.700493        0.464329        1.536678  \n",
              "4           0.250799       -0.223843       -0.404280  \n",
              "...              ...             ...             ...  \n",
              "9033        0.676144       -0.080524       -2.856641  \n",
              "9034       -0.269091        0.866468        0.887099  \n",
              "9035        0.501531        0.260135        0.354554  \n",
              "9036       -0.912044        0.030745        0.099665  \n",
              "9037        0.187623        0.415750       -0.184221  \n",
              "\n",
              "[9038 rows x 16 columns]"
            ],
            "text/html": [
              "\n",
              "  <div id=\"df-218b9359-46ad-4fb0-b2d7-4538048e25d2\">\n",
              "    <div class=\"colab-df-container\">\n",
              "      <div>\n",
              "<style scoped>\n",
              "    .dataframe tbody tr th:only-of-type {\n",
              "        vertical-align: middle;\n",
              "    }\n",
              "\n",
              "    .dataframe tbody tr th {\n",
              "        vertical-align: top;\n",
              "    }\n",
              "\n",
              "    .dataframe thead th {\n",
              "        text-align: right;\n",
              "    }\n",
              "</style>\n",
              "<table border=\"1\" class=\"dataframe\">\n",
              "  <thead>\n",
              "    <tr style=\"text-align: right;\">\n",
              "      <th></th>\n",
              "      <th>id</th>\n",
              "      <th>loading</th>\n",
              "      <th>attribute_2</th>\n",
              "      <th>attribute_3</th>\n",
              "      <th>measurement_4</th>\n",
              "      <th>measurement_5</th>\n",
              "      <th>measurement_6</th>\n",
              "      <th>measurement_8</th>\n",
              "      <th>measurement_9</th>\n",
              "      <th>measurement_10</th>\n",
              "      <th>measurement_12</th>\n",
              "      <th>measurement_13</th>\n",
              "      <th>measurement_14</th>\n",
              "      <th>measurement_15</th>\n",
              "      <th>measurement_16</th>\n",
              "      <th>measurement_17</th>\n",
              "    </tr>\n",
              "  </thead>\n",
              "  <tbody>\n",
              "    <tr>\n",
              "      <th>0</th>\n",
              "      <td>0.149985</td>\n",
              "      <td>0.177675</td>\n",
              "      <td>0.182812</td>\n",
              "      <td>0.925477</td>\n",
              "      <td>0.603560</td>\n",
              "      <td>0.252992</td>\n",
              "      <td>0.000671</td>\n",
              "      <td>0.179197</td>\n",
              "      <td>0.146137</td>\n",
              "      <td>0.039088</td>\n",
              "      <td>-0.001574</td>\n",
              "      <td>0.475013</td>\n",
              "      <td>0.550636</td>\n",
              "      <td>0.135853</td>\n",
              "      <td>0.354875</td>\n",
              "      <td>0.616752</td>\n",
              "    </tr>\n",
              "    <tr>\n",
              "      <th>1</th>\n",
              "      <td>-0.799627</td>\n",
              "      <td>1.344993</td>\n",
              "      <td>0.866410</td>\n",
              "      <td>-0.991219</td>\n",
              "      <td>0.048832</td>\n",
              "      <td>0.463846</td>\n",
              "      <td>0.196864</td>\n",
              "      <td>0.489791</td>\n",
              "      <td>0.049912</td>\n",
              "      <td>0.145154</td>\n",
              "      <td>0.796112</td>\n",
              "      <td>0.617783</td>\n",
              "      <td>0.505629</td>\n",
              "      <td>-0.280498</td>\n",
              "      <td>0.488921</td>\n",
              "      <td>0.494158</td>\n",
              "    </tr>\n",
              "    <tr>\n",
              "      <th>2</th>\n",
              "      <td>0.006602</td>\n",
              "      <td>-0.199824</td>\n",
              "      <td>0.182812</td>\n",
              "      <td>0.925477</td>\n",
              "      <td>0.284371</td>\n",
              "      <td>0.359901</td>\n",
              "      <td>0.524289</td>\n",
              "      <td>0.482568</td>\n",
              "      <td>0.308553</td>\n",
              "      <td>0.435588</td>\n",
              "      <td>-0.045471</td>\n",
              "      <td>-0.073622</td>\n",
              "      <td>0.633757</td>\n",
              "      <td>0.349732</td>\n",
              "      <td>-0.040209</td>\n",
              "      <td>0.908533</td>\n",
              "    </tr>\n",
              "    <tr>\n",
              "      <th>3</th>\n",
              "      <td>2.285403</td>\n",
              "      <td>2.204199</td>\n",
              "      <td>-1.184384</td>\n",
              "      <td>1.564375</td>\n",
              "      <td>0.735363</td>\n",
              "      <td>0.479457</td>\n",
              "      <td>0.384796</td>\n",
              "      <td>0.651342</td>\n",
              "      <td>-3.019215</td>\n",
              "      <td>0.679480</td>\n",
              "      <td>0.262885</td>\n",
              "      <td>0.504107</td>\n",
              "      <td>0.319317</td>\n",
              "      <td>0.700493</td>\n",
              "      <td>0.464329</td>\n",
              "      <td>1.536678</td>\n",
              "    </tr>\n",
              "    <tr>\n",
              "      <th>4</th>\n",
              "      <td>-0.506269</td>\n",
              "      <td>-0.122671</td>\n",
              "      <td>0.866410</td>\n",
              "      <td>-0.991219</td>\n",
              "      <td>0.100837</td>\n",
              "      <td>0.006962</td>\n",
              "      <td>0.443747</td>\n",
              "      <td>0.192762</td>\n",
              "      <td>-3.019358</td>\n",
              "      <td>0.324928</td>\n",
              "      <td>-2.909419</td>\n",
              "      <td>0.037144</td>\n",
              "      <td>0.225856</td>\n",
              "      <td>0.250799</td>\n",
              "      <td>-0.223843</td>\n",
              "      <td>-0.404280</td>\n",
              "    </tr>\n",
              "    <tr>\n",
              "      <th>...</th>\n",
              "      <td>...</td>\n",
              "      <td>...</td>\n",
              "      <td>...</td>\n",
              "      <td>...</td>\n",
              "      <td>...</td>\n",
              "      <td>...</td>\n",
              "      <td>...</td>\n",
              "      <td>...</td>\n",
              "      <td>...</td>\n",
              "      <td>...</td>\n",
              "      <td>...</td>\n",
              "      <td>...</td>\n",
              "      <td>...</td>\n",
              "      <td>...</td>\n",
              "      <td>...</td>\n",
              "      <td>...</td>\n",
              "    </tr>\n",
              "    <tr>\n",
              "      <th>9033</th>\n",
              "      <td>2.059298</td>\n",
              "      <td>-1.049261</td>\n",
              "      <td>-1.184384</td>\n",
              "      <td>1.564375</td>\n",
              "      <td>-2.898191</td>\n",
              "      <td>0.253980</td>\n",
              "      <td>0.255815</td>\n",
              "      <td>0.671602</td>\n",
              "      <td>-3.018737</td>\n",
              "      <td>-0.010649</td>\n",
              "      <td>0.314592</td>\n",
              "      <td>0.581623</td>\n",
              "      <td>0.606590</td>\n",
              "      <td>0.676144</td>\n",
              "      <td>-0.080524</td>\n",
              "      <td>-2.856641</td>\n",
              "    </tr>\n",
              "    <tr>\n",
              "      <th>9034</th>\n",
              "      <td>1.219712</td>\n",
              "      <td>0.507580</td>\n",
              "      <td>-1.184384</td>\n",
              "      <td>-0.352320</td>\n",
              "      <td>0.204849</td>\n",
              "      <td>0.102212</td>\n",
              "      <td>0.731183</td>\n",
              "      <td>0.404347</td>\n",
              "      <td>0.433645</td>\n",
              "      <td>-0.233768</td>\n",
              "      <td>-0.108219</td>\n",
              "      <td>0.305435</td>\n",
              "      <td>0.310396</td>\n",
              "      <td>-0.269091</td>\n",
              "      <td>0.866468</td>\n",
              "      <td>0.887099</td>\n",
              "    </tr>\n",
              "    <tr>\n",
              "      <th>9035</th>\n",
              "      <td>-0.662296</td>\n",
              "      <td>-0.108142</td>\n",
              "      <td>0.866410</td>\n",
              "      <td>-0.991219</td>\n",
              "      <td>0.430482</td>\n",
              "      <td>0.415628</td>\n",
              "      <td>0.129464</td>\n",
              "      <td>0.294590</td>\n",
              "      <td>0.459596</td>\n",
              "      <td>0.243031</td>\n",
              "      <td>-2.909839</td>\n",
              "      <td>0.253273</td>\n",
              "      <td>0.832436</td>\n",
              "      <td>0.501531</td>\n",
              "      <td>0.260135</td>\n",
              "      <td>0.354554</td>\n",
              "    </tr>\n",
              "    <tr>\n",
              "      <th>9036</th>\n",
              "      <td>-0.950677</td>\n",
              "      <td>-0.697062</td>\n",
              "      <td>0.866410</td>\n",
              "      <td>-0.991219</td>\n",
              "      <td>0.309411</td>\n",
              "      <td>-3.068850</td>\n",
              "      <td>0.062627</td>\n",
              "      <td>0.440462</td>\n",
              "      <td>0.773347</td>\n",
              "      <td>0.196290</td>\n",
              "      <td>1.532396</td>\n",
              "      <td>0.245584</td>\n",
              "      <td>0.231938</td>\n",
              "      <td>-0.912044</td>\n",
              "      <td>0.030745</td>\n",
              "      <td>0.099665</td>\n",
              "    </tr>\n",
              "    <tr>\n",
              "      <th>9037</th>\n",
              "      <td>-0.802586</td>\n",
              "      <td>-0.361145</td>\n",
              "      <td>0.866410</td>\n",
              "      <td>-0.991219</td>\n",
              "      <td>0.153669</td>\n",
              "      <td>0.382824</td>\n",
              "      <td>0.302000</td>\n",
              "      <td>0.008132</td>\n",
              "      <td>0.408568</td>\n",
              "      <td>0.384652</td>\n",
              "      <td>0.845126</td>\n",
              "      <td>0.287978</td>\n",
              "      <td>0.244508</td>\n",
              "      <td>0.187623</td>\n",
              "      <td>0.415750</td>\n",
              "      <td>-0.184221</td>\n",
              "    </tr>\n",
              "  </tbody>\n",
              "</table>\n",
              "<p>9038 rows × 16 columns</p>\n",
              "</div>\n",
              "      <button class=\"colab-df-convert\" onclick=\"convertToInteractive('df-218b9359-46ad-4fb0-b2d7-4538048e25d2')\"\n",
              "              title=\"Convert this dataframe to an interactive table.\"\n",
              "              style=\"display:none;\">\n",
              "        \n",
              "  <svg xmlns=\"http://www.w3.org/2000/svg\" height=\"24px\"viewBox=\"0 0 24 24\"\n",
              "       width=\"24px\">\n",
              "    <path d=\"M0 0h24v24H0V0z\" fill=\"none\"/>\n",
              "    <path d=\"M18.56 5.44l.94 2.06.94-2.06 2.06-.94-2.06-.94-.94-2.06-.94 2.06-2.06.94zm-11 1L8.5 8.5l.94-2.06 2.06-.94-2.06-.94L8.5 2.5l-.94 2.06-2.06.94zm10 10l.94 2.06.94-2.06 2.06-.94-2.06-.94-.94-2.06-.94 2.06-2.06.94z\"/><path d=\"M17.41 7.96l-1.37-1.37c-.4-.4-.92-.59-1.43-.59-.52 0-1.04.2-1.43.59L10.3 9.45l-7.72 7.72c-.78.78-.78 2.05 0 2.83L4 21.41c.39.39.9.59 1.41.59.51 0 1.02-.2 1.41-.59l7.78-7.78 2.81-2.81c.8-.78.8-2.07 0-2.86zM5.41 20L4 18.59l7.72-7.72 1.47 1.35L5.41 20z\"/>\n",
              "  </svg>\n",
              "      </button>\n",
              "      \n",
              "  <style>\n",
              "    .colab-df-container {\n",
              "      display:flex;\n",
              "      flex-wrap:wrap;\n",
              "      gap: 12px;\n",
              "    }\n",
              "\n",
              "    .colab-df-convert {\n",
              "      background-color: #E8F0FE;\n",
              "      border: none;\n",
              "      border-radius: 50%;\n",
              "      cursor: pointer;\n",
              "      display: none;\n",
              "      fill: #1967D2;\n",
              "      height: 32px;\n",
              "      padding: 0 0 0 0;\n",
              "      width: 32px;\n",
              "    }\n",
              "\n",
              "    .colab-df-convert:hover {\n",
              "      background-color: #E2EBFA;\n",
              "      box-shadow: 0px 1px 2px rgba(60, 64, 67, 0.3), 0px 1px 3px 1px rgba(60, 64, 67, 0.15);\n",
              "      fill: #174EA6;\n",
              "    }\n",
              "\n",
              "    [theme=dark] .colab-df-convert {\n",
              "      background-color: #3B4455;\n",
              "      fill: #D2E3FC;\n",
              "    }\n",
              "\n",
              "    [theme=dark] .colab-df-convert:hover {\n",
              "      background-color: #434B5C;\n",
              "      box-shadow: 0px 1px 3px 1px rgba(0, 0, 0, 0.15);\n",
              "      filter: drop-shadow(0px 1px 2px rgba(0, 0, 0, 0.3));\n",
              "      fill: #FFFFFF;\n",
              "    }\n",
              "  </style>\n",
              "\n",
              "      <script>\n",
              "        const buttonEl =\n",
              "          document.querySelector('#df-218b9359-46ad-4fb0-b2d7-4538048e25d2 button.colab-df-convert');\n",
              "        buttonEl.style.display =\n",
              "          google.colab.kernel.accessAllowed ? 'block' : 'none';\n",
              "\n",
              "        async function convertToInteractive(key) {\n",
              "          const element = document.querySelector('#df-218b9359-46ad-4fb0-b2d7-4538048e25d2');\n",
              "          const dataTable =\n",
              "            await google.colab.kernel.invokeFunction('convertToInteractive',\n",
              "                                                     [key], {});\n",
              "          if (!dataTable) return;\n",
              "\n",
              "          const docLinkHtml = 'Like what you see? Visit the ' +\n",
              "            '<a target=\"_blank\" href=https://colab.research.google.com/notebooks/data_table.ipynb>data table notebook</a>'\n",
              "            + ' to learn more about interactive tables.';\n",
              "          element.innerHTML = '';\n",
              "          dataTable['output_type'] = 'display_data';\n",
              "          await google.colab.output.renderOutput(dataTable, element);\n",
              "          const docLink = document.createElement('div');\n",
              "          docLink.innerHTML = docLinkHtml;\n",
              "          element.appendChild(docLink);\n",
              "        }\n",
              "      </script>\n",
              "    </div>\n",
              "  </div>\n",
              "  "
            ]
          },
          "metadata": {},
          "execution_count": 58
        }
      ]
    },
    {
      "cell_type": "code",
      "source": [],
      "metadata": {
        "id": "CevshGyRLnSx"
      },
      "execution_count": null,
      "outputs": []
    },
    {
      "cell_type": "markdown",
      "source": [
        "REDUCAO DE DIMENSIONALIDADE COM PCA"
      ],
      "metadata": {
        "id": "aFZBTMcspfU2"
      }
    },
    {
      "cell_type": "code",
      "source": [
        "pca = PCA(random_state=60).fit(X_train_ss)"
      ],
      "metadata": {
        "id": "J_vwgraWp4o2"
      },
      "execution_count": null,
      "outputs": []
    },
    {
      "cell_type": "code",
      "source": [
        "pca.feature_names_in_"
      ],
      "metadata": {
        "colab": {
          "base_uri": "https://localhost:8080/"
        },
        "id": "zhP1011TqX0-",
        "outputId": "f3529089-62a0-4dd3-d49e-5c99182bf0c7"
      },
      "execution_count": null,
      "outputs": [
        {
          "output_type": "execute_result",
          "data": {
            "text/plain": [
              "array(['id', 'loading', 'attribute_2', 'attribute_3', 'measurement_4',\n",
              "       'measurement_5', 'measurement_6', 'measurement_8', 'measurement_9',\n",
              "       'measurement_10', 'measurement_12', 'measurement_13',\n",
              "       'measurement_14', 'measurement_15', 'measurement_16',\n",
              "       'measurement_17'], dtype=object)"
            ]
          },
          "metadata": {},
          "execution_count": 60
        }
      ]
    },
    {
      "cell_type": "markdown",
      "source": [
        "O ATRIBUTO `COMPONENTS_` DÁ EXATAMENTE OS COEFICIENTES DOS VETORES QUE DETERMINAN AS COMBINAÇÕES LINEARES DE CADA COMPONENTE PRINCIPAL!"
      ],
      "metadata": {
        "id": "4b4nuX0AsP5n"
      }
    },
    {
      "cell_type": "code",
      "source": [
        "pca.components_"
      ],
      "metadata": {
        "colab": {
          "base_uri": "https://localhost:8080/"
        },
        "id": "CrtM1Zzprcwc",
        "outputId": "afaef3c3-bec4-47fd-df9c-b69a7848628b"
      },
      "execution_count": null,
      "outputs": [
        {
          "output_type": "execute_result",
          "data": {
            "text/plain": [
              "array([[ 5.85112662e-01,  1.02847216e-01, -5.93210874e-01,\n",
              "         5.33837350e-01, -1.24087760e-02,  3.17771394e-03,\n",
              "         3.47250246e-03,  2.11122081e-02,  3.09901400e-03,\n",
              "        -1.84166354e-02, -7.69048866e-02, -7.21419273e-03,\n",
              "        -2.28463371e-02,  4.52233520e-02, -9.52111712e-03,\n",
              "         2.42768527e-02],\n",
              "       [ 1.12789855e-02,  2.13288364e-01, -1.42124983e-02,\n",
              "         1.59380265e-02,  8.89257128e-02, -2.27728237e-01,\n",
              "         1.59730885e-01, -5.77991702e-01, -4.66655388e-02,\n",
              "         1.55402077e-01,  5.84688964e-02,  3.14030776e-01,\n",
              "         4.96364542e-02, -1.12108533e-01,  1.16507744e-01,\n",
              "        -6.14492452e-01],\n",
              "       [ 1.62077980e-02,  9.65158476e-02, -3.03087632e-03,\n",
              "         5.66596071e-04,  1.82264907e-01,  2.31355001e-01,\n",
              "        -2.71741100e-02, -4.83624500e-02,  2.93183384e-01,\n",
              "        -3.45656311e-01,  2.42665058e-01,  6.65704251e-02,\n",
              "        -6.24138847e-01, -4.41624215e-01,  2.15115748e-01,\n",
              "         3.13166534e-02],\n",
              "       [ 1.87072474e-02,  1.31382525e-02, -4.73376704e-03,\n",
              "        -2.14503350e-02, -4.50133892e-01,  2.62333869e-01,\n",
              "         1.44692745e-01, -7.12244782e-02, -3.03055515e-01,\n",
              "         9.82056646e-02, -8.98558540e-02, -5.98989791e-02,\n",
              "        -1.53741309e-01, -4.58253776e-01, -5.89497109e-01,\n",
              "        -8.51920749e-02],\n",
              "       [ 1.52027570e-02, -8.00410379e-02, -1.30801273e-02,\n",
              "         3.97009363e-02,  9.81023616e-02, -5.66014552e-01,\n",
              "        -5.39622975e-01,  3.17722176e-01, -1.31619473e-01,\n",
              "        -3.24923829e-02,  2.47378710e-01, -8.49873929e-02,\n",
              "        -7.55262639e-02, -2.35424061e-01, -2.26024811e-01,\n",
              "        -2.65450047e-01],\n",
              "       [ 9.45671577e-03,  4.43804085e-01,  6.62351080e-03,\n",
              "        -4.16226170e-02,  2.45365128e-01,  1.65781228e-01,\n",
              "        -1.49769487e-01, -2.53420265e-01, -2.65221925e-01,\n",
              "         1.79453267e-01,  2.46632030e-01, -6.72755831e-01,\n",
              "         3.53346265e-02,  2.09162842e-02,  5.18220107e-02,\n",
              "         8.05390658e-02],\n",
              "       [-3.07911810e-02,  1.51974051e-01,  3.24678753e-02,\n",
              "        -1.98493227e-02,  2.46751746e-01,  1.72563378e-01,\n",
              "        -1.61845713e-01,  4.45770178e-02, -5.65698969e-01,\n",
              "        -5.80908859e-01, -3.83970436e-01,  1.76513540e-01,\n",
              "         7.09040153e-02,  3.91474426e-02,  4.68986465e-02,\n",
              "        -1.04124000e-01],\n",
              "       [-2.74340982e-02,  1.09533424e-01,  9.96393741e-03,\n",
              "        -2.07981278e-02, -3.35434645e-01,  1.75606706e-01,\n",
              "        -6.48015536e-01, -1.08989945e-01,  1.94420389e-01,\n",
              "         2.50779925e-01, -4.51060779e-01,  1.68685999e-02,\n",
              "        -1.83386517e-02, -1.15268884e-01,  3.01377994e-01,\n",
              "        -5.17566115e-02],\n",
              "       [-2.63777180e-02,  3.61249833e-01,  1.59667826e-02,\n",
              "        -2.21010483e-02, -5.58970756e-01,  2.81351635e-02,\n",
              "         5.10138028e-02,  1.81883703e-01,  2.03049882e-01,\n",
              "        -4.47206021e-01,  2.52690656e-01, -1.62704895e-01,\n",
              "         1.58522713e-01,  2.24154907e-01,  6.86974290e-02,\n",
              "        -3.27861644e-01],\n",
              "       [-3.76074337e-02,  9.36004856e-03,  3.26070248e-02,\n",
              "        -3.25355816e-02,  1.75527787e-01, -1.86223353e-01,\n",
              "         5.33579080e-02, -1.67005763e-01,  3.65135920e-01,\n",
              "        -1.61281420e-01, -4.86186352e-01, -3.48843170e-01,\n",
              "        -3.23952722e-01,  2.88291507e-01, -4.02077291e-01,\n",
              "        -1.81716776e-01],\n",
              "       [-3.80952098e-02,  5.91222539e-01,  2.61037611e-02,\n",
              "        -4.44988005e-02,  2.84315455e-01,  1.99258138e-01,\n",
              "        -6.10994118e-02,  3.44002786e-01,  2.34190194e-01,\n",
              "         2.47179200e-01,  1.44335250e-02,  3.86805119e-01,\n",
              "         7.86428055e-02,  5.81056392e-02, -3.58326806e-01,\n",
              "         2.18840539e-03],\n",
              "       [-3.59275384e-02,  1.59925683e-01,  2.47406523e-02,\n",
              "        -2.19410389e-02, -1.89987630e-01, -1.35880966e-01,\n",
              "         1.41615550e-01,  2.54381108e-01, -3.76823392e-01,\n",
              "         2.96487436e-01, -3.81996320e-02,  7.78533523e-02,\n",
              "        -6.38939978e-01,  3.64106983e-01,  2.25157209e-01,\n",
              "        -6.14885911e-02],\n",
              "       [-2.81603666e-02,  4.29956575e-01,  1.88939989e-02,\n",
              "        -5.86651499e-02, -1.31563532e-01, -5.58788733e-01,\n",
              "         2.31857339e-01, -1.84108563e-02,  1.28985311e-02,\n",
              "        -9.54294974e-02, -2.67132206e-01, -1.49672604e-02,\n",
              "         7.88024762e-02, -3.49672893e-01,  1.27750653e-01,\n",
              "         4.48594663e-01],\n",
              "       [-7.11923395e-04,  6.19247659e-02,  6.70024579e-03,\n",
              "        -6.88248457e-03, -1.87717175e-01, -1.05877944e-01,\n",
              "        -3.31451271e-01, -4.84102670e-01, -5.37980686e-02,\n",
              "        -1.68998980e-01,  2.78135049e-01,  3.12165814e-01,\n",
              "        -1.44175119e-01,  3.42947593e-01, -2.89485252e-01,\n",
              "         4.20650237e-01],\n",
              "       [ 4.31340648e-01, -3.82649122e-02, -3.33230889e-01,\n",
              "        -8.36070966e-01,  8.38763347e-03, -1.34009199e-02,\n",
              "        -1.41802119e-02,  1.61447901e-02,  2.60494758e-03,\n",
              "        -8.82360082e-03,  2.26338908e-03,  2.20331152e-02,\n",
              "         2.13597499e-04,  2.04285443e-02,  1.03792323e-02,\n",
              "        -2.47298166e-02],\n",
              "       [-6.80574478e-01, -1.04585481e-02, -7.29686577e-01,\n",
              "        -6.04636994e-02,  7.76777534e-03,  6.41052453e-03,\n",
              "         1.05576926e-03, -7.58972120e-03, -8.41520470e-03,\n",
              "        -5.55893846e-03,  1.31451950e-02, -6.89312974e-03,\n",
              "        -3.46345545e-03, -8.21911191e-03, -6.61295728e-03,\n",
              "         2.27548948e-03]])"
            ]
          },
          "metadata": {},
          "execution_count": 61
        }
      ]
    },
    {
      "cell_type": "code",
      "source": [
        "pca.n_components_"
      ],
      "metadata": {
        "colab": {
          "base_uri": "https://localhost:8080/"
        },
        "id": "fgN2gVxfrw9G",
        "outputId": "a64c4fa4-1da6-4fe7-c2d1-fb640e7ab5a2"
      },
      "execution_count": null,
      "outputs": [
        {
          "output_type": "execute_result",
          "data": {
            "text/plain": [
              "16"
            ]
          },
          "metadata": {},
          "execution_count": 62
        }
      ]
    },
    {
      "cell_type": "code",
      "source": [
        "X_train_ss.std().sum()"
      ],
      "metadata": {
        "colab": {
          "base_uri": "https://localhost:8080/"
        },
        "id": "ZXzlf_HCsNb0",
        "outputId": "4cedcab8-e1d2-4171-a1c8-7eb0770f76f1"
      },
      "execution_count": null,
      "outputs": [
        {
          "output_type": "execute_result",
          "data": {
            "text/plain": [
              "16.00088522504148"
            ]
          },
          "metadata": {},
          "execution_count": 63
        }
      ]
    },
    {
      "cell_type": "code",
      "source": [
        "pca.explained_variance_"
      ],
      "metadata": {
        "colab": {
          "base_uri": "https://localhost:8080/"
        },
        "id": "BahTASxbti5R",
        "outputId": "bdb9c704-e9f1-4a5f-be6a-3aa881d64712"
      },
      "execution_count": null,
      "outputs": [
        {
          "output_type": "execute_result",
          "data": {
            "text/plain": [
              "array([2.48717435, 1.05484235, 1.04693161, 1.03534742, 1.03127434,\n",
              "       1.02040939, 1.00588463, 0.9986995 , 0.99032219, 0.97412993,\n",
              "       0.96924088, 0.96263325, 0.95301951, 0.93042604, 0.39856078,\n",
              "       0.14287434])"
            ]
          },
          "metadata": {},
          "execution_count": 64
        }
      ]
    },
    {
      "cell_type": "code",
      "source": [
        "pca.explained_variance_ratio_*100"
      ],
      "metadata": {
        "colab": {
          "base_uri": "https://localhost:8080/"
        },
        "id": "xIoKWTh1tJoJ",
        "outputId": "55c0f68f-10c1-44b7-ca80-68b85512f758"
      },
      "execution_count": null,
      "outputs": [
        {
          "output_type": "execute_result",
          "data": {
            "text/plain": [
              "array([15.54311973,  6.59203525,  6.54259857,  6.47020541,  6.44475144,\n",
              "        6.37685306,  6.28608336,  6.24118125,  6.18882884,  6.08763841,\n",
              "        6.05708524,  6.01579214,  5.9557129 ,  5.81451931,  2.49072929,\n",
              "        0.8928658 ])"
            ]
          },
          "metadata": {},
          "execution_count": 65
        }
      ]
    },
    {
      "cell_type": "code",
      "source": [
        "pca.explained_variance_ratio_.cumsum()*100"
      ],
      "metadata": {
        "colab": {
          "base_uri": "https://localhost:8080/"
        },
        "id": "pBLluTk_ttix",
        "outputId": "0aace0ba-8ba3-48de-e0df-4dd126ec3a06"
      },
      "execution_count": null,
      "outputs": [
        {
          "output_type": "execute_result",
          "data": {
            "text/plain": [
              "array([ 15.54311973,  22.13515498,  28.67775355,  35.14795896,\n",
              "        41.5927104 ,  47.96956346,  54.25564682,  60.49682807,\n",
              "        66.68565691,  72.77329531,  78.83038055,  84.8461727 ,\n",
              "        90.8018856 ,  96.61640491,  99.1071342 , 100.        ])"
            ]
          },
          "metadata": {},
          "execution_count": 66
        }
      ]
    },
    {
      "cell_type": "code",
      "source": [
        "plt.figure(figsize=(25,35)) \n",
        "labels = [f'PCA_{i+1}' for i in range(pca.n_components_)]\n",
        "plt.barh(labels, pca.explained_variance_ratio_*100)"
      ],
      "metadata": {
        "colab": {
          "base_uri": "https://localhost:8080/",
          "height": 1000
        },
        "id": "BY9BM0MsskIc",
        "outputId": "6a3c7351-6e99-4c5f-e7fc-f86e2bdc359b"
      },
      "execution_count": null,
      "outputs": [
        {
          "output_type": "execute_result",
          "data": {
            "text/plain": [
              "<BarContainer object of 16 artists>"
            ]
          },
          "metadata": {},
          "execution_count": 67
        },
        {
          "output_type": "display_data",
          "data": {
            "text/plain": [
              "<Figure size 1800x2520 with 1 Axes>"
            ],
            "image/png": "[encoded data removed]"
          },
          "metadata": {
            "needs_background": "light"
          }
        }
      ]
    },
    {
      "cell_type": "code",
      "source": [
        "plt.figure(figsize=(25,35)) \n",
        "labels = [f'PCA_{i+1}' for i in range(pca.n_components_)]\n",
        "plt.barh(labels, pca.explained_variance_ratio_.cumsum()*100)"
      ],
      "metadata": {
        "colab": {
          "base_uri": "https://localhost:8080/",
          "height": 1000
        },
        "id": "hiJHHc13uW_L",
        "outputId": "3d5a0541-72dc-49f8-b032-7b80322e6f67"
      },
      "execution_count": null,
      "outputs": [
        {
          "output_type": "execute_result",
          "data": {
            "text/plain": [
              "<BarContainer object of 16 artists>"
            ]
          },
          "metadata": {},
          "execution_count": 68
        },
        {
          "output_type": "display_data",
          "data": {
            "text/plain": [
              "<Figure size 1800x2520 with 1 Axes>"
            ],
            "image/png": "[encoded data removed]"
          },
          "metadata": {
            "needs_background": "light"
          }
        }
      ]
    },
    {
      "cell_type": "code",
      "source": [],
      "metadata": {
        "id": "jYmZp9mhtAtT"
      },
      "execution_count": null,
      "outputs": []
    },
    {
      "cell_type": "markdown",
      "source": [
        "FUNÇÃO QUE IMPRIME AS MÉTRICAS"
      ],
      "metadata": {
        "id": "3BCnbIf-vVPK"
      }
    },
    {
      "cell_type": "code",
      "source": [
        "def metricas_classificacao(estimator, X_train, X_test, y_train, y_test):\n",
        "    \n",
        "    # ============================================\n",
        "\n",
        "    print(\"\\nMétricas de avaliação de treino:\")\n",
        "\n",
        "    y_pred_train = estimator.predict(X_train)\n",
        "\n",
        "    print(confusion_matrix(y_train, y_pred_train))\n",
        "\n",
        "    ConfusionMatrixDisplay.from_predictions(y_train, y_pred_train)\n",
        "    plt.show()\n",
        "\n",
        "    print(classification_report(y_train, y_pred_train))\n",
        "\n",
        "    # ============================================\n",
        "\n",
        "    print(\"\\nMétricas de avaliação de teste:\")\n",
        "\n",
        "    y_pred_test = estimator.predict(X_test)\n",
        "\n",
        "    print(confusion_matrix(y_test, y_pred_test))\n",
        "\n",
        "    ConfusionMatrixDisplay.from_predictions(y_test, y_pred_test)\n",
        "    plt.show()\n",
        "\n",
        "    print(classification_report(y_test, y_pred_test))"
      ],
      "metadata": {
        "id": "lnB_DWKxvaAy"
      },
      "execution_count": null,
      "outputs": []
    },
    {
      "cell_type": "code",
      "source": [
        "from sklearn.linear_model import LogisticRegression\n",
        "from sklearn.metrics import plot_confusion_matrix"
      ],
      "metadata": {
        "id": "wPYlO6I1wjVZ"
      },
      "execution_count": null,
      "outputs": []
    },
    {
      "cell_type": "code",
      "source": [
        "pipe_pca = Pipeline([('RF', RandomForestClassifier(random_state=101))])\n",
        "pipe_pca.fit(X_train, y_train)\n",
        "metricas_classificacao(pipe_pca, X_train, X_test, y_train, y_test)"
      ],
      "metadata": {
        "colab": {
          "base_uri": "https://localhost:8080/",
          "height": 1000
        },
        "id": "tIlx3lJYxT93",
        "outputId": "88d180a7-507e-4200-8586-407181306a62"
      },
      "execution_count": null,
      "outputs": [
        {
          "output_type": "stream",
          "name": "stdout",
          "text": [
            "\n",
            "Métricas de avaliação de treino:\n",
            "[[4519    0]\n",
            " [   0 4519]]\n"
          ]
        },
        {
          "output_type": "display_data",
          "data": {
            "text/plain": [
              "<Figure size 432x288 with 2 Axes>"
            ],
            "image/png": "[encoded data removed]"
          },
          "metadata": {
            "needs_background": "light"
          }
        },
        {
          "output_type": "stream",
          "name": "stdout",
          "text": [
            "              precision    recall  f1-score   support\n",
            "\n",
            "           0       1.00      1.00      1.00      4519\n",
            "           1       1.00      1.00      1.00      4519\n",
            "\n",
            "    accuracy                           1.00      9038\n",
            "   macro avg       1.00      1.00      1.00      9038\n",
            "weighted avg       1.00      1.00      1.00      9038\n",
            "\n",
            "\n",
            "Métricas de avaliação de teste:\n",
            "[[1128    2]\n",
            " [ 337  793]]\n"
          ]
        },
        {
          "output_type": "display_data",
          "data": {
            "text/plain": [
              "<Figure size 432x288 with 2 Axes>"
            ],
            "image/png": "[encoded data removed]"
          },
          "metadata": {
            "needs_background": "light"
          }
        },
        {
          "output_type": "stream",
          "name": "stdout",
          "text": [
            "              precision    recall  f1-score   support\n",
            "\n",
            "           0       0.77      1.00      0.87      1130\n",
            "           1       1.00      0.70      0.82      1130\n",
            "\n",
            "    accuracy                           0.85      2260\n",
            "   macro avg       0.88      0.85      0.85      2260\n",
            "weighted avg       0.88      0.85      0.85      2260\n",
            "\n"
          ]
        }
      ]
    },
    {
      "cell_type": "code",
      "source": [
        "pipe_pca = Pipeline([('RF', LogisticRegression(random_state=101))])\n",
        "pipe_pca.fit(X_train, y_train)\n",
        "metricas_classificacao(pipe_pca, X_train, X_test, y_train, y_test)"
      ],
      "metadata": {
        "colab": {
          "base_uri": "https://localhost:8080/",
          "height": 1000
        },
        "id": "w3FI_JYfvw5V",
        "outputId": "3389e909-2f00-4033-9b52-6eb4678620d2"
      },
      "execution_count": null,
      "outputs": [
        {
          "output_type": "stream",
          "name": "stdout",
          "text": [
            "\n",
            "Métricas de avaliação de treino:\n",
            "[[4130  389]\n",
            " [1188 3331]]\n"
          ]
        },
        {
          "output_type": "display_data",
          "data": {
            "text/plain": [
              "<Figure size 432x288 with 2 Axes>"
            ],
            "image/png": "[encoded data removed]"
          },
          "metadata": {
            "needs_background": "light"
          }
        },
        {
          "output_type": "stream",
          "name": "stdout",
          "text": [
            "              precision    recall  f1-score   support\n",
            "\n",
            "           0       0.78      0.91      0.84      4519\n",
            "           1       0.90      0.74      0.81      4519\n",
            "\n",
            "    accuracy                           0.83      9038\n",
            "   macro avg       0.84      0.83      0.82      9038\n",
            "weighted avg       0.84      0.83      0.82      9038\n",
            "\n",
            "\n",
            "Métricas de avaliação de teste:\n",
            "[[1029  101]\n",
            " [ 318  812]]\n"
          ]
        },
        {
          "output_type": "display_data",
          "data": {
            "text/plain": [
              "<Figure size 432x288 with 2 Axes>"
            ],
            "image/png": "[encoded data removed]"
          },
          "metadata": {
            "needs_background": "light"
          }
        },
        {
          "output_type": "stream",
          "name": "stdout",
          "text": [
            "              precision    recall  f1-score   support\n",
            "\n",
            "           0       0.76      0.91      0.83      1130\n",
            "           1       0.89      0.72      0.79      1130\n",
            "\n",
            "    accuracy                           0.81      2260\n",
            "   macro avg       0.83      0.81      0.81      2260\n",
            "weighted avg       0.83      0.81      0.81      2260\n",
            "\n"
          ]
        }
      ]
    },
    {
      "cell_type": "markdown",
      "source": [
        "##REGRESSÃO LOGISTICA"
      ],
      "metadata": {
        "id": "lQE4SMiLyP5x"
      }
    },
    {
      "cell_type": "code",
      "source": [
        "logit = LogisticRegression()"
      ],
      "metadata": {
        "id": "Eel9kIZrwuyD"
      },
      "execution_count": null,
      "outputs": []
    },
    {
      "cell_type": "code",
      "source": [
        "logit.fit(X_train, y_train)"
      ],
      "metadata": {
        "colab": {
          "base_uri": "https://localhost:8080/"
        },
        "id": "iyyDGfS8yYxJ",
        "outputId": "5a789e22-591f-4a90-b12f-733f25e5a475"
      },
      "execution_count": null,
      "outputs": [
        {
          "output_type": "execute_result",
          "data": {
            "text/plain": [
              "LogisticRegression()"
            ]
          },
          "metadata": {},
          "execution_count": 74
        }
      ]
    },
    {
      "cell_type": "code",
      "source": [
        "logit.intercept_"
      ],
      "metadata": {
        "colab": {
          "base_uri": "https://localhost:8080/"
        },
        "id": "rcyMTBLgydox",
        "outputId": "604349a6-a9fe-4d92-a6a5-65524b87cb42"
      },
      "execution_count": null,
      "outputs": [
        {
          "output_type": "execute_result",
          "data": {
            "text/plain": [
              "array([-5.29284089e-09])"
            ]
          },
          "metadata": {},
          "execution_count": 75
        }
      ]
    },
    {
      "cell_type": "code",
      "source": [
        "logit.coef_"
      ],
      "metadata": {
        "colab": {
          "base_uri": "https://localhost:8080/"
        },
        "id": "4dDJQEPVylCr",
        "outputId": "6a91fa45-2470-4eb1-cb04-89dc6d0bf613"
      },
      "execution_count": null,
      "outputs": [
        {
          "output_type": "execute_result",
          "data": {
            "text/plain": [
              "array([[ 3.63448059e-04,  1.91717578e-06, -1.47336953e-07,\n",
              "        -4.29753048e-08, -1.71461718e-05, -1.64744652e-05,\n",
              "        -1.57140844e-05, -6.96750929e-06, -2.15239625e-05,\n",
              "        -1.37512460e-05, -2.55089897e-05, -1.12252553e-05,\n",
              "        -1.32039366e-05, -1.90923621e-05, -1.47867152e-05,\n",
              "        -1.63098537e-07]])"
            ]
          },
          "metadata": {},
          "execution_count": 76
        }
      ]
    },
    {
      "cell_type": "code",
      "source": [
        "y_pred = logit.predict(X_test)\n",
        "y_pred"
      ],
      "metadata": {
        "colab": {
          "base_uri": "https://localhost:8080/"
        },
        "id": "blphKORNypH1",
        "outputId": "bb790e00-093f-493c-c899-f4c814dae9e5"
      },
      "execution_count": null,
      "outputs": [
        {
          "output_type": "execute_result",
          "data": {
            "text/plain": [
              "array([0, 1, 0, ..., 0, 0, 0])"
            ]
          },
          "metadata": {},
          "execution_count": 77
        }
      ]
    },
    {
      "cell_type": "code",
      "source": [
        "y_test.value_counts()"
      ],
      "metadata": {
        "colab": {
          "base_uri": "https://localhost:8080/"
        },
        "id": "BS1P4FA1y3Bs",
        "outputId": "70976bce-f511-4f24-8939-cc2c9ce36150"
      },
      "execution_count": null,
      "outputs": [
        {
          "output_type": "execute_result",
          "data": {
            "text/plain": [
              "0    1130\n",
              "1    1130\n",
              "Name: failure, dtype: int64"
            ]
          },
          "metadata": {},
          "execution_count": 78
        }
      ]
    },
    {
      "cell_type": "code",
      "source": [
        "plot_confusion_matrix(logit, X_test, y_test)"
      ],
      "metadata": {
        "colab": {
          "base_uri": "https://localhost:8080/",
          "height": 355
        },
        "id": "_EL_FolnzFV-",
        "outputId": "37fc2042-7cf2-4bba-ed92-f8a882d5c371"
      },
      "execution_count": null,
      "outputs": [
        {
          "output_type": "stream",
          "name": "stderr",
          "text": [
            "/usr/local/lib/python3.7/dist-packages/sklearn/utils/deprecation.py:87: FutureWarning: Function plot_confusion_matrix is deprecated; Function `plot_confusion_matrix` is deprecated in 1.0 and will be removed in 1.2. Use one of the class methods: ConfusionMatrixDisplay.from_predictions or ConfusionMatrixDisplay.from_estimator.\n",
            "  warnings.warn(msg, category=FutureWarning)\n"
          ]
        },
        {
          "output_type": "execute_result",
          "data": {
            "text/plain": [
              "<sklearn.metrics._plot.confusion_matrix.ConfusionMatrixDisplay at 0x7fb9209ae6d0>"
            ]
          },
          "metadata": {},
          "execution_count": 79
        },
        {
          "output_type": "display_data",
          "data": {
            "text/plain": [
              "<Figure size 432x288 with 2 Axes>"
            ],
            "image/png": "[encoded data removed]"
          },
          "metadata": {
            "needs_background": "light"
          }
        }
      ]
    },
    {
      "cell_type": "code",
      "source": [
        "print(classification_report(y_test, y_pred))"
      ],
      "metadata": {
        "colab": {
          "base_uri": "https://localhost:8080/"
        },
        "id": "K6oYfllYzrOE",
        "outputId": "90de9a54-60d3-48b8-acb6-dd7a005e94f7"
      },
      "execution_count": null,
      "outputs": [
        {
          "output_type": "stream",
          "name": "stdout",
          "text": [
            "              precision    recall  f1-score   support\n",
            "\n",
            "           0       0.76      0.91      0.83      1130\n",
            "           1       0.89      0.72      0.79      1130\n",
            "\n",
            "    accuracy                           0.81      2260\n",
            "   macro avg       0.83      0.81      0.81      2260\n",
            "weighted avg       0.83      0.81      0.81      2260\n",
            "\n"
          ]
        }
      ]
    },
    {
      "cell_type": "markdown",
      "source": [
        "PREDICT PROBA"
      ],
      "metadata": {
        "id": "c_WFgpvu1Oe8"
      }
    },
    {
      "cell_type": "code",
      "source": [
        "from sklearn import metrics\n",
        "predict_proba = logit.predict_proba(X_test)\n",
        "tpr, tpr, thresholds = metrics.roc_curve(y_test,predict_proba[:,1])\n",
        "print (thresholds)\n",
        "\n",
        "accuracy_ls = []\n",
        "for thres in thresholds:\n",
        "    y_pred = np.where(predict_proba[:,1]>thres,1,0)\n",
        "    # Apply desired utility function to y_preds, for example accuracy.\n",
        "    accuracy_ls.append(metrics.accuracy_score(y_test, y_pred, normalize=True))"
      ],
      "metadata": {
        "colab": {
          "base_uri": "https://localhost:8080/"
        },
        "id": "cTxJIzWH4SuQ",
        "outputId": "6abb2030-f875-411a-e593-f9969eacd3db"
      },
      "execution_count": null,
      "outputs": [
        {
          "output_type": "stream",
          "name": "stdout",
          "text": [
            "[1.99948825 0.99948825 0.71918669 0.71876459 0.66434844 0.66285455\n",
            " 0.65991087 0.65884098 0.6582989  0.65348669 0.65106435 0.64643309\n",
            " 0.64004873 0.63045873 0.62925707 0.61875659 0.61068672 0.60592274\n",
            " 0.60466396 0.60289918 0.59698891 0.59552246 0.59383878 0.59120909\n",
            " 0.58878933 0.58796694 0.58763771 0.58720305 0.58673481 0.58266822\n",
            " 0.58221498 0.57829691 0.57505056 0.57254191 0.57152017 0.57115685\n",
            " 0.56921826 0.56422813 0.56243155 0.56014338 0.55802575 0.55800034\n",
            " 0.55653197 0.55473886 0.55307625 0.55119734 0.5509762  0.54801747\n",
            " 0.54755905 0.54586201 0.54532146 0.54506078 0.54480815 0.54466128\n",
            " 0.54441338 0.54409728 0.54200319 0.54047867 0.53845607 0.52890106\n",
            " 0.52748864 0.51191461 0.51153514 0.50816021 0.50815915 0.50329031\n",
            " 0.50324593 0.50193735 0.5018083  0.50090001 0.50077404 0.4936313\n",
            " 0.49280911 0.4908318  0.49051298 0.48782659 0.4871394  0.48536319\n",
            " 0.48515077 0.48334748 0.48313803 0.48217827 0.48164223 0.48128832\n",
            " 0.48072125 0.48011267 0.47949281 0.47879522 0.47869981 0.47734444\n",
            " 0.47418042 0.47412813 0.47412384 0.4731989  0.47235306 0.46327214\n",
            " 0.46283849 0.46215927 0.46213236 0.45647537 0.45588392 0.45015151\n",
            " 0.45003795 0.4496944  0.44960533 0.44783186 0.44769644 0.44671442\n",
            " 0.44606887 0.44591416 0.44567448 0.44558763 0.44449782 0.44279861\n",
            " 0.4420796  0.44011925 0.43921274 0.43702066 0.43695672 0.43193474\n",
            " 0.43165674 0.43140899 0.42996809 0.42724947 0.42669971 0.42659187\n",
            " 0.42602769 0.41625697 0.41603442 0.41229185 0.41109944 0.41027581\n",
            " 0.40978247 0.40865969 0.40831889 0.40759086 0.40648314 0.4054917\n",
            " 0.4052332  0.40412886 0.40228366 0.4009659  0.40084903 0.40011515\n",
            " 0.39940023 0.399263   0.39919664 0.39879609 0.39719528 0.39562595\n",
            " 0.39498549 0.39491005 0.39470216 0.3942251  0.39323453 0.39274922\n",
            " 0.39194623 0.39064471 0.38835235 0.38824385 0.38814999 0.38746084\n",
            " 0.38667101 0.38657546 0.38623177 0.38589921 0.38568429 0.38060631\n",
            " 0.38028215 0.37980064 0.3785722  0.37793653 0.37706544 0.3763701\n",
            " 0.37632322 0.37612274 0.37508785 0.37431162 0.37405406 0.37260084\n",
            " 0.3717062  0.3714506  0.37133977 0.37009562 0.36982431 0.36807143\n",
            " 0.36776244 0.36757521 0.36756642 0.36219574 0.36096107 0.36072201\n",
            " 0.35944233 0.35816648 0.35803033 0.35778741 0.35740786 0.35616904\n",
            " 0.35614603 0.35080377 0.35055743 0.34979496 0.34966198 0.34820834\n",
            " 0.34812049 0.33963341 0.33929224 0.33881088 0.33793665 0.3330148\n",
            " 0.33267648 0.33109733 0.33064527 0.32913339 0.32883875 0.32467433\n",
            " 0.32354909 0.32343544 0.32312368 0.32254719 0.32246348 0.31931392\n",
            " 0.31799911 0.31773263 0.31612631 0.31612305 0.31524969 0.31431593\n",
            " 0.3139396  0.31282212 0.3127744  0.31245769 0.3121809  0.31041351\n",
            " 0.31017241 0.30673963 0.30639717 0.30043767 0.30002616 0.2995864\n",
            " 0.29953039 0.29916568 0.29899045 0.29832116 0.29807148 0.29784877\n",
            " 0.29752155 0.29741169 0.29712928 0.29659948 0.29638349 0.29533908\n",
            " 0.29502265 0.29474487 0.29428171 0.29304753 0.29164679 0.29153521\n",
            " 0.29086693 0.2904067  0.29019516 0.28991206 0.28863257 0.28835718\n",
            " 0.28824531 0.28799544 0.28594878 0.2829852  0.28296708 0.28100243\n",
            " 0.28064367 0.27716853 0.27713489 0.27367711 0.27338844 0.27314855\n",
            " 0.27218231 0.27129558 0.27096519 0.26747936 0.26710713 0.26658033\n",
            " 0.26655212 0.26508673 0.26441212 0.26200858 0.26192903 0.26121258\n",
            " 0.26032259 0.25909807 0.25899147 0.25759665 0.25753266 0.25751406\n",
            " 0.25735496 0.25584429 0.25579706 0.25466541 0.25465069 0.25432556\n",
            " 0.25419736 0.25330799 0.25300968 0.25269062 0.25127168 0.25093466\n",
            " 0.25029303 0.25020158 0.25008427 0.248747   0.2476088  0.24628015\n",
            " 0.24531232 0.24325363 0.2428921  0.2427958  0.24232839 0.23997643\n",
            " 0.23977963 0.2387266  0.23836439 0.23811281 0.23643745 0.23567436\n",
            " 0.23565077 0.23553648 0.23513996 0.23405523 0.23378887 0.23322406\n",
            " 0.23312779 0.23125677 0.23105813 0.2307047  0.23013149 0.22984191\n",
            " 0.22979704 0.22952031 0.22945059 0.22637427 0.2260126  0.22551259\n",
            " 0.22537036 0.22533657 0.2241467  0.22376929 0.22371657 0.22308984\n",
            " 0.22280637 0.22261442 0.22250938 0.22127795 0.22045273 0.21662653\n",
            " 0.21636915 0.21436588 0.21403963 0.21373077 0.2132995  0.2105011\n",
            " 0.20998957 0.20856895 0.20831263 0.20665366 0.20649624 0.20609348\n",
            " 0.20603843 0.20510623 0.20481248 0.2039624  0.20361531 0.20336737\n",
            " 0.20317755 0.20276309 0.20241106 0.2023952  0.20213689 0.20155184\n",
            " 0.20146257 0.20095989 0.20073617 0.19596811 0.19578766 0.1953471\n",
            " 0.19495427 0.1942692  0.19412214 0.19267714 0.19257287 0.19198259\n",
            " 0.19194662 0.19119556 0.19072209 0.19065176 0.1906506  0.19014952\n",
            " 0.1895299  0.18923157 0.18921341 0.18809198 0.1879072  0.18677191\n",
            " 0.18649193 0.18596029 0.18491686 0.1834711  0.18326482 0.18251277\n",
            " 0.18232532 0.18215627 0.18181723 0.18108684 0.18027188 0.17846402\n",
            " 0.17745602 0.17713281 0.17684781 0.17540357 0.17448365 0.17231639\n",
            " 0.171822   0.17172471 0.1716875  0.17142176 0.17106832 0.16854189\n",
            " 0.16846574 0.16444686 0.16399121 0.15948716 0.1593249  0.15624965\n",
            " 0.15618084 0.15554804 0.15457183 0.15425128 0.15400525 0.1533192\n",
            " 0.15323831 0.15313649 0.15259698 0.15170062 0.15117281 0.15056659\n",
            " 0.15028073 0.15008766 0.14959081 0.14942952 0.14892401 0.1486033\n",
            " 0.148407   0.14675424 0.1467471  0.14541288 0.14530634 0.14280222\n",
            " 0.142789   0.14269204 0.14248225 0.14237088 0.14090821 0.1405806\n",
            " 0.14030275 0.13964256 0.13953478 0.13915797 0.13908861 0.13892248\n",
            " 0.1386286  0.13839766 0.13811805 0.13610473 0.13598112 0.13437873\n",
            " 0.13402785 0.13365791 0.13352461 0.13350218 0.13323425 0.13207063\n",
            " 0.13197197 0.13118385 0.13077597 0.12786438 0.1277472  0.12703864\n",
            " 0.12682342 0.12308002 0.12286337 0.12283559 0.12269334 0.12131505\n",
            " 0.1213     0.12111694 0.12094904 0.12042754 0.12000818 0.11806595\n",
            " 0.11786407 0.11297933 0.11233656 0.11208088 0.11199946 0.11165959\n",
            " 0.11130834 0.11113451 0.11108341 0.11092808 0.11075923 0.10954407\n",
            " 0.10899231 0.10815499 0.10811231 0.10766863 0.10756505 0.1073165\n",
            " 0.10695819 0.10499888 0.10446034 0.10061233 0.10058132 0.09843072\n",
            " 0.09824792 0.09707614 0.09592692 0.09566657 0.09550975 0.093925\n",
            " 0.09366361 0.09365339 0.09364451 0.09180604 0.09119382 0.09060478\n",
            " 0.08969466 0.08872418 0.08867718 0.08744958 0.08739029 0.08713437\n",
            " 0.08648081 0.08638213 0.08622535 0.08179072 0.08129443 0.08044666\n",
            " 0.0799556  0.0789778  0.0788889  0.078869   0.07863648 0.07839578\n",
            " 0.07817936 0.07585497 0.07460519 0.07289966 0.0725722  0.07085454\n",
            " 0.0701066  0.06670921 0.06525446 0.06137228]\n"
          ]
        }
      ]
    },
    {
      "cell_type": "code",
      "source": [
        "y_proba_0 = predict_proba[:, 0]\n",
        "\n",
        "# isso é o que modelamos explicitamente com o logit!\n",
        "y_proba_1 = predict_proba[:, 1]"
      ],
      "metadata": {
        "id": "sbgF5feA6a33"
      },
      "execution_count": null,
      "outputs": []
    },
    {
      "cell_type": "code",
      "source": [
        "from sklearn.metrics import precision_recall_curve\n",
        "\n",
        "y_proba_1 = logit.predict_proba(X_test)[:, 1]\n",
        "\n",
        "precisions, recalls, thresholds = precision_recall_curve(y_test, y_proba_1)"
      ],
      "metadata": {
        "id": "uSxztTaJ8Ncu"
      },
      "execution_count": null,
      "outputs": []
    },
    {
      "cell_type": "code",
      "source": [
        "cutoff = 0.8\n",
        "\n",
        "# np.where(condicao, substituir caso True, substituir caso False)\n",
        "# pras observações cuja probabilidade de ser da classe 1 for maior que o cutoff,\n",
        "# eu atribuo o target 1. caso contrario, o target 0.\n",
        "\n",
        "y_pred_proba = np.where(y_proba_1 >= cutoff, 1, 0)\n",
        "pd.Series(y_pred_proba).value_counts()"
      ],
      "metadata": {
        "colab": {
          "base_uri": "https://localhost:8080/"
        },
        "id": "uZLmTzaL4Sxj",
        "outputId": "2bc34b63-a53a-48ef-8320-54e923d47a31"
      },
      "execution_count": null,
      "outputs": [
        {
          "output_type": "execute_result",
          "data": {
            "text/plain": [
              "0    1597\n",
              "1     663\n",
              "dtype: int64"
            ]
          },
          "metadata": {},
          "execution_count": 84
        }
      ]
    },
    {
      "cell_type": "code",
      "source": [
        "# from sklearn.metrics import precision_recall_curve\n",
        "\n",
        "# # Obtendo as probabilidades de nossas previsões\n",
        "# y_scores = LogisticRegression.predict_proba(X_test)\n",
        "# y_scores = y_scores[:,1]\n",
        "\n",
        "# precision, recall, threshold = precision_recall_curve(y_train, y_scores)"
      ],
      "metadata": {
        "id": "KcT7JK430PgF"
      },
      "execution_count": null,
      "outputs": []
    },
    {
      "cell_type": "code",
      "source": [],
      "metadata": {
        "id": "AC89QjmT08UQ"
      },
      "execution_count": null,
      "outputs": []
    },
    {
      "cell_type": "code",
      "source": [
        "from sklearn.metrics import roc_curve, RocCurveDisplay, roc_auc_score\n",
        "\n",
        "fpr, tpr, thresholds = roc_curve(y_test, y_pred)\n",
        "\n",
        "\n",
        "# metrics.roc_auc_score"
      ],
      "metadata": {
        "id": "cHWhQXTS08W1"
      },
      "execution_count": null,
      "outputs": []
    },
    {
      "cell_type": "code",
      "source": [
        "roc_auc_score(y_test, y_proba_1)"
      ],
      "metadata": {
        "colab": {
          "base_uri": "https://localhost:8080/"
        },
        "id": "v8sP4jmE-p4Z",
        "outputId": "e7e59a3f-730a-4966-82c6-854829b6f74d"
      },
      "execution_count": null,
      "outputs": [
        {
          "output_type": "execute_result",
          "data": {
            "text/plain": [
              "0.8450834051217793"
            ]
          },
          "metadata": {},
          "execution_count": 87
        }
      ]
    },
    {
      "cell_type": "code",
      "source": [
        "from sklearn.metrics import roc_curve, RocCurveDisplay, roc_auc_score, precision_recall_curve\n",
        "\n",
        "RocCurveDisplay.from_predictions(y_test, y_proba_1)\n",
        "\n",
        "plt.title('CURVA ROC', loc='left')\n",
        "\n",
        "# plt.plot(fpr, tpr)\n",
        "# plt.xlabel('FPR')\n",
        "# plt.ylabel('TPR')\n",
        "\n",
        "x = np.linspace(0, 1, 100)\n",
        "y = X\n",
        "\n",
        "# plt.plot(x, y, ls=':', color='blue')\n",
        "plt.show()"
      ],
      "metadata": {
        "colab": {
          "base_uri": "https://localhost:8080/",
          "height": 295
        },
        "id": "u3DTzXC72CnT",
        "outputId": "63491414-eb90-4817-d18f-2b739efb0829"
      },
      "execution_count": null,
      "outputs": [
        {
          "output_type": "display_data",
          "data": {
            "text/plain": [
              "<Figure size 432x288 with 1 Axes>"
            ],
            "image/png": "[encoded data removed]"
          },
          "metadata": {
            "needs_background": "light"
          }
        }
      ]
    },
    {
      "cell_type": "markdown",
      "source": [
        "##PREDIÇÕES LOGIT"
      ],
      "metadata": {
        "id": "GiRaI6SelbN_"
      }
    },
    {
      "cell_type": "code",
      "source": [
        "df_test = pd.read_csv('/content/drive/MyDrive/UFRJ/machine_learning/test.csv')\n",
        "df_test.head(1)"
      ],
      "metadata": {
        "colab": {
          "base_uri": "https://localhost:8080/",
          "height": 174
        },
        "id": "LQOfl2JUleyB",
        "outputId": "cf9b3ed1-573d-44ef-a2d0-ee154a3a4b82"
      },
      "execution_count": null,
      "outputs": [
        {
          "output_type": "execute_result",
          "data": {
            "text/plain": [
              "      id product_code  loading attribute_0 attribute_1  attribute_2  \\\n",
              "0  26570            F   119.57  material_5  material_6            6   \n",
              "\n",
              "   attribute_3  measurement_0  measurement_1  measurement_2  ...  \\\n",
              "0            4              6              9              6  ...   \n",
              "\n",
              "   measurement_8  measurement_9  measurement_10  measurement_11  \\\n",
              "0         18.654         10.802          15.909           18.07   \n",
              "\n",
              "   measurement_12  measurement_13  measurement_14  measurement_15  \\\n",
              "0          13.772          13.659          16.825          13.742   \n",
              "\n",
              "   measurement_16  measurement_17  \n",
              "0           17.71         634.612  \n",
              "\n",
              "[1 rows x 25 columns]"
            ],
            "text/html": [
              "\n",
              "  <div id=\"df-f024361d-b666-42e4-97ad-f3ad87d0be4c\">\n",
              "    <div class=\"colab-df-container\">\n",
              "      <div>\n",
              "<style scoped>\n",
              "    .dataframe tbody tr th:only-of-type {\n",
              "        vertical-align: middle;\n",
              "    }\n",
              "\n",
              "    .dataframe tbody tr th {\n",
              "        vertical-align: top;\n",
              "    }\n",
              "\n",
              "    .dataframe thead th {\n",
              "        text-align: right;\n",
              "    }\n",
              "</style>\n",
              "<table border=\"1\" class=\"dataframe\">\n",
              "  <thead>\n",
              "    <tr style=\"text-align: right;\">\n",
              "      <th></th>\n",
              "      <th>id</th>\n",
              "      <th>product_code</th>\n",
              "      <th>loading</th>\n",
              "      <th>attribute_0</th>\n",
              "      <th>attribute_1</th>\n",
              "      <th>attribute_2</th>\n",
              "      <th>attribute_3</th>\n",
              "      <th>measurement_0</th>\n",
              "      <th>measurement_1</th>\n",
              "      <th>measurement_2</th>\n",
              "      <th>...</th>\n",
              "      <th>measurement_8</th>\n",
              "      <th>measurement_9</th>\n",
              "      <th>measurement_10</th>\n",
              "      <th>measurement_11</th>\n",
              "      <th>measurement_12</th>\n",
              "      <th>measurement_13</th>\n",
              "      <th>measurement_14</th>\n",
              "      <th>measurement_15</th>\n",
              "      <th>measurement_16</th>\n",
              "      <th>measurement_17</th>\n",
              "    </tr>\n",
              "  </thead>\n",
              "  <tbody>\n",
              "    <tr>\n",
              "      <th>0</th>\n",
              "      <td>26570</td>\n",
              "      <td>F</td>\n",
              "      <td>119.57</td>\n",
              "      <td>material_5</td>\n",
              "      <td>material_6</td>\n",
              "      <td>6</td>\n",
              "      <td>4</td>\n",
              "      <td>6</td>\n",
              "      <td>9</td>\n",
              "      <td>6</td>\n",
              "      <td>...</td>\n",
              "      <td>18.654</td>\n",
              "      <td>10.802</td>\n",
              "      <td>15.909</td>\n",
              "      <td>18.07</td>\n",
              "      <td>13.772</td>\n",
              "      <td>13.659</td>\n",
              "      <td>16.825</td>\n",
              "      <td>13.742</td>\n",
              "      <td>17.71</td>\n",
              "      <td>634.612</td>\n",
              "    </tr>\n",
              "  </tbody>\n",
              "</table>\n",
              "<p>1 rows × 25 columns</p>\n",
              "</div>\n",
              "      <button class=\"colab-df-convert\" onclick=\"convertToInteractive('df-f024361d-b666-42e4-97ad-f3ad87d0be4c')\"\n",
              "              title=\"Convert this dataframe to an interactive table.\"\n",
              "              style=\"display:none;\">\n",
              "        \n",
              "  <svg xmlns=\"http://www.w3.org/2000/svg\" height=\"24px\"viewBox=\"0 0 24 24\"\n",
              "       width=\"24px\">\n",
              "    <path d=\"M0 0h24v24H0V0z\" fill=\"none\"/>\n",
              "    <path d=\"M18.56 5.44l.94 2.06.94-2.06 2.06-.94-2.06-.94-.94-2.06-.94 2.06-2.06.94zm-11 1L8.5 8.5l.94-2.06 2.06-.94-2.06-.94L8.5 2.5l-.94 2.06-2.06.94zm10 10l.94 2.06.94-2.06 2.06-.94-2.06-.94-.94-2.06-.94 2.06-2.06.94z\"/><path d=\"M17.41 7.96l-1.37-1.37c-.4-.4-.92-.59-1.43-.59-.52 0-1.04.2-1.43.59L10.3 9.45l-7.72 7.72c-.78.78-.78 2.05 0 2.83L4 21.41c.39.39.9.59 1.41.59.51 0 1.02-.2 1.41-.59l7.78-7.78 2.81-2.81c.8-.78.8-2.07 0-2.86zM5.41 20L4 18.59l7.72-7.72 1.47 1.35L5.41 20z\"/>\n",
              "  </svg>\n",
              "      </button>\n",
              "      \n",
              "  <style>\n",
              "    .colab-df-container {\n",
              "      display:flex;\n",
              "      flex-wrap:wrap;\n",
              "      gap: 12px;\n",
              "    }\n",
              "\n",
              "    .colab-df-convert {\n",
              "      background-color: #E8F0FE;\n",
              "      border: none;\n",
              "      border-radius: 50%;\n",
              "      cursor: pointer;\n",
              "      display: none;\n",
              "      fill: #1967D2;\n",
              "      height: 32px;\n",
              "      padding: 0 0 0 0;\n",
              "      width: 32px;\n",
              "    }\n",
              "\n",
              "    .colab-df-convert:hover {\n",
              "      background-color: #E2EBFA;\n",
              "      box-shadow: 0px 1px 2px rgba(60, 64, 67, 0.3), 0px 1px 3px 1px rgba(60, 64, 67, 0.15);\n",
              "      fill: #174EA6;\n",
              "    }\n",
              "\n",
              "    [theme=dark] .colab-df-convert {\n",
              "      background-color: #3B4455;\n",
              "      fill: #D2E3FC;\n",
              "    }\n",
              "\n",
              "    [theme=dark] .colab-df-convert:hover {\n",
              "      background-color: #434B5C;\n",
              "      box-shadow: 0px 1px 3px 1px rgba(0, 0, 0, 0.15);\n",
              "      filter: drop-shadow(0px 1px 2px rgba(0, 0, 0, 0.3));\n",
              "      fill: #FFFFFF;\n",
              "    }\n",
              "  </style>\n",
              "\n",
              "      <script>\n",
              "        const buttonEl =\n",
              "          document.querySelector('#df-f024361d-b666-42e4-97ad-f3ad87d0be4c button.colab-df-convert');\n",
              "        buttonEl.style.display =\n",
              "          google.colab.kernel.accessAllowed ? 'block' : 'none';\n",
              "\n",
              "        async function convertToInteractive(key) {\n",
              "          const element = document.querySelector('#df-f024361d-b666-42e4-97ad-f3ad87d0be4c');\n",
              "          const dataTable =\n",
              "            await google.colab.kernel.invokeFunction('convertToInteractive',\n",
              "                                                     [key], {});\n",
              "          if (!dataTable) return;\n",
              "\n",
              "          const docLinkHtml = 'Like what you see? Visit the ' +\n",
              "            '<a target=\"_blank\" href=https://colab.research.google.com/notebooks/data_table.ipynb>data table notebook</a>'\n",
              "            + ' to learn more about interactive tables.';\n",
              "          element.innerHTML = '';\n",
              "          dataTable['output_type'] = 'display_data';\n",
              "          await google.colab.output.renderOutput(dataTable, element);\n",
              "          const docLink = document.createElement('div');\n",
              "          docLink.innerHTML = docLinkHtml;\n",
              "          element.appendChild(docLink);\n",
              "        }\n",
              "      </script>\n",
              "    </div>\n",
              "  </div>\n",
              "  "
            ]
          },
          "metadata": {},
          "execution_count": 89
        }
      ]
    },
    {
      "cell_type": "markdown",
      "metadata": {
        "id": "lkilLKxppyCX"
      },
      "source": [
        "VERIFICANDO A PRESENÇA DE DADOS NULOS"
      ]
    },
    {
      "cell_type": "code",
      "execution_count": null,
      "metadata": {
        "colab": {
          "base_uri": "https://localhost:8080/"
        },
        "outputId": "52e5e50b-ef5b-4630-ae1e-79927919ec38",
        "id": "A-5_u3tlpyCY"
      },
      "outputs": [
        {
          "output_type": "execute_result",
          "data": {
            "text/plain": [
              "id                   0\n",
              "product_code         0\n",
              "loading            223\n",
              "attribute_0          0\n",
              "attribute_1          0\n",
              "attribute_2          0\n",
              "attribute_3          0\n",
              "measurement_0        0\n",
              "measurement_1        0\n",
              "measurement_2        0\n",
              "measurement_3      329\n",
              "measurement_4      409\n",
              "measurement_5      508\n",
              "measurement_6      624\n",
              "measurement_7      720\n",
              "measurement_8      846\n",
              "measurement_9      904\n",
              "measurement_10    1067\n",
              "measurement_11    1136\n",
              "measurement_12    1240\n",
              "measurement_13    1303\n",
              "measurement_14    1440\n",
              "measurement_15    1542\n",
              "measurement_16    1678\n",
              "measurement_17    1740\n",
              "dtype: int64"
            ]
          },
          "metadata": {},
          "execution_count": 90
        }
      ],
      "source": [
        "df_test.isnull().sum()"
      ]
    },
    {
      "cell_type": "markdown",
      "metadata": {
        "id": "1CSoJlQOpyCZ"
      },
      "source": [
        "PREENCHENDO OS VALORS NANs USANDO \"SAMPLEIMPUTER\" DO SKLEARN"
      ]
    },
    {
      "cell_type": "code",
      "execution_count": null,
      "metadata": {
        "colab": {
          "base_uri": "https://localhost:8080/"
        },
        "outputId": "b4e0d55d-9acd-4f82-e9a6-ee63986499b1",
        "id": "jH7DAc4TpyCZ"
      },
      "outputs": [
        {
          "output_type": "execute_result",
          "data": {
            "text/plain": [
              "SimpleImputer(strategy='median')"
            ]
          },
          "metadata": {},
          "execution_count": 91
        }
      ],
      "source": [
        "most_imputer = SimpleImputer(missing_values=np.nan, strategy='median')\n",
        "most_imputer"
      ]
    },
    {
      "cell_type": "markdown",
      "metadata": {
        "id": "PSjjToMXpyCZ"
      },
      "source": [
        "PREENCHENDO AS COLUNAS COM A MEDIANA"
      ]
    },
    {
      "cell_type": "code",
      "execution_count": null,
      "metadata": {
        "id": "t0ELxCT3pyCZ"
      },
      "outputs": [],
      "source": [
        "df_test.loading = most_imputer.fit_transform(df_test[['loading']])\n",
        "# df_test.measurement_3 = most_imputer.fit_transform(df_test[['measurement_3']])\n",
        "df_test.measurement_4 = most_imputer.fit_transform(df_test[['measurement_4']])\n",
        "df_test.measurement_5 = most_imputer.fit_transform(df_test[['measurement_5']])\n",
        "df_test.measurement_6 = most_imputer.fit_transform(df_test[['measurement_6']])\n",
        "# df_test.measurement_7 = most_imputer.fit_transform(df_test[['measurement_7']])\n",
        "df_test.measurement_8 = most_imputer.fit_transform(df_test[['measurement_8']])\n",
        "df_test.measurement_9 = most_imputer.fit_transform(df_test[['measurement_9']])\n",
        "df_test.measurement_10 = most_imputer.fit_transform(df_test[['measurement_10']])\n",
        "# df_test.measurement_11 = most_imputer.fit_transform(df_test[['measurement_11']])\n",
        "df_test.measurement_12 = most_imputer.fit_transform(df_test[['measurement_12']])\n",
        "df_test.measurement_13 = most_imputer.fit_transform(df_test[['measurement_13']])\n",
        "df_test.measurement_14 = most_imputer.fit_transform(df_test[['measurement_14']])\n",
        "df_test.measurement_15 = most_imputer.fit_transform(df_test[['measurement_15']])\n",
        "df_test.measurement_16 = most_imputer.fit_transform(df_test[['measurement_16']])\n",
        "df_test.measurement_17 = most_imputer.fit_transform(df_test[['measurement_17']])"
      ]
    },
    {
      "cell_type": "markdown",
      "source": [
        "TRANSFORMANDO VALORES STRINGS DA COLUINA ['PRODUCT_CODE'] EM VALORES NUMÉRICOS"
      ],
      "metadata": {
        "id": "Xg2g6oLClaK5"
      }
    },
    {
      "cell_type": "code",
      "source": [
        "df_test['product_code'].value_counts()"
      ],
      "metadata": {
        "colab": {
          "base_uri": "https://localhost:8080/"
        },
        "outputId": "f442663f-2c5c-4518-a36d-efb15432904c",
        "id": "_vpBJtDllaK5"
      },
      "execution_count": null,
      "outputs": [
        {
          "output_type": "execute_result",
          "data": {
            "text/plain": [
              "F    5422\n",
              "I    5228\n",
              "G    5107\n",
              "H    5018\n",
              "Name: product_code, dtype: int64"
            ]
          },
          "metadata": {},
          "execution_count": 93
        }
      ]
    },
    {
      "cell_type": "code",
      "source": [
        "df_test = df_test.replace(to_replace = 'F', value = 6)\n",
        "df_test = df_test.replace(to_replace = 'G', value = 7)\n",
        "df_test = df_test.replace(to_replace = 'H', value = 8)\n",
        "df_test = df_test.replace(to_replace = 'I', value = 9)\n",
        "\n"
      ],
      "metadata": {
        "id": "rtFaOTJFlaK6"
      },
      "execution_count": null,
      "outputs": []
    },
    {
      "cell_type": "markdown",
      "source": [
        "TRANSFORMANDO VALORES STRINGS DA COLUINA ['attribute_0'] EM VALORES NUMÉRICOS"
      ],
      "metadata": {
        "id": "_eH1ye2mlaK6"
      }
    },
    {
      "cell_type": "code",
      "source": [
        "df_test['attribute_0'].value_counts()"
      ],
      "metadata": {
        "colab": {
          "base_uri": "https://localhost:8080/"
        },
        "outputId": "f2c7ea48-8d92-4373-cd6f-8b5979919f18",
        "id": "4GpsIVM-laK6"
      },
      "execution_count": null,
      "outputs": [
        {
          "output_type": "execute_result",
          "data": {
            "text/plain": [
              "material_5    10529\n",
              "material_7    10246\n",
              "Name: attribute_0, dtype: int64"
            ]
          },
          "metadata": {},
          "execution_count": 95
        }
      ]
    },
    {
      "cell_type": "code",
      "source": [
        "df_test = df_test.replace(to_replace = 'material_5', value = 5)\n",
        "df_test = df_test.replace(to_replace = 'material_7', value = 7)"
      ],
      "metadata": {
        "id": "ddgakSbElaK7"
      },
      "execution_count": null,
      "outputs": []
    },
    {
      "cell_type": "markdown",
      "source": [
        ":TRANSFORMANDO VALORES STRINGS DA COLUINA ['attribute_1'] EM VALORES NUMÉRICOS"
      ],
      "metadata": {
        "id": "ikvv_whZl-bS"
      }
    },
    {
      "cell_type": "code",
      "source": [
        "df_test['attribute_1'].value_counts()"
      ],
      "metadata": {
        "colab": {
          "base_uri": "https://localhost:8080/"
        },
        "outputId": "3d16f174-c74c-47dd-b8bf-1900569c5723",
        "id": "tW8Ve0fdl-bS"
      },
      "execution_count": null,
      "outputs": [
        {
          "output_type": "execute_result",
          "data": {
            "text/plain": [
              "material_6    10529\n",
              "5              5228\n",
              "7              5018\n",
              "Name: attribute_1, dtype: int64"
            ]
          },
          "metadata": {},
          "execution_count": 97
        }
      ]
    },
    {
      "cell_type": "code",
      "source": [
        "df_test = df_test.replace(to_replace = 'material_6', value = 5)\n",
        "df_test.columns"
      ],
      "metadata": {
        "colab": {
          "base_uri": "https://localhost:8080/"
        },
        "id": "awOBf3Wpl-bS",
        "outputId": "22536791-bb61-433e-8a03-2845b152e564"
      },
      "execution_count": null,
      "outputs": [
        {
          "output_type": "execute_result",
          "data": {
            "text/plain": [
              "Index(['id', 'product_code', 'loading', 'attribute_0', 'attribute_1',\n",
              "       'attribute_2', 'attribute_3', 'measurement_0', 'measurement_1',\n",
              "       'measurement_2', 'measurement_3', 'measurement_4', 'measurement_5',\n",
              "       'measurement_6', 'measurement_7', 'measurement_8', 'measurement_9',\n",
              "       'measurement_10', 'measurement_11', 'measurement_12', 'measurement_13',\n",
              "       'measurement_14', 'measurement_15', 'measurement_16', 'measurement_17'],\n",
              "      dtype='object')"
            ]
          },
          "metadata": {},
          "execution_count": 98
        }
      ]
    },
    {
      "cell_type": "markdown",
      "source": [
        "DROPANDO AS COLUNAS"
      ],
      "metadata": {
        "id": "glbsxrs7oRdv"
      }
    },
    {
      "cell_type": "code",
      "source": [
        "df_test = df_test.drop(columns='measurement_0')\n",
        "df_test = df_test.drop(columns='measurement_1')\n",
        "df_test = df_test.drop(columns='measurement_2')\n",
        "\n",
        "\n",
        "# df = df.drop(columns='measurement_4')\n",
        "# df = df.drop(columns='measurement_5')\n",
        "# df = df.drop(columns='measurement_6')\n",
        "# df = df.drop(columns='measurement_8')\n",
        "# df = df.drop(columns='measurement_9')\n",
        "# df = df.drop(columns='measurement_10')\n",
        "# df = df.drop(columns='measurement_12')\n",
        "# df = df.drop(columns='measurement_13')\n",
        "# df = df.drop(columns='measurement_14')\n",
        "# df = df.drop(columns='measurement_15')\n",
        "# df = df.drop(columns='measurement_16')\n",
        "# df = df.drop(columns='measurement_17')"
      ],
      "metadata": {
        "id": "KNPVYIKDoOZp"
      },
      "execution_count": null,
      "outputs": []
    },
    {
      "cell_type": "code",
      "source": [
        "df_test = df_test.drop(columns='measurement_3')\n",
        "df_test = df_test.drop(columns='measurement_7')\n",
        "df_test = df_test.drop(columns='measurement_11')\n",
        "df_test = df_test.drop(columns='product_code')\n",
        "df_test = df_test.drop(columns='attribute_0')\n",
        "df_test = df_test.drop(columns='attribute_1')"
      ],
      "metadata": {
        "id": "kDJ56UrioOZp"
      },
      "execution_count": null,
      "outputs": []
    },
    {
      "cell_type": "code",
      "source": [
        "# X_from_CSV = df_test.iloc[:, 1:20].values\n",
        "\n",
        "X_test_new = ss.transform(df_test)\n",
        "predictions = logit.predict(X_test_new)\n",
        "# predictions = (predictions > 0.52)\n",
        "\n",
        "df = pd.DataFrame(\n",
        "    {'id': df_test['id'], \n",
        "     'failure': predictions\n",
        "     })\n",
        "\n",
        "df.to_csv('result_RL2.csv', index=False)"
      ],
      "metadata": {
        "id": "riP-JyxS3JTM",
        "colab": {
          "base_uri": "https://localhost:8080/"
        },
        "outputId": "cb1252bb-623a-4c20-c106-a498910253d4"
      },
      "execution_count": null,
      "outputs": [
        {
          "output_type": "stream",
          "name": "stderr",
          "text": [
            "/usr/local/lib/python3.7/dist-packages/sklearn/base.py:451: UserWarning: X does not have valid feature names, but LogisticRegression was fitted with feature names\n",
            "  \"X does not have valid feature names, but\"\n"
          ]
        }
      ]
    },
    {
      "cell_type": "markdown",
      "source": [
        "##ARVORE DE DECISÃO"
      ],
      "metadata": {
        "id": "jVQ2brt0zohZ"
      }
    },
    {
      "cell_type": "code",
      "source": [
        "df"
      ],
      "metadata": {
        "id": "Zf-cURBBzzer"
      },
      "execution_count": null,
      "outputs": []
    },
    {
      "cell_type": "code",
      "source": [
        "df_model = df.select_dtypes(include=np.number)"
      ],
      "metadata": {
        "id": "HfoYPDUpzzhA"
      },
      "execution_count": null,
      "outputs": []
    },
    {
      "cell_type": "code",
      "source": [
        "# sns.pairplot(data=df_model, hue=\"failure\")"
      ],
      "metadata": {
        "id": "j5iD8iLnzzjp"
      },
      "execution_count": null,
      "outputs": []
    },
    {
      "cell_type": "markdown",
      "source": [
        "SEPARANDO OS DADOS EM TRAIN E TEST"
      ],
      "metadata": {
        "id": "9eV7q7uF0LCw"
      }
    },
    {
      "cell_type": "code",
      "source": [
        "X = df.drop(columns='failure')\n",
        "y = df['failure']"
      ],
      "metadata": {
        "id": "gu8K-5fH0LCw"
      },
      "execution_count": null,
      "outputs": []
    },
    {
      "cell_type": "code",
      "source": [
        "X_train, X_test, y_train, y_test = train_test_split(X, y, test_size=0.2, random_state=101, stratify=y)"
      ],
      "metadata": {
        "id": "C6_LbeVw0LCw"
      },
      "execution_count": null,
      "outputs": []
    },
    {
      "cell_type": "markdown",
      "source": [
        "PADRONIZE RECURSOS REMOVENDO A MÉDIA E DIMENSIONANDO PARA A VARIAÇÃO DA UNIDADE."
      ],
      "metadata": {
        "id": "wlM79_r20LCw"
      }
    },
    {
      "cell_type": "code",
      "source": [
        "ss = StandardScaler().fit(X_train)\n",
        "X_train_ss = pd.DataFrame(ss.transform(X_train), columns=X_train.columns)\n",
        "X_train_ss"
      ],
      "metadata": {
        "id": "UwZMUPwN0LCw"
      },
      "execution_count": null,
      "outputs": []
    },
    {
      "cell_type": "code",
      "source": [
        "from sklearn.tree import DecisionTreeClassifier"
      ],
      "metadata": {
        "id": "xvR_3AZkzzpJ"
      },
      "execution_count": null,
      "outputs": []
    },
    {
      "cell_type": "code",
      "source": [
        "# ============================================\n",
        "\n",
        "dt = DecisionTreeClassifier().fit(X_train, y_train)\n",
        "\n",
        "# ============================================\n",
        "\n",
        "print(\"\\nMétricas de avaliação de treino:\")\n",
        "\n",
        "y_pred_train = dt.predict(X_train)\n",
        "\n",
        "print(confusion_matrix(y_train, y_pred_train))\n",
        "\n",
        "ConfusionMatrixDisplay.from_predictions(y_train, y_pred_train)\n",
        "plt.show()\n",
        "\n",
        "print(classification_report(y_train, y_pred_train))\n",
        "\n",
        "# ============================================\n",
        "\n",
        "print(\"\\nMétricas de avaliação de teste:\")\n",
        "\n",
        "y_pred_test = dt.predict(X_test)\n",
        "\n",
        "print(confusion_matrix(y_test, y_pred_test))\n",
        "\n",
        "ConfusionMatrixDisplay.from_predictions(y_test, y_pred_test)\n",
        "plt.show()\n",
        "\n",
        "print(classification_report(y_test, y_pred_test))"
      ],
      "metadata": {
        "id": "jHzfGcEkzzrl"
      },
      "execution_count": null,
      "outputs": []
    },
    {
      "cell_type": "code",
      "source": [
        "from sklearn.tree import plot_tree"
      ],
      "metadata": {
        "id": "UJpajYPg0TbB"
      },
      "execution_count": null,
      "outputs": []
    },
    {
      "cell_type": "code",
      "source": [
        "# fig, axs = plt.subplots(nrows=1, ncols=1, figsize=(18, 18), dpi=300)\n",
        "\n",
        "# plot_tree(dt)\n",
        "\n",
        "# fig.savefig(\"arvore1.png\")"
      ],
      "metadata": {
        "id": "tEJi8DsG0Tdu"
      },
      "execution_count": null,
      "outputs": []
    },
    {
      "cell_type": "code",
      "source": [
        "# fig, axs = plt.subplots(nrows=1, ncols=1, figsize=(18, 18), dpi=500)\n",
        "\n",
        "# plot_tree(dt, feature_names=X_train.columns)\n",
        "\n",
        "# fig.savefig(\"arvore1.png\")"
      ],
      "metadata": {
        "id": "SOPTFtfj0Tgs"
      },
      "execution_count": null,
      "outputs": []
    },
    {
      "cell_type": "code",
      "source": [
        "# fig, axs = plt.subplots(nrows=1, ncols=1, figsize=(18, 18))\n",
        "\n",
        "# plot_tree(dt, feature_names=X_train.columns, max_depth=3)"
      ],
      "metadata": {
        "id": "TtsoDJfp0TjT"
      },
      "execution_count": null,
      "outputs": []
    },
    {
      "cell_type": "code",
      "source": [
        "dt.get_depth()"
      ],
      "metadata": {
        "id": "MclH7MoG0cP3"
      },
      "execution_count": null,
      "outputs": []
    },
    {
      "cell_type": "code",
      "source": [
        "dt.get_n_leaves()"
      ],
      "metadata": {
        "id": "lfAdy2T00cSi"
      },
      "execution_count": null,
      "outputs": []
    },
    {
      "cell_type": "code",
      "source": [
        "from sklearn.pipeline import Pipeline\n",
        "from sklearn.model_selection import GridSearchCV, StratifiedKFold"
      ],
      "metadata": {
        "id": "lrtpd6mI0cVv"
      },
      "execution_count": null,
      "outputs": []
    },
    {
      "cell_type": "code",
      "source": [
        "# ============================================\n",
        "# pipe com só uma etapa (modelagem), pq nao fizemos nada de preprocessamento\n",
        "\n",
        "pipe = Pipeline([(\"dt\", DecisionTreeClassifier(random_state=42))])\n",
        "\n",
        "# ============================================\n",
        "\n",
        "params_grid_dt = {\"dt__criterion\" : [\"gini\", \"entropy\"],\n",
        "                  \"dt__splitter\" : [\"best\", \"random\"],\n",
        "                  \"dt__max_depth\" : range(2, 11)} \n",
        "\n",
        "splitter = StratifiedKFold(n_splits=5, shuffle=True, random_state=42)\n",
        "\n",
        "grid_dt = GridSearchCV(estimator=pipe,\n",
        "                       param_grid=params_grid_dt,\n",
        "                       scoring=\"f1_weighted\",\n",
        "                       cv=splitter,\n",
        "                       verbose=10)\n",
        "\n",
        "grid_dt.fit(X_train, y_train)\n",
        "\n",
        "# ============================================"
      ],
      "metadata": {
        "id": "O40PwQ9E0cX9"
      },
      "execution_count": null,
      "outputs": []
    },
    {
      "cell_type": "code",
      "source": [
        "grid_dt.best_params_"
      ],
      "metadata": {
        "id": "_buawRb20caC"
      },
      "execution_count": null,
      "outputs": []
    },
    {
      "cell_type": "code",
      "source": [
        "grid_dt.best_params_"
      ],
      "metadata": {
        "id": "fNckEAyP0cc2"
      },
      "execution_count": null,
      "outputs": []
    },
    {
      "cell_type": "code",
      "source": [
        "# ============================================\n",
        "\n",
        "print(\"\\nMétricas de avaliação de treino:\")\n",
        "\n",
        "y_pred_train = grid_dt.predict(X_train)\n",
        "\n",
        "print(confusion_matrix(y_train, y_pred_train))\n",
        "\n",
        "ConfusionMatrixDisplay.from_predictions(y_train, y_pred_train)\n",
        "plt.show()\n",
        "\n",
        "print(classification_report(y_train, y_pred_train))\n",
        "\n",
        "# ============================================\n",
        "\n",
        "print(\"\\nMétricas de avaliação de teste:\")\n",
        "\n",
        "y_pred_test = grid_dt.predict(X_test)\n",
        "\n",
        "print(confusion_matrix(y_test, y_pred_test))\n",
        "\n",
        "ConfusionMatrixDisplay.from_predictions(y_test, y_pred_test)\n",
        "plt.show()\n",
        "\n",
        "print(classification_report(y_test, y_pred_test))"
      ],
      "metadata": {
        "id": "U_wA6uR00t3-"
      },
      "execution_count": null,
      "outputs": []
    },
    {
      "cell_type": "code",
      "source": [
        "grid_dt"
      ],
      "metadata": {
        "id": "koJwSr010cfB"
      },
      "execution_count": null,
      "outputs": []
    },
    {
      "cell_type": "code",
      "source": [
        "grid_dt.best_estimator_"
      ],
      "metadata": {
        "id": "1B1XAx0Q0cjl"
      },
      "execution_count": null,
      "outputs": []
    },
    {
      "cell_type": "code",
      "source": [
        "grid_dt.best_estimator_[\"dt\"]"
      ],
      "metadata": {
        "id": "6IxZ-I8u0cmf"
      },
      "execution_count": null,
      "outputs": []
    },
    {
      "cell_type": "code",
      "source": [
        "# fig, axs = plt.subplots(nrows=1, ncols=1, figsize=(18, 18), dpi=500)\n",
        "\n",
        "# # note que temos que passar o objeto da árvore, que está dentro do objeto do grid search!\n",
        "# plot_tree(grid_dt.best_estimator_[\"dt\"], feature_names=X_train.columns)\n",
        "\n",
        "# fig.savefig(\"arvore_regularizada.png\")1"
      ],
      "metadata": {
        "id": "OwmcsaMo0cqd"
      },
      "execution_count": null,
      "outputs": []
    },
    {
      "cell_type": "code",
      "source": [
        "from sklearn.model_selection import RandomizedSearchCV"
      ],
      "metadata": {
        "id": "05yIQQvL0csm"
      },
      "execution_count": null,
      "outputs": []
    },
    {
      "cell_type": "code",
      "source": [
        "import scipy\n",
        "\n",
        "# distirbuição uniforme sobre o espaço amostral (0, 1) pro hiperparametro dt__min_impurity_decrease\n",
        "scipy.stats.uniform(0, 1)"
      ],
      "metadata": {
        "id": "7prGyv0V0cwK"
      },
      "execution_count": null,
      "outputs": []
    },
    {
      "cell_type": "code",
      "source": [
        "import scipy\n",
        "\n",
        "# distirbuição uniforme sobre o espaço amostral (0, 1) pro hiperparametro dt__min_impurity_decrease\n",
        "scipy.stats.uniform(0, 1)"
      ],
      "metadata": {
        "id": "MByM6R6w02G_"
      },
      "execution_count": null,
      "outputs": []
    },
    {
      "cell_type": "code",
      "source": [
        "# ============================================\n",
        "# pipe com só uma etapa (modelagem), pq nao fizemos nada de preprocessamento\n",
        "\n",
        "pipe = Pipeline([(\"dt\", DecisionTreeClassifier(random_state=42))])\n",
        "\n",
        "# ============================================\n",
        "\n",
        "params_ditro_dt = {\"dt__criterion\" : [\"gini\", \"entropy\"],\n",
        "                   \"dt__splitter\" : [\"best\", \"random\"],\n",
        "                   \"dt__min_impurity_decrease\" : scipy.stats.uniform(0, 1)} \n",
        "\n",
        "splitter = StratifiedKFold(n_splits=5, shuffle=True, random_state=42)\n",
        "\n",
        "grid_dt_random = RandomizedSearchCV(estimator=pipe,\n",
        "                                     n_iter=100,\n",
        "                                     param_distributions=params_ditro_dt,\n",
        "                                     scoring=\"f1_weighted\",\n",
        "                                     cv=splitter,\n",
        "                                     verbose=10)\n",
        "\n",
        "grid_dt_random.fit(X_train, y_train)\n",
        "\n",
        "# ============================================"
      ],
      "metadata": {
        "id": "eh1NbrMN02Jl"
      },
      "execution_count": null,
      "outputs": []
    },
    {
      "cell_type": "code",
      "source": [
        "# ============================================\n",
        "\n",
        "print(\"\\nMétricas de avaliação de treino:\")\n",
        "\n",
        "y_pred_train = grid_dt_random.predict(X_train)\n",
        "\n",
        "print(confusion_matrix(y_train, y_pred_train))\n",
        "\n",
        "ConfusionMatrixDisplay.from_predictions(y_train, y_pred_train)\n",
        "plt.show()\n",
        "\n",
        "print(classification_report(y_train, y_pred_train))\n",
        "\n",
        "# ============================================\n",
        "\n",
        "print(\"\\nMétricas de avaliação de teste:\")\n",
        "\n",
        "y_pred_test = grid_dt_random.predict(X_test)\n",
        "\n",
        "print(confusion_matrix(y_test, y_pred_test))\n",
        "\n",
        "ConfusionMatrixDisplay.from_predictions(y_test, y_pred_test)\n",
        "plt.show()\n",
        "\n",
        "print(classification_report(y_test, y_pred_test))"
      ],
      "metadata": {
        "id": "x4WgIRqa02MF"
      },
      "execution_count": null,
      "outputs": []
    },
    {
      "cell_type": "code",
      "source": [
        "grid_dt_random.best_params_"
      ],
      "metadata": {
        "id": "fhWkwXQa02O3"
      },
      "execution_count": null,
      "outputs": []
    },
    {
      "cell_type": "code",
      "source": [
        "grid_dt_random.best_estimator_[\"dt\"]"
      ],
      "metadata": {
        "id": "ve1W8IlO02RK"
      },
      "execution_count": null,
      "outputs": []
    },
    {
      "cell_type": "code",
      "source": [
        "grid_dt_random.best_estimator_[\"dt\"].get_depth()"
      ],
      "metadata": {
        "id": "OzjUHTB902Tx"
      },
      "execution_count": null,
      "outputs": []
    },
    {
      "cell_type": "code",
      "source": [
        "grid_dt_random.best_estimator_[\"dt\"].get_n_leaves()"
      ],
      "metadata": {
        "id": "hbqKkfXu02WQ"
      },
      "execution_count": null,
      "outputs": []
    },
    {
      "cell_type": "code",
      "source": [
        "results = pd.DataFrame(grid_dt_random.cv_results_)"
      ],
      "metadata": {
        "id": "VWil3Tzm02Yh"
      },
      "execution_count": null,
      "outputs": []
    },
    {
      "cell_type": "code",
      "source": [
        "results[\"param_dt__min_impurity_decrease\"].astype(float).describe()"
      ],
      "metadata": {
        "id": "qq2o9XlS0Tlk"
      },
      "execution_count": null,
      "outputs": []
    },
    {
      "cell_type": "code",
      "source": [
        "# ============================================\n",
        "# pipe com só uma etapa (modelagem), pq nao fizemos nada de preprocessamento\n",
        "\n",
        "pipe = Pipeline([(\"dt\", DecisionTreeClassifier(random_state=42))])\n",
        "\n",
        "# ============================================\n",
        "\n",
        "params_ditro_dt = {\"dt__criterion\" : [\"gini\", \"entropy\"],\n",
        "                   \"dt__splitter\" : [\"best\", \"random\"],\n",
        "                   \"dt__min_impurity_decrease\" : scipy.stats.uniform(0, 0.05)} \n",
        "\n",
        "splitter = StratifiedKFold(n_splits=5, shuffle=True, random_state=42)\n",
        "\n",
        "grid_dt_random = RandomizedSearchCV(estimator=pipe,\n",
        "                                     n_iter=100,\n",
        "                                     param_distributions=params_ditro_dt,\n",
        "                                     scoring=\"f1_weighted\",\n",
        "                                     cv=splitter,\n",
        "                                     verbose=10)\n",
        "\n",
        "grid_dt_random.fit(X_train, y_train)\n",
        "\n",
        "# ============================================"
      ],
      "metadata": {
        "id": "hzIfFAYK0ToR"
      },
      "execution_count": null,
      "outputs": []
    },
    {
      "cell_type": "code",
      "source": [
        "pd.DataFrame(grid_dt_random.cv_results_)"
      ],
      "metadata": {
        "id": "5OGmdyZS1J9M"
      },
      "execution_count": null,
      "outputs": []
    },
    {
      "cell_type": "code",
      "source": [
        "grid_dt_random.best_params_"
      ],
      "metadata": {
        "id": "wGWZg8Pu1J__"
      },
      "execution_count": null,
      "outputs": []
    },
    {
      "cell_type": "code",
      "source": [
        "grid_dt_random.best_score_"
      ],
      "metadata": {
        "id": "ujl_EJzz1KC5"
      },
      "execution_count": null,
      "outputs": []
    },
    {
      "cell_type": "code",
      "source": [
        "grid_dt_random.best_estimator_[\"dt\"].get_depth()"
      ],
      "metadata": {
        "id": "EBBkLRZy1KFB"
      },
      "execution_count": null,
      "outputs": []
    },
    {
      "cell_type": "code",
      "source": [
        "# ============================================\n",
        "\n",
        "print(\"\\nMétricas de avaliação de treino:\")\n",
        "\n",
        "y_pred_train = grid_dt_random.predict(X_train)\n",
        "\n",
        "print(confusion_matrix(y_train, y_pred_train))\n",
        "\n",
        "ConfusionMatrixDisplay.from_predictions(y_train, y_pred_train)\n",
        "plt.show()\n",
        "\n",
        "print(classification_report(y_train, y_pred_train))\n",
        "\n",
        "# ============================================\n",
        "\n",
        "print(\"\\nMétricas de avaliação de teste:\")\n",
        "\n",
        "y_pred_test = grid_dt_random.predict(X_test)\n",
        "\n",
        "print(confusion_matrix(y_test, y_pred_test))\n",
        "\n",
        "ConfusionMatrixDisplay.from_predictions(y_test, y_pred_test)\n",
        "plt.show()\n",
        "\n",
        "print(classification_report(y_test, y_pred_test))"
      ],
      "metadata": {
        "id": "oa-08soV1KHp"
      },
      "execution_count": null,
      "outputs": []
    },
    {
      "cell_type": "code",
      "source": [
        "# ============================================\n",
        "# pipe com só uma etapa (modelagem), pq nao fizemos nada de preprocessamento\n",
        "\n",
        "pipe = Pipeline([(\"dt\", DecisionTreeClassifier(random_state=42))])\n",
        "\n",
        "# ============================================\n",
        "\n",
        "params_ditro_dt = {\"dt__criterion\" : [\"gini\", \"entropy\"],\n",
        "                   \"dt__splitter\" : [\"best\", \"random\"],\n",
        "                   \"dt__min_impurity_decrease\" : scipy.stats.uniform(0, 0.01)} \n",
        "\n",
        "splitter = StratifiedKFold(n_splits=5, shuffle=True, random_state=42)\n",
        "\n",
        "grid_dt_random = RandomizedSearchCV(estimator=pipe,\n",
        "                                     n_iter=500,\n",
        "                                     param_distributions=params_ditro_dt,\n",
        "                                     scoring=\"f1_weighted\",\n",
        "                                     cv=splitter,\n",
        "                                     verbose=10)\n",
        "\n",
        "grid_dt_random.fit(X_train, y_train)\n",
        "\n",
        "# ============================================"
      ],
      "metadata": {
        "id": "bFdsjbkX1KKg"
      },
      "execution_count": null,
      "outputs": []
    },
    {
      "cell_type": "code",
      "source": [
        "grid_dt_random.best_params_"
      ],
      "metadata": {
        "id": "h78DbR_e1KNU"
      },
      "execution_count": null,
      "outputs": []
    },
    {
      "cell_type": "code",
      "source": [
        "pd.DataFrame(grid_dt_random.cv_results_).sort_values(\"rank_test_score\")"
      ],
      "metadata": {
        "id": "AvAAtUnV1aPU"
      },
      "execution_count": null,
      "outputs": []
    },
    {
      "cell_type": "code",
      "source": [
        "# ============================================\n",
        "\n",
        "print(\"\\nMétricas de avaliação de treino:\")\n",
        "\n",
        "y_pred_train = grid_dt_random.predict(X_train)\n",
        "\n",
        "print(confusion_matrix(y_train, y_pred_train))\n",
        "\n",
        "ConfusionMatrixDisplay.from_predictions(y_train, y_pred_train)\n",
        "plt.show()\n",
        "\n",
        "print(classification_report(y_train, y_pred_train))\n",
        "\n",
        "# ============================================\n",
        "\n",
        "print(\"\\nMétricas de avaliação de teste:\")\n",
        "\n",
        "y_pred_test = grid_dt_random.predict(X_test)\n",
        "\n",
        "print(confusion_matrix(y_test, y_pred_test))\n",
        "\n",
        "ConfusionMatrixDisplay.from_predictions(y_test, y_pred_test)\n",
        "plt.show()\n",
        "\n",
        "print(classification_report(y_test, y_pred_test))"
      ],
      "metadata": {
        "id": "Xq3LVk-H1aSE"
      },
      "execution_count": null,
      "outputs": []
    },
    {
      "cell_type": "code",
      "source": [
        "grid_dt_random.best_estimator_"
      ],
      "metadata": {
        "id": "alJgPFHc1aWe"
      },
      "execution_count": null,
      "outputs": []
    },
    {
      "cell_type": "code",
      "source": [
        "from joblib import dump, load\n",
        "\n",
        "dump(grid_dt_random, 'grid_tree.joblib')"
      ],
      "metadata": {
        "id": "zl7Pi9i_1aY_"
      },
      "execution_count": null,
      "outputs": []
    },
    {
      "cell_type": "code",
      "source": [
        "pipe_lida_tree = load('grid_tree.joblib') "
      ],
      "metadata": {
        "id": "RMULXHk31abv"
      },
      "execution_count": null,
      "outputs": []
    },
    {
      "cell_type": "code",
      "source": [
        "pipe_lida_tree"
      ],
      "metadata": {
        "id": "o-6jWED41aeW"
      },
      "execution_count": null,
      "outputs": []
    },
    {
      "cell_type": "code",
      "source": [
        "# ============================================\n",
        "\n",
        "print(\"\\nMétricas de avaliação de treino:\")\n",
        "\n",
        "y_pred_train = pipe_lida_tree.predict(X_train)\n",
        "\n",
        "print(confusion_matrix(y_train, y_pred_train))\n",
        "\n",
        "ConfusionMatrixDisplay.from_predictions(y_train, y_pred_train)\n",
        "plt.show()\n",
        "\n",
        "print(classification_report(y_train, y_pred_train))\n",
        "\n",
        "# ============================================\n",
        "\n",
        "print(\"\\nMétricas de avaliação de teste:\")\n",
        "\n",
        "y_pred_test = pipe_lida_tree.predict(X_test)\n",
        "\n",
        "print(confusion_matrix(y_test, y_pred_test))\n",
        "\n",
        "ConfusionMatrixDisplay.from_predictions(y_test, y_pred_test)\n",
        "plt.show()\n",
        "\n",
        "print(classification_report(y_test, y_pred_test))"
      ],
      "metadata": {
        "id": "SZp4TXKd1a01"
      },
      "execution_count": null,
      "outputs": []
    },
    {
      "cell_type": "code",
      "source": [],
      "metadata": {
        "id": "ESUtcb2b1a3c"
      },
      "execution_count": null,
      "outputs": []
    },
    {
      "cell_type": "markdown",
      "source": [
        "PREDICT PROBA"
      ],
      "metadata": {
        "id": "ZVW5Hhxm1x0L"
      }
    },
    {
      "cell_type": "code",
      "source": [
        "from sklearn import metrics\n",
        "predict_proba = grid_dt_random.predict_proba(X_test)\n",
        "tpr, tpr, thresholds = metrics.roc_curve(y_test,predict_proba[:,1])\n",
        "print (thresholds)\n",
        "\n",
        "accuracy_ls = []\n",
        "for thres in thresholds:\n",
        "    y_pred = np.where(predict_proba[:,1]>thres,1,0)\n",
        "    # Apply desired utility function to y_preds, for example accuracy.\n",
        "    accuracy_ls.append(metrics.accuracy_score(y_test, y_pred, normalize=True))"
      ],
      "metadata": {
        "id": "8ecJ7gVi1x0M"
      },
      "execution_count": null,
      "outputs": []
    },
    {
      "cell_type": "code",
      "source": [
        "y_proba_0 = predict_proba[:, 0]\n",
        "\n",
        "# isso é o que modelamos explicitamente com o logit!\n",
        "y_proba_1 = predict_proba[:, 1]"
      ],
      "metadata": {
        "id": "c0yqK1uL1x0M"
      },
      "execution_count": null,
      "outputs": []
    },
    {
      "cell_type": "code",
      "source": [
        "from sklearn.metrics import precision_recall_curve\n",
        "\n",
        "y_proba_1 = grid_dt_random.predict_proba(X_test)[:, 1] #pipe_lida_tree\n",
        "\n",
        "\n",
        "precisions, recalls, thresholds = precision_recall_curve(y_test, y_proba_1)"
      ],
      "metadata": {
        "id": "rNa2md5x1x0M"
      },
      "execution_count": null,
      "outputs": []
    },
    {
      "cell_type": "code",
      "source": [
        "cutoff = 0.8\n",
        "\n",
        "# np.where(condicao, substituir caso True, substituir caso False)\n",
        "# pras observações cuja probabilidade de ser da classe 1 for maior que o cutoff,\n",
        "# eu atribuo o target 1. caso contrario, o target 0.\n",
        "\n",
        "y_pred_proba = np.where(y_proba_1 >= cutoff, 1, 0)\n",
        "pd.Series(y_pred_proba).value_counts()"
      ],
      "metadata": {
        "id": "RGVCdTmO1x0M"
      },
      "execution_count": null,
      "outputs": []
    },
    {
      "cell_type": "code",
      "source": [
        "# from sklearn.metrics import precision_recall_curve\n",
        "\n",
        "# # Obtendo as probabilidades de nossas previsões\n",
        "# y_scores = LogisticRegression.predict_proba(X_test)\n",
        "# y_scores = y_scores[:,1]\n",
        "\n",
        "# precision, recall, threshold = precision_recall_curve(y_train, y_scores)"
      ],
      "metadata": {
        "id": "6l3izeuZ1x0M"
      },
      "execution_count": null,
      "outputs": []
    },
    {
      "cell_type": "code",
      "source": [
        "from sklearn.metrics import roc_curve, RocCurveDisplay, roc_auc_score\n",
        "\n",
        "fpr, tpr, thresholds = roc_curve(y_test, y_pred)\n",
        "\n",
        "\n",
        "# metrics.roc_auc_score"
      ],
      "metadata": {
        "id": "JoYYzelS1x0M"
      },
      "execution_count": null,
      "outputs": []
    },
    {
      "cell_type": "code",
      "source": [
        "roc_auc_score(y_test, y_proba_1)"
      ],
      "metadata": {
        "id": "27TwyX8R1x0M"
      },
      "execution_count": null,
      "outputs": []
    },
    {
      "cell_type": "code",
      "source": [
        "from sklearn.metrics import roc_curve, RocCurveDisplay, roc_auc_score, precision_recall_curve\n",
        "\n",
        "RocCurveDisplay.from_predictions(y_test, y_proba_1)\n",
        "\n",
        "plt.title('CURVA ROC', loc='left')\n",
        "\n",
        "# plt.plot(fpr, tpr)\n",
        "# plt.xlabel('FPR')\n",
        "# plt.ylabel('TPR')\n",
        "\n",
        "x = np.linspace(0, 1, 100)\n",
        "y = X\n",
        "\n",
        "# plt.plot(x, y, ls=':', color='blue')\n",
        "plt.show()"
      ],
      "metadata": {
        "id": "i9Na3E391x0M"
      },
      "execution_count": null,
      "outputs": []
    },
    {
      "cell_type": "code",
      "source": [],
      "metadata": {
        "id": "p3WY7A_w10gu"
      },
      "execution_count": null,
      "outputs": []
    },
    {
      "cell_type": "markdown",
      "source": [
        "PREDICTIONS"
      ],
      "metadata": {
        "id": "gnyfR4Q712y7"
      }
    },
    {
      "cell_type": "code",
      "source": [
        "df_test = pd.read_csv('/content/drive/MyDrive/UFRJ/machine_learning/test.csv')\n",
        "df_test.head(1)"
      ],
      "metadata": {
        "id": "iVtCtnXT10uE"
      },
      "execution_count": null,
      "outputs": []
    },
    {
      "cell_type": "markdown",
      "metadata": {
        "id": "PJMHJYXx10uF"
      },
      "source": [
        "VERIFICANDO A PRESENÇA DE DADOS NULOS"
      ]
    },
    {
      "cell_type": "code",
      "execution_count": null,
      "metadata": {
        "id": "BoxEhz1j10uF"
      },
      "outputs": [],
      "source": [
        "df_test.isnull().sum()"
      ]
    },
    {
      "cell_type": "markdown",
      "metadata": {
        "id": "C_qx2e-H10uF"
      },
      "source": [
        "PREENCHENDO OS VALORS NANs USANDO \"SAMPLEIMPUTER\" DO SKLEARN"
      ]
    },
    {
      "cell_type": "code",
      "execution_count": null,
      "metadata": {
        "id": "qy1YDdqq10uG"
      },
      "outputs": [],
      "source": [
        "most_imputer = SimpleImputer(missing_values=np.nan, strategy='median')\n",
        "most_imputer"
      ]
    },
    {
      "cell_type": "markdown",
      "metadata": {
        "id": "W0-eM1c210uG"
      },
      "source": [
        "PREENCHENDO AS COLUNAS COM A MEDIANA"
      ]
    },
    {
      "cell_type": "code",
      "execution_count": null,
      "metadata": {
        "id": "lEYVmMmi10uG"
      },
      "outputs": [],
      "source": [
        "df_test.loading = most_imputer.fit_transform(df_test[['loading']])\n",
        "# df_test.measurement_3 = most_imputer.fit_transform(df_test[['measurement_3']])\n",
        "df_test.measurement_4 = most_imputer.fit_transform(df_test[['measurement_4']])\n",
        "df_test.measurement_5 = most_imputer.fit_transform(df_test[['measurement_5']])\n",
        "df_test.measurement_6 = most_imputer.fit_transform(df_test[['measurement_6']])\n",
        "# df_test.measurement_7 = most_imputer.fit_transform(df_test[['measurement_7']])\n",
        "df_test.measurement_8 = most_imputer.fit_transform(df_test[['measurement_8']])\n",
        "df_test.measurement_9 = most_imputer.fit_transform(df_test[['measurement_9']])\n",
        "df_test.measurement_10 = most_imputer.fit_transform(df_test[['measurement_10']])\n",
        "# df_test.measurement_11 = most_imputer.fit_transform(df_test[['measurement_11']])\n",
        "df_test.measurement_12 = most_imputer.fit_transform(df_test[['measurement_12']])\n",
        "df_test.measurement_13 = most_imputer.fit_transform(df_test[['measurement_13']])\n",
        "df_test.measurement_14 = most_imputer.fit_transform(df_test[['measurement_14']])\n",
        "df_test.measurement_15 = most_imputer.fit_transform(df_test[['measurement_15']])\n",
        "df_test.measurement_16 = most_imputer.fit_transform(df_test[['measurement_16']])\n",
        "df_test.measurement_17 = most_imputer.fit_transform(df_test[['measurement_17']])"
      ]
    },
    {
      "cell_type": "markdown",
      "source": [
        "TRANSFORMANDO VALORES STRINGS DA COLUINA ['PRODUCT_CODE'] EM VALORES NUMÉRICOS"
      ],
      "metadata": {
        "id": "4h_TEyxz10uH"
      }
    },
    {
      "cell_type": "code",
      "source": [
        "df_test['product_code'].value_counts()"
      ],
      "metadata": {
        "id": "YDi73e3r10uH"
      },
      "execution_count": null,
      "outputs": []
    },
    {
      "cell_type": "code",
      "source": [
        "df_test = df_test.replace(to_replace = 'F', value = 6)\n",
        "df_test = df_test.replace(to_replace = 'G', value = 7)\n",
        "df_test = df_test.replace(to_replace = 'H', value = 8)\n",
        "df_test = df_test.replace(to_replace = 'I', value = 9)\n",
        "\n"
      ],
      "metadata": {
        "id": "HO9TtiHc10uH"
      },
      "execution_count": null,
      "outputs": []
    },
    {
      "cell_type": "markdown",
      "source": [
        "TRANSFORMANDO VALORES STRINGS DA COLUINA ['attribute_0'] EM VALORES NUMÉRICOS"
      ],
      "metadata": {
        "id": "rT9qAa7q10uH"
      }
    },
    {
      "cell_type": "code",
      "source": [
        "df_test['attribute_0'].value_counts()"
      ],
      "metadata": {
        "id": "kwhWgs2J10uH"
      },
      "execution_count": null,
      "outputs": []
    },
    {
      "cell_type": "code",
      "source": [
        "df_test = df_test.replace(to_replace = 'material_5', value = 5)\n",
        "df_test = df_test.replace(to_replace = 'material_7', value = 7)"
      ],
      "metadata": {
        "id": "RHFPhKkQ10uH"
      },
      "execution_count": null,
      "outputs": []
    },
    {
      "cell_type": "markdown",
      "source": [
        ":TRANSFORMANDO VALORES STRINGS DA COLUINA ['attribute_1'] EM VALORES NUMÉRICOS"
      ],
      "metadata": {
        "id": "9vGc34gl10uI"
      }
    },
    {
      "cell_type": "code",
      "source": [
        "df_test['attribute_1'].value_counts()"
      ],
      "metadata": {
        "id": "XXrSYmQL10uI"
      },
      "execution_count": null,
      "outputs": []
    },
    {
      "cell_type": "code",
      "source": [
        "df_test = df_test.replace(to_replace = 'material_6', value = 5)\n",
        "df_test.columns"
      ],
      "metadata": {
        "id": "Kb-UyUue10uI"
      },
      "execution_count": null,
      "outputs": []
    },
    {
      "cell_type": "markdown",
      "source": [
        "DROPANDO AS COLUNAS"
      ],
      "metadata": {
        "id": "0-V0q_jv10uI"
      }
    },
    {
      "cell_type": "code",
      "source": [
        "df_test = df_test.drop(columns='measurement_0')\n",
        "df_test = df_test.drop(columns='measurement_1')\n",
        "df_test = df_test.drop(columns='measurement_2')\n",
        "\n",
        "\n",
        "# df = df.drop(columns='measurement_4')\n",
        "# df = df.drop(columns='measurement_5')\n",
        "# df = df.drop(columns='measurement_6')\n",
        "# df = df.drop(columns='measurement_8')\n",
        "# df = df.drop(columns='measurement_9')\n",
        "# df = df.drop(columns='measurement_10')\n",
        "# df = df.drop(columns='measurement_12')\n",
        "# df = df.drop(columns='measurement_13')\n",
        "# df = df.drop(columns='measurement_14')\n",
        "# df = df.drop(columns='measurement_15')\n",
        "# df = df.drop(columns='measurement_16')\n",
        "# df = df.drop(columns='measurement_17')"
      ],
      "metadata": {
        "id": "hXL_JHkv10uJ"
      },
      "execution_count": null,
      "outputs": []
    },
    {
      "cell_type": "code",
      "source": [
        "df_test = df_test.drop(columns='measurement_3')\n",
        "df_test = df_test.drop(columns='measurement_7')\n",
        "df_test = df_test.drop(columns='measurement_11')"
      ],
      "metadata": {
        "id": "RfRstLaI10uJ"
      },
      "execution_count": null,
      "outputs": []
    },
    {
      "cell_type": "code",
      "source": [
        "X_train"
      ],
      "metadata": {
        "id": "vvKbiRmW4HZI"
      },
      "execution_count": null,
      "outputs": []
    },
    {
      "cell_type": "markdown",
      "source": [
        "**PREDICTIONS**"
      ],
      "metadata": {
        "id": "Jin6d5845RDL"
      }
    },
    {
      "cell_type": "code",
      "source": [
        "df = pd.read_csv('/content/drive/MyDrive/UFRJ/machine_learning/train.csv')\n",
        "df"
      ],
      "metadata": {
        "id": "6aAeBcd24U3T"
      },
      "execution_count": null,
      "outputs": []
    },
    {
      "cell_type": "code",
      "source": [],
      "metadata": {
        "id": "fHkB2X7-5OWm"
      },
      "execution_count": null,
      "outputs": []
    },
    {
      "cell_type": "markdown",
      "metadata": {
        "id": "PQIweQ9D5PAg"
      },
      "source": [
        "PREENCHENDO OS VALORS NANs USANDO \"SAMPLEIMPUTER\" DO SKLEARN"
      ]
    },
    {
      "cell_type": "code",
      "execution_count": null,
      "metadata": {
        "id": "s0JAo2Gk5PAg"
      },
      "outputs": [],
      "source": [
        "most_imputer = SimpleImputer(missing_values=np.nan, strategy='median')\n",
        "most_imputer"
      ]
    },
    {
      "cell_type": "markdown",
      "metadata": {
        "id": "-0_P0nry5PAg"
      },
      "source": [
        "PREENCHENDO AS COLUNAS COM A MEDIANA"
      ]
    },
    {
      "cell_type": "code",
      "execution_count": null,
      "metadata": {
        "id": "N-bSczeH5PAg"
      },
      "outputs": [],
      "source": [
        "df.loading = most_imputer.fit_transform(df[['loading']])\n",
        "df.measurement_3 = most_imputer.fit_transform(df[['measurement_3']])\n",
        "df.measurement_4 = most_imputer.fit_transform(df[['measurement_4']])\n",
        "df.measurement_5 = most_imputer.fit_transform(df[['measurement_5']])\n",
        "df.measurement_6 = most_imputer.fit_transform(df[['measurement_6']])\n",
        "df.measurement_7 = most_imputer.fit_transform(df[['measurement_7']])\n",
        "df.measurement_8 = most_imputer.fit_transform(df[['measurement_8']])\n",
        "df.measurement_9 = most_imputer.fit_transform(df[['measurement_9']])\n",
        "df.measurement_10 = most_imputer.fit_transform(df[['measurement_10']])\n",
        "df.measurement_11 = most_imputer.fit_transform(df[['measurement_11']])\n",
        "df.measurement_12 = most_imputer.fit_transform(df[['measurement_12']])\n",
        "df.measurement_13 = most_imputer.fit_transform(df[['measurement_13']])\n",
        "df.measurement_14 = most_imputer.fit_transform(df[['measurement_14']])\n",
        "df.measurement_15 = most_imputer.fit_transform(df[['measurement_15']])\n",
        "df.measurement_16 = most_imputer.fit_transform(df[['measurement_16']])\n",
        "df.measurement_17 = most_imputer.fit_transform(df[['measurement_17']])"
      ]
    },
    {
      "cell_type": "markdown",
      "metadata": {
        "id": "Wk4gTfoc5PAg"
      },
      "source": [
        "VERIFICANDO SE TODAS AS FEATURES COM DADOS NANs FORAM PREENCHIDAS COM A MEDIANA"
      ]
    },
    {
      "cell_type": "code",
      "execution_count": null,
      "metadata": {
        "id": "BlH1-MZY5PAg"
      },
      "outputs": [],
      "source": [
        "df.isnull().sum()"
      ]
    },
    {
      "cell_type": "markdown",
      "metadata": {
        "id": "s9kMvizB5PAg"
      },
      "source": [
        "AVALIANDO OS PRODUTOS"
      ]
    },
    {
      "cell_type": "markdown",
      "metadata": {
        "id": "CJuHTXYZ5PAg"
      },
      "source": [
        "QTDE DE VALORES POR PRODUTOS"
      ]
    },
    {
      "cell_type": "code",
      "execution_count": null,
      "metadata": {
        "id": "aPTk-Ovl5PAh"
      },
      "outputs": [],
      "source": [
        "df['product_code'].value_counts()"
      ]
    },
    {
      "cell_type": "markdown",
      "metadata": {
        "id": "K5BjNKHS5PAh"
      },
      "source": [
        "QTDE DE VALORES ÚNICOS"
      ]
    },
    {
      "cell_type": "code",
      "execution_count": null,
      "metadata": {
        "id": "mxnZlz355PAh"
      },
      "outputs": [],
      "source": [
        "df['product_code'].unique()"
      ]
    },
    {
      "cell_type": "code",
      "source": [
        "df = df.drop(columns='measurement_0')\n",
        "df = df.drop(columns='measurement_1')\n",
        "df = df.drop(columns='measurement_2')\n",
        "\n",
        "\n",
        "# df = df.drop(columns='measurement_4')\n",
        "# df = df.drop(columns='measurement_5')\n",
        "# df = df.drop(columns='measurement_6')\n",
        "# df = df.drop(columns='measurement_8')\n",
        "# df = df.drop(columns='measurement_9')\n",
        "# df = df.drop(columns='measurement_10')\n",
        "# df = df.drop(columns='measurement_12')\n",
        "# df = df.drop(columns='measurement_13')\n",
        "# df = df.drop(columns='measurement_14')\n",
        "# df = df.drop(columns='measurement_15')\n",
        "# df = df.drop(columns='measurement_16')\n",
        "# df = df.drop(columns='measurement_17')"
      ],
      "metadata": {
        "id": "ZmtxpibY5PAh"
      },
      "execution_count": null,
      "outputs": []
    },
    {
      "cell_type": "code",
      "source": [
        "df = df.drop(columns='measurement_3')\n",
        "df = df.drop(columns='measurement_7')\n",
        "df = df.drop(columns='measurement_11')"
      ],
      "metadata": {
        "id": "Zy-GNmWx5PAh"
      },
      "execution_count": null,
      "outputs": []
    },
    {
      "cell_type": "markdown",
      "source": [
        "TRANSFORMANDO VALORES STRINGS DA COLUINA ['PRODUCT_CODE'] EM VALORES NUMÉRICOS"
      ],
      "metadata": {
        "id": "s88V6M2f5PAh"
      }
    },
    {
      "cell_type": "code",
      "source": [
        "df['product_code'].value_counts()"
      ],
      "metadata": {
        "id": "aoZ083T15PAh"
      },
      "execution_count": null,
      "outputs": []
    },
    {
      "cell_type": "code",
      "source": [
        "df = df.replace(to_replace = 'A', value = 0)\n",
        "df = df.replace(to_replace = 'B', value = 1)\n",
        "df = df.replace(to_replace = 'C', value = 2)\n",
        "df = df.replace(to_replace = 'D', value = 3)\n",
        "df = df.replace(to_replace = 'E', value = 4)\n"
      ],
      "metadata": {
        "id": "MkpMBZM75PAh"
      },
      "execution_count": null,
      "outputs": []
    },
    {
      "cell_type": "markdown",
      "source": [
        "TRANSFORMANDO VALORES STRINGS DA COLUINA ['attribute_0'] EM VALORES NUMÉRICOS"
      ],
      "metadata": {
        "id": "sedP5Agz5PAh"
      }
    },
    {
      "cell_type": "code",
      "source": [
        "df['attribute_0'].value_counts()"
      ],
      "metadata": {
        "id": "VMPCMxHQ5PAh"
      },
      "execution_count": null,
      "outputs": []
    },
    {
      "cell_type": "code",
      "source": [
        "df = df.replace(to_replace = 'material_5', value = 5)\n",
        "df = df.replace(to_replace = 'material_7', value = 7)"
      ],
      "metadata": {
        "id": "drswVcht5PAh"
      },
      "execution_count": null,
      "outputs": []
    },
    {
      "cell_type": "markdown",
      "source": [
        "TRANSFORMANDO VALORES STRINGS DA COLUINA ['attribute_1'] EM VALORES NUMÉRICOS"
      ],
      "metadata": {
        "id": "20oHnQJ85PAh"
      }
    },
    {
      "cell_type": "code",
      "source": [
        "df['attribute_1'].value_counts()"
      ],
      "metadata": {
        "id": "kxu3OPka5PAh"
      },
      "execution_count": null,
      "outputs": []
    },
    {
      "cell_type": "code",
      "source": [
        "df = df.replace(to_replace = 'material_6', value = 6)\n",
        "df = df.replace(to_replace = 'material_8', value = 8)"
      ],
      "metadata": {
        "id": "FTr5f2Ve5PAh"
      },
      "execution_count": null,
      "outputs": []
    },
    {
      "cell_type": "code",
      "source": [
        "# df = df.drop(columns='id')"
      ],
      "metadata": {
        "id": "gj5ZQJif5mwf"
      },
      "execution_count": null,
      "outputs": []
    },
    {
      "cell_type": "code",
      "source": [
        "df.shape"
      ],
      "metadata": {
        "id": "SXvsQp7h5PAh"
      },
      "execution_count": null,
      "outputs": []
    },
    {
      "cell_type": "code",
      "source": [
        "df.columns"
      ],
      "metadata": {
        "id": "Nd3vt53x5ftt"
      },
      "execution_count": null,
      "outputs": []
    },
    {
      "cell_type": "code",
      "source": [
        "X = df.drop(columns='failure')\n",
        "y = df['failure']"
      ],
      "metadata": {
        "id": "iRg7PqCw4U6V"
      },
      "execution_count": null,
      "outputs": []
    },
    {
      "cell_type": "code",
      "source": [
        "X"
      ],
      "metadata": {
        "id": "6w6DLkEA6EnG"
      },
      "execution_count": null,
      "outputs": []
    },
    {
      "cell_type": "code",
      "source": [
        "X_train, X_test, y_train, y_test = train_test_split(X, y, test_size=0.2, random_state=101, stratify=y)"
      ],
      "metadata": {
        "id": "Lf6m8XhU4U6V"
      },
      "execution_count": null,
      "outputs": []
    },
    {
      "cell_type": "code",
      "source": [
        "ss = StandardScaler().fit(X_train)\n",
        "# X_train_ss = pd.DataFrame(ss.transform(X_train), columns=X_train.columns)\n",
        "# X_train_ss"
      ],
      "metadata": {
        "id": "U981uwc04GYm"
      },
      "execution_count": null,
      "outputs": []
    },
    {
      "cell_type": "code",
      "source": [
        "# X_from_CSV = df_test.iloc[:, 1:20].values\n",
        "\n",
        "X_test_new = ss.transform(df_test)\n",
        "predictions = grid_dt_random.predict(X_test_new)\n",
        "# predictions = (predictions > 0.52)\n",
        "\n",
        "df = pd.DataFrame(\n",
        "    {'id': df_test['id'], \n",
        "     'failure': predictions\n",
        "     })\n",
        "\n",
        "df.to_csv('grid_dt_random.csv', index=False)"
      ],
      "metadata": {
        "id": "BHbBHJMuys53"
      },
      "execution_count": null,
      "outputs": []
    },
    {
      "cell_type": "markdown",
      "source": [
        "##RANDOM FOREST"
      ],
      "metadata": {
        "id": "Er0D6YfgtqAP"
      }
    },
    {
      "cell_type": "code",
      "source": [
        "from sklearn.compose import ColumnTransformer\n",
        "\n",
        "from sklearn.preprocessing import StandardScaler, OneHotEncoder, OrdinalEncoder\n",
        "\n",
        "from sklearn.impute import SimpleImputer\n",
        "\n",
        "from sklearn.tree import DecisionTreeClassifier\n",
        "from sklearn.model_selection import GridSearchCV, StratifiedKFold, train_test_split\n",
        "\n",
        "from sklearn.pipeline import Pipeline"
      ],
      "metadata": {
        "id": "mCJAJRxXv94p"
      },
      "execution_count": null,
      "outputs": []
    },
    {
      "cell_type": "code",
      "source": [
        "from sklearn.ensemble import RandomForestClassifier"
      ],
      "metadata": {
        "id": "ewSGF2cgv97Y"
      },
      "execution_count": null,
      "outputs": []
    },
    {
      "cell_type": "code",
      "source": [
        "# df = pd.read_csv(\"../datasets/german_credit_data.csv\", index_col=0)\n",
        "\n",
        "X = df.drop(columns=\"failure\")\n",
        "y = df[\"failure\"]\n",
        "\n",
        "X_train, X_test, y_train, y_test = train_test_split(X, y, test_size=0.2, random_state=42, stratify=y)\n",
        "\n",
        "# ==========================================================\n",
        "\n",
        "pipe_features_num = Pipeline([(\"input_num\", SimpleImputer(strategy=\"mean\")),\n",
        "                              (\"std\", StandardScaler())])\n",
        "\n",
        "features_num = X_train.select_dtypes(include=np.number).columns.tolist()\n",
        "\n",
        "# ==========================================================\n",
        "\n",
        "pipe_features_cat = Pipeline([(\"input_cat\", SimpleImputer(strategy=\"constant\", fill_value=\"unknown\")),\n",
        "                              (\"onehot\", OneHotEncoder())])\n",
        "\n",
        "features_cat = X_train.select_dtypes(exclude=np.number).columns.tolist()\n",
        "\n",
        "\n",
        "pre_processador = ColumnTransformer([(\"transf_num\", pipe_features_num, features_num),\n",
        "                                     (\"transf_cat\", pipe_features_cat, features_cat)])\n",
        "\n",
        "# pipeline final\n",
        "pipe_rf = Pipeline([(\"pre_processador\", pre_processador),\n",
        "                    (\"rf\", RandomForestClassifier(random_state=42))])\n",
        "\n",
        "\n",
        "pipe_rf.fit(X_train, y_train)"
      ],
      "metadata": {
        "id": "n4ryyFAJv9-B"
      },
      "execution_count": null,
      "outputs": []
    },
    {
      "cell_type": "code",
      "source": [
        "from sklearn.ensemble import RandomForestClassifier\n",
        "from sklearn.metrics import confusion_matrix, classification_report, ConfusionMatrixDisplay"
      ],
      "metadata": {
        "id": "QZUsCDtDv-DA"
      },
      "execution_count": null,
      "outputs": []
    },
    {
      "cell_type": "code",
      "source": [
        "# ============================================\n",
        "\n",
        "print(\"\\nMétricas de avaliação de treino:\")\n",
        "\n",
        "y_pred_train = pipe_rf.predict(X_train)\n",
        "\n",
        "print(confusion_matrix(y_train, y_pred_train))\n",
        "\n",
        "ConfusionMatrixDisplay.from_predictions(y_train, y_pred_train)\n",
        "plt.show()\n",
        "\n",
        "print(classification_report(y_train, y_pred_train))\n",
        "\n",
        "\n",
        "# ============================================\n",
        "\n",
        "print(\"\\nMétricas de avaliação de teste:\")\n",
        "\n",
        "y_pred_test = pipe_rf.predict(X_test)\n",
        "\n",
        "print(confusion_matrix(y_test, y_pred_test))\n",
        "\n",
        "ConfusionMatrixDisplay.from_predictions(y_test, y_pred_test)\n",
        "plt.show()\n",
        "\n",
        "print(classification_report(y_test, y_pred_test))"
      ],
      "metadata": {
        "id": "IadTbHjwv-Fl"
      },
      "execution_count": null,
      "outputs": []
    },
    {
      "cell_type": "code",
      "source": [
        "# ============================================\n",
        "\n",
        "print(\"\\nMétricas de avaliação de treino:\")\n",
        "\n",
        "y_pred_train = pipe_rf.predict(X_train)\n",
        "\n",
        "print(confusion_matrix(y_train, y_pred_train))\n",
        "\n",
        "ConfusionMatrixDisplay.from_predictions(y_train, y_pred_train)\n",
        "plt.show()\n",
        "\n",
        "print(classification_report(y_train, y_pred_train))\n",
        "\n",
        "\n",
        "# ============================================\n",
        "\n",
        "print(\"\\nMétricas de avaliação de teste:\")\n",
        "\n",
        "y_pred_test = pipe_rf.predict(X_test)\n",
        "\n",
        "print(confusion_matrix(y_test, y_pred_test))\n",
        "\n",
        "ConfusionMatrixDisplay.from_predictions(y_test, y_pred_test)\n",
        "plt.show()\n",
        "\n",
        "print(classification_report(y_test, y_pred_test))"
      ],
      "metadata": {
        "id": "Kdxdiz7Uugwh"
      },
      "execution_count": null,
      "outputs": []
    },
    {
      "cell_type": "code",
      "source": [
        "def metricas_classificacao(estimator):\n",
        "    \n",
        "    # ============================================\n",
        "\n",
        "    print(\"\\nMétricas de avaliação de treino:\")\n",
        "\n",
        "    y_pred_train = estimator.predict(X_train)\n",
        "\n",
        "    print(confusion_matrix(y_train, y_pred_train))\n",
        "\n",
        "    ConfusionMatrixDisplay.from_predictions(y_train, y_pred_train)\n",
        "    plt.show()\n",
        "\n",
        "    print(classification_report(y_train, y_pred_train))\n",
        "\n",
        "\n",
        "    # ============================================\n",
        "\n",
        "    print(\"\\nMétricas de avaliação de teste:\")\n",
        "\n",
        "    y_pred_test = estimator.predict(X_test)\n",
        "\n",
        "    print(confusion_matrix(y_test, y_pred_test))\n",
        "\n",
        "    ConfusionMatrixDisplay.from_predictions(y_test, y_pred_test)\n",
        "    plt.show()\n",
        "\n",
        "    print(classification_report(y_test, y_pred_test))\n",
        "    "
      ],
      "metadata": {
        "id": "qtn05XHtxyU2"
      },
      "execution_count": null,
      "outputs": []
    },
    {
      "cell_type": "code",
      "source": [
        "def pipe_pre_process_german():\n",
        "    \n",
        "    X = df.drop(columns=\"failure\")\n",
        "    y = df[\"failure\"]\n",
        "\n",
        "    X_train, X_test, y_train, y_test = train_test_split(X, y, test_size=0.2, random_state=42, stratify=y)\n",
        "\n",
        "    # ==========================================================\n",
        "\n",
        "    pipe_features_num = Pipeline([(\"input_num\", SimpleImputer(strategy=\"mean\")),\n",
        "                                  (\"std\", StandardScaler())])\n",
        "\n",
        "    features_num = X_train.select_dtypes(include=np.number).columns.tolist()\n",
        "\n",
        "    # ==========================================================\n",
        "\n",
        "    pipe_features_cat = Pipeline([(\"input_cat\", SimpleImputer(strategy=\"constant\", fill_value=\"unknown\")),\n",
        "                                  (\"onehot\", OneHotEncoder())])\n",
        "\n",
        "    features_cat = X_train.select_dtypes(exclude=np.number).columns.tolist()\n",
        "\n",
        "    # ==========================================================\n",
        "\n",
        "    pre_processador = ColumnTransformer([(\"transf_num\", pipe_features_num, features_num),\n",
        "                                         (\"transf_cat\", pipe_features_cat, features_cat)])\n",
        "\n",
        "    return pre_processador"
      ],
      "metadata": {
        "id": "sSZYv2LWx_w9"
      },
      "execution_count": null,
      "outputs": []
    },
    {
      "cell_type": "code",
      "source": [
        "pre_processador = pipe_pre_process_german()\n",
        "\n",
        "# pipeline final\n",
        "pipe_rf = Pipeline([(\"pre_processador\", pre_processador),\n",
        "                    # agora temos árvores regularizadas com max_depth=5\n",
        "                     (\"rf\", RandomForestClassifier(n_estimators=5000,\n",
        "                                                   max_depth=5,\n",
        "                                                   random_state=42,\n",
        "                                                   n_jobs=-1))])\n",
        "\n",
        "\n",
        "pipe_rf.fit(X_train, y_train)"
      ],
      "metadata": {
        "id": "zRCORx1VxyXc"
      },
      "execution_count": null,
      "outputs": []
    },
    {
      "cell_type": "code",
      "source": [
        "metricas_classificacao(pipe_rf)"
      ],
      "metadata": {
        "id": "r86yLLmByMr1"
      },
      "execution_count": null,
      "outputs": []
    },
    {
      "cell_type": "code",
      "source": [],
      "metadata": {
        "id": "lsjTt7hNyMum"
      },
      "execution_count": null,
      "outputs": []
    },
    {
      "cell_type": "markdown",
      "source": [
        "PREDICT PROBA"
      ],
      "metadata": {
        "id": "zZEUFR-_yWHC"
      }
    },
    {
      "cell_type": "code",
      "source": [
        "from sklearn import metrics\n",
        "predict_proba = pipe_rf.predict_proba(X_test)\n",
        "tpr, tpr, thresholds = metrics.roc_curve(y_test,predict_proba[:,1])\n",
        "print (thresholds)\n",
        "\n",
        "accuracy_ls = []\n",
        "for thres in thresholds:\n",
        "    y_pred = np.where(predict_proba[:,1]>thres,1,0)\n",
        "    # Apply desired utility function to y_preds, for example accuracy.\n",
        "    accuracy_ls.append(metrics.accuracy_score(y_test, y_pred, normalize=True))"
      ],
      "metadata": {
        "id": "jiySzLXtyWHD"
      },
      "execution_count": null,
      "outputs": []
    },
    {
      "cell_type": "code",
      "source": [
        "y_proba_0 = predict_proba[:, 0]\n",
        "\n",
        "# isso é o que modelamos explicitamente com o logit!\n",
        "y_proba_1 = predict_proba[:, 1]"
      ],
      "metadata": {
        "id": "sfEebSjIyWHD"
      },
      "execution_count": null,
      "outputs": []
    },
    {
      "cell_type": "code",
      "source": [
        "from sklearn.metrics import precision_recall_curve\n",
        "\n",
        "y_proba_1 = pipe_rf.predict_proba(X_test)[:, 1]\n",
        "\n",
        "precisions, recalls, thresholds = precision_recall_curve(y_test, y_proba_1)"
      ],
      "metadata": {
        "id": "CgGCSK6MyWHD"
      },
      "execution_count": null,
      "outputs": []
    },
    {
      "cell_type": "code",
      "source": [
        "cutoff = 0.8\n",
        "\n",
        "# np.where(condicao, substituir caso True, substituir caso False)\n",
        "# pras observações cuja probabilidade de ser da classe 1 for maior que o cutoff,\n",
        "# eu atribuo o target 1. caso contrario, o target 0.\n",
        "\n",
        "y_pred_proba = np.where(y_proba_1 >= cutoff, 1, 0)\n",
        "pd.Series(y_pred_proba).value_counts()"
      ],
      "metadata": {
        "id": "NaJnsTRDyWHD"
      },
      "execution_count": null,
      "outputs": []
    },
    {
      "cell_type": "code",
      "source": [
        "# from sklearn.metrics import precision_recall_curve\n",
        "\n",
        "# # Obtendo as probabilidades de nossas previsões\n",
        "# y_scores = LogisticRegression.predict_proba(X_test)\n",
        "# y_scores = y_scores[:,1]\n",
        "\n",
        "# precision, recall, threshold = precision_recall_curve(y_train, y_scores)"
      ],
      "metadata": {
        "id": "s6BfrAIqyWHD"
      },
      "execution_count": null,
      "outputs": []
    },
    {
      "cell_type": "code",
      "source": [
        "from sklearn.metrics import roc_curve, RocCurveDisplay, roc_auc_score\n",
        "\n",
        "fpr, tpr, thresholds = roc_curve(y_test, y_pred)\n",
        "\n",
        "\n",
        "# metrics.roc_auc_score"
      ],
      "metadata": {
        "id": "g2blnZBEyWHD"
      },
      "execution_count": null,
      "outputs": []
    },
    {
      "cell_type": "code",
      "source": [
        "roc_auc_score(y_test, y_proba_1)"
      ],
      "metadata": {
        "id": "QHS8M5xKyWHD"
      },
      "execution_count": null,
      "outputs": []
    },
    {
      "cell_type": "code",
      "source": [
        "from sklearn.metrics import roc_curve, RocCurveDisplay, roc_auc_score, precision_recall_curve\n",
        "\n",
        "RocCurveDisplay.from_predictions(y_test, y_proba_1)\n",
        "\n",
        "plt.title('CURVA ROC', loc='left')\n",
        "\n",
        "# plt.plot(fpr, tpr)\n",
        "# plt.xlabel('FPR')\n",
        "# plt.ylabel('TPR')\n",
        "\n",
        "x = np.linspace(0, 1, 100)\n",
        "y = X\n",
        "\n",
        "# plt.plot(x, y, ls=':', color='blue')\n",
        "plt.show()"
      ],
      "metadata": {
        "id": "euHF4jQryWHD"
      },
      "execution_count": null,
      "outputs": []
    },
    {
      "cell_type": "code",
      "source": [
        "# X_from_CSV = df_test.iloc[:, 1:20].values\n",
        "\n",
        "X_test_new = ss.transform(df_test)\n",
        "predictions = pipe_rf.predict(X_test_new)\n",
        "# predictions = (predictions > 0.52)\n",
        "\n",
        "df = pd.DataFrame(\n",
        "    {'id': df_test['id'], \n",
        "     'failure': predictions\n",
        "     })\n",
        "\n",
        "df.to_csv('random_forest__.csv', index=False)"
      ],
      "metadata": {
        "id": "Yzg60lSnz6y7"
      },
      "execution_count": null,
      "outputs": []
    },
    {
      "cell_type": "markdown",
      "source": [
        "##ADABOOST"
      ],
      "metadata": {
        "id": "rdkJyVxGy3XZ"
      }
    },
    {
      "cell_type": "code",
      "source": [
        "from sklearn.ensemble import AdaBoostClassifier"
      ],
      "metadata": {
        "id": "Xdg8Lh1LyMxF"
      },
      "execution_count": null,
      "outputs": []
    },
    {
      "cell_type": "code",
      "source": [
        "pre_processador = pipe_pre_process_german()\n",
        "\n",
        "# pipeline final\n",
        "pipe_ab = Pipeline([(\"pre_processador\", pre_processador),\n",
        "                    (\"ab\", AdaBoostClassifier(random_state=42))])\n",
        "\n",
        "\n",
        "pipe_ab.fit(X_train, y_train)"
      ],
      "metadata": {
        "id": "uXZA8wuKyMzg"
      },
      "execution_count": null,
      "outputs": []
    },
    {
      "cell_type": "code",
      "source": [
        "metricas_classificacao(pipe_ab)"
      ],
      "metadata": {
        "id": "NtBUjhRpyM2B"
      },
      "execution_count": null,
      "outputs": []
    },
    {
      "cell_type": "code",
      "source": [
        "from sklearn.tree import DecisionTreeClassifier"
      ],
      "metadata": {
        "id": "3UBjf260yM4S"
      },
      "execution_count": null,
      "outputs": []
    },
    {
      "cell_type": "code",
      "source": [
        "pre_processador = pipe_pre_process_german()\n",
        "\n",
        "basal = DecisionTreeClassifier(max_depth=1)\n",
        "\n",
        "# pipeline final\n",
        "pipe_ab = Pipeline([(\"pre_processador\", pre_processador),\n",
        "                    (\"ab\", AdaBoostClassifier(base_estimator=basal,\n",
        "                                              random_state=42))])\n",
        "\n",
        "\n",
        "pipe_ab.fit(X_train, y_train)\n",
        "\n",
        "##################################\n",
        "\n",
        "metricas_classificacao(pipe_ab)"
      ],
      "metadata": {
        "id": "xKM-82rDxyaK"
      },
      "execution_count": null,
      "outputs": []
    },
    {
      "cell_type": "code",
      "source": [],
      "metadata": {
        "id": "iCkyeppExycl"
      },
      "execution_count": null,
      "outputs": []
    },
    {
      "cell_type": "markdown",
      "source": [
        "PREDICT PROBA"
      ],
      "metadata": {
        "id": "RhlPU040zuOx"
      }
    },
    {
      "cell_type": "code",
      "source": [
        "from sklearn import metrics\n",
        "predict_proba = pipe_ab.predict_proba(X_test)\n",
        "tpr, tpr, thresholds = metrics.roc_curve(y_test,predict_proba[:,1])\n",
        "print (thresholds)\n",
        "\n",
        "accuracy_ls = []\n",
        "for thres in thresholds:\n",
        "    y_pred = np.where(predict_proba[:,1]>thres,1,0)\n",
        "    # Apply desired utility function to y_preds, for example accuracy.\n",
        "    accuracy_ls.append(metrics.accuracy_score(y_test, y_pred, normalize=True))"
      ],
      "metadata": {
        "id": "YsiC1q-ZzuOy"
      },
      "execution_count": null,
      "outputs": []
    },
    {
      "cell_type": "code",
      "source": [
        "y_proba_0 = predict_proba[:, 0]\n",
        "\n",
        "# isso é o que modelamos explicitamente com o logit!\n",
        "y_proba_1 = predict_proba[:, 1]"
      ],
      "metadata": {
        "id": "ZnYpzoBpzuOy"
      },
      "execution_count": null,
      "outputs": []
    },
    {
      "cell_type": "code",
      "source": [
        "from sklearn.metrics import precision_recall_curve\n",
        "\n",
        "y_proba_1 = pipe_ab.predict_proba(X_test)[:, 1]\n",
        "\n",
        "precisions, recalls, thresholds = precision_recall_curve(y_test, y_proba_1)"
      ],
      "metadata": {
        "id": "CAfdRtEBzuOy"
      },
      "execution_count": null,
      "outputs": []
    },
    {
      "cell_type": "code",
      "source": [
        "cutoff = 0.8\n",
        "\n",
        "# np.where(condicao, substituir caso True, substituir caso False)\n",
        "# pras observações cuja probabilidade de ser da classe 1 for maior que o cutoff,\n",
        "# eu atribuo o target 1. caso contrario, o target 0.\n",
        "\n",
        "y_pred_proba = np.where(y_proba_1 >= cutoff, 1, 0)\n",
        "pd.Series(y_pred_proba).value_counts()"
      ],
      "metadata": {
        "id": "ORNC6efLzuOy"
      },
      "execution_count": null,
      "outputs": []
    },
    {
      "cell_type": "code",
      "source": [
        "# from sklearn.metrics import precision_recall_curve\n",
        "\n",
        "# # Obtendo as probabilidades de nossas previsões\n",
        "# y_scores = LogisticRegression.predict_proba(X_test)\n",
        "# y_scores = y_scores[:,1]\n",
        "\n",
        "# precision, recall, threshold = precision_recall_curve(y_train, y_scores)"
      ],
      "metadata": {
        "id": "Tp6TO7MnzuOy"
      },
      "execution_count": null,
      "outputs": []
    },
    {
      "cell_type": "code",
      "source": [
        "from sklearn.metrics import roc_curve, RocCurveDisplay, roc_auc_score\n",
        "\n",
        "fpr, tpr, thresholds = roc_curve(y_test, y_pred)\n",
        "\n",
        "\n",
        "# metrics.roc_auc_score"
      ],
      "metadata": {
        "id": "B1Xu94gPzuOy"
      },
      "execution_count": null,
      "outputs": []
    },
    {
      "cell_type": "code",
      "source": [
        "roc_auc_score(y_test, y_proba_1)"
      ],
      "metadata": {
        "id": "hQdCW19ozuOy"
      },
      "execution_count": null,
      "outputs": []
    },
    {
      "cell_type": "code",
      "source": [
        "from sklearn.metrics import roc_curve, RocCurveDisplay, roc_auc_score, precision_recall_curve\n",
        "\n",
        "RocCurveDisplay.from_predictions(y_test, y_proba_1)\n",
        "\n",
        "plt.title('CURVA ROC', loc='left')\n",
        "\n",
        "# plt.plot(fpr, tpr)\n",
        "# plt.xlabel('FPR')\n",
        "# plt.ylabel('TPR')\n",
        "\n",
        "x = np.linspace(0, 1, 100)\n",
        "y = X\n",
        "\n",
        "# plt.plot(x, y, ls=':', color='blue')\n",
        "plt.show()"
      ],
      "metadata": {
        "id": "6TVaBXTqzuOz"
      },
      "execution_count": null,
      "outputs": []
    },
    {
      "cell_type": "code",
      "source": [
        "# X_from_CSV = df_test.iloc[:, 1:20].values\n",
        "\n",
        "X_test_new = ss.transform(df_test)\n",
        "predictions = pipe_lida_tree.predict(X_test_new)\n",
        "# predictions = (predictions > 0.52)\n",
        "\n",
        "df = pd.DataFrame(\n",
        "    {'id': df_test['id'], \n",
        "     'failure': predictions\n",
        "     })\n",
        "\n",
        "df.to_csv('adaboost.csv', index=False)"
      ],
      "metadata": {
        "id": "GSIZgGt80C3c"
      },
      "execution_count": null,
      "outputs": []
    },
    {
      "cell_type": "markdown",
      "source": [
        "##XGBOOST"
      ],
      "metadata": {
        "id": "Vx4lWhHYz6YS"
      }
    },
    {
      "cell_type": "code",
      "source": [
        "from xgboost import XGBClassifier"
      ],
      "metadata": {
        "id": "q1NOZCp_xyfC"
      },
      "execution_count": null,
      "outputs": []
    },
    {
      "cell_type": "code",
      "source": [
        "pre_processador = pipe_pre_process_german()\n",
        "\n",
        "# pipeline final\n",
        "pipe_xgb = Pipeline([(\"pre_processador\", pre_processador),\n",
        "                     (\"xgb\", XGBClassifier(eval_metric='logloss', random_state=42))])\n",
        "\n",
        "\n",
        "pipe_xgb.fit(X_train, y_train)\n",
        "\n",
        "##################################\n",
        "\n",
        "metricas_classificacao(pipe_xgb)"
      ],
      "metadata": {
        "id": "bkP4WJHYxyhr"
      },
      "execution_count": null,
      "outputs": []
    },
    {
      "cell_type": "code",
      "source": [
        "pre_processador = pipe_pre_process_german()\n",
        "\n",
        "# pipeline final\n",
        "pipe_xgb = Pipeline([(\"pre_processador\", pre_processador),\n",
        "                     (\"xgb\", XGBClassifier(reg_alpha=10, eval_metric='logloss', random_state=42))])\n",
        "\n",
        "\n",
        "pipe_xgb.fit(X_train, y_train)\n",
        "\n",
        "##################################\n",
        "\n",
        "metricas_classificacao(pipe_xgb)"
      ],
      "metadata": {
        "id": "I5K0H1gexykX"
      },
      "execution_count": null,
      "outputs": []
    },
    {
      "cell_type": "code",
      "source": [],
      "metadata": {
        "id": "Gbo7yb-Zz-06"
      },
      "execution_count": null,
      "outputs": []
    },
    {
      "cell_type": "markdown",
      "source": [
        "PREDICT PROBA"
      ],
      "metadata": {
        "id": "sw86dbhK0Fjs"
      }
    },
    {
      "cell_type": "code",
      "source": [
        "from sklearn import metrics\n",
        "predict_proba = pipe_xgb.predict_proba(X_test)\n",
        "tpr, tpr, thresholds = metrics.roc_curve(y_test,predict_proba[:,1])\n",
        "print (thresholds)\n",
        "\n",
        "accuracy_ls = []\n",
        "for thres in thresholds:\n",
        "    y_pred = np.where(predict_proba[:,1]>thres,1,0)\n",
        "    # Apply desired utility function to y_preds, for example accuracy.\n",
        "    accuracy_ls.append(metrics.accuracy_score(y_test, y_pred, normalize=True))"
      ],
      "metadata": {
        "id": "YYJlI14R0Fjs"
      },
      "execution_count": null,
      "outputs": []
    },
    {
      "cell_type": "code",
      "source": [
        "y_proba_0 = predict_proba[:, 0]\n",
        "\n",
        "# isso é o que modelamos explicitamente com o logit!\n",
        "y_proba_1 = predict_proba[:, 1]"
      ],
      "metadata": {
        "id": "7XLhcMvL0Fjs"
      },
      "execution_count": null,
      "outputs": []
    },
    {
      "cell_type": "code",
      "source": [
        "from sklearn.metrics import precision_recall_curve\n",
        "\n",
        "y_proba_1 = pipe_xgb.predict_proba(X_test)[:, 1]\n",
        "\n",
        "precisions, recalls, thresholds = precision_recall_curve(y_test, y_proba_1)"
      ],
      "metadata": {
        "id": "jUawCiqV0Fjt"
      },
      "execution_count": null,
      "outputs": []
    },
    {
      "cell_type": "code",
      "source": [
        "cutoff = 0.8\n",
        "\n",
        "# np.where(condicao, substituir caso True, substituir caso False)\n",
        "# pras observações cuja probabilidade de ser da classe 1 for maior que o cutoff,\n",
        "# eu atribuo o target 1. caso contrario, o target 0.\n",
        "\n",
        "y_pred_proba = np.where(y_proba_1 >= cutoff, 1, 0)\n",
        "pd.Series(y_pred_proba).value_counts()"
      ],
      "metadata": {
        "id": "Q49Is25e0Fjt"
      },
      "execution_count": null,
      "outputs": []
    },
    {
      "cell_type": "code",
      "source": [
        "# from sklearn.metrics import precision_recall_curve\n",
        "\n",
        "# # Obtendo as probabilidades de nossas previsões\n",
        "# y_scores = LogisticRegression.predict_proba(X_test)\n",
        "# y_scores = y_scores[:,1]\n",
        "\n",
        "# precision, recall, threshold = precision_recall_curve(y_train, y_scores)"
      ],
      "metadata": {
        "id": "4VHmqbeo0Fjt"
      },
      "execution_count": null,
      "outputs": []
    },
    {
      "cell_type": "code",
      "source": [
        "from sklearn.metrics import roc_curve, RocCurveDisplay, roc_auc_score\n",
        "\n",
        "fpr, tpr, thresholds = roc_curve(y_test, y_pred)\n",
        "\n",
        "\n",
        "# metrics.roc_auc_score"
      ],
      "metadata": {
        "id": "3sOF3WGb0Fjt"
      },
      "execution_count": null,
      "outputs": []
    },
    {
      "cell_type": "code",
      "source": [
        "roc_auc_score(y_test, y_proba_1)"
      ],
      "metadata": {
        "id": "sCpKteaE0Fjt"
      },
      "execution_count": null,
      "outputs": []
    },
    {
      "cell_type": "code",
      "source": [
        "from sklearn.metrics import roc_curve, RocCurveDisplay, roc_auc_score, precision_recall_curve\n",
        "\n",
        "RocCurveDisplay.from_predictions(y_test, y_proba_1)\n",
        "\n",
        "plt.title('CURVA ROC', loc='left')\n",
        "\n",
        "# plt.plot(fpr, tpr)\n",
        "# plt.xlabel('FPR')\n",
        "# plt.ylabel('TPR')\n",
        "\n",
        "x = np.linspace(0, 1, 100)\n",
        "y = X\n",
        "\n",
        "# plt.plot(x, y, ls=':', color='blue')\n",
        "plt.show()"
      ],
      "metadata": {
        "id": "siWpv_lZ0Fjt"
      },
      "execution_count": null,
      "outputs": []
    },
    {
      "cell_type": "code",
      "source": [
        "# X_from_CSV = df_test.iloc[:, 1:20].values\n",
        "\n",
        "X_test_new = ss.transform(df_test)\n",
        "predictions = pipe_lida_tree.predict(X_test_new)\n",
        "# predictions = (predictions > 0.52)\n",
        "\n",
        "df = pd.DataFrame(\n",
        "    {'id': df_test['id'], \n",
        "     'failure': predictions\n",
        "     })\n",
        "\n",
        "df.to_csv('xgboost.csv', index=False)"
      ],
      "metadata": {
        "id": "ZEAHQ8ff0Lp3"
      },
      "execution_count": null,
      "outputs": []
    },
    {
      "cell_type": "code",
      "source": [],
      "metadata": {
        "id": "cMNc84LN6skx"
      },
      "execution_count": null,
      "outputs": []
    }
  ],
  "metadata": {
    "colab": {
      "collapsed_sections": [
        "jbhGWCxrrWp9",
        "ATG8jr9Url6Z",
        "M65bCbaZIHNw",
        "jVQ2brt0zohZ",
        "Er0D6YfgtqAP",
        "rdkJyVxGy3XZ",
        "Vx4lWhHYz6YS"
      ],
      "provenance": [],
      "include_colab_link": true
    },
    "kernelspec": {
      "display_name": "Python 3",
      "name": "python3"
    },
    "language_info": {
      "name": "python"
    }
  },
  "nbformat": 4,
  "nbformat_minor": 0
}