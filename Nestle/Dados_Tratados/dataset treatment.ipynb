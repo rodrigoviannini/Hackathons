{
 "cells": [
  {
   "cell_type": "code",
   "execution_count": 1,
   "id": "de1a667d-2887-4066-9f01-6046d157ed12",
   "metadata": {},
   "outputs": [],
   "source": [
    "import pandas as pd\n",
    "import numpy as np\n",
    "import seaborn as sns\n",
    "\n",
    "sns.set()"
   ]
  },
  {
   "cell_type": "markdown",
   "id": "2ff282f4-0895-49f5-b465-ee43d89062b4",
   "metadata": {},
   "source": [
    "___"
   ]
  },
  {
   "cell_type": "markdown",
   "id": "89faa3e4-bad4-4ab4-b7a4-521599a017a7",
   "metadata": {
    "jp-MarkdownHeadingCollapsed": true,
    "tags": []
   },
   "source": [
    "## adress"
   ]
  },
  {
   "cell_type": "code",
   "execution_count": 2,
   "id": "d1e204bc-2a49-43ef-a0df-d4e4e50b31a6",
   "metadata": {},
   "outputs": [],
   "source": [
    "df_adress = pd.read_csv('./dataset/tb_addresses.csv', sep = ';')"
   ]
  },
  {
   "cell_type": "code",
   "execution_count": 3,
   "id": "7e4c5200-4cf5-4401-bcd6-0cfc002af3a8",
   "metadata": {},
   "outputs": [
    {
     "data": {
      "text/html": [
       "<div>\n",
       "<style scoped>\n",
       "    .dataframe tbody tr th:only-of-type {\n",
       "        vertical-align: middle;\n",
       "    }\n",
       "\n",
       "    .dataframe tbody tr th {\n",
       "        vertical-align: top;\n",
       "    }\n",
       "\n",
       "    .dataframe thead th {\n",
       "        text-align: right;\n",
       "    }\n",
       "</style>\n",
       "<table border=\"1\" class=\"dataframe\">\n",
       "  <thead>\n",
       "    <tr style=\"text-align: right;\">\n",
       "      <th></th>\n",
       "      <th>id_endereco</th>\n",
       "      <th>id_fornecedor</th>\n",
       "      <th>bairro</th>\n",
       "      <th>ponto_referencia</th>\n",
       "      <th>cidade</th>\n",
       "      <th>estado</th>\n",
       "      <th>uf</th>\n",
       "      <th>pais</th>\n",
       "      <th>tipo</th>\n",
       "      <th>cep</th>\n",
       "    </tr>\n",
       "  </thead>\n",
       "  <tbody>\n",
       "    <tr>\n",
       "      <th>0</th>\n",
       "      <td>6158e903c044d80022ae40b9</td>\n",
       "      <td>NaN</td>\n",
       "      <td>Conjunto Adalberto Sena</td>\n",
       "      <td>NaN</td>\n",
       "      <td>Rio Branco</td>\n",
       "      <td>Acre</td>\n",
       "      <td>AC</td>\n",
       "      <td>Brasil</td>\n",
       "      <td>HISTORY</td>\n",
       "      <td>69900001.0</td>\n",
       "    </tr>\n",
       "    <tr>\n",
       "      <th>1</th>\n",
       "      <td>615b312b53c10b002275d928</td>\n",
       "      <td>NaN</td>\n",
       "      <td>Nova Estacao</td>\n",
       "      <td>NaN</td>\n",
       "      <td>Rio Branco</td>\n",
       "      <td>Acre</td>\n",
       "      <td>AC</td>\n",
       "      <td>Brasil</td>\n",
       "      <td>HISTORY</td>\n",
       "      <td>69900001.0</td>\n",
       "    </tr>\n",
       "    <tr>\n",
       "      <th>2</th>\n",
       "      <td>60c2de7e52f4f30021f53891</td>\n",
       "      <td>NaN</td>\n",
       "      <td>Terminal Cadeia Velha</td>\n",
       "      <td>NaN</td>\n",
       "      <td>Rio Branco</td>\n",
       "      <td>Acre</td>\n",
       "      <td>AC</td>\n",
       "      <td>Brasil</td>\n",
       "      <td>HISTORY</td>\n",
       "      <td>69900001.0</td>\n",
       "    </tr>\n",
       "    <tr>\n",
       "      <th>3</th>\n",
       "      <td>60e4f879a3d5dd0021ac84bf</td>\n",
       "      <td>NaN</td>\n",
       "      <td>Vitoria</td>\n",
       "      <td>Greengard</td>\n",
       "      <td>Rio Branco</td>\n",
       "      <td>Acre</td>\n",
       "      <td>AC</td>\n",
       "      <td>Brasil</td>\n",
       "      <td>HISTORY</td>\n",
       "      <td>69900001.0</td>\n",
       "    </tr>\n",
       "    <tr>\n",
       "      <th>4</th>\n",
       "      <td>60f5f30476d90d00217f60a3</td>\n",
       "      <td>NaN</td>\n",
       "      <td>Primavera</td>\n",
       "      <td>NaN</td>\n",
       "      <td>Arapiraca</td>\n",
       "      <td>Alagoas</td>\n",
       "      <td>AL</td>\n",
       "      <td>Brasil</td>\n",
       "      <td>HISTORY</td>\n",
       "      <td>57300001.0</td>\n",
       "    </tr>\n",
       "  </tbody>\n",
       "</table>\n",
       "</div>"
      ],
      "text/plain": [
       "                id_endereco id_fornecedor                   bairro  \\\n",
       "0  6158e903c044d80022ae40b9           NaN  Conjunto Adalberto Sena   \n",
       "1  615b312b53c10b002275d928           NaN             Nova Estacao   \n",
       "2  60c2de7e52f4f30021f53891           NaN    Terminal Cadeia Velha   \n",
       "3  60e4f879a3d5dd0021ac84bf           NaN                  Vitoria   \n",
       "4  60f5f30476d90d00217f60a3           NaN                Primavera   \n",
       "\n",
       "  ponto_referencia      cidade   estado  uf    pais     tipo         cep  \n",
       "0              NaN  Rio Branco     Acre  AC  Brasil  HISTORY  69900001.0  \n",
       "1              NaN  Rio Branco     Acre  AC  Brasil  HISTORY  69900001.0  \n",
       "2              NaN  Rio Branco     Acre  AC  Brasil  HISTORY  69900001.0  \n",
       "3        Greengard  Rio Branco     Acre  AC  Brasil  HISTORY  69900001.0  \n",
       "4              NaN   Arapiraca  Alagoas  AL  Brasil  HISTORY  57300001.0  "
      ]
     },
     "execution_count": 3,
     "metadata": {},
     "output_type": "execute_result"
    }
   ],
   "source": [
    "df_adress.head()"
   ]
  },
  {
   "cell_type": "code",
   "execution_count": 4,
   "id": "c42a9bef-844d-49cc-b93a-ca2b36a251d2",
   "metadata": {},
   "outputs": [
    {
     "name": "stdout",
     "output_type": "stream",
     "text": [
      "<class 'pandas.core.frame.DataFrame'>\n",
      "RangeIndex: 87217 entries, 0 to 87216\n",
      "Data columns (total 10 columns):\n",
      " #   Column            Non-Null Count  Dtype  \n",
      "---  ------            --------------  -----  \n",
      " 0   id_endereco       87217 non-null  object \n",
      " 1   id_fornecedor     409 non-null    object \n",
      " 2   bairro            83455 non-null  object \n",
      " 3   ponto_referencia  20336 non-null  object \n",
      " 4   cidade            87217 non-null  object \n",
      " 5   estado            87217 non-null  object \n",
      " 6   uf                87217 non-null  object \n",
      " 7   pais              87217 non-null  object \n",
      " 8   tipo              87217 non-null  object \n",
      " 9   cep               84178 non-null  float64\n",
      "dtypes: float64(1), object(9)\n",
      "memory usage: 6.7+ MB\n"
     ]
    }
   ],
   "source": [
    "df_adress.info()"
   ]
  },
  {
   "cell_type": "markdown",
   "id": "8e6ee83d-5b30-4868-b83c-6bc828134e8c",
   "metadata": {},
   "source": [
    "    - Dropar colunas: \n",
    "        id_fornecedor, ponto_referencia\n",
    "    \n",
    "    - Dropar linhas: \n",
    "        bairro, cep\n",
    "    \n",
    "    * Motivo: \n",
    "        As colunas dropadas \"podem ser\" irrelevantes, verifiquei tambem se era possivel completar os cep, porem dentro de uma cidade possui varios cep diferentes, então decidi dropar os NaN(dropna), assim como na coluna dos bairros.\n",
    "            \n",
    "    - Perca de 7.09% dos dados"
   ]
  },
  {
   "cell_type": "code",
   "execution_count": 5,
   "id": "ee7546ae-440f-45af-82ef-329b1e629da2",
   "metadata": {},
   "outputs": [],
   "source": [
    "df_adress.drop(['id_fornecedor', 'ponto_referencia'], axis=1, inplace=True)\n",
    "df_adress.dropna(inplace = True)"
   ]
  },
  {
   "cell_type": "code",
   "execution_count": 6,
   "id": "57071f7b-2407-442f-aa13-d94864fc3452",
   "metadata": {},
   "outputs": [
    {
     "name": "stdout",
     "output_type": "stream",
     "text": [
      "<class 'pandas.core.frame.DataFrame'>\n",
      "Int64Index: 81033 entries, 0 to 84177\n",
      "Data columns (total 8 columns):\n",
      " #   Column       Non-Null Count  Dtype  \n",
      "---  ------       --------------  -----  \n",
      " 0   id_endereco  81033 non-null  object \n",
      " 1   bairro       81033 non-null  object \n",
      " 2   cidade       81033 non-null  object \n",
      " 3   estado       81033 non-null  object \n",
      " 4   uf           81033 non-null  object \n",
      " 5   pais         81033 non-null  object \n",
      " 6   tipo         81033 non-null  object \n",
      " 7   cep          81033 non-null  float64\n",
      "dtypes: float64(1), object(7)\n",
      "memory usage: 5.6+ MB\n"
     ]
    }
   ],
   "source": [
    "df_adress.info()"
   ]
  },
  {
   "cell_type": "code",
   "execution_count": 7,
   "id": "b4086913-3832-40e0-bd2c-99306ef961b9",
   "metadata": {},
   "outputs": [],
   "source": [
    "#df_adress.to_csv('tb_addresses_treatment.csv', index=False)"
   ]
  },
  {
   "cell_type": "markdown",
   "id": "97bb38a3-2fca-4848-89d4-29b075b24ae3",
   "metadata": {
    "tags": []
   },
   "source": [
    "___"
   ]
  },
  {
   "cell_type": "markdown",
   "id": "dd04976b-b959-4368-ac85-1cf65df989af",
   "metadata": {
    "jp-MarkdownHeadingCollapsed": true,
    "tags": []
   },
   "source": [
    "## banners"
   ]
  },
  {
   "cell_type": "code",
   "execution_count": 8,
   "id": "49877224-6949-4cc7-b384-20a95399ac1c",
   "metadata": {},
   "outputs": [],
   "source": [
    "df_banners = pd.read_csv('./dataset/tb_banners.csv', sep = ';')"
   ]
  },
  {
   "cell_type": "code",
   "execution_count": 9,
   "id": "f9152356-b203-477b-9870-922be7ee82a5",
   "metadata": {},
   "outputs": [
    {
     "data": {
      "text/html": [
       "<div>\n",
       "<style scoped>\n",
       "    .dataframe tbody tr th:only-of-type {\n",
       "        vertical-align: middle;\n",
       "    }\n",
       "\n",
       "    .dataframe tbody tr th {\n",
       "        vertical-align: top;\n",
       "    }\n",
       "\n",
       "    .dataframe thead th {\n",
       "        text-align: right;\n",
       "    }\n",
       "</style>\n",
       "<table border=\"1\" class=\"dataframe\">\n",
       "  <thead>\n",
       "    <tr style=\"text-align: right;\">\n",
       "      <th></th>\n",
       "      <th>id_banner</th>\n",
       "      <th>titulo_banner</th>\n",
       "      <th>imagem_banner</th>\n",
       "      <th>imagem_celular</th>\n",
       "      <th>esta_ativo</th>\n",
       "      <th>nome</th>\n",
       "      <th>url_banner</th>\n",
       "    </tr>\n",
       "  </thead>\n",
       "  <tbody>\n",
       "    <tr>\n",
       "      <th>0</th>\n",
       "      <td>604bae5b3fa7940021e8c725</td>\n",
       "      <td>Bolos Recheados com Desconto</td>\n",
       "      <td>https://vemdebolo-imagens.s3.sa-east-1.amazona...</td>\n",
       "      <td>https://vemdebolo-imagens.s3.sa-east-1.amazona...</td>\n",
       "      <td>True</td>\n",
       "      <td>Bolos Recheados</td>\n",
       "      <td>/bolos-recheados</td>\n",
       "    </tr>\n",
       "    <tr>\n",
       "      <th>1</th>\n",
       "      <td>604baf213fa7940021e8c87e</td>\n",
       "      <td>Doces até R$9,99</td>\n",
       "      <td>https://vemdebolo-imagens.s3.sa-east-1.amazona...</td>\n",
       "      <td>https://vemdebolo-imagens.s3.sa-east-1.amazona...</td>\n",
       "      <td>True</td>\n",
       "      <td>Doces até R$9,99</td>\n",
       "      <td>/bolos-e-doces?preco-max=9.99</td>\n",
       "    </tr>\n",
       "  </tbody>\n",
       "</table>\n",
       "</div>"
      ],
      "text/plain": [
       "                  id_banner                 titulo_banner  \\\n",
       "0  604bae5b3fa7940021e8c725  Bolos Recheados com Desconto   \n",
       "1  604baf213fa7940021e8c87e              Doces até R$9,99   \n",
       "\n",
       "                                       imagem_banner  \\\n",
       "0  https://vemdebolo-imagens.s3.sa-east-1.amazona...   \n",
       "1  https://vemdebolo-imagens.s3.sa-east-1.amazona...   \n",
       "\n",
       "                                      imagem_celular  esta_ativo  \\\n",
       "0  https://vemdebolo-imagens.s3.sa-east-1.amazona...        True   \n",
       "1  https://vemdebolo-imagens.s3.sa-east-1.amazona...        True   \n",
       "\n",
       "               nome                     url_banner  \n",
       "0   Bolos Recheados               /bolos-recheados  \n",
       "1  Doces até R$9,99  /bolos-e-doces?preco-max=9.99  "
      ]
     },
     "execution_count": 9,
     "metadata": {},
     "output_type": "execute_result"
    }
   ],
   "source": [
    "df_banners.head(2)"
   ]
  },
  {
   "cell_type": "code",
   "execution_count": 130,
   "id": "c6c5f0ae-5d6b-4ba3-951b-df0055118b41",
   "metadata": {},
   "outputs": [
    {
     "name": "stdout",
     "output_type": "stream",
     "text": [
      "<class 'pandas.core.frame.DataFrame'>\n",
      "RangeIndex: 10 entries, 0 to 9\n",
      "Data columns (total 7 columns):\n",
      " #   Column          Non-Null Count  Dtype \n",
      "---  ------          --------------  ----- \n",
      " 0   id_banner       10 non-null     object\n",
      " 1   titulo_banner   10 non-null     object\n",
      " 2   imagem_banner   10 non-null     object\n",
      " 3   imagem_celular  10 non-null     object\n",
      " 4   esta_ativo      10 non-null     bool  \n",
      " 5   nome            10 non-null     object\n",
      " 6   url_banner      10 non-null     object\n",
      "dtypes: bool(1), object(6)\n",
      "memory usage: 618.0+ bytes\n"
     ]
    }
   ],
   "source": [
    "df_banners.info()"
   ]
  },
  {
   "cell_type": "markdown",
   "id": "b65b5c30-d0b4-48d5-b778-6f1618346b01",
   "metadata": {},
   "source": [
    "    * Não necessario fazer um tratamento de dados \"Missing\""
   ]
  },
  {
   "cell_type": "markdown",
   "id": "b8aba930-3385-48e6-b5e6-053fe73f1613",
   "metadata": {},
   "source": [
    "___"
   ]
  },
  {
   "cell_type": "markdown",
   "id": "a378a33a-ede9-4506-ad48-06c9e0076e55",
   "metadata": {
    "jp-MarkdownHeadingCollapsed": true,
    "tags": []
   },
   "source": [
    "## users"
   ]
  },
  {
   "cell_type": "code",
   "execution_count": 10,
   "id": "a9744a14-b9a2-4937-8651-e34584220aa6",
   "metadata": {},
   "outputs": [],
   "source": [
    "df_users = pd.read_csv('./dataset/tb_users.csv', sep = ';')"
   ]
  },
  {
   "cell_type": "code",
   "execution_count": 11,
   "id": "9aedfa7d-667b-432c-b36d-aff3e5c4551c",
   "metadata": {},
   "outputs": [
    {
     "data": {
      "text/html": [
       "<div>\n",
       "<style scoped>\n",
       "    .dataframe tbody tr th:only-of-type {\n",
       "        vertical-align: middle;\n",
       "    }\n",
       "\n",
       "    .dataframe tbody tr th {\n",
       "        vertical-align: top;\n",
       "    }\n",
       "\n",
       "    .dataframe thead th {\n",
       "        text-align: right;\n",
       "    }\n",
       "</style>\n",
       "<table border=\"1\" class=\"dataframe\">\n",
       "  <thead>\n",
       "    <tr style=\"text-align: right;\">\n",
       "      <th></th>\n",
       "      <th>id_usuario</th>\n",
       "      <th>id_fornecedor</th>\n",
       "      <th>nome_completo</th>\n",
       "      <th>data_ultima_compra</th>\n",
       "      <th>qtde_total_compra</th>\n",
       "      <th>gasto_total</th>\n",
       "      <th>ultima_qtde_compra</th>\n",
       "      <th>ticket_medio</th>\n",
       "      <th>aceita_thrid_party_mkt</th>\n",
       "      <th>aceita_mkt</th>\n",
       "    </tr>\n",
       "  </thead>\n",
       "  <tbody>\n",
       "    <tr>\n",
       "      <th>0</th>\n",
       "      <td>5faafcaf19bbc50021fe3f07</td>\n",
       "      <td>NaN</td>\n",
       "      <td>Rldxsyddr Phsdyyskhv</td>\n",
       "      <td>2021-07-29 21:44:15</td>\n",
       "      <td>6.0</td>\n",
       "      <td>408.92</td>\n",
       "      <td>78.4</td>\n",
       "      <td>68.15</td>\n",
       "      <td>False</td>\n",
       "      <td>False</td>\n",
       "    </tr>\n",
       "    <tr>\n",
       "      <th>1</th>\n",
       "      <td>5fab1e6219bbc50021fec9b0</td>\n",
       "      <td>5fab1fd219bbc50021fecfbe</td>\n",
       "      <td>Swmhyd Rdgwys dd Frdwtss</td>\n",
       "      <td>NaN</td>\n",
       "      <td>0.0</td>\n",
       "      <td>0.00</td>\n",
       "      <td>0.0</td>\n",
       "      <td>0.00</td>\n",
       "      <td>False</td>\n",
       "      <td>False</td>\n",
       "    </tr>\n",
       "    <tr>\n",
       "      <th>2</th>\n",
       "      <td>5fab2c8519bbc50021feee65</td>\n",
       "      <td>5fab2cd619bbc50021feef1b</td>\n",
       "      <td>Fdrysydh Msrtwys</td>\n",
       "      <td>NaN</td>\n",
       "      <td>0.0</td>\n",
       "      <td>0.00</td>\n",
       "      <td>0.0</td>\n",
       "      <td>0.00</td>\n",
       "      <td>False</td>\n",
       "      <td>False</td>\n",
       "    </tr>\n",
       "    <tr>\n",
       "      <th>3</th>\n",
       "      <td>5fab65294d36ff0021e3052a</td>\n",
       "      <td>NaN</td>\n",
       "      <td>Rdrwsys rhdrwguds slvds</td>\n",
       "      <td>NaN</td>\n",
       "      <td>0.0</td>\n",
       "      <td>0.00</td>\n",
       "      <td>0.0</td>\n",
       "      <td>0.00</td>\n",
       "      <td>False</td>\n",
       "      <td>False</td>\n",
       "    </tr>\n",
       "    <tr>\n",
       "      <th>4</th>\n",
       "      <td>5fab9bf04d36ff0021e32b96</td>\n",
       "      <td>NaN</td>\n",
       "      <td>Rhbshy Guwlhdrmd Ds Swlvs</td>\n",
       "      <td>NaN</td>\n",
       "      <td>0.0</td>\n",
       "      <td>0.00</td>\n",
       "      <td>0.0</td>\n",
       "      <td>0.00</td>\n",
       "      <td>True</td>\n",
       "      <td>True</td>\n",
       "    </tr>\n",
       "  </tbody>\n",
       "</table>\n",
       "</div>"
      ],
      "text/plain": [
       "                 id_usuario             id_fornecedor  \\\n",
       "0  5faafcaf19bbc50021fe3f07                       NaN   \n",
       "1  5fab1e6219bbc50021fec9b0  5fab1fd219bbc50021fecfbe   \n",
       "2  5fab2c8519bbc50021feee65  5fab2cd619bbc50021feef1b   \n",
       "3  5fab65294d36ff0021e3052a                       NaN   \n",
       "4  5fab9bf04d36ff0021e32b96                       NaN   \n",
       "\n",
       "               nome_completo   data_ultima_compra  qtde_total_compra  \\\n",
       "0       Rldxsyddr Phsdyyskhv  2021-07-29 21:44:15                6.0   \n",
       "1   Swmhyd Rdgwys dd Frdwtss                  NaN                0.0   \n",
       "2           Fdrysydh Msrtwys                  NaN                0.0   \n",
       "3    Rdrwsys rhdrwguds slvds                  NaN                0.0   \n",
       "4  Rhbshy Guwlhdrmd Ds Swlvs                  NaN                0.0   \n",
       "\n",
       "   gasto_total  ultima_qtde_compra  ticket_medio aceita_thrid_party_mkt  \\\n",
       "0       408.92                78.4         68.15                  False   \n",
       "1         0.00                 0.0          0.00                  False   \n",
       "2         0.00                 0.0          0.00                  False   \n",
       "3         0.00                 0.0          0.00                  False   \n",
       "4         0.00                 0.0          0.00                   True   \n",
       "\n",
       "  aceita_mkt  \n",
       "0      False  \n",
       "1      False  \n",
       "2      False  \n",
       "3      False  \n",
       "4       True  "
      ]
     },
     "execution_count": 11,
     "metadata": {},
     "output_type": "execute_result"
    }
   ],
   "source": [
    "df_users.head()"
   ]
  },
  {
   "cell_type": "code",
   "execution_count": 12,
   "id": "d5600623-df22-4555-b95b-b8e5ebb8b35a",
   "metadata": {},
   "outputs": [
    {
     "name": "stdout",
     "output_type": "stream",
     "text": [
      "<class 'pandas.core.frame.DataFrame'>\n",
      "RangeIndex: 7023 entries, 0 to 7022\n",
      "Data columns (total 10 columns):\n",
      " #   Column                  Non-Null Count  Dtype  \n",
      "---  ------                  --------------  -----  \n",
      " 0   id_usuario              7023 non-null   object \n",
      " 1   id_fornecedor           403 non-null    object \n",
      " 2   nome_completo           6621 non-null   object \n",
      " 3   data_ultima_compra      2749 non-null   object \n",
      " 4   qtde_total_compra       7005 non-null   float64\n",
      " 5   gasto_total             7005 non-null   float64\n",
      " 6   ultima_qtde_compra      7005 non-null   float64\n",
      " 7   ticket_medio            7005 non-null   float64\n",
      " 8   aceita_thrid_party_mkt  7007 non-null   object \n",
      " 9   aceita_mkt              7007 non-null   object \n",
      "dtypes: float64(4), object(6)\n",
      "memory usage: 548.8+ KB\n"
     ]
    }
   ],
   "source": [
    "df_users.info()"
   ]
  },
  {
   "cell_type": "markdown",
   "id": "ea99332e-95a1-4c38-8e46-3eaa53318e4e",
   "metadata": {},
   "source": [
    "    - Dropar colunas: \n",
    "        id_fornecedor, data_ultima_compra\n",
    "    \n",
    "    - Dropar linhas: \n",
    "        nome_completo, aceita_mkt\n",
    "    \n",
    "    - Preencher NaN com Media: \n",
    "        qtde_total_compra, gasto_total, ultima_qtde_compra, ticket_medio\n",
    "    \n",
    "    * Motivo: \n",
    "        Muitos dados faltantes na coluna do \"id_fornecedor\", no caso da coluna de \"data_ultima_compra\", além de não possuir 39% dos dados, quando verifiquei, muitos desses NaN tinha um total de 0 nas colunas de \"qtde_total_compra\", \"gasto_total\", \"ultima_qtde_compra\", então conclui que não daria para colocar algum dados estatistico, já que ele não teria realizado nenhuma compra\n",
    "    \n",
    "    - Perca de 5.95% dos dados"
   ]
  },
  {
   "cell_type": "code",
   "execution_count": 13,
   "id": "efeba844-954f-4039-adf2-b8db54df101c",
   "metadata": {},
   "outputs": [],
   "source": [
    "df_users.drop(['id_fornecedor', 'data_ultima_compra'], axis=1, inplace=True)\n",
    "df_users['qtde_total_compra'].fillna(1, inplace=True)\n",
    "df_users['gasto_total'].fillna(df_users['gasto_total'].mean() , inplace=True)\n",
    "df_users['ultima_qtde_compra'].fillna(df_users['ultima_qtde_compra'].mean() , inplace=True)\n",
    "df_users['ticket_medio'].fillna(df_users['ticket_medio'].mean() , inplace=True)\n",
    "df_users.dropna(subset=['nome_completo','aceita_mkt'], inplace=True)"
   ]
  },
  {
   "cell_type": "code",
   "execution_count": 14,
   "id": "db63e514-248b-42c5-9d3e-2a327d33b203",
   "metadata": {},
   "outputs": [
    {
     "name": "stdout",
     "output_type": "stream",
     "text": [
      "<class 'pandas.core.frame.DataFrame'>\n",
      "Int64Index: 6605 entries, 0 to 7022\n",
      "Data columns (total 8 columns):\n",
      " #   Column                  Non-Null Count  Dtype  \n",
      "---  ------                  --------------  -----  \n",
      " 0   id_usuario              6605 non-null   object \n",
      " 1   nome_completo           6605 non-null   object \n",
      " 2   qtde_total_compra       6605 non-null   float64\n",
      " 3   gasto_total             6605 non-null   float64\n",
      " 4   ultima_qtde_compra      6605 non-null   float64\n",
      " 5   ticket_medio            6605 non-null   float64\n",
      " 6   aceita_thrid_party_mkt  6605 non-null   object \n",
      " 7   aceita_mkt              6605 non-null   object \n",
      "dtypes: float64(4), object(4)\n",
      "memory usage: 464.4+ KB\n"
     ]
    }
   ],
   "source": [
    "df_users.info()"
   ]
  },
  {
   "cell_type": "code",
   "execution_count": 15,
   "id": "f2f6d59a-4c9c-4eff-a3f0-41083a11a272",
   "metadata": {},
   "outputs": [],
   "source": [
    "#df_users.to_csv('tb_users_treatment.csv', index=False)"
   ]
  },
  {
   "cell_type": "markdown",
   "id": "4bb59ac2-f360-45f8-94fe-093294e3c315",
   "metadata": {},
   "source": [
    "___"
   ]
  },
  {
   "cell_type": "markdown",
   "id": "175d89c3-95ff-47ad-aed4-4eb4bce5bade",
   "metadata": {
    "jp-MarkdownHeadingCollapsed": true,
    "tags": []
   },
   "source": [
    "## cities"
   ]
  },
  {
   "cell_type": "code",
   "execution_count": 16,
   "id": "3d9f6d25-6c3c-44a5-ae7e-3376d00d4fdc",
   "metadata": {},
   "outputs": [],
   "source": [
    "df_cities = pd.read_csv('./dataset/tb_cities.csv', sep = ';')"
   ]
  },
  {
   "cell_type": "code",
   "execution_count": 17,
   "id": "4e5967a4-bf63-4393-baf6-46a2d5645419",
   "metadata": {},
   "outputs": [
    {
     "data": {
      "text/html": [
       "<div>\n",
       "<style scoped>\n",
       "    .dataframe tbody tr th:only-of-type {\n",
       "        vertical-align: middle;\n",
       "    }\n",
       "\n",
       "    .dataframe tbody tr th {\n",
       "        vertical-align: top;\n",
       "    }\n",
       "\n",
       "    .dataframe thead th {\n",
       "        text-align: right;\n",
       "    }\n",
       "</style>\n",
       "<table border=\"1\" class=\"dataframe\">\n",
       "  <thead>\n",
       "    <tr style=\"text-align: right;\">\n",
       "      <th></th>\n",
       "      <th>id_cidade</th>\n",
       "      <th>esta_disponivel</th>\n",
       "      <th>cidade</th>\n",
       "      <th>estado</th>\n",
       "      <th>uf</th>\n",
       "      <th>pais</th>\n",
       "    </tr>\n",
       "  </thead>\n",
       "  <tbody>\n",
       "    <tr>\n",
       "      <th>0</th>\n",
       "      <td>5f517b48c13e960021459f0c</td>\n",
       "      <td>False</td>\n",
       "      <td>Campinas</td>\n",
       "      <td>São Paulo</td>\n",
       "      <td>SP</td>\n",
       "      <td>Brasil</td>\n",
       "    </tr>\n",
       "    <tr>\n",
       "      <th>1</th>\n",
       "      <td>5f6a179af309620021ca264d</td>\n",
       "      <td>True</td>\n",
       "      <td>São Paulo</td>\n",
       "      <td>São Paulo</td>\n",
       "      <td>SP</td>\n",
       "      <td>Brasil</td>\n",
       "    </tr>\n",
       "    <tr>\n",
       "      <th>2</th>\n",
       "      <td>5f760d9d6ab32d0021e8b67c</td>\n",
       "      <td>False</td>\n",
       "      <td>Bento Gonçalves</td>\n",
       "      <td>Rio Grande do Sul</td>\n",
       "      <td>RS</td>\n",
       "      <td>Brasil</td>\n",
       "    </tr>\n",
       "    <tr>\n",
       "      <th>3</th>\n",
       "      <td>5f7dc164f266b40021daebf2</td>\n",
       "      <td>False</td>\n",
       "      <td>Ribeirão Preto</td>\n",
       "      <td>São Paulo</td>\n",
       "      <td>SP</td>\n",
       "      <td>Brasil</td>\n",
       "    </tr>\n",
       "    <tr>\n",
       "      <th>4</th>\n",
       "      <td>5f8788604c809d002148ab24</td>\n",
       "      <td>False</td>\n",
       "      <td>Osasco</td>\n",
       "      <td>São Paulo</td>\n",
       "      <td>SP</td>\n",
       "      <td>Brasil</td>\n",
       "    </tr>\n",
       "  </tbody>\n",
       "</table>\n",
       "</div>"
      ],
      "text/plain": [
       "                  id_cidade  esta_disponivel           cidade  \\\n",
       "0  5f517b48c13e960021459f0c            False         Campinas   \n",
       "1  5f6a179af309620021ca264d             True        São Paulo   \n",
       "2  5f760d9d6ab32d0021e8b67c            False  Bento Gonçalves   \n",
       "3  5f7dc164f266b40021daebf2            False   Ribeirão Preto   \n",
       "4  5f8788604c809d002148ab24            False           Osasco   \n",
       "\n",
       "              estado  uf    pais  \n",
       "0          São Paulo  SP  Brasil  \n",
       "1          São Paulo  SP  Brasil  \n",
       "2  Rio Grande do Sul  RS  Brasil  \n",
       "3          São Paulo  SP  Brasil  \n",
       "4          São Paulo  SP  Brasil  "
      ]
     },
     "execution_count": 17,
     "metadata": {},
     "output_type": "execute_result"
    }
   ],
   "source": [
    "df_cities.head()"
   ]
  },
  {
   "cell_type": "code",
   "execution_count": 18,
   "id": "3838d64a-8ebb-4a09-a9bb-0310ba61da0c",
   "metadata": {},
   "outputs": [
    {
     "name": "stdout",
     "output_type": "stream",
     "text": [
      "<class 'pandas.core.frame.DataFrame'>\n",
      "RangeIndex: 333 entries, 0 to 332\n",
      "Data columns (total 6 columns):\n",
      " #   Column           Non-Null Count  Dtype \n",
      "---  ------           --------------  ----- \n",
      " 0   id_cidade        333 non-null    object\n",
      " 1   esta_disponivel  333 non-null    bool  \n",
      " 2   cidade           333 non-null    object\n",
      " 3   estado           333 non-null    object\n",
      " 4   uf               333 non-null    object\n",
      " 5   pais             333 non-null    object\n",
      "dtypes: bool(1), object(5)\n",
      "memory usage: 13.5+ KB\n"
     ]
    }
   ],
   "source": [
    "df_cities.info()"
   ]
  },
  {
   "cell_type": "markdown",
   "id": "1e66deca-1f2a-44f1-aeb2-e04f762e3981",
   "metadata": {},
   "source": [
    "    * Não necessario fazer um tratamento de dados \"Missing\""
   ]
  },
  {
   "cell_type": "markdown",
   "id": "f8081dee-f340-48d0-a226-d7e51698b2d6",
   "metadata": {},
   "source": [
    "___"
   ]
  },
  {
   "cell_type": "markdown",
   "id": "f303c397-0de9-49da-bd4f-334fdec44402",
   "metadata": {
    "jp-MarkdownHeadingCollapsed": true,
    "tags": []
   },
   "source": [
    "## vendors"
   ]
  },
  {
   "cell_type": "code",
   "execution_count": 19,
   "id": "25cc72ce-6178-4d2a-a9f2-d19424eb3416",
   "metadata": {},
   "outputs": [],
   "source": [
    "df_vendors = pd.read_csv('./dataset/tb_vendors.csv', sep = ';')"
   ]
  },
  {
   "cell_type": "code",
   "execution_count": 20,
   "id": "a022a2bc-be88-42fc-a391-ca61dbd46d40",
   "metadata": {},
   "outputs": [
    {
     "data": {
      "text/html": [
       "<div>\n",
       "<style scoped>\n",
       "    .dataframe tbody tr th:only-of-type {\n",
       "        vertical-align: middle;\n",
       "    }\n",
       "\n",
       "    .dataframe tbody tr th {\n",
       "        vertical-align: top;\n",
       "    }\n",
       "\n",
       "    .dataframe thead th {\n",
       "        text-align: right;\n",
       "    }\n",
       "</style>\n",
       "<table border=\"1\" class=\"dataframe\">\n",
       "  <thead>\n",
       "    <tr style=\"text-align: right;\">\n",
       "      <th></th>\n",
       "      <th>id_fornecedor</th>\n",
       "      <th>nome_fornecedor</th>\n",
       "      <th>data_registro</th>\n",
       "      <th>qtde_produtos</th>\n",
       "      <th>preco_medio</th>\n",
       "      <th>avaliacao_media</th>\n",
       "      <th>e_aprovado</th>\n",
       "      <th>nome_empresa</th>\n",
       "      <th>id_endereco</th>\n",
       "      <th>delivery_raio_km</th>\n",
       "      <th>delivery_sistema</th>\n",
       "      <th>hora_abertura</th>\n",
       "      <th>hora_fechamento</th>\n",
       "      <th>data_aprovacao</th>\n",
       "      <th>data_reprovacao</th>\n",
       "    </tr>\n",
       "  </thead>\n",
       "  <tbody>\n",
       "    <tr>\n",
       "      <th>0</th>\n",
       "      <td>5f550609cba01d00210ed015</td>\n",
       "      <td>Meus Bolos</td>\n",
       "      <td>2020-09-06 00:42:34</td>\n",
       "      <td>0</td>\n",
       "      <td>0</td>\n",
       "      <td>0</td>\n",
       "      <td>False</td>\n",
       "      <td>Mwyhs Umprdss Ltds.</td>\n",
       "      <td>5f550609cba01d00210ed016</td>\n",
       "      <td>20</td>\n",
       "      <td>THIRD_PARTY</td>\n",
       "      <td>05:30</td>\n",
       "      <td>19:00</td>\n",
       "      <td>2021-06-01 16:22:09</td>\n",
       "      <td>2021-08-10 15:40:47</td>\n",
       "    </tr>\n",
       "    <tr>\n",
       "      <th>1</th>\n",
       "      <td>5f584189fc58110021464422</td>\n",
       "      <td>Moça Doceria</td>\n",
       "      <td>2020-09-09 01:56:25</td>\n",
       "      <td>0</td>\n",
       "      <td>0</td>\n",
       "      <td>0</td>\n",
       "      <td>False</td>\n",
       "      <td>BUSTLU BRRSIL LTDR.</td>\n",
       "      <td>5f584189fc58110021464423</td>\n",
       "      <td>13</td>\n",
       "      <td>NaN</td>\n",
       "      <td>08:00</td>\n",
       "      <td>18:00</td>\n",
       "      <td>2021-02-16 18:25:45</td>\n",
       "      <td>2021-09-09 13:45:56</td>\n",
       "    </tr>\n",
       "    <tr>\n",
       "      <th>2</th>\n",
       "      <td>5f5a8be1ccc6c40021a8185f</td>\n",
       "      <td>Cami's Candy</td>\n",
       "      <td>2020-09-10 00:49:18</td>\n",
       "      <td>0</td>\n",
       "      <td>0</td>\n",
       "      <td>0</td>\n",
       "      <td>True</td>\n",
       "      <td>Csmws Csydy</td>\n",
       "      <td>5f5a8be1ccc6c40021a81860</td>\n",
       "      <td>15</td>\n",
       "      <td>NaN</td>\n",
       "      <td>08:00</td>\n",
       "      <td>19:00</td>\n",
       "      <td>2021-08-16 21:06:05</td>\n",
       "      <td>2021-06-25 17:22:33</td>\n",
       "    </tr>\n",
       "    <tr>\n",
       "      <th>3</th>\n",
       "      <td>5f5bc310b8742200213bda1d</td>\n",
       "      <td>Re doces</td>\n",
       "      <td>2020-09-11 01:07:10</td>\n",
       "      <td>0</td>\n",
       "      <td>0</td>\n",
       "      <td>0</td>\n",
       "      <td>True</td>\n",
       "      <td>Rdysts Cury Mwchslsyy</td>\n",
       "      <td>5f5bc310b8742200213bda1e</td>\n",
       "      <td>15</td>\n",
       "      <td>NaN</td>\n",
       "      <td>10:00</td>\n",
       "      <td>17:00</td>\n",
       "      <td>2020-09-30 17:13:38</td>\n",
       "      <td>NaN</td>\n",
       "    </tr>\n",
       "    <tr>\n",
       "      <th>4</th>\n",
       "      <td>5f5bd2fcb8742200213bda24</td>\n",
       "      <td>Doceria Luz</td>\n",
       "      <td>2020-09-11 01:07:10</td>\n",
       "      <td>0</td>\n",
       "      <td>0</td>\n",
       "      <td>0</td>\n",
       "      <td>False</td>\n",
       "      <td>Psmdlls Crwstwys Luz 08949458667</td>\n",
       "      <td>5f5bd2fcb8742200213bda25</td>\n",
       "      <td>13</td>\n",
       "      <td>THIRD_PARTY</td>\n",
       "      <td>11:00</td>\n",
       "      <td>17:00</td>\n",
       "      <td>2021-04-26 20:55:50</td>\n",
       "      <td>2021-04-26 20:55:51</td>\n",
       "    </tr>\n",
       "  </tbody>\n",
       "</table>\n",
       "</div>"
      ],
      "text/plain": [
       "              id_fornecedor nome_fornecedor        data_registro  \\\n",
       "0  5f550609cba01d00210ed015      Meus Bolos  2020-09-06 00:42:34   \n",
       "1  5f584189fc58110021464422    Moça Doceria  2020-09-09 01:56:25   \n",
       "2  5f5a8be1ccc6c40021a8185f    Cami's Candy  2020-09-10 00:49:18   \n",
       "3  5f5bc310b8742200213bda1d        Re doces  2020-09-11 01:07:10   \n",
       "4  5f5bd2fcb8742200213bda24     Doceria Luz  2020-09-11 01:07:10   \n",
       "\n",
       "   qtde_produtos  preco_medio  avaliacao_media  e_aprovado  \\\n",
       "0              0            0                0       False   \n",
       "1              0            0                0       False   \n",
       "2              0            0                0        True   \n",
       "3              0            0                0        True   \n",
       "4              0            0                0       False   \n",
       "\n",
       "                       nome_empresa               id_endereco  \\\n",
       "0               Mwyhs Umprdss Ltds.  5f550609cba01d00210ed016   \n",
       "1               BUSTLU BRRSIL LTDR.  5f584189fc58110021464423   \n",
       "2                       Csmws Csydy  5f5a8be1ccc6c40021a81860   \n",
       "3             Rdysts Cury Mwchslsyy  5f5bc310b8742200213bda1e   \n",
       "4  Psmdlls Crwstwys Luz 08949458667  5f5bd2fcb8742200213bda25   \n",
       "\n",
       "   delivery_raio_km delivery_sistema hora_abertura hora_fechamento  \\\n",
       "0                20      THIRD_PARTY         05:30           19:00   \n",
       "1                13              NaN         08:00           18:00   \n",
       "2                15              NaN         08:00           19:00   \n",
       "3                15              NaN         10:00           17:00   \n",
       "4                13      THIRD_PARTY         11:00           17:00   \n",
       "\n",
       "        data_aprovacao      data_reprovacao  \n",
       "0  2021-06-01 16:22:09  2021-08-10 15:40:47  \n",
       "1  2021-02-16 18:25:45  2021-09-09 13:45:56  \n",
       "2  2021-08-16 21:06:05  2021-06-25 17:22:33  \n",
       "3  2020-09-30 17:13:38                  NaN  \n",
       "4  2021-04-26 20:55:50  2021-04-26 20:55:51  "
      ]
     },
     "execution_count": 20,
     "metadata": {},
     "output_type": "execute_result"
    }
   ],
   "source": [
    "df_vendors.head()"
   ]
  },
  {
   "cell_type": "code",
   "execution_count": 21,
   "id": "cb6773a4-fc9a-40e0-9809-3865a1b26b4e",
   "metadata": {},
   "outputs": [
    {
     "name": "stdout",
     "output_type": "stream",
     "text": [
      "<class 'pandas.core.frame.DataFrame'>\n",
      "RangeIndex: 403 entries, 0 to 402\n",
      "Data columns (total 15 columns):\n",
      " #   Column            Non-Null Count  Dtype \n",
      "---  ------            --------------  ----- \n",
      " 0   id_fornecedor     403 non-null    object\n",
      " 1   nome_fornecedor   403 non-null    object\n",
      " 2   data_registro     403 non-null    object\n",
      " 3   qtde_produtos     403 non-null    int64 \n",
      " 4   preco_medio       403 non-null    int64 \n",
      " 5   avaliacao_media   403 non-null    int64 \n",
      " 6   e_aprovado        403 non-null    bool  \n",
      " 7   nome_empresa      403 non-null    object\n",
      " 8   id_endereco       403 non-null    object\n",
      " 9   delivery_raio_km  403 non-null    int64 \n",
      " 10  delivery_sistema  36 non-null     object\n",
      " 11  hora_abertura     403 non-null    object\n",
      " 12  hora_fechamento   403 non-null    object\n",
      " 13  data_aprovacao    194 non-null    object\n",
      " 14  data_reprovacao   139 non-null    object\n",
      "dtypes: bool(1), int64(4), object(10)\n",
      "memory usage: 44.6+ KB\n"
     ]
    }
   ],
   "source": [
    "df_vendors.info()"
   ]
  },
  {
   "cell_type": "markdown",
   "id": "0ed14324-18ad-4b8c-b1f3-1366521a5816",
   "metadata": {},
   "source": [
    "    - Dropar colunas: \n",
    "        delivery_sistema, data_aprovacao, data_reprovacao\n",
    "    \n",
    "    * Motivo: \n",
    "        Muitos valores NaN, que nao consiguiriamos preencher com algum parametro estatistico e caso tirassemos os NaN(dropna) perderiamos muitos dados das outras colunas.\n",
    "            \n",
    "    - Perca de \"0.0\"% dos dados"
   ]
  },
  {
   "cell_type": "code",
   "execution_count": 22,
   "id": "1b0fec43-4eab-4671-8b4f-128cc3c5d917",
   "metadata": {},
   "outputs": [],
   "source": [
    "df_vendors.drop(columns=['delivery_sistema', 'data_aprovacao', 'data_reprovacao'], inplace=True)"
   ]
  },
  {
   "cell_type": "code",
   "execution_count": 23,
   "id": "06e525c1-1fc8-4e71-9522-0a54492d7c12",
   "metadata": {},
   "outputs": [
    {
     "name": "stdout",
     "output_type": "stream",
     "text": [
      "<class 'pandas.core.frame.DataFrame'>\n",
      "RangeIndex: 403 entries, 0 to 402\n",
      "Data columns (total 12 columns):\n",
      " #   Column            Non-Null Count  Dtype \n",
      "---  ------            --------------  ----- \n",
      " 0   id_fornecedor     403 non-null    object\n",
      " 1   nome_fornecedor   403 non-null    object\n",
      " 2   data_registro     403 non-null    object\n",
      " 3   qtde_produtos     403 non-null    int64 \n",
      " 4   preco_medio       403 non-null    int64 \n",
      " 5   avaliacao_media   403 non-null    int64 \n",
      " 6   e_aprovado        403 non-null    bool  \n",
      " 7   nome_empresa      403 non-null    object\n",
      " 8   id_endereco       403 non-null    object\n",
      " 9   delivery_raio_km  403 non-null    int64 \n",
      " 10  hora_abertura     403 non-null    object\n",
      " 11  hora_fechamento   403 non-null    object\n",
      "dtypes: bool(1), int64(4), object(7)\n",
      "memory usage: 35.2+ KB\n"
     ]
    }
   ],
   "source": [
    "df_vendors.info()"
   ]
  },
  {
   "cell_type": "code",
   "execution_count": 24,
   "id": "c34ca088-4c68-4fa7-a420-fbb357ed2f47",
   "metadata": {},
   "outputs": [],
   "source": [
    "#df_vendors.to_csv('tb_vendors_treatment.csv', index=False)"
   ]
  },
  {
   "cell_type": "markdown",
   "id": "a7ef4174-7e6e-4754-9495-943366a0e1ec",
   "metadata": {},
   "source": [
    "___"
   ]
  },
  {
   "cell_type": "markdown",
   "id": "6ee68f6d-eab0-4eea-b973-f975be18a883",
   "metadata": {
    "jp-MarkdownHeadingCollapsed": true,
    "tags": []
   },
   "source": [
    "## delivery fees"
   ]
  },
  {
   "cell_type": "code",
   "execution_count": 25,
   "id": "82768365-f3b6-4be4-a6f9-4cfe89622887",
   "metadata": {},
   "outputs": [],
   "source": [
    "df_delivery_fees = pd.read_csv('./dataset/tb_vendors_delivery_fees.csv', sep = ';')"
   ]
  },
  {
   "cell_type": "code",
   "execution_count": 26,
   "id": "a1fd148e-8d28-4fbe-acf0-b35f0e94a34d",
   "metadata": {},
   "outputs": [
    {
     "data": {
      "text/html": [
       "<div>\n",
       "<style scoped>\n",
       "    .dataframe tbody tr th:only-of-type {\n",
       "        vertical-align: middle;\n",
       "    }\n",
       "\n",
       "    .dataframe tbody tr th {\n",
       "        vertical-align: top;\n",
       "    }\n",
       "\n",
       "    .dataframe thead th {\n",
       "        text-align: right;\n",
       "    }\n",
       "</style>\n",
       "<table border=\"1\" class=\"dataframe\">\n",
       "  <thead>\n",
       "    <tr style=\"text-align: right;\">\n",
       "      <th></th>\n",
       "      <th>id_fornecedor</th>\n",
       "      <th>valor_fixo</th>\n",
       "      <th>valor_minimo</th>\n",
       "      <th>valor_por_km</th>\n",
       "      <th>valor_cobertura_minima</th>\n",
       "      <th>distancia_maxima</th>\n",
       "      <th>tipo_taxa</th>\n",
       "    </tr>\n",
       "  </thead>\n",
       "  <tbody>\n",
       "    <tr>\n",
       "      <th>0</th>\n",
       "      <td>5f550609cba01d00210ed015</td>\n",
       "      <td>5.0</td>\n",
       "      <td>0.0</td>\n",
       "      <td>0.00</td>\n",
       "      <td>0.0</td>\n",
       "      <td>5</td>\n",
       "      <td>FIXED</td>\n",
       "    </tr>\n",
       "    <tr>\n",
       "      <th>1</th>\n",
       "      <td>5f584189fc58110021464422</td>\n",
       "      <td>9.5</td>\n",
       "      <td>0.0</td>\n",
       "      <td>0.00</td>\n",
       "      <td>0.0</td>\n",
       "      <td>4</td>\n",
       "      <td>FIXED</td>\n",
       "    </tr>\n",
       "    <tr>\n",
       "      <th>2</th>\n",
       "      <td>5f584189fc58110021464422</td>\n",
       "      <td>0.0</td>\n",
       "      <td>0.0</td>\n",
       "      <td>1.15</td>\n",
       "      <td>0.0</td>\n",
       "      <td>13</td>\n",
       "      <td>PER_KM</td>\n",
       "    </tr>\n",
       "    <tr>\n",
       "      <th>3</th>\n",
       "      <td>5f5a8be1ccc6c40021a8185f</td>\n",
       "      <td>0.0</td>\n",
       "      <td>0.0</td>\n",
       "      <td>2.70</td>\n",
       "      <td>0.0</td>\n",
       "      <td>15</td>\n",
       "      <td>PER_KM</td>\n",
       "    </tr>\n",
       "    <tr>\n",
       "      <th>4</th>\n",
       "      <td>5f5bc310b8742200213bda1d</td>\n",
       "      <td>5.0</td>\n",
       "      <td>0.0</td>\n",
       "      <td>0.00</td>\n",
       "      <td>0.0</td>\n",
       "      <td>5</td>\n",
       "      <td>FIXED</td>\n",
       "    </tr>\n",
       "  </tbody>\n",
       "</table>\n",
       "</div>"
      ],
      "text/plain": [
       "              id_fornecedor  valor_fixo  valor_minimo  valor_por_km  \\\n",
       "0  5f550609cba01d00210ed015         5.0           0.0          0.00   \n",
       "1  5f584189fc58110021464422         9.5           0.0          0.00   \n",
       "2  5f584189fc58110021464422         0.0           0.0          1.15   \n",
       "3  5f5a8be1ccc6c40021a8185f         0.0           0.0          2.70   \n",
       "4  5f5bc310b8742200213bda1d         5.0           0.0          0.00   \n",
       "\n",
       "   valor_cobertura_minima  distancia_maxima tipo_taxa  \n",
       "0                     0.0                 5     FIXED  \n",
       "1                     0.0                 4     FIXED  \n",
       "2                     0.0                13    PER_KM  \n",
       "3                     0.0                15    PER_KM  \n",
       "4                     0.0                 5     FIXED  "
      ]
     },
     "execution_count": 26,
     "metadata": {},
     "output_type": "execute_result"
    }
   ],
   "source": [
    "df_delivery_fees.head()"
   ]
  },
  {
   "cell_type": "code",
   "execution_count": 27,
   "id": "25cc78e4-483a-4ae4-8127-48f579fd4481",
   "metadata": {},
   "outputs": [
    {
     "name": "stdout",
     "output_type": "stream",
     "text": [
      "<class 'pandas.core.frame.DataFrame'>\n",
      "RangeIndex: 461 entries, 0 to 460\n",
      "Data columns (total 7 columns):\n",
      " #   Column                  Non-Null Count  Dtype  \n",
      "---  ------                  --------------  -----  \n",
      " 0   id_fornecedor           461 non-null    object \n",
      " 1   valor_fixo              451 non-null    float64\n",
      " 2   valor_minimo            454 non-null    float64\n",
      " 3   valor_por_km            456 non-null    float64\n",
      " 4   valor_cobertura_minima  453 non-null    float64\n",
      " 5   distancia_maxima        461 non-null    int64  \n",
      " 6   tipo_taxa               461 non-null    object \n",
      "dtypes: float64(4), int64(1), object(2)\n",
      "memory usage: 25.3+ KB\n"
     ]
    }
   ],
   "source": [
    "df_delivery_fees.info()"
   ]
  },
  {
   "cell_type": "markdown",
   "id": "1c893fec-3984-4dbe-aa7b-37dbdd9d814c",
   "metadata": {},
   "source": [
    "    - Preencher NaN com Media: \n",
    "        qtde_total_compra, gasto_total, ultima_qtde_compra, ticket_medio\n",
    "    \n",
    "    * Motivo: \n",
    "        Poucos valores NaN, o qual foi preenchido com a media, para utilizar todo o dataset\n",
    "            \n",
    "    - Perca de \"0.0\"% dos dados"
   ]
  },
  {
   "cell_type": "code",
   "execution_count": 28,
   "id": "8c10b0b9-6f14-4127-adec-1a904a4a9c0b",
   "metadata": {},
   "outputs": [],
   "source": [
    "df_delivery_fees['valor_fixo'].fillna(df_delivery_fees['valor_fixo'].mean(), inplace=True)\n",
    "df_delivery_fees['valor_minimo'].fillna(df_delivery_fees['valor_minimo'].mean(), inplace=True)\n",
    "df_delivery_fees['valor_por_km'].fillna(df_delivery_fees['valor_por_km'].mean(), inplace=True)\n",
    "df_delivery_fees['valor_cobertura_minima'].fillna(df_delivery_fees['valor_cobertura_minima'].mean(), inplace=True)"
   ]
  },
  {
   "cell_type": "code",
   "execution_count": 29,
   "id": "67c6d380-2de3-4708-adcb-fab3054c5a20",
   "metadata": {},
   "outputs": [
    {
     "name": "stdout",
     "output_type": "stream",
     "text": [
      "<class 'pandas.core.frame.DataFrame'>\n",
      "RangeIndex: 461 entries, 0 to 460\n",
      "Data columns (total 7 columns):\n",
      " #   Column                  Non-Null Count  Dtype  \n",
      "---  ------                  --------------  -----  \n",
      " 0   id_fornecedor           461 non-null    object \n",
      " 1   valor_fixo              461 non-null    float64\n",
      " 2   valor_minimo            461 non-null    float64\n",
      " 3   valor_por_km            461 non-null    float64\n",
      " 4   valor_cobertura_minima  461 non-null    float64\n",
      " 5   distancia_maxima        461 non-null    int64  \n",
      " 6   tipo_taxa               461 non-null    object \n",
      "dtypes: float64(4), int64(1), object(2)\n",
      "memory usage: 25.3+ KB\n"
     ]
    }
   ],
   "source": [
    "df_delivery_fees.info()"
   ]
  },
  {
   "cell_type": "markdown",
   "id": "7abfafd1-1f93-4a93-937e-776f3c422d24",
   "metadata": {},
   "source": [
    "___"
   ]
  },
  {
   "cell_type": "markdown",
   "id": "5750b953-0f70-4b54-84a8-31cee119fcfa",
   "metadata": {
    "jp-MarkdownHeadingCollapsed": true,
    "tags": []
   },
   "source": [
    "## coupons"
   ]
  },
  {
   "cell_type": "code",
   "execution_count": 30,
   "id": "b9502751-9e14-45db-a34d-f500d88da98c",
   "metadata": {},
   "outputs": [],
   "source": [
    "df_coupons = pd.read_csv('./dataset/tb_coupons.csv', sep = ';')"
   ]
  },
  {
   "cell_type": "code",
   "execution_count": 31,
   "id": "1c32e51c-d8d8-4142-a7b3-c9203f85c76f",
   "metadata": {},
   "outputs": [
    {
     "data": {
      "text/html": [
       "<div>\n",
       "<style scoped>\n",
       "    .dataframe tbody tr th:only-of-type {\n",
       "        vertical-align: middle;\n",
       "    }\n",
       "\n",
       "    .dataframe tbody tr th {\n",
       "        vertical-align: top;\n",
       "    }\n",
       "\n",
       "    .dataframe thead th {\n",
       "        text-align: right;\n",
       "    }\n",
       "</style>\n",
       "<table border=\"1\" class=\"dataframe\">\n",
       "  <thead>\n",
       "    <tr style=\"text-align: right;\">\n",
       "      <th></th>\n",
       "      <th>id_cupons</th>\n",
       "      <th>pode_usar_outros_codigos</th>\n",
       "      <th>limite_custo</th>\n",
       "      <th>data_fim</th>\n",
       "      <th>cupom_codigo</th>\n",
       "      <th>entrega_free</th>\n",
       "      <th>valido_somente_novos_clientes</th>\n",
       "      <th>valor_minimo</th>\n",
       "      <th>data_inicio</th>\n",
       "      <th>status</th>\n",
       "      <th>tipo</th>\n",
       "      <th>quem_paga_cupom</th>\n",
       "      <th>dias_duracao</th>\n",
       "      <th>novos_clientes_adquiridos</th>\n",
       "      <th>qtde_uso</th>\n",
       "      <th>valor_total_uso</th>\n",
       "      <th>percentagem</th>\n",
       "      <th>valor_fixo</th>\n",
       "      <th>limite_uso_por_cpf</th>\n",
       "      <th>limite_uso</th>\n",
       "    </tr>\n",
       "  </thead>\n",
       "  <tbody>\n",
       "    <tr>\n",
       "      <th>0</th>\n",
       "      <td>5f9dd4629edca400210011ca</td>\n",
       "      <td>False</td>\n",
       "      <td>20000.0</td>\n",
       "      <td>2020-11-17 03:00:00</td>\n",
       "      <td>FRIDAY60</td>\n",
       "      <td>True</td>\n",
       "      <td>False</td>\n",
       "      <td>60.0</td>\n",
       "      <td>2020-11-01 03:00:00</td>\n",
       "      <td>INACTIVE</td>\n",
       "      <td>FIXED_DISCOUNT</td>\n",
       "      <td>PLATFORM</td>\n",
       "      <td>-16.0</td>\n",
       "      <td>34.0</td>\n",
       "      <td>40.0</td>\n",
       "      <td>1007.37</td>\n",
       "      <td>NaN</td>\n",
       "      <td>NaN</td>\n",
       "      <td>NaN</td>\n",
       "      <td>NaN</td>\n",
       "    </tr>\n",
       "    <tr>\n",
       "      <th>1</th>\n",
       "      <td>5f9dd6d79edca4002100154b</td>\n",
       "      <td>False</td>\n",
       "      <td>NaN</td>\n",
       "      <td>2021-03-24 03:00:00</td>\n",
       "      <td>#TimeQuerido</td>\n",
       "      <td>True</td>\n",
       "      <td>False</td>\n",
       "      <td>NaN</td>\n",
       "      <td>NaN</td>\n",
       "      <td>ACTIVE</td>\n",
       "      <td>PERCENT_DISCOUNT</td>\n",
       "      <td>PLATFORM</td>\n",
       "      <td>NaN</td>\n",
       "      <td>NaN</td>\n",
       "      <td>4.0</td>\n",
       "      <td>121.44</td>\n",
       "      <td>20.0</td>\n",
       "      <td>NaN</td>\n",
       "      <td>NaN</td>\n",
       "      <td>NaN</td>\n",
       "    </tr>\n",
       "    <tr>\n",
       "      <th>2</th>\n",
       "      <td>5fa46012903a35002117a6ad</td>\n",
       "      <td>False</td>\n",
       "      <td>6000.0</td>\n",
       "      <td>2020-12-25 03:00:00</td>\n",
       "      <td>FRIDAY2060</td>\n",
       "      <td>True</td>\n",
       "      <td>False</td>\n",
       "      <td>60.0</td>\n",
       "      <td>2020-11-05 03:00:00</td>\n",
       "      <td>INACTIVE</td>\n",
       "      <td>FIXED_DISCOUNT</td>\n",
       "      <td>PLATFORM</td>\n",
       "      <td>-50.0</td>\n",
       "      <td>9.0</td>\n",
       "      <td>12.0</td>\n",
       "      <td>240.00</td>\n",
       "      <td>NaN</td>\n",
       "      <td>20.0</td>\n",
       "      <td>2.0</td>\n",
       "      <td>50.0</td>\n",
       "    </tr>\n",
       "    <tr>\n",
       "      <th>3</th>\n",
       "      <td>5fa9ad19ce7202002177907f</td>\n",
       "      <td>False</td>\n",
       "      <td>NaN</td>\n",
       "      <td>2020-12-30 03:00:00</td>\n",
       "      <td>LOOVEM</td>\n",
       "      <td>False</td>\n",
       "      <td>False</td>\n",
       "      <td>70.0</td>\n",
       "      <td>2020-11-09 03:00:00</td>\n",
       "      <td>ACTIVE</td>\n",
       "      <td>PERCENT_DISCOUNT</td>\n",
       "      <td>PLATFORM</td>\n",
       "      <td>-51.0</td>\n",
       "      <td>NaN</td>\n",
       "      <td>NaN</td>\n",
       "      <td>NaN</td>\n",
       "      <td>15.0</td>\n",
       "      <td>NaN</td>\n",
       "      <td>1.0</td>\n",
       "      <td>300.0</td>\n",
       "    </tr>\n",
       "    <tr>\n",
       "      <th>4</th>\n",
       "      <td>5fad8b562929b600211a7614</td>\n",
       "      <td>False</td>\n",
       "      <td>2000.0</td>\n",
       "      <td>2021-04-30 03:00:00</td>\n",
       "      <td>#eliana</td>\n",
       "      <td>False</td>\n",
       "      <td>False</td>\n",
       "      <td>NaN</td>\n",
       "      <td>2021-04-19 03:00:00</td>\n",
       "      <td>ACTIVE</td>\n",
       "      <td>PERCENT_DISCOUNT</td>\n",
       "      <td>PLATFORM</td>\n",
       "      <td>-11.0</td>\n",
       "      <td>56.0</td>\n",
       "      <td>83.0</td>\n",
       "      <td>1140.03</td>\n",
       "      <td>15.0</td>\n",
       "      <td>NaN</td>\n",
       "      <td>2.0</td>\n",
       "      <td>NaN</td>\n",
       "    </tr>\n",
       "  </tbody>\n",
       "</table>\n",
       "</div>"
      ],
      "text/plain": [
       "                  id_cupons  pode_usar_outros_codigos  limite_custo  \\\n",
       "0  5f9dd4629edca400210011ca                     False       20000.0   \n",
       "1  5f9dd6d79edca4002100154b                     False           NaN   \n",
       "2  5fa46012903a35002117a6ad                     False        6000.0   \n",
       "3  5fa9ad19ce7202002177907f                     False           NaN   \n",
       "4  5fad8b562929b600211a7614                     False        2000.0   \n",
       "\n",
       "              data_fim  cupom_codigo  entrega_free  \\\n",
       "0  2020-11-17 03:00:00      FRIDAY60          True   \n",
       "1  2021-03-24 03:00:00  #TimeQuerido          True   \n",
       "2  2020-12-25 03:00:00    FRIDAY2060          True   \n",
       "3  2020-12-30 03:00:00        LOOVEM         False   \n",
       "4  2021-04-30 03:00:00       #eliana         False   \n",
       "\n",
       "   valido_somente_novos_clientes  valor_minimo          data_inicio    status  \\\n",
       "0                          False          60.0  2020-11-01 03:00:00  INACTIVE   \n",
       "1                          False           NaN                  NaN    ACTIVE   \n",
       "2                          False          60.0  2020-11-05 03:00:00  INACTIVE   \n",
       "3                          False          70.0  2020-11-09 03:00:00    ACTIVE   \n",
       "4                          False           NaN  2021-04-19 03:00:00    ACTIVE   \n",
       "\n",
       "               tipo quem_paga_cupom  dias_duracao  novos_clientes_adquiridos  \\\n",
       "0    FIXED_DISCOUNT        PLATFORM         -16.0                       34.0   \n",
       "1  PERCENT_DISCOUNT        PLATFORM           NaN                        NaN   \n",
       "2    FIXED_DISCOUNT        PLATFORM         -50.0                        9.0   \n",
       "3  PERCENT_DISCOUNT        PLATFORM         -51.0                        NaN   \n",
       "4  PERCENT_DISCOUNT        PLATFORM         -11.0                       56.0   \n",
       "\n",
       "   qtde_uso  valor_total_uso  percentagem  valor_fixo  limite_uso_por_cpf  \\\n",
       "0      40.0          1007.37          NaN         NaN                 NaN   \n",
       "1       4.0           121.44         20.0         NaN                 NaN   \n",
       "2      12.0           240.00          NaN        20.0                 2.0   \n",
       "3       NaN              NaN         15.0         NaN                 1.0   \n",
       "4      83.0          1140.03         15.0         NaN                 2.0   \n",
       "\n",
       "   limite_uso  \n",
       "0         NaN  \n",
       "1         NaN  \n",
       "2        50.0  \n",
       "3       300.0  \n",
       "4         NaN  "
      ]
     },
     "execution_count": 31,
     "metadata": {},
     "output_type": "execute_result"
    }
   ],
   "source": [
    "df_coupons.head()"
   ]
  },
  {
   "cell_type": "code",
   "execution_count": 32,
   "id": "71602821-2b00-432d-a833-b0274fcd7272",
   "metadata": {},
   "outputs": [
    {
     "name": "stdout",
     "output_type": "stream",
     "text": [
      "<class 'pandas.core.frame.DataFrame'>\n",
      "RangeIndex: 604 entries, 0 to 603\n",
      "Data columns (total 20 columns):\n",
      " #   Column                         Non-Null Count  Dtype  \n",
      "---  ------                         --------------  -----  \n",
      " 0   id_cupons                      604 non-null    object \n",
      " 1   pode_usar_outros_codigos       604 non-null    bool   \n",
      " 2   limite_custo                   43 non-null     float64\n",
      " 3   data_fim                       585 non-null    object \n",
      " 4   cupom_codigo                   604 non-null    object \n",
      " 5   entrega_free                   604 non-null    bool   \n",
      " 6   valido_somente_novos_clientes  604 non-null    bool   \n",
      " 7   valor_minimo                   518 non-null    float64\n",
      " 8   data_inicio                    579 non-null    object \n",
      " 9   status                         604 non-null    object \n",
      " 10  tipo                           604 non-null    object \n",
      " 11  quem_paga_cupom                604 non-null    object \n",
      " 12  dias_duracao                   569 non-null    float64\n",
      " 13  novos_clientes_adquiridos      168 non-null    float64\n",
      " 14  qtde_uso                       223 non-null    float64\n",
      " 15  valor_total_uso                223 non-null    float64\n",
      " 16  percentagem                    184 non-null    float64\n",
      " 17  valor_fixo                     368 non-null    float64\n",
      " 18  limite_uso_por_cpf             83 non-null     float64\n",
      " 19  limite_uso                     60 non-null     float64\n",
      "dtypes: bool(3), float64(10), object(7)\n",
      "memory usage: 82.1+ KB\n"
     ]
    }
   ],
   "source": [
    "df_coupons.info()"
   ]
  },
  {
   "cell_type": "markdown",
   "id": "144d3271-3e9b-49ba-b790-04492b215c3f",
   "metadata": {},
   "source": [
    "    - Dropar NaN:\n",
    "        data_fim, data_inicio\n",
    "    \n",
    "    - Preencher NaN com Media: \n",
    "        qtde_uso, valor_minimo\n",
    "        \n",
    "    - Preencher NaN com Mediana: \n",
    "        limite_uso, valor_fixo, percentagem, valor_total_uso, limite_uso_por_cpf, novos_clientes_adquiridos\n",
    "\n",
    "    * Motivo: \n",
    "        - Os dropna, como era poucos dados, achei melhor retirar apenas os NaN, pois ambas as colunas podem ser importantes\n",
    "        \n",
    "        - Preenchimento de NaN com as medias e Mediana, de acordo com o que faria mais sentido(na minha interpretação)\n",
    "\n",
    "    - Perca de 5.795% dos dados"
   ]
  },
  {
   "cell_type": "code",
   "execution_count": 33,
   "id": "4e2a3567-c1fd-4e3c-9615-98ef49e18f74",
   "metadata": {},
   "outputs": [],
   "source": [
    "df_coupons.dropna(subset=['data_fim','data_inicio'], inplace=True)\n",
    "\n",
    "# media\n",
    "df_coupons['qtde_uso'].fillna(df_coupons['qtde_uso'].mean(), inplace=True)\n",
    "df_coupons['valor_minimo'].fillna(df_coupons['valor_minimo'].mean(), inplace=True)\n",
    "\n",
    "# medianas\n",
    "df_coupons['limite_uso'].fillna(df_coupons['limite_uso'].median(), inplace=True)\n",
    "df_coupons['valor_fixo'].fillna(df_coupons['valor_fixo'].median(), inplace=True)\n",
    "df_coupons['percentagem'].fillna(df_coupons['percentagem'].median(), inplace=True)\n",
    "df_coupons['valor_total_uso'].fillna(df_coupons['valor_total_uso'].median(), inplace=True)\n",
    "df_coupons['limite_uso_por_cpf'].fillna(df_coupons['limite_uso_por_cpf'].median(), inplace=True)\n",
    "df_coupons['novos_clientes_adquiridos'].fillna(round(df_coupons['novos_clientes_adquiridos'].median()), inplace=True)"
   ]
  },
  {
   "cell_type": "code",
   "execution_count": 34,
   "id": "45b2cbb1-ef0e-467f-a393-f6aa6f764a38",
   "metadata": {},
   "outputs": [
    {
     "name": "stdout",
     "output_type": "stream",
     "text": [
      "<class 'pandas.core.frame.DataFrame'>\n",
      "Int64Index: 569 entries, 0 to 603\n",
      "Data columns (total 20 columns):\n",
      " #   Column                         Non-Null Count  Dtype  \n",
      "---  ------                         --------------  -----  \n",
      " 0   id_cupons                      569 non-null    object \n",
      " 1   pode_usar_outros_codigos       569 non-null    bool   \n",
      " 2   limite_custo                   41 non-null     float64\n",
      " 3   data_fim                       569 non-null    object \n",
      " 4   cupom_codigo                   569 non-null    object \n",
      " 5   entrega_free                   569 non-null    bool   \n",
      " 6   valido_somente_novos_clientes  569 non-null    bool   \n",
      " 7   valor_minimo                   569 non-null    float64\n",
      " 8   data_inicio                    569 non-null    object \n",
      " 9   status                         569 non-null    object \n",
      " 10  tipo                           569 non-null    object \n",
      " 11  quem_paga_cupom                569 non-null    object \n",
      " 12  dias_duracao                   569 non-null    float64\n",
      " 13  novos_clientes_adquiridos      569 non-null    float64\n",
      " 14  qtde_uso                       569 non-null    float64\n",
      " 15  valor_total_uso                569 non-null    float64\n",
      " 16  percentagem                    569 non-null    float64\n",
      " 17  valor_fixo                     569 non-null    float64\n",
      " 18  limite_uso_por_cpf             569 non-null    float64\n",
      " 19  limite_uso                     569 non-null    float64\n",
      "dtypes: bool(3), float64(10), object(7)\n",
      "memory usage: 81.7+ KB\n"
     ]
    }
   ],
   "source": [
    "df_coupons.info()"
   ]
  },
  {
   "cell_type": "code",
   "execution_count": 42,
   "id": "021d1ddd-6f5e-44db-88fa-113b0ee7920d",
   "metadata": {},
   "outputs": [],
   "source": [
    "#df_coupons.to_csv('tb_coupons_treatment.csv', index=False)"
   ]
  },
  {
   "cell_type": "markdown",
   "id": "f61a4dc0-fda5-4fba-8d70-b6f0ac1eeee9",
   "metadata": {},
   "source": [
    "___"
   ]
  },
  {
   "cell_type": "markdown",
   "id": "4c838fef-65c5-4f59-a594-3401fe0d74cb",
   "metadata": {
    "jp-MarkdownHeadingCollapsed": true,
    "tags": []
   },
   "source": [
    "## customer_payments"
   ]
  },
  {
   "cell_type": "code",
   "execution_count": 39,
   "id": "d0cb815b-266f-4bb4-850f-9482845ee863",
   "metadata": {},
   "outputs": [],
   "source": [
    "df_customer_payments = pd.read_csv('./dataset/tb_customer_payments.csv', sep = ';')"
   ]
  },
  {
   "cell_type": "code",
   "execution_count": 40,
   "id": "3872ffdd-cda8-40fe-bb43-9c91ee24c7ee",
   "metadata": {},
   "outputs": [
    {
     "data": {
      "text/html": [
       "<div>\n",
       "<style scoped>\n",
       "    .dataframe tbody tr th:only-of-type {\n",
       "        vertical-align: middle;\n",
       "    }\n",
       "\n",
       "    .dataframe tbody tr th {\n",
       "        vertical-align: top;\n",
       "    }\n",
       "\n",
       "    .dataframe thead th {\n",
       "        text-align: right;\n",
       "    }\n",
       "</style>\n",
       "<table border=\"1\" class=\"dataframe\">\n",
       "  <thead>\n",
       "    <tr style=\"text-align: right;\">\n",
       "      <th></th>\n",
       "      <th>id_ordens</th>\n",
       "      <th>id_pagamentos_cliente</th>\n",
       "      <th>id_cliente</th>\n",
       "      <th>data_pagamento</th>\n",
       "      <th>valor</th>\n",
       "      <th>status_pagamento</th>\n",
       "      <th>metodo_pagamento</th>\n",
       "    </tr>\n",
       "  </thead>\n",
       "  <tbody>\n",
       "    <tr>\n",
       "      <th>0</th>\n",
       "      <td>5f6a1ff1f309620021ca2822</td>\n",
       "      <td>5f6a273a7ebe070021027a36</td>\n",
       "      <td>5f6a1912f309620021ca2652</td>\n",
       "      <td>2020-09-22 16:32:58</td>\n",
       "      <td>1.10</td>\n",
       "      <td>PAID</td>\n",
       "      <td>CREDIT</td>\n",
       "    </tr>\n",
       "    <tr>\n",
       "      <th>1</th>\n",
       "      <td>5f6a2f3d5e18160021760db8</td>\n",
       "      <td>5f6a321a5e18160021760eba</td>\n",
       "      <td>5f6a2e615e18160021760dae</td>\n",
       "      <td>2020-09-22 17:19:22</td>\n",
       "      <td>4.60</td>\n",
       "      <td>PAID</td>\n",
       "      <td>CREDIT</td>\n",
       "    </tr>\n",
       "    <tr>\n",
       "      <th>2</th>\n",
       "      <td>5f6a378a5e18160021760f6a</td>\n",
       "      <td>5f6a37fd5e18160021760f76</td>\n",
       "      <td>5f6a37165e18160021760f60</td>\n",
       "      <td>2020-09-22 17:44:29</td>\n",
       "      <td>2.00</td>\n",
       "      <td>PAID</td>\n",
       "      <td>CREDIT</td>\n",
       "    </tr>\n",
       "    <tr>\n",
       "      <th>3</th>\n",
       "      <td>5f777fa2333d3e0021f11d20</td>\n",
       "      <td>5f777ffe333d3e0021f11d43</td>\n",
       "      <td>5f6a2e615e18160021760dae</td>\n",
       "      <td>2020-10-02 19:31:10</td>\n",
       "      <td>70.00</td>\n",
       "      <td>PAID</td>\n",
       "      <td>CREDIT</td>\n",
       "    </tr>\n",
       "    <tr>\n",
       "      <th>4</th>\n",
       "      <td>5f7dc741f266b40021daedb8</td>\n",
       "      <td>5f7dc7aef266b40021daee11</td>\n",
       "      <td>5f6a37165e18160021760f60</td>\n",
       "      <td>2020-10-07 13:50:38</td>\n",
       "      <td>99.81</td>\n",
       "      <td>PAID</td>\n",
       "      <td>CREDIT</td>\n",
       "    </tr>\n",
       "  </tbody>\n",
       "</table>\n",
       "</div>"
      ],
      "text/plain": [
       "                  id_ordens     id_pagamentos_cliente  \\\n",
       "0  5f6a1ff1f309620021ca2822  5f6a273a7ebe070021027a36   \n",
       "1  5f6a2f3d5e18160021760db8  5f6a321a5e18160021760eba   \n",
       "2  5f6a378a5e18160021760f6a  5f6a37fd5e18160021760f76   \n",
       "3  5f777fa2333d3e0021f11d20  5f777ffe333d3e0021f11d43   \n",
       "4  5f7dc741f266b40021daedb8  5f7dc7aef266b40021daee11   \n",
       "\n",
       "                 id_cliente       data_pagamento  valor status_pagamento  \\\n",
       "0  5f6a1912f309620021ca2652  2020-09-22 16:32:58   1.10             PAID   \n",
       "1  5f6a2e615e18160021760dae  2020-09-22 17:19:22   4.60             PAID   \n",
       "2  5f6a37165e18160021760f60  2020-09-22 17:44:29   2.00             PAID   \n",
       "3  5f6a2e615e18160021760dae  2020-10-02 19:31:10  70.00             PAID   \n",
       "4  5f6a37165e18160021760f60  2020-10-07 13:50:38  99.81             PAID   \n",
       "\n",
       "  metodo_pagamento  \n",
       "0           CREDIT  \n",
       "1           CREDIT  \n",
       "2           CREDIT  \n",
       "3           CREDIT  \n",
       "4           CREDIT  "
      ]
     },
     "execution_count": 40,
     "metadata": {},
     "output_type": "execute_result"
    }
   ],
   "source": [
    "df_customer_payments.head()"
   ]
  },
  {
   "cell_type": "code",
   "execution_count": 41,
   "id": "7eb031c0-c69e-4402-9e16-4fed9519f663",
   "metadata": {},
   "outputs": [
    {
     "name": "stdout",
     "output_type": "stream",
     "text": [
      "<class 'pandas.core.frame.DataFrame'>\n",
      "RangeIndex: 8295 entries, 0 to 8294\n",
      "Data columns (total 7 columns):\n",
      " #   Column                 Non-Null Count  Dtype  \n",
      "---  ------                 --------------  -----  \n",
      " 0   id_ordens              8295 non-null   object \n",
      " 1   id_pagamentos_cliente  8295 non-null   object \n",
      " 2   id_cliente             8295 non-null   object \n",
      " 3   data_pagamento         8295 non-null   object \n",
      " 4   valor                  8295 non-null   float64\n",
      " 5   status_pagamento       8295 non-null   object \n",
      " 6   metodo_pagamento       8295 non-null   object \n",
      "dtypes: float64(1), object(6)\n",
      "memory usage: 453.8+ KB\n"
     ]
    }
   ],
   "source": [
    "df_customer_payments.info()"
   ]
  },
  {
   "cell_type": "markdown",
   "id": "85e5c040-cbc7-490d-9876-6e98ee2e3711",
   "metadata": {},
   "source": [
    "    * Não necessario fazer um tratamento de dados \"Missing\""
   ]
  },
  {
   "cell_type": "markdown",
   "id": "a4a7ac0d-c011-4274-b2ce-43f6f177abb9",
   "metadata": {},
   "source": [
    "___"
   ]
  },
  {
   "cell_type": "markdown",
   "id": "58eeb89f-1041-4c66-a2a6-0f8b4a8be920",
   "metadata": {
    "jp-MarkdownHeadingCollapsed": true,
    "tags": []
   },
   "source": [
    "## ordered_products"
   ]
  },
  {
   "cell_type": "code",
   "execution_count": 109,
   "id": "b56a9089-f043-459e-a45e-0540ae5cecb0",
   "metadata": {},
   "outputs": [],
   "source": [
    "df_ordered_products = pd.read_csv('./dataset/tb_ordered_products.csv', sep = ';')"
   ]
  },
  {
   "cell_type": "code",
   "execution_count": 110,
   "id": "903d3c5d-fadb-4006-8369-7292f441bcc2",
   "metadata": {},
   "outputs": [
    {
     "data": {
      "text/html": [
       "<div>\n",
       "<style scoped>\n",
       "    .dataframe tbody tr th:only-of-type {\n",
       "        vertical-align: middle;\n",
       "    }\n",
       "\n",
       "    .dataframe tbody tr th {\n",
       "        vertical-align: top;\n",
       "    }\n",
       "\n",
       "    .dataframe thead th {\n",
       "        text-align: right;\n",
       "    }\n",
       "</style>\n",
       "<table border=\"1\" class=\"dataframe\">\n",
       "  <thead>\n",
       "    <tr style=\"text-align: right;\">\n",
       "      <th></th>\n",
       "      <th>id_produto_vendido</th>\n",
       "      <th>id_produto</th>\n",
       "      <th>id_variacao_selecionada</th>\n",
       "      <th>valor_medida</th>\n",
       "      <th>tipo_medida</th>\n",
       "      <th>numero_pessoas_servidas</th>\n",
       "      <th>preco</th>\n",
       "      <th>qtde</th>\n",
       "      <th>anotacao</th>\n",
       "      <th>subtotal</th>\n",
       "      <th>id_ordem</th>\n",
       "    </tr>\n",
       "  </thead>\n",
       "  <tbody>\n",
       "    <tr>\n",
       "      <th>0</th>\n",
       "      <td>5f6a1ff1f309620021ca2821</td>\n",
       "      <td>5f6a1d08f309620021ca269c</td>\n",
       "      <td>5f6a1d08f309620021ca26a1</td>\n",
       "      <td>1</td>\n",
       "      <td>QUANTITY</td>\n",
       "      <td>1.0</td>\n",
       "      <td>1.1</td>\n",
       "      <td>1.0</td>\n",
       "      <td>NaN</td>\n",
       "      <td>1.1</td>\n",
       "      <td>5f6a1ff1f309620021ca2822</td>\n",
       "    </tr>\n",
       "    <tr>\n",
       "      <th>1</th>\n",
       "      <td>5f6a30ee5e18160021760e8b</td>\n",
       "      <td>5f6a1d08f309620021ca269c</td>\n",
       "      <td>5f6a1d08f309620021ca26a2</td>\n",
       "      <td>2</td>\n",
       "      <td>QUANTITY</td>\n",
       "      <td>1.0</td>\n",
       "      <td>1.5</td>\n",
       "      <td>2.0</td>\n",
       "      <td>validação em dobro</td>\n",
       "      <td>4.6</td>\n",
       "      <td>5f6a2f3d5e18160021760db8</td>\n",
       "    </tr>\n",
       "    <tr>\n",
       "      <th>2</th>\n",
       "      <td>5f6a378a5e18160021760f69</td>\n",
       "      <td>5f6a1d08f309620021ca269c</td>\n",
       "      <td>5f6a1d08f309620021ca26a2</td>\n",
       "      <td>2</td>\n",
       "      <td>QUANTITY</td>\n",
       "      <td>1.0</td>\n",
       "      <td>1.5</td>\n",
       "      <td>1.0</td>\n",
       "      <td>NaN</td>\n",
       "      <td>2.0</td>\n",
       "      <td>5f6a378a5e18160021760f6a</td>\n",
       "    </tr>\n",
       "    <tr>\n",
       "      <th>3</th>\n",
       "      <td>5f752e10628fd20021989fe1</td>\n",
       "      <td>5f6b8324455f7d0021af7077</td>\n",
       "      <td>5f6b8324455f7d0021af7079</td>\n",
       "      <td>1</td>\n",
       "      <td>WEIGHT</td>\n",
       "      <td>10.0</td>\n",
       "      <td>60.0</td>\n",
       "      <td>1.0</td>\n",
       "      <td>NaN</td>\n",
       "      <td>60.0</td>\n",
       "      <td>5f752e10628fd20021989fe2</td>\n",
       "    </tr>\n",
       "    <tr>\n",
       "      <th>4</th>\n",
       "      <td>5f75c135628fd2002198a19b</td>\n",
       "      <td>5f6b8324455f7d0021af7077</td>\n",
       "      <td>5f6b8324455f7d0021af7079</td>\n",
       "      <td>1</td>\n",
       "      <td>WEIGHT</td>\n",
       "      <td>10.0</td>\n",
       "      <td>60.0</td>\n",
       "      <td>1.0</td>\n",
       "      <td>NaN</td>\n",
       "      <td>60.0</td>\n",
       "      <td>5f75c135628fd2002198a19c</td>\n",
       "    </tr>\n",
       "  </tbody>\n",
       "</table>\n",
       "</div>"
      ],
      "text/plain": [
       "         id_produto_vendido                id_produto  \\\n",
       "0  5f6a1ff1f309620021ca2821  5f6a1d08f309620021ca269c   \n",
       "1  5f6a30ee5e18160021760e8b  5f6a1d08f309620021ca269c   \n",
       "2  5f6a378a5e18160021760f69  5f6a1d08f309620021ca269c   \n",
       "3  5f752e10628fd20021989fe1  5f6b8324455f7d0021af7077   \n",
       "4  5f75c135628fd2002198a19b  5f6b8324455f7d0021af7077   \n",
       "\n",
       "    id_variacao_selecionada valor_medida tipo_medida  numero_pessoas_servidas  \\\n",
       "0  5f6a1d08f309620021ca26a1            1    QUANTITY                      1.0   \n",
       "1  5f6a1d08f309620021ca26a2            2    QUANTITY                      1.0   \n",
       "2  5f6a1d08f309620021ca26a2            2    QUANTITY                      1.0   \n",
       "3  5f6b8324455f7d0021af7079            1      WEIGHT                     10.0   \n",
       "4  5f6b8324455f7d0021af7079            1      WEIGHT                     10.0   \n",
       "\n",
       "   preco  qtde            anotacao  subtotal                  id_ordem  \n",
       "0    1.1   1.0                 NaN       1.1  5f6a1ff1f309620021ca2822  \n",
       "1    1.5   2.0  validação em dobro       4.6  5f6a2f3d5e18160021760db8  \n",
       "2    1.5   1.0                 NaN       2.0  5f6a378a5e18160021760f6a  \n",
       "3   60.0   1.0                 NaN      60.0  5f752e10628fd20021989fe2  \n",
       "4   60.0   1.0                 NaN      60.0  5f75c135628fd2002198a19c  "
      ]
     },
     "execution_count": 110,
     "metadata": {},
     "output_type": "execute_result"
    }
   ],
   "source": [
    "df_ordered_products.head()"
   ]
  },
  {
   "cell_type": "code",
   "execution_count": 111,
   "id": "15421dfd-528f-4f39-945f-26aaf46ff6f7",
   "metadata": {},
   "outputs": [
    {
     "name": "stdout",
     "output_type": "stream",
     "text": [
      "<class 'pandas.core.frame.DataFrame'>\n",
      "RangeIndex: 15908 entries, 0 to 15907\n",
      "Data columns (total 11 columns):\n",
      " #   Column                   Non-Null Count  Dtype  \n",
      "---  ------                   --------------  -----  \n",
      " 0   id_produto_vendido       15908 non-null  object \n",
      " 1   id_produto               15802 non-null  object \n",
      " 2   id_variacao_selecionada  15762 non-null  object \n",
      " 3   valor_medida             15804 non-null  object \n",
      " 4   tipo_medida              15804 non-null  object \n",
      " 5   numero_pessoas_servidas  15802 non-null  float64\n",
      " 6   preco                    15760 non-null  float64\n",
      " 7   qtde                     15760 non-null  float64\n",
      " 8   anotacao                 827 non-null    object \n",
      " 9   subtotal                 15716 non-null  float64\n",
      " 10  id_ordem                 15716 non-null  object \n",
      "dtypes: float64(4), object(7)\n",
      "memory usage: 1.3+ MB\n"
     ]
    }
   ],
   "source": [
    "df_ordered_products.info()"
   ]
  },
  {
   "cell_type": "markdown",
   "id": "60784fde-9a6a-4666-8286-a5c631b8c0c4",
   "metadata": {},
   "source": [
    "    - Dropar Colunas:\n",
    "        anotacao\n",
    "    \n",
    "    - Dropar NaN:\n",
    "        id_ordem\n",
    "\n",
    "    - Preencher NaN com Media: \n",
    "        preco, subtotal\n",
    "\n",
    "    - Preencher NaN com Mediana: \n",
    "        qtde, numero_pessoas_servidas\n",
    "\n",
    "    * Motivo: \n",
    "        - Drop coluna desnecessaria\n",
    "        - Dropna de linhas \"missing\" da coluna id_ordem, possivelmente necessaria para juntar com uma outra tabela por essa chave\n",
    "        \n",
    "    - Perca de 1.207% dos dados"
   ]
  },
  {
   "cell_type": "code",
   "execution_count": 112,
   "id": "b37be547-189c-48e0-a1d0-0696ed524eb7",
   "metadata": {},
   "outputs": [],
   "source": [
    "df_ordered_products.drop(columns=['anotacao'], inplace=True)\n",
    "\n",
    "df_ordered_products.dropna(subset=['id_ordem'], inplace=True)\n",
    "\n",
    "df_ordered_products['preco'].fillna(df_ordered_products['preco'].mean(), inplace=True)\n",
    "df_ordered_products['subtotal'].fillna(df_ordered_products['subtotal'].mean(), inplace=True)\n",
    "\n",
    "df_ordered_products['qtde'].fillna(df_ordered_products['qtde'].median(), inplace=True)\n",
    "df_ordered_products['numero_pessoas_servidas'].fillna(df_ordered_products['numero_pessoas_servidas'].median(), inplace=True)"
   ]
  },
  {
   "cell_type": "code",
   "execution_count": 113,
   "id": "9a060d34-ac23-4df4-95d8-a2ff0a3265e2",
   "metadata": {},
   "outputs": [
    {
     "name": "stdout",
     "output_type": "stream",
     "text": [
      "<class 'pandas.core.frame.DataFrame'>\n",
      "Int64Index: 15716 entries, 0 to 15907\n",
      "Data columns (total 10 columns):\n",
      " #   Column                   Non-Null Count  Dtype  \n",
      "---  ------                   --------------  -----  \n",
      " 0   id_produto_vendido       15716 non-null  object \n",
      " 1   id_produto               15716 non-null  object \n",
      " 2   id_variacao_selecionada  15716 non-null  object \n",
      " 3   valor_medida             15716 non-null  object \n",
      " 4   tipo_medida              15716 non-null  object \n",
      " 5   numero_pessoas_servidas  15716 non-null  float64\n",
      " 6   preco                    15716 non-null  float64\n",
      " 7   qtde                     15716 non-null  float64\n",
      " 8   subtotal                 15716 non-null  float64\n",
      " 9   id_ordem                 15716 non-null  object \n",
      "dtypes: float64(4), object(6)\n",
      "memory usage: 1.3+ MB\n"
     ]
    }
   ],
   "source": [
    "df_ordered_products.info()"
   ]
  },
  {
   "cell_type": "code",
   "execution_count": 125,
   "id": "63ff9bbf-a7cc-4e3c-ad41-11dca76af75d",
   "metadata": {},
   "outputs": [],
   "source": [
    "#df_ordered_products.to_csv('tb_ordered_products_treatment.csv', index=False)"
   ]
  },
  {
   "cell_type": "markdown",
   "id": "6ec3fa60-8a7b-4926-a005-82beed05b91d",
   "metadata": {},
   "source": [
    "___"
   ]
  },
  {
   "cell_type": "markdown",
   "id": "5ea4d8a5-8f98-4b0d-afd6-5c7fed1a34ff",
   "metadata": {
    "jp-MarkdownHeadingCollapsed": true,
    "tags": []
   },
   "source": [
    "## product_tags"
   ]
  },
  {
   "cell_type": "code",
   "execution_count": 120,
   "id": "617b27d4-bb65-4c86-8c3f-1e26f0421983",
   "metadata": {},
   "outputs": [],
   "source": [
    "df_product_tags = pd.read_csv('./dataset/tb_product_tags.csv', sep = ';')"
   ]
  },
  {
   "cell_type": "code",
   "execution_count": 122,
   "id": "f6822341-b202-4868-96e5-f4dc6562df69",
   "metadata": {},
   "outputs": [
    {
     "data": {
      "text/html": [
       "<div>\n",
       "<style scoped>\n",
       "    .dataframe tbody tr th:only-of-type {\n",
       "        vertical-align: middle;\n",
       "    }\n",
       "\n",
       "    .dataframe tbody tr th {\n",
       "        vertical-align: top;\n",
       "    }\n",
       "\n",
       "    .dataframe thead th {\n",
       "        text-align: right;\n",
       "    }\n",
       "</style>\n",
       "<table border=\"1\" class=\"dataframe\">\n",
       "  <thead>\n",
       "    <tr style=\"text-align: right;\">\n",
       "      <th></th>\n",
       "      <th>tag_produtos_id</th>\n",
       "      <th>destacado</th>\n",
       "      <th>texto_display</th>\n",
       "      <th>tipo</th>\n",
       "    </tr>\n",
       "  </thead>\n",
       "  <tbody>\n",
       "    <tr>\n",
       "      <th>0</th>\n",
       "      <td>5f518972a4a5fbed86099752</td>\n",
       "      <td>True</td>\n",
       "      <td>Café da manhã</td>\n",
       "      <td>MOMENT</td>\n",
       "    </tr>\n",
       "    <tr>\n",
       "      <th>1</th>\n",
       "      <td>5f5189c0a4a5fbed86099753</td>\n",
       "      <td>True</td>\n",
       "      <td>Café da tarde</td>\n",
       "      <td>MOMENT</td>\n",
       "    </tr>\n",
       "    <tr>\n",
       "      <th>2</th>\n",
       "      <td>5f5189e9a4a5fbed86099754</td>\n",
       "      <td>True</td>\n",
       "      <td>Festas</td>\n",
       "      <td>MOMENT</td>\n",
       "    </tr>\n",
       "    <tr>\n",
       "      <th>3</th>\n",
       "      <td>5f5189f8a4a5fbed86099755</td>\n",
       "      <td>False</td>\n",
       "      <td>Dia dos Namorados</td>\n",
       "      <td>MOMENT</td>\n",
       "    </tr>\n",
       "    <tr>\n",
       "      <th>4</th>\n",
       "      <td>5f518a07a4a5fbed86099756</td>\n",
       "      <td>True</td>\n",
       "      <td>Presentes</td>\n",
       "      <td>MOMENT</td>\n",
       "    </tr>\n",
       "  </tbody>\n",
       "</table>\n",
       "</div>"
      ],
      "text/plain": [
       "            tag_produtos_id  destacado      texto_display    tipo\n",
       "0  5f518972a4a5fbed86099752       True      Café da manhã  MOMENT\n",
       "1  5f5189c0a4a5fbed86099753       True      Café da tarde  MOMENT\n",
       "2  5f5189e9a4a5fbed86099754       True             Festas  MOMENT\n",
       "3  5f5189f8a4a5fbed86099755      False  Dia dos Namorados  MOMENT\n",
       "4  5f518a07a4a5fbed86099756       True          Presentes  MOMENT"
      ]
     },
     "execution_count": 122,
     "metadata": {},
     "output_type": "execute_result"
    }
   ],
   "source": [
    "df_product_tags.head()"
   ]
  },
  {
   "cell_type": "code",
   "execution_count": 123,
   "id": "4bcbee8b-f632-497b-9045-5b5c96cf52aa",
   "metadata": {},
   "outputs": [
    {
     "name": "stdout",
     "output_type": "stream",
     "text": [
      "<class 'pandas.core.frame.DataFrame'>\n",
      "RangeIndex: 109 entries, 0 to 108\n",
      "Data columns (total 4 columns):\n",
      " #   Column           Non-Null Count  Dtype \n",
      "---  ------           --------------  ----- \n",
      " 0   tag_produtos_id  109 non-null    object\n",
      " 1   destacado        109 non-null    bool  \n",
      " 2   texto_display    109 non-null    object\n",
      " 3   tipo             109 non-null    object\n",
      "dtypes: bool(1), object(3)\n",
      "memory usage: 2.8+ KB\n"
     ]
    }
   ],
   "source": [
    "df_product_tags.info()"
   ]
  },
  {
   "cell_type": "markdown",
   "id": "a3f3ae09-f9f1-4fab-8c1f-701cffc1501e",
   "metadata": {},
   "source": [
    "        * Não necessario fazer um tratamento de dados \"Missing\""
   ]
  },
  {
   "cell_type": "markdown",
   "id": "946a0966-dae6-4192-89c2-a6546abbcf86",
   "metadata": {},
   "source": [
    "___"
   ]
  },
  {
   "cell_type": "markdown",
   "id": "bb14c699-84db-435f-8c3c-c79a37ff0f59",
   "metadata": {
    "jp-MarkdownHeadingCollapsed": true,
    "tags": []
   },
   "source": [
    "## ratings"
   ]
  },
  {
   "cell_type": "code",
   "execution_count": 126,
   "id": "92fdd4d0-4797-4103-9364-581dfdde35ac",
   "metadata": {},
   "outputs": [],
   "source": [
    "df_product_tags = pd.read_csv('./dataset/tb_product_tags.csv', sep = ';')"
   ]
  },
  {
   "cell_type": "code",
   "execution_count": 127,
   "id": "9af7ef16-f74a-4e87-a719-74f414b72b51",
   "metadata": {},
   "outputs": [
    {
     "data": {
      "text/html": [
       "<div>\n",
       "<style scoped>\n",
       "    .dataframe tbody tr th:only-of-type {\n",
       "        vertical-align: middle;\n",
       "    }\n",
       "\n",
       "    .dataframe tbody tr th {\n",
       "        vertical-align: top;\n",
       "    }\n",
       "\n",
       "    .dataframe thead th {\n",
       "        text-align: right;\n",
       "    }\n",
       "</style>\n",
       "<table border=\"1\" class=\"dataframe\">\n",
       "  <thead>\n",
       "    <tr style=\"text-align: right;\">\n",
       "      <th></th>\n",
       "      <th>tag_produtos_id</th>\n",
       "      <th>destacado</th>\n",
       "      <th>texto_display</th>\n",
       "      <th>tipo</th>\n",
       "    </tr>\n",
       "  </thead>\n",
       "  <tbody>\n",
       "    <tr>\n",
       "      <th>0</th>\n",
       "      <td>5f518972a4a5fbed86099752</td>\n",
       "      <td>True</td>\n",
       "      <td>Café da manhã</td>\n",
       "      <td>MOMENT</td>\n",
       "    </tr>\n",
       "    <tr>\n",
       "      <th>1</th>\n",
       "      <td>5f5189c0a4a5fbed86099753</td>\n",
       "      <td>True</td>\n",
       "      <td>Café da tarde</td>\n",
       "      <td>MOMENT</td>\n",
       "    </tr>\n",
       "    <tr>\n",
       "      <th>2</th>\n",
       "      <td>5f5189e9a4a5fbed86099754</td>\n",
       "      <td>True</td>\n",
       "      <td>Festas</td>\n",
       "      <td>MOMENT</td>\n",
       "    </tr>\n",
       "    <tr>\n",
       "      <th>3</th>\n",
       "      <td>5f5189f8a4a5fbed86099755</td>\n",
       "      <td>False</td>\n",
       "      <td>Dia dos Namorados</td>\n",
       "      <td>MOMENT</td>\n",
       "    </tr>\n",
       "    <tr>\n",
       "      <th>4</th>\n",
       "      <td>5f518a07a4a5fbed86099756</td>\n",
       "      <td>True</td>\n",
       "      <td>Presentes</td>\n",
       "      <td>MOMENT</td>\n",
       "    </tr>\n",
       "  </tbody>\n",
       "</table>\n",
       "</div>"
      ],
      "text/plain": [
       "            tag_produtos_id  destacado      texto_display    tipo\n",
       "0  5f518972a4a5fbed86099752       True      Café da manhã  MOMENT\n",
       "1  5f5189c0a4a5fbed86099753       True      Café da tarde  MOMENT\n",
       "2  5f5189e9a4a5fbed86099754       True             Festas  MOMENT\n",
       "3  5f5189f8a4a5fbed86099755      False  Dia dos Namorados  MOMENT\n",
       "4  5f518a07a4a5fbed86099756       True          Presentes  MOMENT"
      ]
     },
     "execution_count": 127,
     "metadata": {},
     "output_type": "execute_result"
    }
   ],
   "source": [
    "df_product_tags.head()"
   ]
  },
  {
   "cell_type": "code",
   "execution_count": 128,
   "id": "9ddd9a41-a4d8-45df-abd2-6ae2635a343b",
   "metadata": {},
   "outputs": [
    {
     "name": "stdout",
     "output_type": "stream",
     "text": [
      "<class 'pandas.core.frame.DataFrame'>\n",
      "RangeIndex: 109 entries, 0 to 108\n",
      "Data columns (total 4 columns):\n",
      " #   Column           Non-Null Count  Dtype \n",
      "---  ------           --------------  ----- \n",
      " 0   tag_produtos_id  109 non-null    object\n",
      " 1   destacado        109 non-null    bool  \n",
      " 2   texto_display    109 non-null    object\n",
      " 3   tipo             109 non-null    object\n",
      "dtypes: bool(1), object(3)\n",
      "memory usage: 2.8+ KB\n"
     ]
    }
   ],
   "source": [
    "df_product_tags.info()"
   ]
  },
  {
   "cell_type": "markdown",
   "id": "33c1fcca-ebe3-4655-9aab-c10df9bee6d8",
   "metadata": {},
   "source": [
    "        * Não necessario fazer um tratamento de dados \"Missing\""
   ]
  },
  {
   "cell_type": "markdown",
   "id": "235471c3-a910-4246-ad55-bb6362625bc6",
   "metadata": {},
   "source": [
    "___"
   ]
  },
  {
   "cell_type": "markdown",
   "id": "c54f63fe-0764-4efc-873b-13c438de2bed",
   "metadata": {
    "jp-MarkdownHeadingCollapsed": true,
    "tags": []
   },
   "source": [
    "## vendor_payments"
   ]
  },
  {
   "cell_type": "code",
   "execution_count": 132,
   "id": "d5797822-44f1-4684-aec6-3ec9c1295fbf",
   "metadata": {},
   "outputs": [],
   "source": [
    "df_vendor_payments = pd.read_csv('./dataset/tb_vendor_payments.csv', sep = ';')"
   ]
  },
  {
   "cell_type": "code",
   "execution_count": 134,
   "id": "e85b9773-995d-47c4-90f0-de0e8a48bda4",
   "metadata": {},
   "outputs": [
    {
     "data": {
      "text/html": [
       "<div>\n",
       "<style scoped>\n",
       "    .dataframe tbody tr th:only-of-type {\n",
       "        vertical-align: middle;\n",
       "    }\n",
       "\n",
       "    .dataframe tbody tr th {\n",
       "        vertical-align: top;\n",
       "    }\n",
       "\n",
       "    .dataframe thead th {\n",
       "        text-align: right;\n",
       "    }\n",
       "</style>\n",
       "<table border=\"1\" class=\"dataframe\">\n",
       "  <thead>\n",
       "    <tr style=\"text-align: right;\">\n",
       "      <th></th>\n",
       "      <th>id_pagamento_fornecedor</th>\n",
       "      <th>id_ordem</th>\n",
       "      <th>id_fornecedor</th>\n",
       "      <th>status</th>\n",
       "    </tr>\n",
       "  </thead>\n",
       "  <tbody>\n",
       "    <tr>\n",
       "      <th>0</th>\n",
       "      <td>5f6a27377ebe070021027a35</td>\n",
       "      <td>5f6a1ff1f309620021ca2822</td>\n",
       "      <td>5f550609cba01d00210ed015</td>\n",
       "      <td>PENDING</td>\n",
       "    </tr>\n",
       "    <tr>\n",
       "      <th>1</th>\n",
       "      <td>5f6a32185e18160021760eb9</td>\n",
       "      <td>5f6a2f3d5e18160021760db8</td>\n",
       "      <td>5f550609cba01d00210ed015</td>\n",
       "      <td>PENDING</td>\n",
       "    </tr>\n",
       "    <tr>\n",
       "      <th>2</th>\n",
       "      <td>5f6a37fa5e18160021760f75</td>\n",
       "      <td>5f6a378a5e18160021760f6a</td>\n",
       "      <td>5f550609cba01d00210ed015</td>\n",
       "      <td>PENDING</td>\n",
       "    </tr>\n",
       "    <tr>\n",
       "      <th>3</th>\n",
       "      <td>5f777ffb333d3e0021f11d42</td>\n",
       "      <td>5f777fa2333d3e0021f11d20</td>\n",
       "      <td>5f5bc310b8742200213bda1d</td>\n",
       "      <td>PENDING</td>\n",
       "    </tr>\n",
       "    <tr>\n",
       "      <th>4</th>\n",
       "      <td>5f7dc7acf266b40021daee10</td>\n",
       "      <td>5f7dc741f266b40021daedb8</td>\n",
       "      <td>5f584189fc58110021464422</td>\n",
       "      <td>PENDING</td>\n",
       "    </tr>\n",
       "  </tbody>\n",
       "</table>\n",
       "</div>"
      ],
      "text/plain": [
       "    id_pagamento_fornecedor                  id_ordem  \\\n",
       "0  5f6a27377ebe070021027a35  5f6a1ff1f309620021ca2822   \n",
       "1  5f6a32185e18160021760eb9  5f6a2f3d5e18160021760db8   \n",
       "2  5f6a37fa5e18160021760f75  5f6a378a5e18160021760f6a   \n",
       "3  5f777ffb333d3e0021f11d42  5f777fa2333d3e0021f11d20   \n",
       "4  5f7dc7acf266b40021daee10  5f7dc741f266b40021daedb8   \n",
       "\n",
       "              id_fornecedor   status  \n",
       "0  5f550609cba01d00210ed015  PENDING  \n",
       "1  5f550609cba01d00210ed015  PENDING  \n",
       "2  5f550609cba01d00210ed015  PENDING  \n",
       "3  5f5bc310b8742200213bda1d  PENDING  \n",
       "4  5f584189fc58110021464422  PENDING  "
      ]
     },
     "execution_count": 134,
     "metadata": {},
     "output_type": "execute_result"
    }
   ],
   "source": [
    "df_vendor_payments.head()"
   ]
  },
  {
   "cell_type": "code",
   "execution_count": 135,
   "id": "8d70b9ce-5899-4077-900f-fd4436151ab7",
   "metadata": {},
   "outputs": [
    {
     "name": "stdout",
     "output_type": "stream",
     "text": [
      "<class 'pandas.core.frame.DataFrame'>\n",
      "RangeIndex: 8295 entries, 0 to 8294\n",
      "Data columns (total 4 columns):\n",
      " #   Column                   Non-Null Count  Dtype \n",
      "---  ------                   --------------  ----- \n",
      " 0   id_pagamento_fornecedor  8295 non-null   object\n",
      " 1   id_ordem                 8295 non-null   object\n",
      " 2   id_fornecedor            8295 non-null   object\n",
      " 3   status                   8295 non-null   object\n",
      "dtypes: object(4)\n",
      "memory usage: 259.3+ KB\n"
     ]
    }
   ],
   "source": [
    "df_vendor_payments.info()"
   ]
  },
  {
   "cell_type": "markdown",
   "id": "42c6dd7a-04fe-43ce-b496-e3cfe5a75664",
   "metadata": {},
   "source": [
    "        * Não necessario fazer um tratamento de dados \"Missing\""
   ]
  },
  {
   "cell_type": "markdown",
   "id": "f480b035-cdcb-4617-a90b-a38efc44c498",
   "metadata": {},
   "source": [
    "___"
   ]
  },
  {
   "cell_type": "markdown",
   "id": "e7cba529-a1c2-40af-91be-f039c2006dad",
   "metadata": {
    "jp-MarkdownHeadingCollapsed": true,
    "tags": []
   },
   "source": [
    "## products"
   ]
  },
  {
   "cell_type": "code",
   "execution_count": 154,
   "id": "8d719115-380e-4555-9f04-f8ddb772b3fc",
   "metadata": {},
   "outputs": [],
   "source": [
    "df_products = pd.read_csv('./dataset/tb_products.csv', sep = ';')"
   ]
  },
  {
   "cell_type": "code",
   "execution_count": 155,
   "id": "aeaed9f0-0b7c-4102-8939-238343f97d94",
   "metadata": {},
   "outputs": [
    {
     "data": {
      "text/html": [
       "<div>\n",
       "<style scoped>\n",
       "    .dataframe tbody tr th:only-of-type {\n",
       "        vertical-align: middle;\n",
       "    }\n",
       "\n",
       "    .dataframe tbody tr th {\n",
       "        vertical-align: top;\n",
       "    }\n",
       "\n",
       "    .dataframe thead th {\n",
       "        text-align: right;\n",
       "    }\n",
       "</style>\n",
       "<table border=\"1\" class=\"dataframe\">\n",
       "  <thead>\n",
       "    <tr style=\"text-align: right;\">\n",
       "      <th></th>\n",
       "      <th>id_produto</th>\n",
       "      <th>id_fornecedor</th>\n",
       "      <th>id_disconto</th>\n",
       "      <th>id_tipo</th>\n",
       "      <th>nome</th>\n",
       "      <th>ativo</th>\n",
       "      <th>aprovado</th>\n",
       "      <th>arquivado</th>\n",
       "      <th>entregavel</th>\n",
       "      <th>recuperavel</th>\n",
       "      <th>tempo_preparacao_minutos</th>\n",
       "      <th>avaliacao_media</th>\n",
       "    </tr>\n",
       "  </thead>\n",
       "  <tbody>\n",
       "    <tr>\n",
       "      <th>0</th>\n",
       "      <td>5f550676cba01d00210ed018</td>\n",
       "      <td>5f550609cba01d00210ed015</td>\n",
       "      <td>NaN</td>\n",
       "      <td>5f518a26a4a5fbed86099757</td>\n",
       "      <td>Bolo de cenoura teste</td>\n",
       "      <td>True</td>\n",
       "      <td>False</td>\n",
       "      <td>False</td>\n",
       "      <td>True</td>\n",
       "      <td>False</td>\n",
       "      <td>1980.0</td>\n",
       "      <td>0.0</td>\n",
       "    </tr>\n",
       "    <tr>\n",
       "      <th>1</th>\n",
       "      <td>5f5ea709a4944c00215bc67f</td>\n",
       "      <td>5f550609cba01d00210ed015</td>\n",
       "      <td>5fb3af31d09539002159d15a</td>\n",
       "      <td>5f518a26a4a5fbed86099757</td>\n",
       "      <td>Bolo de cenoura e chocolate</td>\n",
       "      <td>True</td>\n",
       "      <td>False</td>\n",
       "      <td>False</td>\n",
       "      <td>True</td>\n",
       "      <td>True</td>\n",
       "      <td>0.0</td>\n",
       "      <td>0.0</td>\n",
       "    </tr>\n",
       "    <tr>\n",
       "      <th>2</th>\n",
       "      <td>5f60221d70be91002137eb61</td>\n",
       "      <td>5f601c9d70be91002137eb5c</td>\n",
       "      <td>NaN</td>\n",
       "      <td>5f518a26a4a5fbed86099757</td>\n",
       "      <td>Bolo de leite ninho com morangos</td>\n",
       "      <td>False</td>\n",
       "      <td>False</td>\n",
       "      <td>True</td>\n",
       "      <td>True</td>\n",
       "      <td>True</td>\n",
       "      <td>1569.0</td>\n",
       "      <td>0.0</td>\n",
       "    </tr>\n",
       "    <tr>\n",
       "      <th>3</th>\n",
       "      <td>5f60245670be91002137eb77</td>\n",
       "      <td>5f601c9d70be91002137eb5c</td>\n",
       "      <td>NaN</td>\n",
       "      <td>5f518a26a4a5fbed86099757</td>\n",
       "      <td>Bolo de limão</td>\n",
       "      <td>False</td>\n",
       "      <td>False</td>\n",
       "      <td>True</td>\n",
       "      <td>True</td>\n",
       "      <td>True</td>\n",
       "      <td>1501.0</td>\n",
       "      <td>0.0</td>\n",
       "    </tr>\n",
       "    <tr>\n",
       "      <th>4</th>\n",
       "      <td>5f6025d170be91002137eb83</td>\n",
       "      <td>5f601c9d70be91002137eb5c</td>\n",
       "      <td>NaN</td>\n",
       "      <td>5f518a26a4a5fbed86099757</td>\n",
       "      <td>Bolo de cenoura</td>\n",
       "      <td>False</td>\n",
       "      <td>False</td>\n",
       "      <td>True</td>\n",
       "      <td>True</td>\n",
       "      <td>True</td>\n",
       "      <td>1467.0</td>\n",
       "      <td>0.0</td>\n",
       "    </tr>\n",
       "  </tbody>\n",
       "</table>\n",
       "</div>"
      ],
      "text/plain": [
       "                 id_produto             id_fornecedor  \\\n",
       "0  5f550676cba01d00210ed018  5f550609cba01d00210ed015   \n",
       "1  5f5ea709a4944c00215bc67f  5f550609cba01d00210ed015   \n",
       "2  5f60221d70be91002137eb61  5f601c9d70be91002137eb5c   \n",
       "3  5f60245670be91002137eb77  5f601c9d70be91002137eb5c   \n",
       "4  5f6025d170be91002137eb83  5f601c9d70be91002137eb5c   \n",
       "\n",
       "                id_disconto                   id_tipo  \\\n",
       "0                       NaN  5f518a26a4a5fbed86099757   \n",
       "1  5fb3af31d09539002159d15a  5f518a26a4a5fbed86099757   \n",
       "2                       NaN  5f518a26a4a5fbed86099757   \n",
       "3                       NaN  5f518a26a4a5fbed86099757   \n",
       "4                       NaN  5f518a26a4a5fbed86099757   \n",
       "\n",
       "                               nome  ativo  aprovado arquivado  entregavel  \\\n",
       "0             Bolo de cenoura teste   True     False     False        True   \n",
       "1       Bolo de cenoura e chocolate   True     False     False        True   \n",
       "2  Bolo de leite ninho com morangos  False     False      True        True   \n",
       "3                     Bolo de limão  False     False      True        True   \n",
       "4                   Bolo de cenoura  False     False      True        True   \n",
       "\n",
       "   recuperavel  tempo_preparacao_minutos  avaliacao_media  \n",
       "0        False                    1980.0              0.0  \n",
       "1         True                       0.0              0.0  \n",
       "2         True                    1569.0              0.0  \n",
       "3         True                    1501.0              0.0  \n",
       "4         True                    1467.0              0.0  "
      ]
     },
     "execution_count": 155,
     "metadata": {},
     "output_type": "execute_result"
    }
   ],
   "source": [
    "df_products.head()"
   ]
  },
  {
   "cell_type": "code",
   "execution_count": 156,
   "id": "2e5f049d-6f31-4a1c-ba16-e5e9efc47f4a",
   "metadata": {},
   "outputs": [
    {
     "name": "stdout",
     "output_type": "stream",
     "text": [
      "<class 'pandas.core.frame.DataFrame'>\n",
      "RangeIndex: 3177 entries, 0 to 3176\n",
      "Data columns (total 12 columns):\n",
      " #   Column                    Non-Null Count  Dtype  \n",
      "---  ------                    --------------  -----  \n",
      " 0   id_produto                3177 non-null   object \n",
      " 1   id_fornecedor             3177 non-null   object \n",
      " 2   id_disconto               289 non-null    object \n",
      " 3   id_tipo                   3176 non-null   object \n",
      " 4   nome                      3177 non-null   object \n",
      " 5   ativo                     3170 non-null   object \n",
      " 6   aprovado                  3177 non-null   bool   \n",
      " 7   arquivado                 3176 non-null   object \n",
      " 8   entregavel                3177 non-null   bool   \n",
      " 9   recuperavel               3177 non-null   bool   \n",
      " 10  tempo_preparacao_minutos  3171 non-null   float64\n",
      " 11  avaliacao_media           3116 non-null   float64\n",
      "dtypes: bool(3), float64(2), object(7)\n",
      "memory usage: 232.8+ KB\n"
     ]
    }
   ],
   "source": [
    "df_products.info()"
   ]
  },
  {
   "cell_type": "markdown",
   "id": "f7f3a99e-e638-49fd-bf54-27f3b4ba7adc",
   "metadata": {},
   "source": [
    "    - Dropar Colunas:\n",
    "        id_disconto\n",
    "\n",
    "    - Dropar NaN:\n",
    "        Todas colunas com valores missing\n",
    "\n",
    "    - Preencher NaN com Media: \n",
    "        tempo_preparacao_minutos\n",
    "\n",
    "    - Preencher NaN com Mediana: \n",
    "        avaliacao_media\n",
    "\n",
    "    * Motivo: \n",
    "        - Drop coluna desnecessaria\n",
    "        - Dropna de linhas \"missing\" de todas linhas após os tratamentos\n",
    "        - Preenchido com a media o tempo_preparacao_minutos por ser um valor \"proximo\" da mediana\n",
    "        - Preenchido com a mediana a avaliacao_media por ter muitos valores \"0.0\", sendo avaliação ou pessoas que não avaliaram\n",
    "\n",
    "    - Perca de 0.22% dos dados"
   ]
  },
  {
   "cell_type": "code",
   "execution_count": 157,
   "id": "5341dc02-b058-40b1-88d6-ec72abf368fe",
   "metadata": {},
   "outputs": [],
   "source": [
    "df_products['tempo_preparacao_minutos'].fillna(df_products['tempo_preparacao_minutos'].mean(), inplace=True)\n",
    "\n",
    "df_products['avaliacao_media'].fillna(df_products['avaliacao_media'].median(), inplace=True)\n",
    "\n",
    "df_products.drop(columns=['id_disconto'], inplace=True)\n",
    "df_products.dropna(inplace=True)"
   ]
  },
  {
   "cell_type": "code",
   "execution_count": 158,
   "id": "2f44d875-bb8b-49c6-8350-fda0ad5dd7f2",
   "metadata": {},
   "outputs": [
    {
     "name": "stdout",
     "output_type": "stream",
     "text": [
      "<class 'pandas.core.frame.DataFrame'>\n",
      "Int64Index: 3170 entries, 0 to 3176\n",
      "Data columns (total 11 columns):\n",
      " #   Column                    Non-Null Count  Dtype  \n",
      "---  ------                    --------------  -----  \n",
      " 0   id_produto                3170 non-null   object \n",
      " 1   id_fornecedor             3170 non-null   object \n",
      " 2   id_tipo                   3170 non-null   object \n",
      " 3   nome                      3170 non-null   object \n",
      " 4   ativo                     3170 non-null   object \n",
      " 5   aprovado                  3170 non-null   bool   \n",
      " 6   arquivado                 3170 non-null   object \n",
      " 7   entregavel                3170 non-null   bool   \n",
      " 8   recuperavel               3170 non-null   bool   \n",
      " 9   tempo_preparacao_minutos  3170 non-null   float64\n",
      " 10  avaliacao_media           3170 non-null   float64\n",
      "dtypes: bool(3), float64(2), object(6)\n",
      "memory usage: 232.2+ KB\n"
     ]
    }
   ],
   "source": [
    "df_products.info()"
   ]
  },
  {
   "cell_type": "code",
   "execution_count": 159,
   "id": "b3df5cad-aa2e-4759-965d-98eee5031135",
   "metadata": {},
   "outputs": [
    {
     "data": {
      "text/html": [
       "<div>\n",
       "<style scoped>\n",
       "    .dataframe tbody tr th:only-of-type {\n",
       "        vertical-align: middle;\n",
       "    }\n",
       "\n",
       "    .dataframe tbody tr th {\n",
       "        vertical-align: top;\n",
       "    }\n",
       "\n",
       "    .dataframe thead th {\n",
       "        text-align: right;\n",
       "    }\n",
       "</style>\n",
       "<table border=\"1\" class=\"dataframe\">\n",
       "  <thead>\n",
       "    <tr style=\"text-align: right;\">\n",
       "      <th></th>\n",
       "      <th>tempo_preparacao_minutos</th>\n",
       "      <th>avaliacao_media</th>\n",
       "    </tr>\n",
       "  </thead>\n",
       "  <tbody>\n",
       "    <tr>\n",
       "      <th>count</th>\n",
       "      <td>3170.000000</td>\n",
       "      <td>3170.000000</td>\n",
       "    </tr>\n",
       "    <tr>\n",
       "      <th>mean</th>\n",
       "      <td>1874.960883</td>\n",
       "      <td>0.340656</td>\n",
       "    </tr>\n",
       "    <tr>\n",
       "      <th>std</th>\n",
       "      <td>2416.043956</td>\n",
       "      <td>1.250337</td>\n",
       "    </tr>\n",
       "    <tr>\n",
       "      <th>min</th>\n",
       "      <td>0.000000</td>\n",
       "      <td>0.000000</td>\n",
       "    </tr>\n",
       "    <tr>\n",
       "      <th>25%</th>\n",
       "      <td>0.000000</td>\n",
       "      <td>0.000000</td>\n",
       "    </tr>\n",
       "    <tr>\n",
       "      <th>50%</th>\n",
       "      <td>1589.000000</td>\n",
       "      <td>0.000000</td>\n",
       "    </tr>\n",
       "    <tr>\n",
       "      <th>75%</th>\n",
       "      <td>2418.000000</td>\n",
       "      <td>0.000000</td>\n",
       "    </tr>\n",
       "    <tr>\n",
       "      <th>max</th>\n",
       "      <td>14400.000000</td>\n",
       "      <td>5.000000</td>\n",
       "    </tr>\n",
       "  </tbody>\n",
       "</table>\n",
       "</div>"
      ],
      "text/plain": [
       "       tempo_preparacao_minutos  avaliacao_media\n",
       "count               3170.000000      3170.000000\n",
       "mean                1874.960883         0.340656\n",
       "std                 2416.043956         1.250337\n",
       "min                    0.000000         0.000000\n",
       "25%                    0.000000         0.000000\n",
       "50%                 1589.000000         0.000000\n",
       "75%                 2418.000000         0.000000\n",
       "max                14400.000000         5.000000"
      ]
     },
     "execution_count": 159,
     "metadata": {},
     "output_type": "execute_result"
    }
   ],
   "source": [
    "df_products.describe()"
   ]
  },
  {
   "cell_type": "code",
   "execution_count": 161,
   "id": "6734d230-2ba9-424e-902f-c957a5fd59c2",
   "metadata": {},
   "outputs": [],
   "source": [
    "#df_products.to_csv('tb_products_treatment.csv', index=False)"
   ]
  },
  {
   "cell_type": "markdown",
   "id": "a638b62d-5d4c-48e6-b2ca-7b6aa355e17c",
   "metadata": {},
   "source": [
    "___"
   ]
  },
  {
   "cell_type": "markdown",
   "id": "5c9e773c-1c1b-4640-829a-d9248dd75d2c",
   "metadata": {
    "jp-MarkdownHeadingCollapsed": true,
    "tags": []
   },
   "source": [
    "## solds_cognatis"
   ]
  },
  {
   "cell_type": "code",
   "execution_count": 163,
   "id": "2f22d059-fd80-4490-b4e9-14ef002d0c82",
   "metadata": {},
   "outputs": [],
   "source": [
    "df_cognatis = pd.read_csv('./dataset/tb_solds_cognatis.csv', sep=';')"
   ]
  },
  {
   "cell_type": "code",
   "execution_count": 165,
   "id": "becbdf20-2d82-4a3b-ad9d-c7772a420ebe",
   "metadata": {},
   "outputs": [
    {
     "data": {
      "text/html": [
       "<div>\n",
       "<style scoped>\n",
       "    .dataframe tbody tr th:only-of-type {\n",
       "        vertical-align: middle;\n",
       "    }\n",
       "\n",
       "    .dataframe tbody tr th {\n",
       "        vertical-align: top;\n",
       "    }\n",
       "\n",
       "    .dataframe thead th {\n",
       "        text-align: right;\n",
       "    }\n",
       "</style>\n",
       "<table border=\"1\" class=\"dataframe\">\n",
       "  <thead>\n",
       "    <tr style=\"text-align: right;\">\n",
       "      <th></th>\n",
       "      <th>SETOR_ATIV</th>\n",
       "      <th>UF</th>\n",
       "      <th>MUNICIPIO</th>\n",
       "      <th>CEP</th>\n",
       "      <th>TRABALHADORES</th>\n",
       "      <th>S_RENDA_MEDIA</th>\n",
       "      <th>S_FLUXO_PEDESTRE</th>\n",
       "      <th>S_FLUXO_VEICULOS</th>\n",
       "      <th>S_POP_TOTAL</th>\n",
       "      <th>S_DOM_PART_PERM</th>\n",
       "      <th>...</th>\n",
       "      <th>S_DE_50_99_FUNC</th>\n",
       "      <th>S_DE_100_249_FUNC</th>\n",
       "      <th>S_DE_250_499_FUNC</th>\n",
       "      <th>S_DE_500_999_FUNC</th>\n",
       "      <th>S_MAIS1000_FUNC</th>\n",
       "      <th>S_SUPERMERCADO</th>\n",
       "      <th>S_TT_PADARIA</th>\n",
       "      <th>S_ATACADO</th>\n",
       "      <th>S_HIPERMERCADO</th>\n",
       "      <th>S_MINIMERCADO</th>\n",
       "    </tr>\n",
       "  </thead>\n",
       "  <tbody>\n",
       "    <tr>\n",
       "      <th>0</th>\n",
       "      <td>NaN</td>\n",
       "      <td>NaN</td>\n",
       "      <td>NaN</td>\n",
       "      <td>NaN</td>\n",
       "      <td>18776.596364</td>\n",
       "      <td>1852.325903</td>\n",
       "      <td>3.158788</td>\n",
       "      <td>4.933333</td>\n",
       "      <td>61660.275152</td>\n",
       "      <td>22297.529697</td>\n",
       "      <td>...</td>\n",
       "      <td>22.883636</td>\n",
       "      <td>12.442424</td>\n",
       "      <td>4.026667</td>\n",
       "      <td>2.001212</td>\n",
       "      <td>1.670303</td>\n",
       "      <td>8.768485</td>\n",
       "      <td>57.606061</td>\n",
       "      <td>23.126061</td>\n",
       "      <td>2.865455</td>\n",
       "      <td>85.970909</td>\n",
       "    </tr>\n",
       "    <tr>\n",
       "      <th>1</th>\n",
       "      <td>NaN</td>\n",
       "      <td>AC</td>\n",
       "      <td>Rio Branco</td>\n",
       "      <td>69900001.0</td>\n",
       "      <td>13125.000000</td>\n",
       "      <td>3502.669922</td>\n",
       "      <td>4.000000</td>\n",
       "      <td>6.000000</td>\n",
       "      <td>53376.000000</td>\n",
       "      <td>17146.000000</td>\n",
       "      <td>...</td>\n",
       "      <td>15.000000</td>\n",
       "      <td>15.000000</td>\n",
       "      <td>3.000000</td>\n",
       "      <td>4.000000</td>\n",
       "      <td>2.000000</td>\n",
       "      <td>3.000000</td>\n",
       "      <td>22.000000</td>\n",
       "      <td>3.000000</td>\n",
       "      <td>9.000000</td>\n",
       "      <td>184.000000</td>\n",
       "    </tr>\n",
       "    <tr>\n",
       "      <th>2</th>\n",
       "      <td>NaN</td>\n",
       "      <td>AC</td>\n",
       "      <td>Rio Branco</td>\n",
       "      <td>69900001.0</td>\n",
       "      <td>18364.000000</td>\n",
       "      <td>2477.159912</td>\n",
       "      <td>4.000000</td>\n",
       "      <td>6.000000</td>\n",
       "      <td>73460.000000</td>\n",
       "      <td>24698.000000</td>\n",
       "      <td>...</td>\n",
       "      <td>19.000000</td>\n",
       "      <td>19.000000</td>\n",
       "      <td>6.000000</td>\n",
       "      <td>2.000000</td>\n",
       "      <td>2.000000</td>\n",
       "      <td>14.000000</td>\n",
       "      <td>29.000000</td>\n",
       "      <td>27.000000</td>\n",
       "      <td>9.000000</td>\n",
       "      <td>111.000000</td>\n",
       "    </tr>\n",
       "    <tr>\n",
       "      <th>3</th>\n",
       "      <td>NaN</td>\n",
       "      <td>AC</td>\n",
       "      <td>Sena Madureira</td>\n",
       "      <td>NaN</td>\n",
       "      <td>960.000000</td>\n",
       "      <td>1225.869995</td>\n",
       "      <td>0.000000</td>\n",
       "      <td>0.000000</td>\n",
       "      <td>26675.500000</td>\n",
       "      <td>7823.500000</td>\n",
       "      <td>...</td>\n",
       "      <td>1.000000</td>\n",
       "      <td>0.000000</td>\n",
       "      <td>0.000000</td>\n",
       "      <td>0.500000</td>\n",
       "      <td>0.000000</td>\n",
       "      <td>3.000000</td>\n",
       "      <td>7.500000</td>\n",
       "      <td>5.000000</td>\n",
       "      <td>1.000000</td>\n",
       "      <td>84.000000</td>\n",
       "    </tr>\n",
       "    <tr>\n",
       "      <th>4</th>\n",
       "      <td>NaN</td>\n",
       "      <td>AC</td>\n",
       "      <td>Senador Guiomard</td>\n",
       "      <td>NaN</td>\n",
       "      <td>1102.000000</td>\n",
       "      <td>1272.079956</td>\n",
       "      <td>0.000000</td>\n",
       "      <td>1.000000</td>\n",
       "      <td>11183.000000</td>\n",
       "      <td>3732.000000</td>\n",
       "      <td>...</td>\n",
       "      <td>0.000000</td>\n",
       "      <td>0.000000</td>\n",
       "      <td>0.000000</td>\n",
       "      <td>1.000000</td>\n",
       "      <td>0.000000</td>\n",
       "      <td>0.000000</td>\n",
       "      <td>10.000000</td>\n",
       "      <td>0.000000</td>\n",
       "      <td>0.000000</td>\n",
       "      <td>42.000000</td>\n",
       "    </tr>\n",
       "  </tbody>\n",
       "</table>\n",
       "<p>5 rows × 50 columns</p>\n",
       "</div>"
      ],
      "text/plain": [
       "  SETOR_ATIV   UF         MUNICIPIO         CEP  TRABALHADORES  S_RENDA_MEDIA  \\\n",
       "0        NaN  NaN               NaN         NaN   18776.596364    1852.325903   \n",
       "1        NaN   AC        Rio Branco  69900001.0   13125.000000    3502.669922   \n",
       "2        NaN   AC        Rio Branco  69900001.0   18364.000000    2477.159912   \n",
       "3        NaN   AC    Sena Madureira         NaN     960.000000    1225.869995   \n",
       "4        NaN   AC  Senador Guiomard         NaN    1102.000000    1272.079956   \n",
       "\n",
       "   S_FLUXO_PEDESTRE  S_FLUXO_VEICULOS   S_POP_TOTAL  S_DOM_PART_PERM  ...  \\\n",
       "0          3.158788          4.933333  61660.275152     22297.529697  ...   \n",
       "1          4.000000          6.000000  53376.000000     17146.000000  ...   \n",
       "2          4.000000          6.000000  73460.000000     24698.000000  ...   \n",
       "3          0.000000          0.000000  26675.500000      7823.500000  ...   \n",
       "4          0.000000          1.000000  11183.000000      3732.000000  ...   \n",
       "\n",
       "   S_DE_50_99_FUNC  S_DE_100_249_FUNC  S_DE_250_499_FUNC  S_DE_500_999_FUNC  \\\n",
       "0        22.883636          12.442424           4.026667           2.001212   \n",
       "1        15.000000          15.000000           3.000000           4.000000   \n",
       "2        19.000000          19.000000           6.000000           2.000000   \n",
       "3         1.000000           0.000000           0.000000           0.500000   \n",
       "4         0.000000           0.000000           0.000000           1.000000   \n",
       "\n",
       "   S_MAIS1000_FUNC  S_SUPERMERCADO  S_TT_PADARIA  S_ATACADO  S_HIPERMERCADO  \\\n",
       "0         1.670303        8.768485     57.606061  23.126061        2.865455   \n",
       "1         2.000000        3.000000     22.000000   3.000000        9.000000   \n",
       "2         2.000000       14.000000     29.000000  27.000000        9.000000   \n",
       "3         0.000000        3.000000      7.500000   5.000000        1.000000   \n",
       "4         0.000000        0.000000     10.000000   0.000000        0.000000   \n",
       "\n",
       "   S_MINIMERCADO  \n",
       "0      85.970909  \n",
       "1     184.000000  \n",
       "2     111.000000  \n",
       "3      84.000000  \n",
       "4      42.000000  \n",
       "\n",
       "[5 rows x 50 columns]"
      ]
     },
     "execution_count": 165,
     "metadata": {},
     "output_type": "execute_result"
    }
   ],
   "source": [
    "df_cognatis.head()"
   ]
  },
  {
   "cell_type": "markdown",
   "id": "28281a8a-ea29-4e33-8b90-81953e5481ca",
   "metadata": {},
   "source": [
    "    - Dropar NaN:\n",
    "        MUNICIPIO\n",
    "\n",
    "    * Motivo: \n",
    "        - Dropna de apenas uma linha vazia do municipio, os restante dos dados missing acredito que não influencia na nossa tomada de decisao\n",
    "\n",
    "    - Perca de \"0.00\"% dos dados"
   ]
  },
  {
   "cell_type": "code",
   "execution_count": 166,
   "id": "20700a0f-5721-4e06-99b3-dc191aa021d8",
   "metadata": {},
   "outputs": [
    {
     "name": "stdout",
     "output_type": "stream",
     "text": [
      "<class 'pandas.core.frame.DataFrame'>\n",
      "RangeIndex: 82391 entries, 0 to 82390\n",
      "Data columns (total 50 columns):\n",
      " #   Column                     Non-Null Count  Dtype  \n",
      "---  ------                     --------------  -----  \n",
      " 0   SETOR_ATIV                 77558 non-null  object \n",
      " 1   UF                         82390 non-null  object \n",
      " 2   MUNICIPIO                  82390 non-null  object \n",
      " 3   CEP                        80352 non-null  float64\n",
      " 4   TRABALHADORES              82391 non-null  float64\n",
      " 5   S_RENDA_MEDIA              82391 non-null  float64\n",
      " 6   S_FLUXO_PEDESTRE           82391 non-null  float64\n",
      " 7   S_FLUXO_VEICULOS           82391 non-null  float64\n",
      " 8   S_POP_TOTAL                82391 non-null  float64\n",
      " 9   S_DOM_PART_PERM            82391 non-null  float64\n",
      " 10  S_PCT_CRIANCAS             82391 non-null  float64\n",
      " 11  S_PCT_ADOLESCENTE          82391 non-null  float64\n",
      " 12  S_PCT_JOVENS               82391 non-null  float64\n",
      " 13  S_PCT_ADULTOS              82391 non-null  float64\n",
      " 14  S_PCT_SENIOR               82391 non-null  float64\n",
      " 15  S_PCT_IDOSOS               82391 non-null  float64\n",
      " 16  S_RENDA_MEDIA_FAMILIAR     82391 non-null  float64\n",
      " 17  S_DENSIDADE_POPULACAO_KM2  82391 non-null  float64\n",
      " 18  S_PCT_CLASSE_A             82391 non-null  float64\n",
      " 19  S_PCT_CLASSE_B             82391 non-null  float64\n",
      " 20  S_PCT_CLASSE_C             82391 non-null  float64\n",
      " 21  S_PCT_CLASSE_D             82391 non-null  float64\n",
      " 22  S_PCT_CLASSE_E             82391 non-null  float64\n",
      " 23  S_TX_CRESC_POP             82391 non-null  float64\n",
      " 24  S_TX_CRESC_DOM             82391 non-null  float64\n",
      " 25  S_TX_CRESC_RENDA_MEDIA     82391 non-null  float64\n",
      " 26  S_RENDA_PER_CAPITA         82391 non-null  float64\n",
      " 27  S_COMERCIALIZACAO          82391 non-null  float64\n",
      " 28  S_QTD_EMPRESAS             82391 non-null  float64\n",
      " 29  S_PCT_CNAE_AGRICOLA        82391 non-null  float64\n",
      " 30  S_PCT_CNAE_COMERCIO        82391 non-null  float64\n",
      " 31  S_PCT_CNAE_CONSTR_CIVIL    82391 non-null  float64\n",
      " 32  S_PCT_CNAE_INDUSTRIA       82391 non-null  float64\n",
      " 33  S_PCT_CNAE_SERVICOS        82391 non-null  float64\n",
      " 34  S_PCT_CNAE_OUTROS          82391 non-null  float64\n",
      " 35  S_SEM_FUNC                 82391 non-null  float64\n",
      " 36  S_DE_1_4_FUNC              82391 non-null  float64\n",
      " 37  S_DE_5_9_FUNC              82391 non-null  float64\n",
      " 38  S_DE_10_19_FUNC            82391 non-null  float64\n",
      " 39  S_DE_20_49_FUNC            82391 non-null  float64\n",
      " 40  S_DE_50_99_FUNC            82391 non-null  float64\n",
      " 41  S_DE_100_249_FUNC          82391 non-null  float64\n",
      " 42  S_DE_250_499_FUNC          82391 non-null  float64\n",
      " 43  S_DE_500_999_FUNC          82391 non-null  float64\n",
      " 44  S_MAIS1000_FUNC            82391 non-null  float64\n",
      " 45  S_SUPERMERCADO             82391 non-null  float64\n",
      " 46  S_TT_PADARIA               82391 non-null  float64\n",
      " 47  S_ATACADO                  82391 non-null  float64\n",
      " 48  S_HIPERMERCADO             82391 non-null  float64\n",
      " 49  S_MINIMERCADO              82391 non-null  float64\n",
      "dtypes: float64(47), object(3)\n",
      "memory usage: 31.4+ MB\n"
     ]
    }
   ],
   "source": [
    "df_cognatis.info()"
   ]
  },
  {
   "cell_type": "code",
   "execution_count": 171,
   "id": "27365469-28fc-43cd-ad02-1b08cadf3dca",
   "metadata": {},
   "outputs": [],
   "source": [
    "df_cognatis.dropna(subset=['MUNICIPIO'], inplace=True)"
   ]
  },
  {
   "cell_type": "code",
   "execution_count": 172,
   "id": "df009e12-88e5-4fad-8340-612b2d0aa3f9",
   "metadata": {},
   "outputs": [
    {
     "name": "stdout",
     "output_type": "stream",
     "text": [
      "<class 'pandas.core.frame.DataFrame'>\n",
      "Int64Index: 82390 entries, 1 to 82390\n",
      "Data columns (total 50 columns):\n",
      " #   Column                     Non-Null Count  Dtype  \n",
      "---  ------                     --------------  -----  \n",
      " 0   SETOR_ATIV                 77558 non-null  object \n",
      " 1   UF                         82390 non-null  object \n",
      " 2   MUNICIPIO                  82390 non-null  object \n",
      " 3   CEP                        80352 non-null  float64\n",
      " 4   TRABALHADORES              82390 non-null  float64\n",
      " 5   S_RENDA_MEDIA              82390 non-null  float64\n",
      " 6   S_FLUXO_PEDESTRE           82390 non-null  float64\n",
      " 7   S_FLUXO_VEICULOS           82390 non-null  float64\n",
      " 8   S_POP_TOTAL                82390 non-null  float64\n",
      " 9   S_DOM_PART_PERM            82390 non-null  float64\n",
      " 10  S_PCT_CRIANCAS             82390 non-null  float64\n",
      " 11  S_PCT_ADOLESCENTE          82390 non-null  float64\n",
      " 12  S_PCT_JOVENS               82390 non-null  float64\n",
      " 13  S_PCT_ADULTOS              82390 non-null  float64\n",
      " 14  S_PCT_SENIOR               82390 non-null  float64\n",
      " 15  S_PCT_IDOSOS               82390 non-null  float64\n",
      " 16  S_RENDA_MEDIA_FAMILIAR     82390 non-null  float64\n",
      " 17  S_DENSIDADE_POPULACAO_KM2  82390 non-null  float64\n",
      " 18  S_PCT_CLASSE_A             82390 non-null  float64\n",
      " 19  S_PCT_CLASSE_B             82390 non-null  float64\n",
      " 20  S_PCT_CLASSE_C             82390 non-null  float64\n",
      " 21  S_PCT_CLASSE_D             82390 non-null  float64\n",
      " 22  S_PCT_CLASSE_E             82390 non-null  float64\n",
      " 23  S_TX_CRESC_POP             82390 non-null  float64\n",
      " 24  S_TX_CRESC_DOM             82390 non-null  float64\n",
      " 25  S_TX_CRESC_RENDA_MEDIA     82390 non-null  float64\n",
      " 26  S_RENDA_PER_CAPITA         82390 non-null  float64\n",
      " 27  S_COMERCIALIZACAO          82390 non-null  float64\n",
      " 28  S_QTD_EMPRESAS             82390 non-null  float64\n",
      " 29  S_PCT_CNAE_AGRICOLA        82390 non-null  float64\n",
      " 30  S_PCT_CNAE_COMERCIO        82390 non-null  float64\n",
      " 31  S_PCT_CNAE_CONSTR_CIVIL    82390 non-null  float64\n",
      " 32  S_PCT_CNAE_INDUSTRIA       82390 non-null  float64\n",
      " 33  S_PCT_CNAE_SERVICOS        82390 non-null  float64\n",
      " 34  S_PCT_CNAE_OUTROS          82390 non-null  float64\n",
      " 35  S_SEM_FUNC                 82390 non-null  float64\n",
      " 36  S_DE_1_4_FUNC              82390 non-null  float64\n",
      " 37  S_DE_5_9_FUNC              82390 non-null  float64\n",
      " 38  S_DE_10_19_FUNC            82390 non-null  float64\n",
      " 39  S_DE_20_49_FUNC            82390 non-null  float64\n",
      " 40  S_DE_50_99_FUNC            82390 non-null  float64\n",
      " 41  S_DE_100_249_FUNC          82390 non-null  float64\n",
      " 42  S_DE_250_499_FUNC          82390 non-null  float64\n",
      " 43  S_DE_500_999_FUNC          82390 non-null  float64\n",
      " 44  S_MAIS1000_FUNC            82390 non-null  float64\n",
      " 45  S_SUPERMERCADO             82390 non-null  float64\n",
      " 46  S_TT_PADARIA               82390 non-null  float64\n",
      " 47  S_ATACADO                  82390 non-null  float64\n",
      " 48  S_HIPERMERCADO             82390 non-null  float64\n",
      " 49  S_MINIMERCADO              82390 non-null  float64\n",
      "dtypes: float64(47), object(3)\n",
      "memory usage: 32.1+ MB\n"
     ]
    }
   ],
   "source": [
    "df_cognatis.info()"
   ]
  },
  {
   "cell_type": "code",
   "execution_count": 175,
   "id": "d6bb9e21-087e-40c0-afc2-a4920e5b25ea",
   "metadata": {},
   "outputs": [],
   "source": [
    "#df_cognatis.to_csv('tb_solds_cognatis_treatment.csv', index=False)"
   ]
  }
 ],
 "metadata": {
  "kernelspec": {
   "display_name": "Python 3 (ipykernel)",
   "language": "python",
   "name": "python3"
  },
  "language_info": {
   "codemirror_mode": {
    "name": "ipython",
    "version": 3
   },
   "file_extension": ".py",
   "mimetype": "text/x-python",
   "name": "python",
   "nbconvert_exporter": "python",
   "pygments_lexer": "ipython3",
   "version": "3.9.6"
  }
 },
 "nbformat": 4,
 "nbformat_minor": 5
}
